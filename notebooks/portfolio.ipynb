{
 "cells": [
  {
   "cell_type": "markdown",
   "metadata": {},
   "source": [
    "# Surfingcrypto `Portfolio`\n",
    "\n",
    "The `surfingcrypto` portfolio."
   ]
  },
  {
   "cell_type": "code",
   "execution_count": 14,
   "metadata": {},
   "outputs": [
    {
     "name": "stdout",
     "output_type": "stream",
     "text": [
      "The autoreload extension is already loaded. To reload it, use:\n",
      "  %reload_ext autoreload\n"
     ]
    }
   ],
   "source": [
    "%load_ext autoreload\n",
    "%autoreload 2\n",
    "from surfingcrypto import Config\n",
    "from surfingcrypto.portfolio import Portfolio\n",
    "\n",
    "c=Config(\"/Users/giorgiocaizzi/Documents/GitHub/surfingcrypto/config\")"
   ]
  },
  {
   "cell_type": "code",
   "execution_count": 15,
   "metadata": {},
   "outputs": [
    {
     "name": "stdout",
     "output_type": "stream",
     "text": [
      "Warning! There are 45 NOT processed.\n"
     ]
    }
   ],
   "source": [
    "p=Portfolio(\"coinbase\",configuration=c)"
   ]
  },
  {
   "cell_type": "code",
   "execution_count": 16,
   "metadata": {},
   "outputs": [
    {
     "data": {
      "text/html": [
       "<div>\n",
       "<style scoped>\n",
       "    .dataframe tbody tr th:only-of-type {\n",
       "        vertical-align: middle;\n",
       "    }\n",
       "\n",
       "    .dataframe tbody tr th {\n",
       "        vertical-align: top;\n",
       "    }\n",
       "\n",
       "    .dataframe thead th {\n",
       "        text-align: right;\n",
       "    }\n",
       "</style>\n",
       "<table border=\"1\" class=\"dataframe\">\n",
       "  <thead>\n",
       "    <tr style=\"text-align: right;\">\n",
       "      <th></th>\n",
       "      <th>type</th>\n",
       "      <th>amount</th>\n",
       "      <th>symbol</th>\n",
       "      <th>native_amount</th>\n",
       "      <th>nat_symbol</th>\n",
       "      <th>total</th>\n",
       "      <th>subtotal</th>\n",
       "      <th>total_fee</th>\n",
       "      <th>spot_price</th>\n",
       "      <th>trade_id</th>\n",
       "    </tr>\n",
       "    <tr>\n",
       "      <th>datetime</th>\n",
       "      <th></th>\n",
       "      <th></th>\n",
       "      <th></th>\n",
       "      <th></th>\n",
       "      <th></th>\n",
       "      <th></th>\n",
       "      <th></th>\n",
       "      <th></th>\n",
       "      <th></th>\n",
       "      <th></th>\n",
       "    </tr>\n",
       "  </thead>\n",
       "  <tbody>\n",
       "    <tr>\n",
       "      <th>2022-01-04T10:44:49Z</th>\n",
       "      <td>buy</td>\n",
       "      <td>1.511428</td>\n",
       "      <td>SOL</td>\n",
       "      <td>225.73</td>\n",
       "      <td>EUR</td>\n",
       "      <td>NaN</td>\n",
       "      <td>NaN</td>\n",
       "      <td>2.230</td>\n",
       "      <td>149.348800</td>\n",
       "      <td>5851e642-8786-585b-a5d7-8546c8c16129</td>\n",
       "    </tr>\n",
       "    <tr>\n",
       "      <th>2021-11-29T10:47:17Z</th>\n",
       "      <td>buy</td>\n",
       "      <td>1.026156</td>\n",
       "      <td>SOL</td>\n",
       "      <td>186.85</td>\n",
       "      <td>EUR</td>\n",
       "      <td>NaN</td>\n",
       "      <td>NaN</td>\n",
       "      <td>1.620</td>\n",
       "      <td>182.087335</td>\n",
       "      <td>18160e53-8019-561c-a812-efd59cc7a354</td>\n",
       "    </tr>\n",
       "    <tr>\n",
       "      <th>2021-08-07T14:25:58Z</th>\n",
       "      <td>sell</td>\n",
       "      <td>2737.634483</td>\n",
       "      <td>ACH</td>\n",
       "      <td>299.46</td>\n",
       "      <td>EUR</td>\n",
       "      <td>NaN</td>\n",
       "      <td>NaN</td>\n",
       "      <td>-1.440</td>\n",
       "      <td>0.109386</td>\n",
       "      <td>4dbcbf9c-cd0d-56cb-8e25-f1da9a64558f</td>\n",
       "    </tr>\n",
       "    <tr>\n",
       "      <th>2021-08-06T23:12:51Z</th>\n",
       "      <td>buy</td>\n",
       "      <td>2737.634483</td>\n",
       "      <td>ACH</td>\n",
       "      <td>392.16</td>\n",
       "      <td>EUR</td>\n",
       "      <td>NaN</td>\n",
       "      <td>NaN</td>\n",
       "      <td>1.475</td>\n",
       "      <td>0.143248</td>\n",
       "      <td>78ad03ab-9076-593d-87f5-524da82304dd</td>\n",
       "    </tr>\n",
       "    <tr>\n",
       "      <th>2021-07-31T10:18:14Z</th>\n",
       "      <td>sell</td>\n",
       "      <td>4.123547</td>\n",
       "      <td>QNT</td>\n",
       "      <td>450.91</td>\n",
       "      <td>EUR</td>\n",
       "      <td>NaN</td>\n",
       "      <td>NaN</td>\n",
       "      <td>-3.225</td>\n",
       "      <td>109.350039</td>\n",
       "      <td>6ff73f15-78ae-56e1-8a01-ce15bbf64660</td>\n",
       "    </tr>\n",
       "  </tbody>\n",
       "</table>\n",
       "</div>"
      ],
      "text/plain": [
       "                      type       amount symbol  native_amount nat_symbol  \\\n",
       "datetime                                                                   \n",
       "2022-01-04T10:44:49Z   buy     1.511428    SOL         225.73        EUR   \n",
       "2021-11-29T10:47:17Z   buy     1.026156    SOL         186.85        EUR   \n",
       "2021-08-07T14:25:58Z  sell  2737.634483    ACH         299.46        EUR   \n",
       "2021-08-06T23:12:51Z   buy  2737.634483    ACH         392.16        EUR   \n",
       "2021-07-31T10:18:14Z  sell     4.123547    QNT         450.91        EUR   \n",
       "\n",
       "                      total  subtotal  total_fee  spot_price  \\\n",
       "datetime                                                       \n",
       "2022-01-04T10:44:49Z    NaN       NaN      2.230  149.348800   \n",
       "2021-11-29T10:47:17Z    NaN       NaN      1.620  182.087335   \n",
       "2021-08-07T14:25:58Z    NaN       NaN     -1.440    0.109386   \n",
       "2021-08-06T23:12:51Z    NaN       NaN      1.475    0.143248   \n",
       "2021-07-31T10:18:14Z    NaN       NaN     -3.225  109.350039   \n",
       "\n",
       "                                                  trade_id  \n",
       "datetime                                                    \n",
       "2022-01-04T10:44:49Z  5851e642-8786-585b-a5d7-8546c8c16129  \n",
       "2021-11-29T10:47:17Z  18160e53-8019-561c-a812-efd59cc7a354  \n",
       "2021-08-07T14:25:58Z  4dbcbf9c-cd0d-56cb-8e25-f1da9a64558f  \n",
       "2021-08-06T23:12:51Z  78ad03ab-9076-593d-87f5-524da82304dd  \n",
       "2021-07-31T10:18:14Z  6ff73f15-78ae-56e1-8a01-ce15bbf64660  "
      ]
     },
     "execution_count": 16,
     "metadata": {},
     "output_type": "execute_result"
    }
   ],
   "source": [
    "p.std_df.head()"
   ]
  }
 ],
 "metadata": {
  "interpreter": {
   "hash": "2d92824427b41c6028804632d5278b37df1fc0de77b5e6f8aeb0bbbd2f432773"
  },
  "kernelspec": {
   "display_name": "Python 3.7.12 ('cryptoenv')",
   "language": "python",
   "name": "python3"
  },
  "language_info": {
   "codemirror_mode": {
    "name": "ipython",
    "version": 3
   },
   "file_extension": ".py",
   "mimetype": "text/x-python",
   "name": "python",
   "nbconvert_exporter": "python",
   "pygments_lexer": "ipython3",
   "version": "3.7.12"
  },
  "orig_nbformat": 4
 },
 "nbformat": 4,
 "nbformat_minor": 2
}
