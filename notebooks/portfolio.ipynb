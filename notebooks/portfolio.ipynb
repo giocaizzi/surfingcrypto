{
 "cells": [
  {
   "cell_type": "markdown",
   "metadata": {},
   "source": [
    "# Surfingcrypto `Portfolio`\n",
    "\n",
    "The `surfingcrypto` portfolio."
   ]
  },
  {
   "cell_type": "code",
   "execution_count": 1,
   "metadata": {},
   "outputs": [],
   "source": [
    "%load_ext autoreload\n",
    "%autoreload 2\n",
    "from surfingcrypto import Config\n",
    "from surfingcrypto.portfolio import Portfolio\n",
    "from surfingcrypto.portfolio.tracker import Tracker\n",
    "\n",
    "import pandas as pd\n",
    "c=Config(\"/Users/giorgiocaizzi/Documents/GitHub/surfingcrypto/config\")"
   ]
  },
  {
   "cell_type": "code",
   "execution_count": 2,
   "metadata": {},
   "outputs": [
    {
     "data": {
      "text/plain": [
       "{'SOL': {'start': datetime.datetime(2021, 11, 29, 0, 0, tzinfo=tzutc()),\n",
       "  'end_day': datetime.datetime(2022, 1, 4, 0, 0, tzinfo=tzutc())},\n",
       " 'ACH': {'start': datetime.datetime(2021, 8, 6, 0, 0, tzinfo=tzutc()),\n",
       "  'end_day': datetime.datetime(2021, 8, 7, 0, 0, tzinfo=tzutc())},\n",
       " 'QNT': {'start': datetime.datetime(2021, 7, 29, 0, 0, tzinfo=tzutc()),\n",
       "  'end_day': datetime.datetime(2021, 7, 31, 0, 0, tzinfo=tzutc())},\n",
       " 'BOND': {'start': datetime.datetime(2021, 7, 24, 0, 0, tzinfo=tzutc()),\n",
       "  'end_day': datetime.datetime(2021, 7, 24, 0, 0, tzinfo=tzutc())},\n",
       " 'CLV': {'start': datetime.datetime(2021, 7, 24, 0, 0, tzinfo=tzutc()),\n",
       "  'end_day': datetime.datetime(2021, 7, 24, 0, 0, tzinfo=tzutc())},\n",
       " 'BAL': {'start': datetime.datetime(2021, 7, 24, 0, 0, tzinfo=tzutc()),\n",
       "  'end_day': datetime.datetime(2021, 7, 24, 0, 0, tzinfo=tzutc())},\n",
       " 'AAVE': {'start': datetime.datetime(2021, 7, 4, 0, 0, tzinfo=tzutc()),\n",
       "  'end_day': datetime.datetime(2022, 3, 12, 0, 0, tzinfo=datetime.timezone.utc)},\n",
       " 'AMP': {'start': datetime.datetime(2021, 6, 15, 0, 0, tzinfo=tzutc()),\n",
       "  'end_day': datetime.datetime(2021, 7, 4, 0, 0, tzinfo=tzutc())},\n",
       " 'SKL': {'start': datetime.datetime(2021, 5, 22, 0, 0, tzinfo=tzutc()),\n",
       "  'end_day': datetime.datetime(2021, 5, 22, 0, 0, tzinfo=tzutc())},\n",
       " 'USDT': {'start': datetime.datetime(2021, 5, 13, 0, 0, tzinfo=tzutc()),\n",
       "  'end_day': datetime.datetime(2021, 5, 14, 0, 0, tzinfo=tzutc())},\n",
       " 'SUSHI': {'start': datetime.datetime(2021, 5, 11, 0, 0, tzinfo=tzutc()),\n",
       "  'end_day': datetime.datetime(2022, 3, 12, 0, 0, tzinfo=datetime.timezone.utc)},\n",
       " 'RLC': {'start': datetime.datetime(2021, 5, 10, 0, 0, tzinfo=tzutc()),\n",
       "  'end_day': datetime.datetime(2021, 5, 10, 0, 0, tzinfo=tzutc())},\n",
       " 'STORJ': {'start': datetime.datetime(2021, 5, 8, 0, 0, tzinfo=tzutc()),\n",
       "  'end_day': datetime.datetime(2021, 5, 8, 0, 0, tzinfo=tzutc())},\n",
       " 'FORTH': {'start': datetime.datetime(2021, 4, 28, 0, 0, tzinfo=tzutc()),\n",
       "  'end_day': datetime.datetime(2021, 4, 28, 0, 0, tzinfo=tzutc())},\n",
       " 'MATIC': {'start': datetime.datetime(2021, 4, 27, 0, 0, tzinfo=tzutc()),\n",
       "  'end_day': datetime.datetime(2022, 3, 12, 0, 0, tzinfo=datetime.timezone.utc)},\n",
       " 'UNI': {'start': datetime.datetime(2021, 4, 25, 0, 0, tzinfo=tzutc()),\n",
       "  'end_day': datetime.datetime(2022, 3, 12, 0, 0, tzinfo=datetime.timezone.utc)},\n",
       " 'XLM': {'start': datetime.datetime(2021, 4, 25, 0, 0, tzinfo=tzutc()),\n",
       "  'end_day': datetime.datetime(2021, 4, 25, 0, 0, tzinfo=tzutc())},\n",
       " 'COMP': {'start': datetime.datetime(2021, 4, 25, 0, 0, tzinfo=tzutc()),\n",
       "  'end_day': datetime.datetime(2021, 7, 8, 0, 0, tzinfo=tzutc())},\n",
       " 'NU': {'start': datetime.datetime(2021, 4, 25, 0, 0, tzinfo=tzutc()),\n",
       "  'end_day': datetime.datetime(2021, 4, 25, 0, 0, tzinfo=tzutc())},\n",
       " 'GRT': {'start': datetime.datetime(2021, 4, 25, 0, 0, tzinfo=tzutc()),\n",
       "  'end_day': datetime.datetime(2021, 7, 24, 0, 0, tzinfo=tzutc())},\n",
       " 'CGLD': {'start': datetime.datetime(2021, 4, 25, 0, 0, tzinfo=tzutc()),\n",
       "  'end_day': datetime.datetime(2021, 4, 25, 0, 0, tzinfo=tzutc())},\n",
       " 'ADA': {'start': datetime.datetime(2021, 4, 24, 0, 0, tzinfo=tzutc()),\n",
       "  'end_day': datetime.datetime(2022, 3, 12, 0, 0, tzinfo=datetime.timezone.utc)},\n",
       " 'MKR': {'start': datetime.datetime(2021, 4, 22, 0, 0, tzinfo=tzutc()),\n",
       "  'end_day': datetime.datetime(2021, 4, 22, 0, 0, tzinfo=tzutc())},\n",
       " 'MANA': {'start': datetime.datetime(2021, 7, 24, 0, 0, tzinfo=tzutc()),\n",
       "  'end_day': datetime.datetime(2021, 7, 26, 0, 0, tzinfo=tzutc())},\n",
       " 'BAT': {'start': datetime.datetime(2018, 11, 9, 0, 0, tzinfo=tzutc()),\n",
       "  'end_day': datetime.datetime(2019, 1, 25, 0, 0, tzinfo=tzutc())},\n",
       " 'USDC': {'start': datetime.datetime(2021, 8, 21, 0, 0, tzinfo=tzutc()),\n",
       "  'end_day': datetime.datetime(2022, 3, 12, 0, 0, tzinfo=datetime.timezone.utc)},\n",
       " 'ETC': {'start': datetime.datetime(2021, 5, 1, 0, 0, tzinfo=tzutc()),\n",
       "  'end_day': datetime.datetime(2021, 5, 7, 0, 0, tzinfo=tzutc())},\n",
       " 'ETH': {'start': datetime.datetime(2021, 4, 20, 0, 0, tzinfo=tzutc()),\n",
       "  'end_day': datetime.datetime(2022, 1, 4, 0, 0, tzinfo=tzutc())},\n",
       " 'BTC': {'start': datetime.datetime(2018, 10, 22, 0, 0, tzinfo=tzutc()),\n",
       "  'end_day': datetime.datetime(2018, 11, 9, 0, 0, tzinfo=tzutc())}}"
      ]
     },
     "execution_count": 2,
     "metadata": {},
     "output_type": "execute_result"
    }
   ],
   "source": [
    "c.coinbase_req"
   ]
  },
  {
   "cell_type": "code",
   "execution_count": 3,
   "metadata": {},
   "outputs": [
    {
     "name": "stdout",
     "output_type": "stream",
     "text": [
      "Warning! There are 5 transactionsthat were EXCLUDED in std_df.\n",
      "Coinbase errors:\n",
      "TransactionsHistory(Transactions:186 - Processed:186, Unhandled:0 - Errors:9)\n"
     ]
    }
   ],
   "source": [
    "p=Portfolio(\"coinbase\",configuration=c)"
   ]
  },
  {
   "cell_type": "code",
   "execution_count": 4,
   "metadata": {},
   "outputs": [
    {
     "data": {
      "text/html": [
       "<div>\n",
       "<style scoped>\n",
       "    .dataframe tbody tr th:only-of-type {\n",
       "        vertical-align: middle;\n",
       "    }\n",
       "\n",
       "    .dataframe tbody tr th {\n",
       "        vertical-align: top;\n",
       "    }\n",
       "\n",
       "    .dataframe thead th {\n",
       "        text-align: right;\n",
       "    }\n",
       "</style>\n",
       "<table border=\"1\" class=\"dataframe\">\n",
       "  <thead>\n",
       "    <tr style=\"text-align: right;\">\n",
       "      <th></th>\n",
       "      <th>type</th>\n",
       "      <th>amount</th>\n",
       "      <th>symbol</th>\n",
       "      <th>native_amount</th>\n",
       "      <th>nat_symbol</th>\n",
       "      <th>total</th>\n",
       "      <th>subtotal</th>\n",
       "      <th>total_fee</th>\n",
       "      <th>spot_price</th>\n",
       "      <th>trade_id</th>\n",
       "    </tr>\n",
       "    <tr>\n",
       "      <th>datetime</th>\n",
       "      <th></th>\n",
       "      <th></th>\n",
       "      <th></th>\n",
       "      <th></th>\n",
       "      <th></th>\n",
       "      <th></th>\n",
       "      <th></th>\n",
       "      <th></th>\n",
       "      <th></th>\n",
       "      <th></th>\n",
       "    </tr>\n",
       "  </thead>\n",
       "  <tbody>\n",
       "    <tr>\n",
       "      <th>2018-10-22T06:29:22Z</th>\n",
       "      <td>buy</td>\n",
       "      <td>0.017237</td>\n",
       "      <td>BTC</td>\n",
       "      <td>100.00</td>\n",
       "      <td>EUR</td>\n",
       "      <td>100.00</td>\n",
       "      <td>97.01</td>\n",
       "      <td>2.99</td>\n",
       "      <td>5627.999719</td>\n",
       "      <td>None</td>\n",
       "    </tr>\n",
       "    <tr>\n",
       "      <th>2018-10-22T06:29:22Z</th>\n",
       "      <td>buy</td>\n",
       "      <td>100.000000</td>\n",
       "      <td>EUR</td>\n",
       "      <td>100.00</td>\n",
       "      <td>EUR</td>\n",
       "      <td>NaN</td>\n",
       "      <td>NaN</td>\n",
       "      <td>NaN</td>\n",
       "      <td>1.000000</td>\n",
       "      <td>None</td>\n",
       "    </tr>\n",
       "    <tr>\n",
       "      <th>2018-11-09T12:05:12Z</th>\n",
       "      <td>sell</td>\n",
       "      <td>0.017237</td>\n",
       "      <td>BTC</td>\n",
       "      <td>93.27</td>\n",
       "      <td>EUR</td>\n",
       "      <td>93.27</td>\n",
       "      <td>96.26</td>\n",
       "      <td>2.99</td>\n",
       "      <td>5584.488743</td>\n",
       "      <td>None</td>\n",
       "    </tr>\n",
       "    <tr>\n",
       "      <th>2018-11-09T12:05:13Z</th>\n",
       "      <td>sell</td>\n",
       "      <td>93.270000</td>\n",
       "      <td>EUR</td>\n",
       "      <td>93.27</td>\n",
       "      <td>EUR</td>\n",
       "      <td>NaN</td>\n",
       "      <td>NaN</td>\n",
       "      <td>NaN</td>\n",
       "      <td>1.000000</td>\n",
       "      <td>None</td>\n",
       "    </tr>\n",
       "    <tr>\n",
       "      <th>2018-11-09T12:06:14Z</th>\n",
       "      <td>buy</td>\n",
       "      <td>348.021666</td>\n",
       "      <td>BAT</td>\n",
       "      <td>93.27</td>\n",
       "      <td>EUR</td>\n",
       "      <td>93.27</td>\n",
       "      <td>90.28</td>\n",
       "      <td>2.99</td>\n",
       "      <td>0.259409</td>\n",
       "      <td>None</td>\n",
       "    </tr>\n",
       "    <tr>\n",
       "      <th>2018-11-09T12:06:15Z</th>\n",
       "      <td>buy</td>\n",
       "      <td>93.270000</td>\n",
       "      <td>EUR</td>\n",
       "      <td>93.27</td>\n",
       "      <td>EUR</td>\n",
       "      <td>NaN</td>\n",
       "      <td>NaN</td>\n",
       "      <td>NaN</td>\n",
       "      <td>1.000000</td>\n",
       "      <td>None</td>\n",
       "    </tr>\n",
       "    <tr>\n",
       "      <th>2019-01-25T14:28:56Z</th>\n",
       "      <td>sell</td>\n",
       "      <td>35.960000</td>\n",
       "      <td>EUR</td>\n",
       "      <td>35.96</td>\n",
       "      <td>EUR</td>\n",
       "      <td>NaN</td>\n",
       "      <td>NaN</td>\n",
       "      <td>NaN</td>\n",
       "      <td>1.000000</td>\n",
       "      <td>None</td>\n",
       "    </tr>\n",
       "    <tr>\n",
       "      <th>2019-01-25T14:28:56Z</th>\n",
       "      <td>sell</td>\n",
       "      <td>348.021666</td>\n",
       "      <td>BAT</td>\n",
       "      <td>35.96</td>\n",
       "      <td>EUR</td>\n",
       "      <td>35.96</td>\n",
       "      <td>37.95</td>\n",
       "      <td>1.99</td>\n",
       "      <td>0.109045</td>\n",
       "      <td>None</td>\n",
       "    </tr>\n",
       "    <tr>\n",
       "      <th>2021-04-20T18:57:40Z</th>\n",
       "      <td>buy</td>\n",
       "      <td>0.258429</td>\n",
       "      <td>ETH</td>\n",
       "      <td>500.00</td>\n",
       "      <td>EUR</td>\n",
       "      <td>500.00</td>\n",
       "      <td>492.66</td>\n",
       "      <td>7.34</td>\n",
       "      <td>1906.364408</td>\n",
       "      <td>None</td>\n",
       "    </tr>\n",
       "    <tr>\n",
       "      <th>2021-04-20T18:57:41Z</th>\n",
       "      <td>buy</td>\n",
       "      <td>500.000000</td>\n",
       "      <td>EUR</td>\n",
       "      <td>500.00</td>\n",
       "      <td>EUR</td>\n",
       "      <td>NaN</td>\n",
       "      <td>NaN</td>\n",
       "      <td>NaN</td>\n",
       "      <td>1.000000</td>\n",
       "      <td>None</td>\n",
       "    </tr>\n",
       "  </tbody>\n",
       "</table>\n",
       "</div>"
      ],
      "text/plain": [
       "                      type      amount symbol  native_amount nat_symbol  \\\n",
       "datetime                                                                  \n",
       "2018-10-22T06:29:22Z   buy    0.017237    BTC         100.00        EUR   \n",
       "2018-10-22T06:29:22Z   buy  100.000000    EUR         100.00        EUR   \n",
       "2018-11-09T12:05:12Z  sell    0.017237    BTC          93.27        EUR   \n",
       "2018-11-09T12:05:13Z  sell   93.270000    EUR          93.27        EUR   \n",
       "2018-11-09T12:06:14Z   buy  348.021666    BAT          93.27        EUR   \n",
       "2018-11-09T12:06:15Z   buy   93.270000    EUR          93.27        EUR   \n",
       "2019-01-25T14:28:56Z  sell   35.960000    EUR          35.96        EUR   \n",
       "2019-01-25T14:28:56Z  sell  348.021666    BAT          35.96        EUR   \n",
       "2021-04-20T18:57:40Z   buy    0.258429    ETH         500.00        EUR   \n",
       "2021-04-20T18:57:41Z   buy  500.000000    EUR         500.00        EUR   \n",
       "\n",
       "                       total  subtotal  total_fee   spot_price trade_id  \n",
       "datetime                                                                 \n",
       "2018-10-22T06:29:22Z  100.00     97.01       2.99  5627.999719     None  \n",
       "2018-10-22T06:29:22Z     NaN       NaN        NaN     1.000000     None  \n",
       "2018-11-09T12:05:12Z   93.27     96.26       2.99  5584.488743     None  \n",
       "2018-11-09T12:05:13Z     NaN       NaN        NaN     1.000000     None  \n",
       "2018-11-09T12:06:14Z   93.27     90.28       2.99     0.259409     None  \n",
       "2018-11-09T12:06:15Z     NaN       NaN        NaN     1.000000     None  \n",
       "2019-01-25T14:28:56Z     NaN       NaN        NaN     1.000000     None  \n",
       "2019-01-25T14:28:56Z   35.96     37.95       1.99     0.109045     None  \n",
       "2021-04-20T18:57:40Z  500.00    492.66       7.34  1906.364408     None  \n",
       "2021-04-20T18:57:41Z     NaN       NaN        NaN     1.000000     None  "
      ]
     },
     "execution_count": 4,
     "metadata": {},
     "output_type": "execute_result"
    }
   ],
   "source": [
    "p.std_df.head(10)"
   ]
  },
  {
   "cell_type": "code",
   "execution_count": 5,
   "metadata": {},
   "outputs": [
    {
     "data": {
      "text/plain": [
       "234.18000000000026"
      ]
     },
     "execution_count": 5,
     "metadata": {},
     "output_type": "execute_result"
    }
   ],
   "source": [
    "p.std_df.total_fee.sum()"
   ]
  },
  {
   "cell_type": "markdown",
   "metadata": {},
   "source": [
    "## Portfolio live value tracker"
   ]
  },
  {
   "cell_type": "code",
   "execution_count": 6,
   "metadata": {},
   "outputs": [],
   "source": [
    "t=Tracker(p.std_df,stocks_start=\"20-4-2021\",configuration=c)"
   ]
  },
  {
   "cell_type": "code",
   "execution_count": 7,
   "metadata": {},
   "outputs": [
    {
     "data": {
      "text/plain": [
       "Timestamp('2021-04-20 00:00:00+0000', tz='UTC')"
      ]
     },
     "execution_count": 7,
     "metadata": {},
     "output_type": "execute_result"
    }
   ],
   "source": [
    "t.stocks_start"
   ]
  },
  {
   "cell_type": "code",
   "execution_count": 8,
   "metadata": {},
   "outputs": [
    {
     "data": {
      "text/html": [
       "<div>\n",
       "<style scoped>\n",
       "    .dataframe tbody tr th:only-of-type {\n",
       "        vertical-align: middle;\n",
       "    }\n",
       "\n",
       "    .dataframe tbody tr th {\n",
       "        vertical-align: top;\n",
       "    }\n",
       "\n",
       "    .dataframe thead th {\n",
       "        text-align: right;\n",
       "    }\n",
       "</style>\n",
       "<table border=\"1\" class=\"dataframe\">\n",
       "  <thead>\n",
       "    <tr style=\"text-align: right;\">\n",
       "      <th></th>\n",
       "      <th>Open date</th>\n",
       "      <th>Type</th>\n",
       "      <th>Qty</th>\n",
       "      <th>Symbol</th>\n",
       "      <th>Adj cost</th>\n",
       "      <th>Adj cost per share</th>\n",
       "    </tr>\n",
       "  </thead>\n",
       "  <tbody>\n",
       "    <tr>\n",
       "      <th>0</th>\n",
       "      <td>2018-10-22 06:29:22+00:00</td>\n",
       "      <td>buy</td>\n",
       "      <td>0.017237</td>\n",
       "      <td>BTC</td>\n",
       "      <td>100.00</td>\n",
       "      <td>5627.999719</td>\n",
       "    </tr>\n",
       "    <tr>\n",
       "      <th>2</th>\n",
       "      <td>2018-11-09 12:05:12+00:00</td>\n",
       "      <td>sell</td>\n",
       "      <td>0.017237</td>\n",
       "      <td>BTC</td>\n",
       "      <td>93.27</td>\n",
       "      <td>5584.488743</td>\n",
       "    </tr>\n",
       "    <tr>\n",
       "      <th>4</th>\n",
       "      <td>2018-11-09 12:06:14+00:00</td>\n",
       "      <td>buy</td>\n",
       "      <td>348.021666</td>\n",
       "      <td>BAT</td>\n",
       "      <td>93.27</td>\n",
       "      <td>0.259409</td>\n",
       "    </tr>\n",
       "    <tr>\n",
       "      <th>7</th>\n",
       "      <td>2019-01-25 14:28:56+00:00</td>\n",
       "      <td>sell</td>\n",
       "      <td>348.021666</td>\n",
       "      <td>BAT</td>\n",
       "      <td>35.96</td>\n",
       "      <td>0.109045</td>\n",
       "    </tr>\n",
       "    <tr>\n",
       "      <th>8</th>\n",
       "      <td>2021-04-20 18:57:40+00:00</td>\n",
       "      <td>buy</td>\n",
       "      <td>0.258429</td>\n",
       "      <td>ETH</td>\n",
       "      <td>500.00</td>\n",
       "      <td>1906.364408</td>\n",
       "    </tr>\n",
       "  </tbody>\n",
       "</table>\n",
       "</div>"
      ],
      "text/plain": [
       "                  Open date  Type         Qty Symbol  Adj cost  \\\n",
       "0 2018-10-22 06:29:22+00:00   buy    0.017237    BTC    100.00   \n",
       "2 2018-11-09 12:05:12+00:00  sell    0.017237    BTC     93.27   \n",
       "4 2018-11-09 12:06:14+00:00   buy  348.021666    BAT     93.27   \n",
       "7 2019-01-25 14:28:56+00:00  sell  348.021666    BAT     35.96   \n",
       "8 2021-04-20 18:57:40+00:00   buy    0.258429    ETH    500.00   \n",
       "\n",
       "   Adj cost per share  \n",
       "0         5627.999719  \n",
       "2         5584.488743  \n",
       "4            0.259409  \n",
       "7            0.109045  \n",
       "8         1906.364408  "
      ]
     },
     "execution_count": 8,
     "metadata": {},
     "output_type": "execute_result"
    }
   ],
   "source": [
    "t.portfolio_df.head()"
   ]
  },
  {
   "cell_type": "markdown",
   "metadata": {},
   "source": [
    "### Load closedata log\n",
    "\n",
    "Error log from loading data."
   ]
  },
  {
   "cell_type": "code",
   "execution_count": 9,
   "metadata": {},
   "outputs": [
    {
     "data": {
      "text/plain": [
       "[{'symbol': 'CGLD', 'error': KeyError('CELO')}]"
      ]
     },
     "execution_count": 9,
     "metadata": {},
     "output_type": "execute_result"
    }
   ],
   "source": [
    "t.error_log"
   ]
  },
  {
   "cell_type": "markdown",
   "metadata": {},
   "source": [
    "### Set benchmark\n",
    "\n",
    "Set coin as benchmark."
   ]
  },
  {
   "cell_type": "code",
   "execution_count": 10,
   "metadata": {},
   "outputs": [
    {
     "data": {
      "text/html": [
       "<div>\n",
       "<style scoped>\n",
       "    .dataframe tbody tr th:only-of-type {\n",
       "        vertical-align: middle;\n",
       "    }\n",
       "\n",
       "    .dataframe tbody tr th {\n",
       "        vertical-align: top;\n",
       "    }\n",
       "\n",
       "    .dataframe thead th {\n",
       "        text-align: right;\n",
       "    }\n",
       "</style>\n",
       "<table border=\"1\" class=\"dataframe\">\n",
       "  <thead>\n",
       "    <tr style=\"text-align: right;\">\n",
       "      <th></th>\n",
       "      <th>Date</th>\n",
       "      <th>Close</th>\n",
       "    </tr>\n",
       "  </thead>\n",
       "  <tbody>\n",
       "    <tr>\n",
       "      <th>0</th>\n",
       "      <td>2021-04-20 00:00:00+00:00</td>\n",
       "      <td>1936.596366</td>\n",
       "    </tr>\n",
       "    <tr>\n",
       "      <th>1</th>\n",
       "      <td>2021-04-21 00:00:00+00:00</td>\n",
       "      <td>1964.593249</td>\n",
       "    </tr>\n",
       "    <tr>\n",
       "      <th>2</th>\n",
       "      <td>2021-04-22 00:00:00+00:00</td>\n",
       "      <td>2000.536891</td>\n",
       "    </tr>\n",
       "    <tr>\n",
       "      <th>3</th>\n",
       "      <td>2021-04-23 00:00:00+00:00</td>\n",
       "      <td>1953.619811</td>\n",
       "    </tr>\n",
       "    <tr>\n",
       "      <th>4</th>\n",
       "      <td>2021-04-24 00:00:00+00:00</td>\n",
       "      <td>1828.220570</td>\n",
       "    </tr>\n",
       "    <tr>\n",
       "      <th>...</th>\n",
       "      <td>...</td>\n",
       "      <td>...</td>\n",
       "    </tr>\n",
       "    <tr>\n",
       "      <th>322</th>\n",
       "      <td>2022-03-08 00:00:00+00:00</td>\n",
       "      <td>2364.462260</td>\n",
       "    </tr>\n",
       "    <tr>\n",
       "      <th>323</th>\n",
       "      <td>2022-03-09 00:00:00+00:00</td>\n",
       "      <td>2465.147372</td>\n",
       "    </tr>\n",
       "    <tr>\n",
       "      <th>324</th>\n",
       "      <td>2022-03-10 00:00:00+00:00</td>\n",
       "      <td>2368.094996</td>\n",
       "    </tr>\n",
       "    <tr>\n",
       "      <th>325</th>\n",
       "      <td>2022-03-11 00:00:00+00:00</td>\n",
       "      <td>2345.209878</td>\n",
       "    </tr>\n",
       "    <tr>\n",
       "      <th>326</th>\n",
       "      <td>2022-03-12 00:00:00+00:00</td>\n",
       "      <td>2359.128839</td>\n",
       "    </tr>\n",
       "  </tbody>\n",
       "</table>\n",
       "<p>327 rows × 2 columns</p>\n",
       "</div>"
      ],
      "text/plain": [
       "                         Date        Close\n",
       "0   2021-04-20 00:00:00+00:00  1936.596366\n",
       "1   2021-04-21 00:00:00+00:00  1964.593249\n",
       "2   2021-04-22 00:00:00+00:00  2000.536891\n",
       "3   2021-04-23 00:00:00+00:00  1953.619811\n",
       "4   2021-04-24 00:00:00+00:00  1828.220570\n",
       "..                        ...          ...\n",
       "322 2022-03-08 00:00:00+00:00  2364.462260\n",
       "323 2022-03-09 00:00:00+00:00  2465.147372\n",
       "324 2022-03-10 00:00:00+00:00  2368.094996\n",
       "325 2022-03-11 00:00:00+00:00  2345.209878\n",
       "326 2022-03-12 00:00:00+00:00  2359.128839\n",
       "\n",
       "[327 rows x 2 columns]"
      ]
     },
     "execution_count": 10,
     "metadata": {},
     "output_type": "execute_result"
    }
   ],
   "source": [
    "benchmark=t.set_benchmark(\"ETH\")\n",
    "benchmark"
   ]
  },
  {
   "cell_type": "markdown",
   "metadata": {},
   "source": [
    "#### Portfolio start balance\n",
    "\n",
    "Tracker module allows to consider transactions happened before the `stocks_start` date specified.\n",
    "\n",
    "This is done adjusting past positions to the current value at `stocks_start` date."
   ]
  },
  {
   "cell_type": "code",
   "execution_count": 11,
   "metadata": {},
   "outputs": [
    {
     "data": {
      "text/html": [
       "<div>\n",
       "<style scoped>\n",
       "    .dataframe tbody tr th:only-of-type {\n",
       "        vertical-align: middle;\n",
       "    }\n",
       "\n",
       "    .dataframe tbody tr th {\n",
       "        vertical-align: top;\n",
       "    }\n",
       "\n",
       "    .dataframe thead th {\n",
       "        text-align: right;\n",
       "    }\n",
       "</style>\n",
       "<table border=\"1\" class=\"dataframe\">\n",
       "  <thead>\n",
       "    <tr style=\"text-align: right;\">\n",
       "      <th></th>\n",
       "      <th>Open date</th>\n",
       "      <th>Type</th>\n",
       "      <th>Qty</th>\n",
       "      <th>Symbol</th>\n",
       "      <th>Adj cost</th>\n",
       "      <th>Adj cost per share</th>\n",
       "    </tr>\n",
       "  </thead>\n",
       "  <tbody>\n",
       "    <tr>\n",
       "      <th>8</th>\n",
       "      <td>2021-04-20 18:57:40+00:00</td>\n",
       "      <td>buy</td>\n",
       "      <td>0.258429</td>\n",
       "      <td>ETH</td>\n",
       "      <td>500.00</td>\n",
       "      <td>1906.364408</td>\n",
       "    </tr>\n",
       "    <tr>\n",
       "      <th>10</th>\n",
       "      <td>2021-04-22 10:13:53+00:00</td>\n",
       "      <td>buy</td>\n",
       "      <td>0.062128</td>\n",
       "      <td>MKR</td>\n",
       "      <td>250.00</td>\n",
       "      <td>3964.873854</td>\n",
       "    </tr>\n",
       "    <tr>\n",
       "      <th>13</th>\n",
       "      <td>2021-04-22 19:20:15+00:00</td>\n",
       "      <td>sell</td>\n",
       "      <td>0.062128</td>\n",
       "      <td>MKR</td>\n",
       "      <td>213.69</td>\n",
       "      <td>3491.496921</td>\n",
       "    </tr>\n",
       "    <tr>\n",
       "      <th>14</th>\n",
       "      <td>2021-04-24 08:53:47+00:00</td>\n",
       "      <td>buy</td>\n",
       "      <td>210.343863</td>\n",
       "      <td>ADA</td>\n",
       "      <td>213.69</td>\n",
       "      <td>1.000980</td>\n",
       "    </tr>\n",
       "    <tr>\n",
       "      <th>16</th>\n",
       "      <td>2021-04-25 16:15:33+00:00</td>\n",
       "      <td>buy</td>\n",
       "      <td>0.350116</td>\n",
       "      <td>CGLD</td>\n",
       "      <td>1.65</td>\n",
       "      <td>4.712730</td>\n",
       "    </tr>\n",
       "  </tbody>\n",
       "</table>\n",
       "</div>"
      ],
      "text/plain": [
       "                   Open date  Type         Qty Symbol  Adj cost  \\\n",
       "8  2021-04-20 18:57:40+00:00   buy    0.258429    ETH    500.00   \n",
       "10 2021-04-22 10:13:53+00:00   buy    0.062128    MKR    250.00   \n",
       "13 2021-04-22 19:20:15+00:00  sell    0.062128    MKR    213.69   \n",
       "14 2021-04-24 08:53:47+00:00   buy  210.343863    ADA    213.69   \n",
       "16 2021-04-25 16:15:33+00:00   buy    0.350116   CGLD      1.65   \n",
       "\n",
       "    Adj cost per share  \n",
       "8          1906.364408  \n",
       "10         3964.873854  \n",
       "13         3491.496921  \n",
       "14            1.000980  \n",
       "16            4.712730  "
      ]
     },
     "execution_count": 11,
     "metadata": {},
     "output_type": "execute_result"
    }
   ],
   "source": [
    "t.active_positions.head()"
   ]
  },
  {
   "cell_type": "markdown",
   "metadata": {},
   "source": [
    "#### Daily snapshots\n",
    "\n",
    "The module produces daily snapshots of the portfolio balance."
   ]
  },
  {
   "cell_type": "code",
   "execution_count": 12,
   "metadata": {},
   "outputs": [
    {
     "data": {
      "text/html": [
       "<div>\n",
       "<style scoped>\n",
       "    .dataframe tbody tr th:only-of-type {\n",
       "        vertical-align: middle;\n",
       "    }\n",
       "\n",
       "    .dataframe tbody tr th {\n",
       "        vertical-align: top;\n",
       "    }\n",
       "\n",
       "    .dataframe thead th {\n",
       "        text-align: right;\n",
       "    }\n",
       "</style>\n",
       "<table border=\"1\" class=\"dataframe\">\n",
       "  <thead>\n",
       "    <tr style=\"text-align: right;\">\n",
       "      <th></th>\n",
       "      <th>Open date</th>\n",
       "      <th>Type</th>\n",
       "      <th>Qty</th>\n",
       "      <th>Symbol</th>\n",
       "      <th>Adj cost</th>\n",
       "      <th>Adj cost per share</th>\n",
       "      <th>Date Snapshot</th>\n",
       "    </tr>\n",
       "  </thead>\n",
       "  <tbody>\n",
       "    <tr>\n",
       "      <th>160</th>\n",
       "      <td>2021-08-26 19:45:55+00:00</td>\n",
       "      <td>buy</td>\n",
       "      <td>2.578298e+02</td>\n",
       "      <td>MATIC</td>\n",
       "      <td>1360.65</td>\n",
       "      <td>1.174154</td>\n",
       "      <td>2022-03-12 00:00:00+00:00</td>\n",
       "    </tr>\n",
       "    <tr>\n",
       "      <th>162</th>\n",
       "      <td>2021-09-07 10:00:18+00:00</td>\n",
       "      <td>buy</td>\n",
       "      <td>7.207399e+01</td>\n",
       "      <td>ADA</td>\n",
       "      <td>389.49</td>\n",
       "      <td>2.166873</td>\n",
       "      <td>2022-03-12 00:00:00+00:00</td>\n",
       "    </tr>\n",
       "    <tr>\n",
       "      <th>164</th>\n",
       "      <td>2021-09-09 23:30:55+00:00</td>\n",
       "      <td>buy</td>\n",
       "      <td>3.232717e+02</td>\n",
       "      <td>ADA</td>\n",
       "      <td>692.45</td>\n",
       "      <td>2.142006</td>\n",
       "      <td>2022-03-12 00:00:00+00:00</td>\n",
       "    </tr>\n",
       "    <tr>\n",
       "      <th>156</th>\n",
       "      <td>2021-08-21 18:49:29+00:00</td>\n",
       "      <td>buy</td>\n",
       "      <td>6.479000e-03</td>\n",
       "      <td>USDC</td>\n",
       "      <td>1117.38</td>\n",
       "      <td>0.854942</td>\n",
       "      <td>2022-03-12 00:00:00+00:00</td>\n",
       "    </tr>\n",
       "    <tr>\n",
       "      <th>138</th>\n",
       "      <td>2021-07-24 11:33:04+00:00</td>\n",
       "      <td>buy</td>\n",
       "      <td>2.220446e-16</td>\n",
       "      <td>MANA</td>\n",
       "      <td>0.84</td>\n",
       "      <td>0.592829</td>\n",
       "      <td>2022-03-12 00:00:00+00:00</td>\n",
       "    </tr>\n",
       "    <tr>\n",
       "      <th>131</th>\n",
       "      <td>2021-07-24 11:26:40+00:00</td>\n",
       "      <td>buy</td>\n",
       "      <td>1.387779e-17</td>\n",
       "      <td>BOND</td>\n",
       "      <td>0.85</td>\n",
       "      <td>18.716996</td>\n",
       "      <td>2022-03-12 00:00:00+00:00</td>\n",
       "    </tr>\n",
       "    <tr>\n",
       "      <th>116</th>\n",
       "      <td>2021-07-04 15:53:49+00:00</td>\n",
       "      <td>buy</td>\n",
       "      <td>3.885781e-16</td>\n",
       "      <td>COMP</td>\n",
       "      <td>1.77</td>\n",
       "      <td>373.447660</td>\n",
       "      <td>2022-03-12 00:00:00+00:00</td>\n",
       "    </tr>\n",
       "    <tr>\n",
       "      <th>49</th>\n",
       "      <td>2021-04-28 12:34:21+00:00</td>\n",
       "      <td>buy</td>\n",
       "      <td>6.938894e-18</td>\n",
       "      <td>FORTH</td>\n",
       "      <td>0.83</td>\n",
       "      <td>28.342842</td>\n",
       "      <td>2022-03-12 00:00:00+00:00</td>\n",
       "    </tr>\n",
       "    <tr>\n",
       "      <th>166</th>\n",
       "      <td>2021-11-29 10:44:04+00:00</td>\n",
       "      <td>buy</td>\n",
       "      <td>2.149386e+01</td>\n",
       "      <td>SUSHI</td>\n",
       "      <td>147.19</td>\n",
       "      <td>6.848002</td>\n",
       "      <td>2022-03-12 00:00:00+00:00</td>\n",
       "    </tr>\n",
       "    <tr>\n",
       "      <th>170</th>\n",
       "      <td>2021-12-23 07:27:08+00:00</td>\n",
       "      <td>buy</td>\n",
       "      <td>1.323824e+01</td>\n",
       "      <td>UNI</td>\n",
       "      <td>195.91</td>\n",
       "      <td>14.798792</td>\n",
       "      <td>2022-03-12 00:00:00+00:00</td>\n",
       "    </tr>\n",
       "    <tr>\n",
       "      <th>172</th>\n",
       "      <td>2021-12-23 07:28:57+00:00</td>\n",
       "      <td>buy</td>\n",
       "      <td>1.001178e+00</td>\n",
       "      <td>AAVE</td>\n",
       "      <td>195.57</td>\n",
       "      <td>195.339958</td>\n",
       "      <td>2022-03-12 00:00:00+00:00</td>\n",
       "    </tr>\n",
       "  </tbody>\n",
       "</table>\n",
       "</div>"
      ],
      "text/plain": [
       "                    Open date Type           Qty Symbol  Adj cost  \\\n",
       "160 2021-08-26 19:45:55+00:00  buy  2.578298e+02  MATIC   1360.65   \n",
       "162 2021-09-07 10:00:18+00:00  buy  7.207399e+01    ADA    389.49   \n",
       "164 2021-09-09 23:30:55+00:00  buy  3.232717e+02    ADA    692.45   \n",
       "156 2021-08-21 18:49:29+00:00  buy  6.479000e-03   USDC   1117.38   \n",
       "138 2021-07-24 11:33:04+00:00  buy  2.220446e-16   MANA      0.84   \n",
       "131 2021-07-24 11:26:40+00:00  buy  1.387779e-17   BOND      0.85   \n",
       "116 2021-07-04 15:53:49+00:00  buy  3.885781e-16   COMP      1.77   \n",
       "49  2021-04-28 12:34:21+00:00  buy  6.938894e-18  FORTH      0.83   \n",
       "166 2021-11-29 10:44:04+00:00  buy  2.149386e+01  SUSHI    147.19   \n",
       "170 2021-12-23 07:27:08+00:00  buy  1.323824e+01    UNI    195.91   \n",
       "172 2021-12-23 07:28:57+00:00  buy  1.001178e+00   AAVE    195.57   \n",
       "\n",
       "     Adj cost per share             Date Snapshot  \n",
       "160            1.174154 2022-03-12 00:00:00+00:00  \n",
       "162            2.166873 2022-03-12 00:00:00+00:00  \n",
       "164            2.142006 2022-03-12 00:00:00+00:00  \n",
       "156            0.854942 2022-03-12 00:00:00+00:00  \n",
       "138            0.592829 2022-03-12 00:00:00+00:00  \n",
       "131           18.716996 2022-03-12 00:00:00+00:00  \n",
       "116          373.447660 2022-03-12 00:00:00+00:00  \n",
       "49            28.342842 2022-03-12 00:00:00+00:00  \n",
       "166            6.848002 2022-03-12 00:00:00+00:00  \n",
       "170           14.798792 2022-03-12 00:00:00+00:00  \n",
       "172          195.339958 2022-03-12 00:00:00+00:00  "
      ]
     },
     "execution_count": 12,
     "metadata": {},
     "output_type": "execute_result"
    }
   ],
   "source": [
    "t.daily_snapshots[-1]"
   ]
  },
  {
   "cell_type": "code",
   "execution_count": null,
   "metadata": {},
   "outputs": [],
   "source": []
  },
  {
   "cell_type": "markdown",
   "metadata": {},
   "source": [
    "### Portfolio calculations"
   ]
  },
  {
   "cell_type": "code",
   "execution_count": 13,
   "metadata": {},
   "outputs": [
    {
     "name": "stderr",
     "output_type": "stream",
     "text": [
      "/opt/miniconda3/envs/cryptoenv/lib/python3.7/site-packages/pandas/core/generic.py:5516: SettingWithCopyWarning:\n",
      "\n",
      "\n",
      "A value is trying to be set on a copy of a slice from a DataFrame.\n",
      "Try using .loc[row_indexer,col_indexer] = value instead\n",
      "\n",
      "See the caveats in the documentation: https://pandas.pydata.org/pandas-docs/stable/user_guide/indexing.html#returning-a-view-versus-a-copy\n",
      "\n"
     ]
    },
    {
     "data": {
      "text/html": [
       "<div>\n",
       "<style scoped>\n",
       "    .dataframe tbody tr th:only-of-type {\n",
       "        vertical-align: middle;\n",
       "    }\n",
       "\n",
       "    .dataframe tbody tr th {\n",
       "        vertical-align: top;\n",
       "    }\n",
       "\n",
       "    .dataframe thead th {\n",
       "        text-align: right;\n",
       "    }\n",
       "</style>\n",
       "<table border=\"1\" class=\"dataframe\">\n",
       "  <thead>\n",
       "    <tr style=\"text-align: right;\">\n",
       "      <th></th>\n",
       "      <th>Adj cost</th>\n",
       "      <th>Adj cost per share</th>\n",
       "      <th>Date Snapshot</th>\n",
       "      <th>Open date</th>\n",
       "      <th>Qty</th>\n",
       "      <th>Symbol</th>\n",
       "      <th>Type</th>\n",
       "      <th>index_x</th>\n",
       "      <th>Symbol Adj Close</th>\n",
       "      <th>Adj cost daily</th>\n",
       "      <th>...</th>\n",
       "      <th>Benchmark Start Date Cost</th>\n",
       "      <th>Benchmark Return</th>\n",
       "      <th>symbol Return</th>\n",
       "      <th>symbol Share Value</th>\n",
       "      <th>Benchmark Share Value</th>\n",
       "      <th>Stock Gain / (Loss)</th>\n",
       "      <th>Benchmark Gain / (Loss)</th>\n",
       "      <th>Abs Value Compare</th>\n",
       "      <th>Abs Value Return</th>\n",
       "      <th>Abs. Return Compare</th>\n",
       "    </tr>\n",
       "  </thead>\n",
       "  <tbody>\n",
       "    <tr>\n",
       "      <th>0</th>\n",
       "      <td>492.66</td>\n",
       "      <td>1906.364408</td>\n",
       "      <td>2021-04-20 00:00:00+00:00</td>\n",
       "      <td>2021-04-20 18:57:40+00:00</td>\n",
       "      <td>0.258429</td>\n",
       "      <td>ETH</td>\n",
       "      <td>buy</td>\n",
       "      <td>0.0</td>\n",
       "      <td>1936.596366</td>\n",
       "      <td>500.472817</td>\n",
       "      <td>...</td>\n",
       "      <td>492.66</td>\n",
       "      <td>0.000000</td>\n",
       "      <td>0.015858</td>\n",
       "      <td>500.472817</td>\n",
       "      <td>492.660000</td>\n",
       "      <td>7.812817</td>\n",
       "      <td>5.684342e-14</td>\n",
       "      <td>7.812817</td>\n",
       "      <td>0.015858</td>\n",
       "      <td>0.015858</td>\n",
       "    </tr>\n",
       "    <tr>\n",
       "      <th>1</th>\n",
       "      <td>492.66</td>\n",
       "      <td>1906.364408</td>\n",
       "      <td>2021-04-21 00:00:00+00:00</td>\n",
       "      <td>2021-04-20 18:57:40+00:00</td>\n",
       "      <td>0.258429</td>\n",
       "      <td>ETH</td>\n",
       "      <td>buy</td>\n",
       "      <td>1.0</td>\n",
       "      <td>1964.593249</td>\n",
       "      <td>507.708026</td>\n",
       "      <td>...</td>\n",
       "      <td>492.66</td>\n",
       "      <td>0.014457</td>\n",
       "      <td>0.030544</td>\n",
       "      <td>507.708026</td>\n",
       "      <td>499.782261</td>\n",
       "      <td>15.048026</td>\n",
       "      <td>7.122261e+00</td>\n",
       "      <td>15.048026</td>\n",
       "      <td>0.030544</td>\n",
       "      <td>0.016088</td>\n",
       "    </tr>\n",
       "    <tr>\n",
       "      <th>2</th>\n",
       "      <td>492.66</td>\n",
       "      <td>1906.364408</td>\n",
       "      <td>2021-04-22 00:00:00+00:00</td>\n",
       "      <td>2021-04-20 18:57:40+00:00</td>\n",
       "      <td>0.258429</td>\n",
       "      <td>ETH</td>\n",
       "      <td>buy</td>\n",
       "      <td>2.0</td>\n",
       "      <td>2000.536891</td>\n",
       "      <td>516.996908</td>\n",
       "      <td>...</td>\n",
       "      <td>492.66</td>\n",
       "      <td>0.033017</td>\n",
       "      <td>0.049399</td>\n",
       "      <td>516.996908</td>\n",
       "      <td>508.926136</td>\n",
       "      <td>24.336908</td>\n",
       "      <td>1.626614e+01</td>\n",
       "      <td>24.336908</td>\n",
       "      <td>0.049399</td>\n",
       "      <td>0.016382</td>\n",
       "    </tr>\n",
       "    <tr>\n",
       "      <th>3</th>\n",
       "      <td>492.66</td>\n",
       "      <td>1906.364408</td>\n",
       "      <td>2021-04-23 00:00:00+00:00</td>\n",
       "      <td>2021-04-20 18:57:40+00:00</td>\n",
       "      <td>0.258429</td>\n",
       "      <td>ETH</td>\n",
       "      <td>buy</td>\n",
       "      <td>3.0</td>\n",
       "      <td>1953.619811</td>\n",
       "      <td>504.872170</td>\n",
       "      <td>...</td>\n",
       "      <td>492.66</td>\n",
       "      <td>0.008790</td>\n",
       "      <td>0.024788</td>\n",
       "      <td>504.872170</td>\n",
       "      <td>496.990675</td>\n",
       "      <td>12.212170</td>\n",
       "      <td>4.330675e+00</td>\n",
       "      <td>12.212170</td>\n",
       "      <td>0.024788</td>\n",
       "      <td>0.015998</td>\n",
       "    </tr>\n",
       "    <tr>\n",
       "      <th>4</th>\n",
       "      <td>492.66</td>\n",
       "      <td>1906.364408</td>\n",
       "      <td>2021-04-24 00:00:00+00:00</td>\n",
       "      <td>2021-04-20 18:57:40+00:00</td>\n",
       "      <td>0.258429</td>\n",
       "      <td>ETH</td>\n",
       "      <td>buy</td>\n",
       "      <td>4.0</td>\n",
       "      <td>1828.220570</td>\n",
       "      <td>472.465360</td>\n",
       "      <td>...</td>\n",
       "      <td>492.66</td>\n",
       "      <td>-0.055962</td>\n",
       "      <td>-0.040991</td>\n",
       "      <td>472.465360</td>\n",
       "      <td>465.089763</td>\n",
       "      <td>-20.194640</td>\n",
       "      <td>-2.757024e+01</td>\n",
       "      <td>-20.194640</td>\n",
       "      <td>-0.040991</td>\n",
       "      <td>0.014971</td>\n",
       "    </tr>\n",
       "  </tbody>\n",
       "</table>\n",
       "<p>5 rows × 28 columns</p>\n",
       "</div>"
      ],
      "text/plain": [
       "   Adj cost  Adj cost per share             Date Snapshot  \\\n",
       "0    492.66         1906.364408 2021-04-20 00:00:00+00:00   \n",
       "1    492.66         1906.364408 2021-04-21 00:00:00+00:00   \n",
       "2    492.66         1906.364408 2021-04-22 00:00:00+00:00   \n",
       "3    492.66         1906.364408 2021-04-23 00:00:00+00:00   \n",
       "4    492.66         1906.364408 2021-04-24 00:00:00+00:00   \n",
       "\n",
       "                  Open date       Qty Symbol Type  index_x  Symbol Adj Close  \\\n",
       "0 2021-04-20 18:57:40+00:00  0.258429    ETH  buy      0.0       1936.596366   \n",
       "1 2021-04-20 18:57:40+00:00  0.258429    ETH  buy      1.0       1964.593249   \n",
       "2 2021-04-20 18:57:40+00:00  0.258429    ETH  buy      2.0       2000.536891   \n",
       "3 2021-04-20 18:57:40+00:00  0.258429    ETH  buy      3.0       1953.619811   \n",
       "4 2021-04-20 18:57:40+00:00  0.258429    ETH  buy      4.0       1828.220570   \n",
       "\n",
       "   Adj cost daily  ...  Benchmark Start Date Cost  Benchmark Return  \\\n",
       "0      500.472817  ...                     492.66          0.000000   \n",
       "1      507.708026  ...                     492.66          0.014457   \n",
       "2      516.996908  ...                     492.66          0.033017   \n",
       "3      504.872170  ...                     492.66          0.008790   \n",
       "4      472.465360  ...                     492.66         -0.055962   \n",
       "\n",
       "   symbol Return  symbol Share Value  Benchmark Share Value  \\\n",
       "0       0.015858          500.472817             492.660000   \n",
       "1       0.030544          507.708026             499.782261   \n",
       "2       0.049399          516.996908             508.926136   \n",
       "3       0.024788          504.872170             496.990675   \n",
       "4      -0.040991          472.465360             465.089763   \n",
       "\n",
       "   Stock Gain / (Loss)  Benchmark Gain / (Loss)  Abs Value Compare  \\\n",
       "0             7.812817             5.684342e-14           7.812817   \n",
       "1            15.048026             7.122261e+00          15.048026   \n",
       "2            24.336908             1.626614e+01          24.336908   \n",
       "3            12.212170             4.330675e+00          12.212170   \n",
       "4           -20.194640            -2.757024e+01         -20.194640   \n",
       "\n",
       "   Abs Value Return  Abs. Return Compare  \n",
       "0          0.015858             0.015858  \n",
       "1          0.030544             0.016088  \n",
       "2          0.049399             0.016382  \n",
       "3          0.024788             0.015998  \n",
       "4         -0.040991             0.014971  \n",
       "\n",
       "[5 rows x 28 columns]"
      ]
     },
     "execution_count": 13,
     "metadata": {},
     "output_type": "execute_result"
    }
   ],
   "source": [
    "combined_df=t.per_day_portfolio_calcs(\n",
    "    benchmark,\n",
    ")\n",
    "combined_df.head()"
   ]
  },
  {
   "cell_type": "code",
   "execution_count": 14,
   "metadata": {},
   "outputs": [
    {
     "data": {
      "application/vnd.plotly.v1+json": {
       "config": {
        "linkText": "Export to plot.ly",
        "plotlyServerURL": "https://plot.ly",
        "showLink": false
       },
       "data": [
        {
         "hovertemplate": "variable=Stock Gain / (Loss)<br>Date Snapshot=%{x}<br>value=%{y}<extra></extra>",
         "legendgroup": "Stock Gain / (Loss)",
         "line": {
          "color": "#636efa",
          "dash": "solid"
         },
         "marker": {
          "symbol": "circle"
         },
         "mode": "lines",
         "name": "Stock Gain / (Loss)",
         "orientation": "v",
         "showlegend": true,
         "type": "scatter",
         "x": [
          "2021-04-20",
          "2021-04-21",
          "2021-04-22",
          "2021-04-23",
          "2021-04-24",
          "2021-04-25",
          "2021-04-26",
          "2021-04-27",
          "2021-04-28",
          "2021-04-29",
          "2021-04-30",
          "2021-05-01",
          "2021-05-02",
          "2021-05-03",
          "2021-05-04",
          "2021-05-05",
          "2021-05-06",
          "2021-05-07",
          "2021-05-08",
          "2021-05-09",
          "2021-05-10",
          "2021-05-11",
          "2021-05-12",
          "2021-05-14",
          "2021-05-15",
          "2021-05-16",
          "2021-05-17",
          "2021-05-18",
          "2021-05-19",
          "2021-05-20",
          "2021-05-21",
          "2021-05-22",
          "2021-05-23",
          "2021-05-24",
          "2021-05-25",
          "2021-05-26",
          "2021-05-27",
          "2021-05-28",
          "2021-05-29",
          "2021-05-30",
          "2021-05-31",
          "2021-06-01",
          "2021-06-02",
          "2021-06-03",
          "2021-06-04",
          "2021-06-05",
          "2021-06-06",
          "2021-06-07",
          "2021-06-08",
          "2021-06-09",
          "2021-06-10",
          "2021-06-11",
          "2021-06-12",
          "2021-06-13",
          "2021-06-14",
          "2021-06-15",
          "2021-06-16",
          "2021-06-17",
          "2021-06-18",
          "2021-06-19",
          "2021-06-20",
          "2021-06-21",
          "2021-06-22",
          "2021-06-23",
          "2021-06-24",
          "2021-06-25",
          "2021-06-26",
          "2021-06-27",
          "2021-06-28",
          "2021-06-29",
          "2021-06-30",
          "2021-07-01",
          "2021-07-02",
          "2021-07-03",
          "2021-07-04",
          "2021-07-05",
          "2021-07-06",
          "2021-07-07",
          "2021-07-08",
          "2021-07-09",
          "2021-07-10",
          "2021-07-11",
          "2021-07-12",
          "2021-07-13",
          "2021-07-14",
          "2021-07-15",
          "2021-07-16",
          "2021-07-17",
          "2021-07-18",
          "2021-07-19",
          "2021-07-20",
          "2021-07-21",
          "2021-07-22",
          "2021-07-23",
          "2021-07-24",
          "2021-07-25",
          "2021-07-26",
          "2021-07-27",
          "2021-07-28",
          "2021-07-29",
          "2021-07-30",
          "2021-07-31",
          "2021-08-01",
          "2021-08-02",
          "2021-08-03",
          "2021-08-04",
          "2021-08-05",
          "2021-08-06",
          "2021-08-07",
          "2021-08-08",
          "2021-08-09",
          "2021-08-10",
          "2021-08-11",
          "2021-08-12",
          "2021-08-13",
          "2021-08-14",
          "2021-08-15",
          "2021-08-16",
          "2021-08-17",
          "2021-08-18",
          "2021-08-19",
          "2021-08-20",
          "2021-08-21",
          "2021-08-22",
          "2021-08-23",
          "2021-08-24",
          "2021-08-25",
          "2021-08-26",
          "2021-08-27",
          "2021-08-28",
          "2021-08-29",
          "2021-08-30",
          "2021-08-31",
          "2021-09-01",
          "2021-09-02",
          "2021-09-03",
          "2021-09-04",
          "2021-09-05",
          "2021-09-06",
          "2021-09-07",
          "2021-09-08",
          "2021-09-09",
          "2021-09-10",
          "2021-09-11",
          "2021-09-12",
          "2021-09-13",
          "2021-09-14",
          "2021-09-15",
          "2021-09-16",
          "2021-09-17",
          "2021-09-18",
          "2021-09-19",
          "2021-09-20",
          "2021-09-21",
          "2021-09-22",
          "2021-09-23",
          "2021-09-24",
          "2021-09-25",
          "2021-09-26",
          "2021-09-27",
          "2021-09-28",
          "2021-09-29",
          "2021-09-30",
          "2021-10-01",
          "2021-10-02",
          "2021-10-03",
          "2021-10-04",
          "2021-10-05",
          "2021-10-06",
          "2021-10-07",
          "2021-10-08",
          "2021-10-09",
          "2021-10-10",
          "2021-10-11",
          "2021-10-12",
          "2021-10-13",
          "2021-10-14",
          "2021-10-15",
          "2021-10-16",
          "2021-10-17",
          "2021-10-18",
          "2021-10-19",
          "2021-10-20",
          "2021-10-21",
          "2021-10-22",
          "2021-10-23",
          "2021-10-24",
          "2021-10-25",
          "2021-10-26",
          "2021-10-27",
          "2021-10-28",
          "2021-10-29",
          "2021-10-30",
          "2021-10-31",
          "2021-11-01",
          "2021-11-02",
          "2021-11-03",
          "2021-11-04",
          "2021-11-05",
          "2021-11-06",
          "2021-11-07",
          "2021-11-08",
          "2021-11-09",
          "2021-11-10",
          "2021-11-11",
          "2021-11-12",
          "2021-11-13",
          "2021-11-14",
          "2021-11-15",
          "2021-11-16",
          "2021-11-17",
          "2021-11-18",
          "2021-11-19",
          "2021-11-20",
          "2021-11-21",
          "2021-11-22",
          "2021-11-23",
          "2021-11-24",
          "2021-11-25",
          "2021-11-26",
          "2021-11-27",
          "2021-11-28",
          "2021-11-29",
          "2021-11-30",
          "2021-12-01",
          "2021-12-02",
          "2021-12-03",
          "2021-12-04",
          "2021-12-05",
          "2021-12-06",
          "2021-12-07",
          "2021-12-08",
          "2021-12-09",
          "2021-12-10",
          "2021-12-11",
          "2021-12-12",
          "2021-12-13",
          "2021-12-14",
          "2021-12-15",
          "2021-12-16",
          "2021-12-17",
          "2021-12-18",
          "2021-12-19",
          "2021-12-20",
          "2021-12-21",
          "2021-12-22",
          "2021-12-23",
          "2021-12-24",
          "2021-12-25",
          "2021-12-26",
          "2021-12-27",
          "2021-12-28",
          "2021-12-29",
          "2021-12-30",
          "2021-12-31",
          "2022-01-01",
          "2022-01-02",
          "2022-01-03",
          "2022-01-04",
          "2022-01-05",
          "2022-01-06",
          "2022-01-07",
          "2022-01-08",
          "2022-01-09",
          "2022-01-10",
          "2022-01-11",
          "2022-01-12",
          "2022-01-13",
          "2022-01-14",
          "2022-01-15",
          "2022-01-16",
          "2022-01-17",
          "2022-01-18",
          "2022-01-19",
          "2022-01-20",
          "2022-01-21",
          "2022-01-22",
          "2022-01-23",
          "2022-01-24",
          "2022-01-25",
          "2022-01-26",
          "2022-01-27",
          "2022-01-28",
          "2022-01-29",
          "2022-01-30",
          "2022-01-31",
          "2022-02-01",
          "2022-02-02",
          "2022-02-03",
          "2022-02-04",
          "2022-02-05",
          "2022-02-06",
          "2022-02-07",
          "2022-02-08",
          "2022-02-09",
          "2022-02-10",
          "2022-02-11",
          "2022-02-12",
          "2022-02-13",
          "2022-02-14",
          "2022-02-15",
          "2022-02-16",
          "2022-02-17",
          "2022-02-18",
          "2022-02-19",
          "2022-02-20",
          "2022-02-21",
          "2022-02-22",
          "2022-02-23",
          "2022-02-24",
          "2022-02-25",
          "2022-02-26",
          "2022-02-27",
          "2022-02-28",
          "2022-03-01",
          "2022-03-02",
          "2022-03-03",
          "2022-03-04",
          "2022-03-05",
          "2022-03-06",
          "2022-03-07",
          "2022-03-08",
          "2022-03-09",
          "2022-03-10",
          "2022-03-11",
          "2022-03-12"
         ],
         "xaxis": "x",
         "y": [
          7.812817223017646,
          15.048025807812849,
          24.33690823679268,
          12.212170330157448,
          -39.242299104527405,
          2.4248059589218087,
          49.567683444514216,
          162.24031299434102,
          156.77406161422715,
          200.00279524359215,
          187.06683937218466,
          4.3096867100701965,
          6.114240550185231,
          117.23479506378754,
          78.16168839698923,
          96.91738009067888,
          67.92983897296932,
          -1.9679742942470282,
          182.42572590787813,
          114.87295167949824,
          -33.11039078485463,
          38.64380847697453,
          -143.40662251046768,
          79.51276526785523,
          124.72883196132977,
          258.5649504517563,
          274.0633928513515,
          1173.676224801633,
          185.13254309800232,
          404.13601003332894,
          -39.40643731955106,
          -403.5864793331473,
          -538.0505241015449,
          251.40543890132966,
          524.6484191123701,
          875.8372123474157,
          644.5971282144053,
          388.41632584949326,
          230.83398269339582,
          441.4462397751165,
          453.3789832258955,
          381.059515656786,
          350.7333090548661,
          400.78926101964544,
          151.07842303406233,
          19.73267338593719,
          90.41459271671278,
          -43.78595665387698,
          -34.539847142096896,
          -26.195271615480642,
          -189.63741231329152,
          -320.34387934448216,
          -207.08133327636477,
          -44.9162837926021,
          -35.83502234739559,
          234.27495328939645,
          -16.880339721541958,
          30.432004535662287,
          -125.29226425501164,
          -142.980924599751,
          -98.3053537807636,
          -491.29788680510876,
          -525.8675031206357,
          -416.77633875315667,
          -359.10942623720155,
          -562.3029753978211,
          -524.4574239298172,
          -478.15928006016185,
          -467.27160510172126,
          -401.80457492681364,
          -395.9863375202045,
          -511.4187666610457,
          -479.70141948566226,
          -460.2512331283026,
          -1.3373700159900642e-14,
          -1.7529727526311393e-14,
          -1.451289224206071e-14,
          -1.4562324805103262e-14,
          -2.2541391978259094e-14,
          -2.2078993806503714e-14,
          -2.396596621467776e-14,
          -2.284491727702677e-14,
          -2.676572216588308e-14,
          -3.067499321086551e-14,
          -3.259124666419976e-14,
          -3.704687176275469e-14,
          -4.2702858151195366e-14,
          -4.369302507204335e-14,
          -4.426882897071746e-14,
          -4.9898751772830064e-14,
          -5.345562396026899e-14,
          -3.592997929112661e-14,
          -3.645319622723207e-14,
          -3.0331898404450356e-14,
          -3.032193986152358e-14,
          -3.1169229140034714e-14,
          0.023512356592935327,
          0.1855683345844441,
          -0.02339684628437957,
          0.02591098942639156,
          0.3862582705180833,
          16.818108492099306,
          3.806719954108249,
          1.612423843113521,
          -10.935832458968013,
          4.945882745811993,
          10.440316015091838,
          20.176386616680542,
          58.06660334946589,
          0.29670690105419695,
          33.214691237987026,
          55.107189743210164,
          202.64812745935419,
          166.8560883560921,
          294.16686461716955,
          245.11011462210172,
          262.2577908631031,
          236.8150943904843,
          190.18553239191272,
          181.55566382161473,
          274.4147444398574,
          330.0908915288735,
          2.0782351835195414e-14,
          2.2784589067968463e-14,
          2.2375187182283885e-14,
          1.5085432962493284e-14,
          1.7438417972708726e-14,
          -2.2710203341450677,
          128.23977415954963,
          71.66962104410119,
          34.82411211708997,
          -69.9424784335281,
          -47.66532313942411,
          79.3115570437101,
          51.28321212374864,
          62.85666355554464,
          330.1941381497977,
          276.84840616331485,
          243.71758496720443,
          -45.455952847448366,
          -66.41348236880953,
          -20.9035778076165,
          -104.59785068071432,
          5.637037396795051,
          -9.47193293246778,
          -124.9969995651453,
          -93.51253660567016,
          -3.7190347664023875,
          -45.7865422014749,
          -53.590185063052616,
          -70.28163172721906,
          -132.9399234324236,
          -315.6640279778164,
          -385.97635409918706,
          -173.86961938890335,
          -155.77979547478935,
          -220.43441582508262,
          -214.8284914544857,
          -254.74140536591466,
          -299.8527848552124,
          -357.65156707817977,
          -312.43481000035376,
          -274.59449511798664,
          -147.93572785549748,
          -136.20692608878505,
          -123.5493009152338,
          -178.08394774941456,
          -135.8089654079851,
          -166.7323802643338,
          -130.02123296515066,
          -116.1299968785766,
          -100.08023654288547,
          -179.2222251012157,
          -190.0866203493872,
          -220.2799304754181,
          -190.33796888535858,
          -187.05654081670156,
          -15.285392656603449,
          -68.32832015258549,
          -100.70637147492857,
          -104.6896567825815,
          -117.5664874145665,
          -60.02243848189073,
          -90.50666490908225,
          -81.02910106151512,
          -14.102303778907412,
          -65.13232869729546,
          -3.419888605624635,
          25.713583544408607,
          -60.92829455003141,
          135.16400622973987,
          113.1845572759321,
          15.868587985063755,
          52.1457167997649,
          24.03205753301239,
          52.59988639391133,
          133.6474658830765,
          52.28616737894947,
          45.947664460552005,
          46.83503575083074,
          50.51391442175856,
          96.68476624018882,
          103.96115849013648,
          11.798238315302626,
          36.664032494200626,
          -1.563359374389961,
          20.739324417328135,
          3.4629558102908504,
          -14.943870826660657,
          -132.6388458456122,
          -97.76490599805163,
          -210.59553231758952,
          -106.37850038324581,
          -57.931861328989214,
          -123.5503778511665,
          -168.80657274722603,
          -84.59845746991084,
          -143.27151436516613,
          -106.74917138216443,
          -253.74614793312193,
          -254.6546447561873,
          -211.57191772395106,
          -102.12742430672316,
          -131.8212948683061,
          -29.40339399307669,
          79.87284007502706,
          55.820478591079905,
          -109.71763753852588,
          -103.1299975047327,
          3.154548182884213,
          19.105197864272014,
          37.961539547297434,
          -129.1422433290052,
          -168.9308067699411,
          -102.13270772152833,
          -119.67666278388799,
          -276.82899493278137,
          -283.184686150203,
          -111.7740948729002,
          -162.0322789525363,
          -138.01784965200667,
          -83.91758903103775,
          -89.58438301395185,
          -138.0094677282059,
          -24.242030250708325,
          32.99863849934741,
          -41.06658908183144,
          -117.75888208457474,
          -55.22367461371803,
          4.611788455334079,
          -12.921243570349247,
          -117.9005216757574,
          -160.2869783253866,
          -124.21153214266255,
          -156.29363155657973,
          -114.86229509826833,
          -94.49988011725668,
          -134.08112457960766,
          -150.83646018327806,
          -218.86836069194158,
          -189.8510707361167,
          -263.7418782498795,
          -285.1748945018095,
          -262.1912605479774,
          -286.26520647689824,
          -204.4844949811503,
          -161.33292270797983,
          -216.48816528953057,
          -176.2643506099531,
          -170.80995870050117,
          -136.90371276261493,
          -96.92951666275025,
          -155.5527246565993,
          -220.9450045761568,
          -264.96694108013514,
          -373.80294391436183,
          -431.76259376233946,
          -392.66878361558673,
          -435.71971028139683,
          -430.84528895631246,
          -406.922824437073,
          -412.92998555355155,
          -390.5048427462214,
          -383.68475750432395,
          -412.4399165585568,
          -403.42228368082294,
          -392.75636066317355,
          -439.54972662304385,
          -436.6024429618659,
          -378.4525261859749,
          -376.0121822838911,
          -364.68252914097366,
          -282.6488059077621,
          -303.40430203093433,
          -276.61616453410386,
          -323.73196996754297,
          -385.61715395271415,
          -396.71733234995764,
          -408.6545967225122,
          -405.8078489181965,
          -342.7471935655569,
          -357.3941901258685,
          -420.5938751970282,
          -439.84699687011715,
          -431.37006208452067,
          -480.1146870470925,
          -530.1543284205895,
          -507.8104846111376,
          -518.4884167536402,
          -518.1921118296484,
          -481.8205762832355,
          -493.335167277396,
          -512.7685670789713,
          -442.5541564306553,
          -434.08818713896864,
          -438.00436323658346,
          -459.70852086154866,
          -498.56562389332134,
          -482.2818713712684,
          -511.19703806346274,
          -525.182012714592,
          -518.7458599392587,
          -497.3039439200853,
          -524.9846348292779,
          -532.8753050501466,
          -534.3346710126666
         ],
         "yaxis": "y"
        }
       ],
       "layout": {
        "legend": {
         "title": {
          "text": "variable"
         },
         "tracegroupgap": 0
        },
        "margin": {
         "t": 60
        },
        "template": {
         "data": {
          "bar": [
           {
            "error_x": {
             "color": "#2a3f5f"
            },
            "error_y": {
             "color": "#2a3f5f"
            },
            "marker": {
             "line": {
              "color": "#E5ECF6",
              "width": 0.5
             },
             "pattern": {
              "fillmode": "overlay",
              "size": 10,
              "solidity": 0.2
             }
            },
            "type": "bar"
           }
          ],
          "barpolar": [
           {
            "marker": {
             "line": {
              "color": "#E5ECF6",
              "width": 0.5
             },
             "pattern": {
              "fillmode": "overlay",
              "size": 10,
              "solidity": 0.2
             }
            },
            "type": "barpolar"
           }
          ],
          "carpet": [
           {
            "aaxis": {
             "endlinecolor": "#2a3f5f",
             "gridcolor": "white",
             "linecolor": "white",
             "minorgridcolor": "white",
             "startlinecolor": "#2a3f5f"
            },
            "baxis": {
             "endlinecolor": "#2a3f5f",
             "gridcolor": "white",
             "linecolor": "white",
             "minorgridcolor": "white",
             "startlinecolor": "#2a3f5f"
            },
            "type": "carpet"
           }
          ],
          "choropleth": [
           {
            "colorbar": {
             "outlinewidth": 0,
             "ticks": ""
            },
            "type": "choropleth"
           }
          ],
          "contour": [
           {
            "colorbar": {
             "outlinewidth": 0,
             "ticks": ""
            },
            "colorscale": [
             [
              0,
              "#0d0887"
             ],
             [
              0.1111111111111111,
              "#46039f"
             ],
             [
              0.2222222222222222,
              "#7201a8"
             ],
             [
              0.3333333333333333,
              "#9c179e"
             ],
             [
              0.4444444444444444,
              "#bd3786"
             ],
             [
              0.5555555555555556,
              "#d8576b"
             ],
             [
              0.6666666666666666,
              "#ed7953"
             ],
             [
              0.7777777777777778,
              "#fb9f3a"
             ],
             [
              0.8888888888888888,
              "#fdca26"
             ],
             [
              1,
              "#f0f921"
             ]
            ],
            "type": "contour"
           }
          ],
          "contourcarpet": [
           {
            "colorbar": {
             "outlinewidth": 0,
             "ticks": ""
            },
            "type": "contourcarpet"
           }
          ],
          "heatmap": [
           {
            "colorbar": {
             "outlinewidth": 0,
             "ticks": ""
            },
            "colorscale": [
             [
              0,
              "#0d0887"
             ],
             [
              0.1111111111111111,
              "#46039f"
             ],
             [
              0.2222222222222222,
              "#7201a8"
             ],
             [
              0.3333333333333333,
              "#9c179e"
             ],
             [
              0.4444444444444444,
              "#bd3786"
             ],
             [
              0.5555555555555556,
              "#d8576b"
             ],
             [
              0.6666666666666666,
              "#ed7953"
             ],
             [
              0.7777777777777778,
              "#fb9f3a"
             ],
             [
              0.8888888888888888,
              "#fdca26"
             ],
             [
              1,
              "#f0f921"
             ]
            ],
            "type": "heatmap"
           }
          ],
          "heatmapgl": [
           {
            "colorbar": {
             "outlinewidth": 0,
             "ticks": ""
            },
            "colorscale": [
             [
              0,
              "#0d0887"
             ],
             [
              0.1111111111111111,
              "#46039f"
             ],
             [
              0.2222222222222222,
              "#7201a8"
             ],
             [
              0.3333333333333333,
              "#9c179e"
             ],
             [
              0.4444444444444444,
              "#bd3786"
             ],
             [
              0.5555555555555556,
              "#d8576b"
             ],
             [
              0.6666666666666666,
              "#ed7953"
             ],
             [
              0.7777777777777778,
              "#fb9f3a"
             ],
             [
              0.8888888888888888,
              "#fdca26"
             ],
             [
              1,
              "#f0f921"
             ]
            ],
            "type": "heatmapgl"
           }
          ],
          "histogram": [
           {
            "marker": {
             "pattern": {
              "fillmode": "overlay",
              "size": 10,
              "solidity": 0.2
             }
            },
            "type": "histogram"
           }
          ],
          "histogram2d": [
           {
            "colorbar": {
             "outlinewidth": 0,
             "ticks": ""
            },
            "colorscale": [
             [
              0,
              "#0d0887"
             ],
             [
              0.1111111111111111,
              "#46039f"
             ],
             [
              0.2222222222222222,
              "#7201a8"
             ],
             [
              0.3333333333333333,
              "#9c179e"
             ],
             [
              0.4444444444444444,
              "#bd3786"
             ],
             [
              0.5555555555555556,
              "#d8576b"
             ],
             [
              0.6666666666666666,
              "#ed7953"
             ],
             [
              0.7777777777777778,
              "#fb9f3a"
             ],
             [
              0.8888888888888888,
              "#fdca26"
             ],
             [
              1,
              "#f0f921"
             ]
            ],
            "type": "histogram2d"
           }
          ],
          "histogram2dcontour": [
           {
            "colorbar": {
             "outlinewidth": 0,
             "ticks": ""
            },
            "colorscale": [
             [
              0,
              "#0d0887"
             ],
             [
              0.1111111111111111,
              "#46039f"
             ],
             [
              0.2222222222222222,
              "#7201a8"
             ],
             [
              0.3333333333333333,
              "#9c179e"
             ],
             [
              0.4444444444444444,
              "#bd3786"
             ],
             [
              0.5555555555555556,
              "#d8576b"
             ],
             [
              0.6666666666666666,
              "#ed7953"
             ],
             [
              0.7777777777777778,
              "#fb9f3a"
             ],
             [
              0.8888888888888888,
              "#fdca26"
             ],
             [
              1,
              "#f0f921"
             ]
            ],
            "type": "histogram2dcontour"
           }
          ],
          "mesh3d": [
           {
            "colorbar": {
             "outlinewidth": 0,
             "ticks": ""
            },
            "type": "mesh3d"
           }
          ],
          "parcoords": [
           {
            "line": {
             "colorbar": {
              "outlinewidth": 0,
              "ticks": ""
             }
            },
            "type": "parcoords"
           }
          ],
          "pie": [
           {
            "automargin": true,
            "type": "pie"
           }
          ],
          "scatter": [
           {
            "marker": {
             "colorbar": {
              "outlinewidth": 0,
              "ticks": ""
             }
            },
            "type": "scatter"
           }
          ],
          "scatter3d": [
           {
            "line": {
             "colorbar": {
              "outlinewidth": 0,
              "ticks": ""
             }
            },
            "marker": {
             "colorbar": {
              "outlinewidth": 0,
              "ticks": ""
             }
            },
            "type": "scatter3d"
           }
          ],
          "scattercarpet": [
           {
            "marker": {
             "colorbar": {
              "outlinewidth": 0,
              "ticks": ""
             }
            },
            "type": "scattercarpet"
           }
          ],
          "scattergeo": [
           {
            "marker": {
             "colorbar": {
              "outlinewidth": 0,
              "ticks": ""
             }
            },
            "type": "scattergeo"
           }
          ],
          "scattergl": [
           {
            "marker": {
             "colorbar": {
              "outlinewidth": 0,
              "ticks": ""
             }
            },
            "type": "scattergl"
           }
          ],
          "scattermapbox": [
           {
            "marker": {
             "colorbar": {
              "outlinewidth": 0,
              "ticks": ""
             }
            },
            "type": "scattermapbox"
           }
          ],
          "scatterpolar": [
           {
            "marker": {
             "colorbar": {
              "outlinewidth": 0,
              "ticks": ""
             }
            },
            "type": "scatterpolar"
           }
          ],
          "scatterpolargl": [
           {
            "marker": {
             "colorbar": {
              "outlinewidth": 0,
              "ticks": ""
             }
            },
            "type": "scatterpolargl"
           }
          ],
          "scatterternary": [
           {
            "marker": {
             "colorbar": {
              "outlinewidth": 0,
              "ticks": ""
             }
            },
            "type": "scatterternary"
           }
          ],
          "surface": [
           {
            "colorbar": {
             "outlinewidth": 0,
             "ticks": ""
            },
            "colorscale": [
             [
              0,
              "#0d0887"
             ],
             [
              0.1111111111111111,
              "#46039f"
             ],
             [
              0.2222222222222222,
              "#7201a8"
             ],
             [
              0.3333333333333333,
              "#9c179e"
             ],
             [
              0.4444444444444444,
              "#bd3786"
             ],
             [
              0.5555555555555556,
              "#d8576b"
             ],
             [
              0.6666666666666666,
              "#ed7953"
             ],
             [
              0.7777777777777778,
              "#fb9f3a"
             ],
             [
              0.8888888888888888,
              "#fdca26"
             ],
             [
              1,
              "#f0f921"
             ]
            ],
            "type": "surface"
           }
          ],
          "table": [
           {
            "cells": {
             "fill": {
              "color": "#EBF0F8"
             },
             "line": {
              "color": "white"
             }
            },
            "header": {
             "fill": {
              "color": "#C8D4E3"
             },
             "line": {
              "color": "white"
             }
            },
            "type": "table"
           }
          ]
         },
         "layout": {
          "annotationdefaults": {
           "arrowcolor": "#2a3f5f",
           "arrowhead": 0,
           "arrowwidth": 1
          },
          "autotypenumbers": "strict",
          "coloraxis": {
           "colorbar": {
            "outlinewidth": 0,
            "ticks": ""
           }
          },
          "colorscale": {
           "diverging": [
            [
             0,
             "#8e0152"
            ],
            [
             0.1,
             "#c51b7d"
            ],
            [
             0.2,
             "#de77ae"
            ],
            [
             0.3,
             "#f1b6da"
            ],
            [
             0.4,
             "#fde0ef"
            ],
            [
             0.5,
             "#f7f7f7"
            ],
            [
             0.6,
             "#e6f5d0"
            ],
            [
             0.7,
             "#b8e186"
            ],
            [
             0.8,
             "#7fbc41"
            ],
            [
             0.9,
             "#4d9221"
            ],
            [
             1,
             "#276419"
            ]
           ],
           "sequential": [
            [
             0,
             "#0d0887"
            ],
            [
             0.1111111111111111,
             "#46039f"
            ],
            [
             0.2222222222222222,
             "#7201a8"
            ],
            [
             0.3333333333333333,
             "#9c179e"
            ],
            [
             0.4444444444444444,
             "#bd3786"
            ],
            [
             0.5555555555555556,
             "#d8576b"
            ],
            [
             0.6666666666666666,
             "#ed7953"
            ],
            [
             0.7777777777777778,
             "#fb9f3a"
            ],
            [
             0.8888888888888888,
             "#fdca26"
            ],
            [
             1,
             "#f0f921"
            ]
           ],
           "sequentialminus": [
            [
             0,
             "#0d0887"
            ],
            [
             0.1111111111111111,
             "#46039f"
            ],
            [
             0.2222222222222222,
             "#7201a8"
            ],
            [
             0.3333333333333333,
             "#9c179e"
            ],
            [
             0.4444444444444444,
             "#bd3786"
            ],
            [
             0.5555555555555556,
             "#d8576b"
            ],
            [
             0.6666666666666666,
             "#ed7953"
            ],
            [
             0.7777777777777778,
             "#fb9f3a"
            ],
            [
             0.8888888888888888,
             "#fdca26"
            ],
            [
             1,
             "#f0f921"
            ]
           ]
          },
          "colorway": [
           "#636efa",
           "#EF553B",
           "#00cc96",
           "#ab63fa",
           "#FFA15A",
           "#19d3f3",
           "#FF6692",
           "#B6E880",
           "#FF97FF",
           "#FECB52"
          ],
          "font": {
           "color": "#2a3f5f"
          },
          "geo": {
           "bgcolor": "white",
           "lakecolor": "white",
           "landcolor": "#E5ECF6",
           "showlakes": true,
           "showland": true,
           "subunitcolor": "white"
          },
          "hoverlabel": {
           "align": "left"
          },
          "hovermode": "closest",
          "mapbox": {
           "style": "light"
          },
          "paper_bgcolor": "white",
          "plot_bgcolor": "#E5ECF6",
          "polar": {
           "angularaxis": {
            "gridcolor": "white",
            "linecolor": "white",
            "ticks": ""
           },
           "bgcolor": "#E5ECF6",
           "radialaxis": {
            "gridcolor": "white",
            "linecolor": "white",
            "ticks": ""
           }
          },
          "scene": {
           "xaxis": {
            "backgroundcolor": "#E5ECF6",
            "gridcolor": "white",
            "gridwidth": 2,
            "linecolor": "white",
            "showbackground": true,
            "ticks": "",
            "zerolinecolor": "white"
           },
           "yaxis": {
            "backgroundcolor": "#E5ECF6",
            "gridcolor": "white",
            "gridwidth": 2,
            "linecolor": "white",
            "showbackground": true,
            "ticks": "",
            "zerolinecolor": "white"
           },
           "zaxis": {
            "backgroundcolor": "#E5ECF6",
            "gridcolor": "white",
            "gridwidth": 2,
            "linecolor": "white",
            "showbackground": true,
            "ticks": "",
            "zerolinecolor": "white"
           }
          },
          "shapedefaults": {
           "line": {
            "color": "#2a3f5f"
           }
          },
          "ternary": {
           "aaxis": {
            "gridcolor": "white",
            "linecolor": "white",
            "ticks": ""
           },
           "baxis": {
            "gridcolor": "white",
            "linecolor": "white",
            "ticks": ""
           },
           "bgcolor": "#E5ECF6",
           "caxis": {
            "gridcolor": "white",
            "linecolor": "white",
            "ticks": ""
           }
          },
          "title": {
           "x": 0.05
          },
          "xaxis": {
           "automargin": true,
           "gridcolor": "white",
           "linecolor": "white",
           "ticks": "",
           "title": {
            "standoff": 15
           },
           "zerolinecolor": "white",
           "zerolinewidth": 2
          },
          "yaxis": {
           "automargin": true,
           "gridcolor": "white",
           "linecolor": "white",
           "ticks": "",
           "title": {
            "standoff": 15
           },
           "zerolinecolor": "white",
           "zerolinewidth": 2
          }
         }
        },
        "xaxis": {
         "anchor": "y",
         "domain": [
          0,
          1
         ],
         "title": {
          "text": "Date Snapshot"
         }
        },
        "yaxis": {
         "anchor": "x",
         "domain": [
          0,
          1
         ],
         "title": {
          "text": "value"
         }
        }
       }
      }
     },
     "metadata": {},
     "output_type": "display_data"
    },
    {
     "data": {
      "application/vnd.plotly.v1+json": {
       "config": {
        "linkText": "Export to plot.ly",
        "plotlyServerURL": "https://plot.ly",
        "showLink": false
       },
       "data": [
        {
         "hovertemplate": "variable=Stock Gain / (Loss)<br>Date Snapshot=%{x}<br>value=%{y}<extra></extra>",
         "legendgroup": "Stock Gain / (Loss)",
         "line": {
          "color": "#636efa",
          "dash": "solid"
         },
         "marker": {
          "symbol": "circle"
         },
         "mode": "lines",
         "name": "Stock Gain / (Loss)",
         "orientation": "v",
         "showlegend": true,
         "type": "scatter",
         "x": [
          "2021-04-20",
          "2021-04-21",
          "2021-04-22",
          "2021-04-23",
          "2021-04-24",
          "2021-04-25",
          "2021-04-26",
          "2021-04-27",
          "2021-04-28",
          "2021-04-29",
          "2021-04-30",
          "2021-05-01",
          "2021-05-02",
          "2021-05-03",
          "2021-05-04",
          "2021-05-05",
          "2021-05-06",
          "2021-05-07",
          "2021-05-08",
          "2021-05-09",
          "2021-05-10",
          "2021-05-11",
          "2021-05-12",
          "2021-05-14",
          "2021-05-15",
          "2021-05-16",
          "2021-05-17",
          "2021-05-18",
          "2021-05-19",
          "2021-05-20",
          "2021-05-21",
          "2021-05-22",
          "2021-05-23",
          "2021-05-24",
          "2021-05-25",
          "2021-05-26",
          "2021-05-27",
          "2021-05-28",
          "2021-05-29",
          "2021-05-30",
          "2021-05-31",
          "2021-06-01",
          "2021-06-02",
          "2021-06-03",
          "2021-06-04",
          "2021-06-05",
          "2021-06-06",
          "2021-06-07",
          "2021-06-08",
          "2021-06-09",
          "2021-06-10",
          "2021-06-11",
          "2021-06-12",
          "2021-06-13",
          "2021-06-14",
          "2021-06-15",
          "2021-06-16",
          "2021-06-17",
          "2021-06-18",
          "2021-06-19",
          "2021-06-20",
          "2021-06-21",
          "2021-06-22",
          "2021-06-23",
          "2021-06-24",
          "2021-06-25",
          "2021-06-26",
          "2021-06-27",
          "2021-06-28",
          "2021-06-29",
          "2021-06-30",
          "2021-07-01",
          "2021-07-02",
          "2021-07-03",
          "2021-07-04",
          "2021-07-05",
          "2021-07-06",
          "2021-07-07",
          "2021-07-08",
          "2021-07-09",
          "2021-07-10",
          "2021-07-11",
          "2021-07-12",
          "2021-07-13",
          "2021-07-14",
          "2021-07-15",
          "2021-07-16",
          "2021-07-17",
          "2021-07-18",
          "2021-07-19",
          "2021-07-20",
          "2021-07-21",
          "2021-07-22",
          "2021-07-23",
          "2021-07-24",
          "2021-07-25",
          "2021-07-26",
          "2021-07-27",
          "2021-07-28",
          "2021-07-29",
          "2021-07-30",
          "2021-07-31",
          "2021-08-01",
          "2021-08-02",
          "2021-08-03",
          "2021-08-04",
          "2021-08-05",
          "2021-08-06",
          "2021-08-07",
          "2021-08-08",
          "2021-08-09",
          "2021-08-10",
          "2021-08-11",
          "2021-08-12",
          "2021-08-13",
          "2021-08-14",
          "2021-08-15",
          "2021-08-16",
          "2021-08-17",
          "2021-08-18",
          "2021-08-19",
          "2021-08-20",
          "2021-08-21",
          "2021-08-22",
          "2021-08-23",
          "2021-08-24",
          "2021-08-25",
          "2021-08-26",
          "2021-08-27",
          "2021-08-28",
          "2021-08-29",
          "2021-08-30",
          "2021-08-31",
          "2021-09-01",
          "2021-09-02",
          "2021-09-03",
          "2021-09-04",
          "2021-09-05",
          "2021-09-06",
          "2021-09-07",
          "2021-09-08",
          "2021-09-09",
          "2021-09-10",
          "2021-09-11",
          "2021-09-12",
          "2021-09-13",
          "2021-09-14",
          "2021-09-15",
          "2021-09-16",
          "2021-09-17",
          "2021-09-18",
          "2021-09-19",
          "2021-09-20",
          "2021-09-21",
          "2021-09-22",
          "2021-09-23",
          "2021-09-24",
          "2021-09-25",
          "2021-09-26",
          "2021-09-27",
          "2021-09-28",
          "2021-09-29",
          "2021-09-30",
          "2021-10-01",
          "2021-10-02",
          "2021-10-03",
          "2021-10-04",
          "2021-10-05",
          "2021-10-06",
          "2021-10-07",
          "2021-10-08",
          "2021-10-09",
          "2021-10-10",
          "2021-10-11",
          "2021-10-12",
          "2021-10-13",
          "2021-10-14",
          "2021-10-15",
          "2021-10-16",
          "2021-10-17",
          "2021-10-18",
          "2021-10-19",
          "2021-10-20",
          "2021-10-21",
          "2021-10-22",
          "2021-10-23",
          "2021-10-24",
          "2021-10-25",
          "2021-10-26",
          "2021-10-27",
          "2021-10-28",
          "2021-10-29",
          "2021-10-30",
          "2021-10-31",
          "2021-11-01",
          "2021-11-02",
          "2021-11-03",
          "2021-11-04",
          "2021-11-05",
          "2021-11-06",
          "2021-11-07",
          "2021-11-08",
          "2021-11-09",
          "2021-11-10",
          "2021-11-11",
          "2021-11-12",
          "2021-11-13",
          "2021-11-14",
          "2021-11-15",
          "2021-11-16",
          "2021-11-17",
          "2021-11-18",
          "2021-11-19",
          "2021-11-20",
          "2021-11-21",
          "2021-11-22",
          "2021-11-23",
          "2021-11-24",
          "2021-11-25",
          "2021-11-26",
          "2021-11-27",
          "2021-11-28",
          "2021-11-29",
          "2021-11-30",
          "2021-12-01",
          "2021-12-02",
          "2021-12-03",
          "2021-12-04",
          "2021-12-05",
          "2021-12-06",
          "2021-12-07",
          "2021-12-08",
          "2021-12-09",
          "2021-12-10",
          "2021-12-11",
          "2021-12-12",
          "2021-12-13",
          "2021-12-14",
          "2021-12-15",
          "2021-12-16",
          "2021-12-17",
          "2021-12-18",
          "2021-12-19",
          "2021-12-20",
          "2021-12-21",
          "2021-12-22",
          "2021-12-23",
          "2021-12-24",
          "2021-12-25",
          "2021-12-26",
          "2021-12-27",
          "2021-12-28",
          "2021-12-29",
          "2021-12-30",
          "2021-12-31",
          "2022-01-01",
          "2022-01-02",
          "2022-01-03",
          "2022-01-04",
          "2022-01-05",
          "2022-01-06",
          "2022-01-07",
          "2022-01-08",
          "2022-01-09",
          "2022-01-10",
          "2022-01-11",
          "2022-01-12",
          "2022-01-13",
          "2022-01-14",
          "2022-01-15",
          "2022-01-16",
          "2022-01-17",
          "2022-01-18",
          "2022-01-19",
          "2022-01-20",
          "2022-01-21",
          "2022-01-22",
          "2022-01-23",
          "2022-01-24",
          "2022-01-25",
          "2022-01-26",
          "2022-01-27",
          "2022-01-28",
          "2022-01-29",
          "2022-01-30",
          "2022-01-31",
          "2022-02-01",
          "2022-02-02",
          "2022-02-03",
          "2022-02-04",
          "2022-02-05",
          "2022-02-06",
          "2022-02-07",
          "2022-02-08",
          "2022-02-09",
          "2022-02-10",
          "2022-02-11",
          "2022-02-12",
          "2022-02-13",
          "2022-02-14",
          "2022-02-15",
          "2022-02-16",
          "2022-02-17",
          "2022-02-18",
          "2022-02-19",
          "2022-02-20",
          "2022-02-21",
          "2022-02-22",
          "2022-02-23",
          "2022-02-24",
          "2022-02-25",
          "2022-02-26",
          "2022-02-27",
          "2022-02-28",
          "2022-03-01",
          "2022-03-02",
          "2022-03-03",
          "2022-03-04",
          "2022-03-05",
          "2022-03-06",
          "2022-03-07",
          "2022-03-08",
          "2022-03-09",
          "2022-03-10",
          "2022-03-11",
          "2022-03-12"
         ],
         "xaxis": "x",
         "y": [
          7.812817223017646,
          15.048025807812849,
          24.33690823679268,
          12.212170330157448,
          -39.242299104527405,
          2.4248059589218087,
          49.567683444514216,
          162.24031299434102,
          156.77406161422715,
          200.00279524359215,
          187.06683937218466,
          4.3096867100701965,
          6.114240550185231,
          117.23479506378754,
          78.16168839698923,
          96.91738009067888,
          67.92983897296932,
          -1.9679742942470282,
          182.42572590787813,
          114.87295167949824,
          -33.11039078485463,
          38.64380847697453,
          -143.40662251046768,
          79.51276526785523,
          124.72883196132977,
          258.5649504517563,
          274.0633928513515,
          1173.676224801633,
          185.13254309800232,
          404.13601003332894,
          -39.40643731955106,
          -403.5864793331473,
          -538.0505241015449,
          251.40543890132966,
          524.6484191123701,
          875.8372123474157,
          644.5971282144053,
          388.41632584949326,
          230.83398269339582,
          441.4462397751165,
          453.3789832258955,
          381.059515656786,
          350.7333090548661,
          400.78926101964544,
          151.07842303406233,
          19.73267338593719,
          90.41459271671278,
          -43.78595665387698,
          -34.539847142096896,
          -26.195271615480642,
          -189.63741231329152,
          -320.34387934448216,
          -207.08133327636477,
          -44.9162837926021,
          -35.83502234739559,
          234.27495328939645,
          -16.880339721541958,
          30.432004535662287,
          -125.29226425501164,
          -142.980924599751,
          -98.3053537807636,
          -491.29788680510876,
          -525.8675031206357,
          -416.77633875315667,
          -359.10942623720155,
          -562.3029753978211,
          -524.4574239298172,
          -478.15928006016185,
          -467.27160510172126,
          -401.80457492681364,
          -395.9863375202045,
          -511.4187666610457,
          -479.70141948566226,
          -460.2512331283026,
          -1.3373700159900642e-14,
          -1.7529727526311393e-14,
          -1.451289224206071e-14,
          -1.4562324805103262e-14,
          -2.2541391978259094e-14,
          -2.2078993806503714e-14,
          -2.396596621467776e-14,
          -2.284491727702677e-14,
          -2.676572216588308e-14,
          -3.067499321086551e-14,
          -3.259124666419976e-14,
          -3.704687176275469e-14,
          -4.2702858151195366e-14,
          -4.369302507204335e-14,
          -4.426882897071746e-14,
          -4.9898751772830064e-14,
          -5.345562396026899e-14,
          -3.592997929112661e-14,
          -3.645319622723207e-14,
          -3.0331898404450356e-14,
          -3.032193986152358e-14,
          -3.1169229140034714e-14,
          0.023512356592935327,
          0.1855683345844441,
          -0.02339684628437957,
          0.02591098942639156,
          0.3862582705180833,
          16.818108492099306,
          3.806719954108249,
          1.612423843113521,
          -10.935832458968013,
          4.945882745811993,
          10.440316015091838,
          20.176386616680542,
          58.06660334946589,
          0.29670690105419695,
          33.214691237987026,
          55.107189743210164,
          202.64812745935419,
          166.8560883560921,
          294.16686461716955,
          245.11011462210172,
          262.2577908631031,
          236.8150943904843,
          190.18553239191272,
          181.55566382161473,
          274.4147444398574,
          330.0908915288735,
          2.0782351835195414e-14,
          2.2784589067968463e-14,
          2.2375187182283885e-14,
          1.5085432962493284e-14,
          1.7438417972708726e-14,
          -2.2710203341450677,
          128.23977415954963,
          71.66962104410119,
          34.82411211708997,
          -69.9424784335281,
          -47.66532313942411,
          79.3115570437101,
          51.28321212374864,
          62.85666355554464,
          330.1941381497977,
          276.84840616331485,
          243.71758496720443,
          -45.455952847448366,
          -66.41348236880953,
          -20.9035778076165,
          -104.59785068071432,
          5.637037396795051,
          -9.47193293246778,
          -124.9969995651453,
          -93.51253660567016,
          -3.7190347664023875,
          -45.7865422014749,
          -53.590185063052616,
          -70.28163172721906,
          -132.9399234324236,
          -315.6640279778164,
          -385.97635409918706,
          -173.86961938890335,
          -155.77979547478935,
          -220.43441582508262,
          -214.8284914544857,
          -254.74140536591466,
          -299.8527848552124,
          -357.65156707817977,
          -312.43481000035376,
          -274.59449511798664,
          -147.93572785549748,
          -136.20692608878505,
          -123.5493009152338,
          -178.08394774941456,
          -135.8089654079851,
          -166.7323802643338,
          -130.02123296515066,
          -116.1299968785766,
          -100.08023654288547,
          -179.2222251012157,
          -190.0866203493872,
          -220.2799304754181,
          -190.33796888535858,
          -187.05654081670156,
          -15.285392656603449,
          -68.32832015258549,
          -100.70637147492857,
          -104.6896567825815,
          -117.5664874145665,
          -60.02243848189073,
          -90.50666490908225,
          -81.02910106151512,
          -14.102303778907412,
          -65.13232869729546,
          -3.419888605624635,
          25.713583544408607,
          -60.92829455003141,
          135.16400622973987,
          113.1845572759321,
          15.868587985063755,
          52.1457167997649,
          24.03205753301239,
          52.59988639391133,
          133.6474658830765,
          52.28616737894947,
          45.947664460552005,
          46.83503575083074,
          50.51391442175856,
          96.68476624018882,
          103.96115849013648,
          11.798238315302626,
          36.664032494200626,
          -1.563359374389961,
          20.739324417328135,
          3.4629558102908504,
          -14.943870826660657,
          -132.6388458456122,
          -97.76490599805163,
          -210.59553231758952,
          -106.37850038324581,
          -57.931861328989214,
          -123.5503778511665,
          -168.80657274722603,
          -84.59845746991084,
          -143.27151436516613,
          -106.74917138216443,
          -253.74614793312193,
          -254.6546447561873,
          -211.57191772395106,
          -102.12742430672316,
          -131.8212948683061,
          -29.40339399307669,
          79.87284007502706,
          55.820478591079905,
          -109.71763753852588,
          -103.1299975047327,
          3.154548182884213,
          19.105197864272014,
          37.961539547297434,
          -129.1422433290052,
          -168.9308067699411,
          -102.13270772152833,
          -119.67666278388799,
          -276.82899493278137,
          -283.184686150203,
          -111.7740948729002,
          -162.0322789525363,
          -138.01784965200667,
          -83.91758903103775,
          -89.58438301395185,
          -138.0094677282059,
          -24.242030250708325,
          32.99863849934741,
          -41.06658908183144,
          -117.75888208457474,
          -55.22367461371803,
          4.611788455334079,
          -12.921243570349247,
          -117.9005216757574,
          -160.2869783253866,
          -124.21153214266255,
          -156.29363155657973,
          -114.86229509826833,
          -94.49988011725668,
          -134.08112457960766,
          -150.83646018327806,
          -218.86836069194158,
          -189.8510707361167,
          -263.7418782498795,
          -285.1748945018095,
          -262.1912605479774,
          -286.26520647689824,
          -204.4844949811503,
          -161.33292270797983,
          -216.48816528953057,
          -176.2643506099531,
          -170.80995870050117,
          -136.90371276261493,
          -96.92951666275025,
          -155.5527246565993,
          -220.9450045761568,
          -264.96694108013514,
          -373.80294391436183,
          -431.76259376233946,
          -392.66878361558673,
          -435.71971028139683,
          -430.84528895631246,
          -406.922824437073,
          -412.92998555355155,
          -390.5048427462214,
          -383.68475750432395,
          -412.4399165585568,
          -403.42228368082294,
          -392.75636066317355,
          -439.54972662304385,
          -436.6024429618659,
          -378.4525261859749,
          -376.0121822838911,
          -364.68252914097366,
          -282.6488059077621,
          -303.40430203093433,
          -276.61616453410386,
          -323.73196996754297,
          -385.61715395271415,
          -396.71733234995764,
          -408.6545967225122,
          -405.8078489181965,
          -342.7471935655569,
          -357.3941901258685,
          -420.5938751970282,
          -439.84699687011715,
          -431.37006208452067,
          -480.1146870470925,
          -530.1543284205895,
          -507.8104846111376,
          -518.4884167536402,
          -518.1921118296484,
          -481.8205762832355,
          -493.335167277396,
          -512.7685670789713,
          -442.5541564306553,
          -434.08818713896864,
          -438.00436323658346,
          -459.70852086154866,
          -498.56562389332134,
          -482.2818713712684,
          -511.19703806346274,
          -525.182012714592,
          -518.7458599392587,
          -497.3039439200853,
          -524.9846348292779,
          -532.8753050501466,
          -534.3346710126666
         ],
         "yaxis": "y"
        },
        {
         "hovertemplate": "variable=Benchmark Gain / (Loss)<br>Date Snapshot=%{x}<br>value=%{y}<extra></extra>",
         "legendgroup": "Benchmark Gain / (Loss)",
         "line": {
          "color": "#EF553B",
          "dash": "solid"
         },
         "marker": {
          "symbol": "circle"
         },
         "mode": "lines",
         "name": "Benchmark Gain / (Loss)",
         "orientation": "v",
         "showlegend": true,
         "type": "scatter",
         "x": [
          "2021-04-20",
          "2021-04-21",
          "2021-04-22",
          "2021-04-23",
          "2021-04-24",
          "2021-04-25",
          "2021-04-26",
          "2021-04-27",
          "2021-04-28",
          "2021-04-29",
          "2021-04-30",
          "2021-05-01",
          "2021-05-02",
          "2021-05-03",
          "2021-05-04",
          "2021-05-05",
          "2021-05-06",
          "2021-05-07",
          "2021-05-08",
          "2021-05-09",
          "2021-05-10",
          "2021-05-11",
          "2021-05-12",
          "2021-05-14",
          "2021-05-15",
          "2021-05-16",
          "2021-05-17",
          "2021-05-18",
          "2021-05-19",
          "2021-05-20",
          "2021-05-21",
          "2021-05-22",
          "2021-05-23",
          "2021-05-24",
          "2021-05-25",
          "2021-05-26",
          "2021-05-27",
          "2021-05-28",
          "2021-05-29",
          "2021-05-30",
          "2021-05-31",
          "2021-06-01",
          "2021-06-02",
          "2021-06-03",
          "2021-06-04",
          "2021-06-05",
          "2021-06-06",
          "2021-06-07",
          "2021-06-08",
          "2021-06-09",
          "2021-06-10",
          "2021-06-11",
          "2021-06-12",
          "2021-06-13",
          "2021-06-14",
          "2021-06-15",
          "2021-06-16",
          "2021-06-17",
          "2021-06-18",
          "2021-06-19",
          "2021-06-20",
          "2021-06-21",
          "2021-06-22",
          "2021-06-23",
          "2021-06-24",
          "2021-06-25",
          "2021-06-26",
          "2021-06-27",
          "2021-06-28",
          "2021-06-29",
          "2021-06-30",
          "2021-07-01",
          "2021-07-02",
          "2021-07-03",
          "2021-07-04",
          "2021-07-05",
          "2021-07-06",
          "2021-07-07",
          "2021-07-08",
          "2021-07-09",
          "2021-07-10",
          "2021-07-11",
          "2021-07-12",
          "2021-07-13",
          "2021-07-14",
          "2021-07-15",
          "2021-07-16",
          "2021-07-17",
          "2021-07-18",
          "2021-07-19",
          "2021-07-20",
          "2021-07-21",
          "2021-07-22",
          "2021-07-23",
          "2021-07-24",
          "2021-07-25",
          "2021-07-26",
          "2021-07-27",
          "2021-07-28",
          "2021-07-29",
          "2021-07-30",
          "2021-07-31",
          "2021-08-01",
          "2021-08-02",
          "2021-08-03",
          "2021-08-04",
          "2021-08-05",
          "2021-08-06",
          "2021-08-07",
          "2021-08-08",
          "2021-08-09",
          "2021-08-10",
          "2021-08-11",
          "2021-08-12",
          "2021-08-13",
          "2021-08-14",
          "2021-08-15",
          "2021-08-16",
          "2021-08-17",
          "2021-08-18",
          "2021-08-19",
          "2021-08-20",
          "2021-08-21",
          "2021-08-22",
          "2021-08-23",
          "2021-08-24",
          "2021-08-25",
          "2021-08-26",
          "2021-08-27",
          "2021-08-28",
          "2021-08-29",
          "2021-08-30",
          "2021-08-31",
          "2021-09-01",
          "2021-09-02",
          "2021-09-03",
          "2021-09-04",
          "2021-09-05",
          "2021-09-06",
          "2021-09-07",
          "2021-09-08",
          "2021-09-09",
          "2021-09-10",
          "2021-09-11",
          "2021-09-12",
          "2021-09-13",
          "2021-09-14",
          "2021-09-15",
          "2021-09-16",
          "2021-09-17",
          "2021-09-18",
          "2021-09-19",
          "2021-09-20",
          "2021-09-21",
          "2021-09-22",
          "2021-09-23",
          "2021-09-24",
          "2021-09-25",
          "2021-09-26",
          "2021-09-27",
          "2021-09-28",
          "2021-09-29",
          "2021-09-30",
          "2021-10-01",
          "2021-10-02",
          "2021-10-03",
          "2021-10-04",
          "2021-10-05",
          "2021-10-06",
          "2021-10-07",
          "2021-10-08",
          "2021-10-09",
          "2021-10-10",
          "2021-10-11",
          "2021-10-12",
          "2021-10-13",
          "2021-10-14",
          "2021-10-15",
          "2021-10-16",
          "2021-10-17",
          "2021-10-18",
          "2021-10-19",
          "2021-10-20",
          "2021-10-21",
          "2021-10-22",
          "2021-10-23",
          "2021-10-24",
          "2021-10-25",
          "2021-10-26",
          "2021-10-27",
          "2021-10-28",
          "2021-10-29",
          "2021-10-30",
          "2021-10-31",
          "2021-11-01",
          "2021-11-02",
          "2021-11-03",
          "2021-11-04",
          "2021-11-05",
          "2021-11-06",
          "2021-11-07",
          "2021-11-08",
          "2021-11-09",
          "2021-11-10",
          "2021-11-11",
          "2021-11-12",
          "2021-11-13",
          "2021-11-14",
          "2021-11-15",
          "2021-11-16",
          "2021-11-17",
          "2021-11-18",
          "2021-11-19",
          "2021-11-20",
          "2021-11-21",
          "2021-11-22",
          "2021-11-23",
          "2021-11-24",
          "2021-11-25",
          "2021-11-26",
          "2021-11-27",
          "2021-11-28",
          "2021-11-29",
          "2021-11-30",
          "2021-12-01",
          "2021-12-02",
          "2021-12-03",
          "2021-12-04",
          "2021-12-05",
          "2021-12-06",
          "2021-12-07",
          "2021-12-08",
          "2021-12-09",
          "2021-12-10",
          "2021-12-11",
          "2021-12-12",
          "2021-12-13",
          "2021-12-14",
          "2021-12-15",
          "2021-12-16",
          "2021-12-17",
          "2021-12-18",
          "2021-12-19",
          "2021-12-20",
          "2021-12-21",
          "2021-12-22",
          "2021-12-23",
          "2021-12-24",
          "2021-12-25",
          "2021-12-26",
          "2021-12-27",
          "2021-12-28",
          "2021-12-29",
          "2021-12-30",
          "2021-12-31",
          "2022-01-01",
          "2022-01-02",
          "2022-01-03",
          "2022-01-04",
          "2022-01-05",
          "2022-01-06",
          "2022-01-07",
          "2022-01-08",
          "2022-01-09",
          "2022-01-10",
          "2022-01-11",
          "2022-01-12",
          "2022-01-13",
          "2022-01-14",
          "2022-01-15",
          "2022-01-16",
          "2022-01-17",
          "2022-01-18",
          "2022-01-19",
          "2022-01-20",
          "2022-01-21",
          "2022-01-22",
          "2022-01-23",
          "2022-01-24",
          "2022-01-25",
          "2022-01-26",
          "2022-01-27",
          "2022-01-28",
          "2022-01-29",
          "2022-01-30",
          "2022-01-31",
          "2022-02-01",
          "2022-02-02",
          "2022-02-03",
          "2022-02-04",
          "2022-02-05",
          "2022-02-06",
          "2022-02-07",
          "2022-02-08",
          "2022-02-09",
          "2022-02-10",
          "2022-02-11",
          "2022-02-12",
          "2022-02-13",
          "2022-02-14",
          "2022-02-15",
          "2022-02-16",
          "2022-02-17",
          "2022-02-18",
          "2022-02-19",
          "2022-02-20",
          "2022-02-21",
          "2022-02-22",
          "2022-02-23",
          "2022-02-24",
          "2022-02-25",
          "2022-02-26",
          "2022-02-27",
          "2022-02-28",
          "2022-03-01",
          "2022-03-02",
          "2022-03-03",
          "2022-03-04",
          "2022-03-05",
          "2022-03-06",
          "2022-03-07",
          "2022-03-08",
          "2022-03-09",
          "2022-03-10",
          "2022-03-11",
          "2022-03-12"
         ],
         "xaxis": "x",
         "y": [
          5.684341886080802e-14,
          7.1222606677493445,
          16.266135539622724,
          4.330675367724723,
          -39.35303464102256,
          -5.303899708476251,
          41.10303633836685,
          94.75881274075107,
          116.71544639837636,
          120.5153132956965,
          132.4698853616725,
          227.2935241944008,
          185.17363948867222,
          324.7852550878419,
          275.69389145931865,
          1031.793746724516,
          989.9058471718487,
          938.4075819979087,
          1240.0890832745495,
          1320.1012012358472,
          1363.9770227971062,
          759.9044366998853,
          1279.7511898241523,
          1421.953687589095,
          1041.8837582628094,
          999.9284353964102,
          751.3486136758605,
          815.6389242918443,
          83.87253810983793,
          335.44697989239296,
          58.04767642318802,
          -51.021170075801194,
          -201.69625272119825,
          224.41314123711498,
          269.46308638879816,
          426.3984656366427,
          303.2181390655536,
          47.446382386406164,
          -66.01761085521431,
          23.99788097878856,
          278.70083881693284,
          215.7400011505948,
          275.68365961042986,
          410.8960888358213,
          268.77089217994035,
          222.2347920740286,
          290.54519914035825,
          185.1808911775194,
          129.5633002412786,
          202.07475915044398,
          92.33472116582644,
          7.122172624965922,
          22.35159448853891,
          132.82355044964072,
          154.7510017130298,
          213.62746608898522,
          36.739878110189494,
          53.72170174395842,
          -54.60650016992904,
          -98.95135916354607,
          -43.63846015863215,
          -346.1818840288416,
          -360.4461866862647,
          -264.86054368608865,
          -265.59441281965104,
          -411.5450572532833,
          -398.1419361918955,
          -275.47594984109196,
          -190.3853564663435,
          -119.11226272881525,
          -17.872141535407867,
          -150.06716880092878,
          -122.6604552231316,
          -59.4838608182448,
          1.286936097389949e-15,
          -4.948297125310647e-15,
          1.7627264331729248e-15,
          1.5752901200296742e-15,
          -8.718780182127427e-15,
          -7.666275809676814e-15,
          -9.421387078356047e-15,
          -7.966261307487026e-15,
          -1.3031820845489654e-14,
          -1.713716599818342e-14,
          -1.4898433675276335e-14,
          -1.8890230416242777e-14,
          -2.03869463647079e-14,
          -1.9460535105319694e-14,
          -1.9682618635794658e-14,
          -2.34521892015779e-14,
          -2.487105347632833e-14,
          -1.4730818682393772e-14,
          -1.2827916864981897e-14,
          -7.802957343932771e-15,
          -4.554560588036574e-15,
          -4.461849664650706e-15,
          -0.1851076255242985,
          0.031743116986442846,
          0.008816681463040281,
          0.27146201216060317,
          0.5889158408972981,
          46.86944404783313,
          51.99408888315021,
          61.126135276275384,
          40.11911730538152,
          85.2790343993686,
          105.75091150336887,
          121.75418350994357,
          287.6650305027064,
          241.96715616252092,
          293.37213722636784,
          286.3554336801036,
          291.8008947585078,
          252.71632978533728,
          338.53325699472555,
          320.02236042771574,
          334.93044573615776,
          286.0500996014492,
          245.57702239354396,
          247.8502175012633,
          303.7367733354199,
          335.8226310881886,
          2.385618816876156e-14,
          2.4254225875982578e-14,
          2.5837436129017723e-14,
          2.2150738482406952e-14,
          2.3313649255075116e-14,
          492.65621655748646,
          587.4987819810883,
          571.8940759576792,
          561.0237886915697,
          559.7688125895447,
          682.133520401334,
          914.6920158447501,
          882.5499156988735,
          970.0667552647851,
          937.985343064538,
          975.6217693992717,
          963.9423728428956,
          864.1540507407509,
          924.0337777765944,
          862.388880311792,
          701.5924521255812,
          745.3646458026337,
          852.0859224655902,
          758.002574710285,
          868.6181546863874,
          1006.1941764029874,
          985.2656224190243,
          862.3675307699438,
          887.8221505482825,
          808.640418022315,
          525.9538352085207,
          377.93665442511934,
          624.8071666942492,
          673.5052049032793,
          506.2861992975508,
          501.70391079482033,
          605.7523058394619,
          512.9339800776324,
          417.4720883059391,
          468.7421572778734,
          588.9327856512252,
          821.411389374739,
          886.5051742439607,
          904.209751556394,
          872.5006363823783,
          984.1284517604684,
          1041.8630826838353,
          1046.5529645919441,
          1025.5031571988739,
          1034.4716228028428,
          919.4062756484147,
          1014.9621403333782,
          979.3428778949242,
          1051.6949600379294,
          1192.3092034280653,
          1249.1941205871603,
          1224.2660352010498,
          1238.004819663593,
          1157.7420641884048,
          1252.0950636176212,
          1461.3765903280641,
          1390.625423507483,
          1320.6318010804976,
          1476.3289102985584,
          1412.4815282285813,
          1521.2049100034137,
          1457.57424925347,
          1301.748553944723,
          1554.0050479184015,
          1687.3171803729208,
          1618.2245613217406,
          1590.4345030129,
          1606.3070792238677,
          1813.6526924259274,
          1819.9887555439298,
          1784.114850347419,
          1745.649499118179,
          1773.0759912109515,
          1844.6929740010821,
          1986.621115362901,
          1925.2696299496238,
          1882.6601750021482,
          1968.4251768535166,
          1920.1056663958984,
          1907.8411934883857,
          1888.9765631480564,
          1858.3729513684361,
          1603.1440444751238,
          1660.1879940553636,
          1418.681739428996,
          1677.9343104121554,
          1766.5982813965534,
          1658.7445554820038,
          1524.3503415377306,
          1724.107770948749,
          1656.8129790816156,
          1682.8373818454206,
          1456.2327652161043,
          1508.5070992089309,
          1673.2491387648581,
          1588.7549488935933,
          1709.1239515694037,
          1681.057420264708,
          1631.5903733337439,
          1425.1494956671029,
          1354.2715237542811,
          1412.1072236730652,
          1530.3971960336426,
          1502.5722578139598,
          1570.4971931373593,
          1359.6396352868753,
          1204.94337339215,
          1328.835966102538,
          1365.5452502981686,
          1125.965201534132,
          1104.7100949025403,
          1289.0649533536825,
          1239.0429006058598,
          1203.563788758062,
          1261.1199882388144,
          1233.3162786137125,
          1232.7881993275062,
          1291.1548422509943,
          1254.6510566030333,
          1168.7353750378827,
          1132.2679185033294,
          1159.9132012170435,
          1143.866274297541,
          1124.3536894279216,
          983.3763644656234,
          869.0064511937063,
          928.3127478385278,
          899.1294145719583,
          952.0240399012407,
          853.5162000258948,
          830.1108816026831,
          847.7830441998744,
          714.8434524517003,
          647.5441057507004,
          519.5021640018423,
          466.68530928860343,
          502.1834178933505,
          466.4659941918514,
          542.4096975574232,
          601.1181360198063,
          534.2493300239884,
          572.5412037270446,
          583.2332343943133,
          595.3334490881947,
          522.4080322925976,
          509.0333212044895,
          471.23064829249194,
          425.74884259557297,
          189.1370813064783,
          109.08754899848404,
          177.55912540202326,
          129.8869791281109,
          140.41464907858045,
          153.96194782228636,
          141.2429671863005,
          206.84356680525164,
          233.5014723086114,
          236.54388026924292,
          271.93584960047036,
          321.15724451416645,
          260.2144406143812,
          241.52196613907572,
          397.945490114769,
          414.074858659347,
          435.56173002081914,
          481.5203293622543,
          474.190473015101,
          534.9455541993545,
          451.97964817106254,
          381.9057672495569,
          376.7507979679152,
          357.1121829808358,
          391.1972018242978,
          513.5614140368507,
          483.7314596286352,
          356.2057944830542,
          311.44088792027173,
          299.874791381876,
          229.56595909874648,
          201.7077775363215,
          233.73796021776857,
          210.80665185541102,
          228.88950201896165,
          306.50107170658237,
          315.50202832486013,
          242.8080728690887,
          396.2494058165279,
          436.0994842653875,
          426.9801820954265,
          371.4885432689584,
          272.18519155525547,
          298.51466123975615,
          245.6262987019984,
          215.24379310658566,
          254.37743886586827,
          314.2373655644801,
          256.53719512282686,
          242.9313952951193,
          251.20658137140734
         ],
         "yaxis": "y"
        }
       ],
       "layout": {
        "legend": {
         "title": {
          "text": "variable"
         },
         "tracegroupgap": 0
        },
        "margin": {
         "t": 60
        },
        "template": {
         "data": {
          "bar": [
           {
            "error_x": {
             "color": "#2a3f5f"
            },
            "error_y": {
             "color": "#2a3f5f"
            },
            "marker": {
             "line": {
              "color": "#E5ECF6",
              "width": 0.5
             },
             "pattern": {
              "fillmode": "overlay",
              "size": 10,
              "solidity": 0.2
             }
            },
            "type": "bar"
           }
          ],
          "barpolar": [
           {
            "marker": {
             "line": {
              "color": "#E5ECF6",
              "width": 0.5
             },
             "pattern": {
              "fillmode": "overlay",
              "size": 10,
              "solidity": 0.2
             }
            },
            "type": "barpolar"
           }
          ],
          "carpet": [
           {
            "aaxis": {
             "endlinecolor": "#2a3f5f",
             "gridcolor": "white",
             "linecolor": "white",
             "minorgridcolor": "white",
             "startlinecolor": "#2a3f5f"
            },
            "baxis": {
             "endlinecolor": "#2a3f5f",
             "gridcolor": "white",
             "linecolor": "white",
             "minorgridcolor": "white",
             "startlinecolor": "#2a3f5f"
            },
            "type": "carpet"
           }
          ],
          "choropleth": [
           {
            "colorbar": {
             "outlinewidth": 0,
             "ticks": ""
            },
            "type": "choropleth"
           }
          ],
          "contour": [
           {
            "colorbar": {
             "outlinewidth": 0,
             "ticks": ""
            },
            "colorscale": [
             [
              0,
              "#0d0887"
             ],
             [
              0.1111111111111111,
              "#46039f"
             ],
             [
              0.2222222222222222,
              "#7201a8"
             ],
             [
              0.3333333333333333,
              "#9c179e"
             ],
             [
              0.4444444444444444,
              "#bd3786"
             ],
             [
              0.5555555555555556,
              "#d8576b"
             ],
             [
              0.6666666666666666,
              "#ed7953"
             ],
             [
              0.7777777777777778,
              "#fb9f3a"
             ],
             [
              0.8888888888888888,
              "#fdca26"
             ],
             [
              1,
              "#f0f921"
             ]
            ],
            "type": "contour"
           }
          ],
          "contourcarpet": [
           {
            "colorbar": {
             "outlinewidth": 0,
             "ticks": ""
            },
            "type": "contourcarpet"
           }
          ],
          "heatmap": [
           {
            "colorbar": {
             "outlinewidth": 0,
             "ticks": ""
            },
            "colorscale": [
             [
              0,
              "#0d0887"
             ],
             [
              0.1111111111111111,
              "#46039f"
             ],
             [
              0.2222222222222222,
              "#7201a8"
             ],
             [
              0.3333333333333333,
              "#9c179e"
             ],
             [
              0.4444444444444444,
              "#bd3786"
             ],
             [
              0.5555555555555556,
              "#d8576b"
             ],
             [
              0.6666666666666666,
              "#ed7953"
             ],
             [
              0.7777777777777778,
              "#fb9f3a"
             ],
             [
              0.8888888888888888,
              "#fdca26"
             ],
             [
              1,
              "#f0f921"
             ]
            ],
            "type": "heatmap"
           }
          ],
          "heatmapgl": [
           {
            "colorbar": {
             "outlinewidth": 0,
             "ticks": ""
            },
            "colorscale": [
             [
              0,
              "#0d0887"
             ],
             [
              0.1111111111111111,
              "#46039f"
             ],
             [
              0.2222222222222222,
              "#7201a8"
             ],
             [
              0.3333333333333333,
              "#9c179e"
             ],
             [
              0.4444444444444444,
              "#bd3786"
             ],
             [
              0.5555555555555556,
              "#d8576b"
             ],
             [
              0.6666666666666666,
              "#ed7953"
             ],
             [
              0.7777777777777778,
              "#fb9f3a"
             ],
             [
              0.8888888888888888,
              "#fdca26"
             ],
             [
              1,
              "#f0f921"
             ]
            ],
            "type": "heatmapgl"
           }
          ],
          "histogram": [
           {
            "marker": {
             "pattern": {
              "fillmode": "overlay",
              "size": 10,
              "solidity": 0.2
             }
            },
            "type": "histogram"
           }
          ],
          "histogram2d": [
           {
            "colorbar": {
             "outlinewidth": 0,
             "ticks": ""
            },
            "colorscale": [
             [
              0,
              "#0d0887"
             ],
             [
              0.1111111111111111,
              "#46039f"
             ],
             [
              0.2222222222222222,
              "#7201a8"
             ],
             [
              0.3333333333333333,
              "#9c179e"
             ],
             [
              0.4444444444444444,
              "#bd3786"
             ],
             [
              0.5555555555555556,
              "#d8576b"
             ],
             [
              0.6666666666666666,
              "#ed7953"
             ],
             [
              0.7777777777777778,
              "#fb9f3a"
             ],
             [
              0.8888888888888888,
              "#fdca26"
             ],
             [
              1,
              "#f0f921"
             ]
            ],
            "type": "histogram2d"
           }
          ],
          "histogram2dcontour": [
           {
            "colorbar": {
             "outlinewidth": 0,
             "ticks": ""
            },
            "colorscale": [
             [
              0,
              "#0d0887"
             ],
             [
              0.1111111111111111,
              "#46039f"
             ],
             [
              0.2222222222222222,
              "#7201a8"
             ],
             [
              0.3333333333333333,
              "#9c179e"
             ],
             [
              0.4444444444444444,
              "#bd3786"
             ],
             [
              0.5555555555555556,
              "#d8576b"
             ],
             [
              0.6666666666666666,
              "#ed7953"
             ],
             [
              0.7777777777777778,
              "#fb9f3a"
             ],
             [
              0.8888888888888888,
              "#fdca26"
             ],
             [
              1,
              "#f0f921"
             ]
            ],
            "type": "histogram2dcontour"
           }
          ],
          "mesh3d": [
           {
            "colorbar": {
             "outlinewidth": 0,
             "ticks": ""
            },
            "type": "mesh3d"
           }
          ],
          "parcoords": [
           {
            "line": {
             "colorbar": {
              "outlinewidth": 0,
              "ticks": ""
             }
            },
            "type": "parcoords"
           }
          ],
          "pie": [
           {
            "automargin": true,
            "type": "pie"
           }
          ],
          "scatter": [
           {
            "marker": {
             "colorbar": {
              "outlinewidth": 0,
              "ticks": ""
             }
            },
            "type": "scatter"
           }
          ],
          "scatter3d": [
           {
            "line": {
             "colorbar": {
              "outlinewidth": 0,
              "ticks": ""
             }
            },
            "marker": {
             "colorbar": {
              "outlinewidth": 0,
              "ticks": ""
             }
            },
            "type": "scatter3d"
           }
          ],
          "scattercarpet": [
           {
            "marker": {
             "colorbar": {
              "outlinewidth": 0,
              "ticks": ""
             }
            },
            "type": "scattercarpet"
           }
          ],
          "scattergeo": [
           {
            "marker": {
             "colorbar": {
              "outlinewidth": 0,
              "ticks": ""
             }
            },
            "type": "scattergeo"
           }
          ],
          "scattergl": [
           {
            "marker": {
             "colorbar": {
              "outlinewidth": 0,
              "ticks": ""
             }
            },
            "type": "scattergl"
           }
          ],
          "scattermapbox": [
           {
            "marker": {
             "colorbar": {
              "outlinewidth": 0,
              "ticks": ""
             }
            },
            "type": "scattermapbox"
           }
          ],
          "scatterpolar": [
           {
            "marker": {
             "colorbar": {
              "outlinewidth": 0,
              "ticks": ""
             }
            },
            "type": "scatterpolar"
           }
          ],
          "scatterpolargl": [
           {
            "marker": {
             "colorbar": {
              "outlinewidth": 0,
              "ticks": ""
             }
            },
            "type": "scatterpolargl"
           }
          ],
          "scatterternary": [
           {
            "marker": {
             "colorbar": {
              "outlinewidth": 0,
              "ticks": ""
             }
            },
            "type": "scatterternary"
           }
          ],
          "surface": [
           {
            "colorbar": {
             "outlinewidth": 0,
             "ticks": ""
            },
            "colorscale": [
             [
              0,
              "#0d0887"
             ],
             [
              0.1111111111111111,
              "#46039f"
             ],
             [
              0.2222222222222222,
              "#7201a8"
             ],
             [
              0.3333333333333333,
              "#9c179e"
             ],
             [
              0.4444444444444444,
              "#bd3786"
             ],
             [
              0.5555555555555556,
              "#d8576b"
             ],
             [
              0.6666666666666666,
              "#ed7953"
             ],
             [
              0.7777777777777778,
              "#fb9f3a"
             ],
             [
              0.8888888888888888,
              "#fdca26"
             ],
             [
              1,
              "#f0f921"
             ]
            ],
            "type": "surface"
           }
          ],
          "table": [
           {
            "cells": {
             "fill": {
              "color": "#EBF0F8"
             },
             "line": {
              "color": "white"
             }
            },
            "header": {
             "fill": {
              "color": "#C8D4E3"
             },
             "line": {
              "color": "white"
             }
            },
            "type": "table"
           }
          ]
         },
         "layout": {
          "annotationdefaults": {
           "arrowcolor": "#2a3f5f",
           "arrowhead": 0,
           "arrowwidth": 1
          },
          "autotypenumbers": "strict",
          "coloraxis": {
           "colorbar": {
            "outlinewidth": 0,
            "ticks": ""
           }
          },
          "colorscale": {
           "diverging": [
            [
             0,
             "#8e0152"
            ],
            [
             0.1,
             "#c51b7d"
            ],
            [
             0.2,
             "#de77ae"
            ],
            [
             0.3,
             "#f1b6da"
            ],
            [
             0.4,
             "#fde0ef"
            ],
            [
             0.5,
             "#f7f7f7"
            ],
            [
             0.6,
             "#e6f5d0"
            ],
            [
             0.7,
             "#b8e186"
            ],
            [
             0.8,
             "#7fbc41"
            ],
            [
             0.9,
             "#4d9221"
            ],
            [
             1,
             "#276419"
            ]
           ],
           "sequential": [
            [
             0,
             "#0d0887"
            ],
            [
             0.1111111111111111,
             "#46039f"
            ],
            [
             0.2222222222222222,
             "#7201a8"
            ],
            [
             0.3333333333333333,
             "#9c179e"
            ],
            [
             0.4444444444444444,
             "#bd3786"
            ],
            [
             0.5555555555555556,
             "#d8576b"
            ],
            [
             0.6666666666666666,
             "#ed7953"
            ],
            [
             0.7777777777777778,
             "#fb9f3a"
            ],
            [
             0.8888888888888888,
             "#fdca26"
            ],
            [
             1,
             "#f0f921"
            ]
           ],
           "sequentialminus": [
            [
             0,
             "#0d0887"
            ],
            [
             0.1111111111111111,
             "#46039f"
            ],
            [
             0.2222222222222222,
             "#7201a8"
            ],
            [
             0.3333333333333333,
             "#9c179e"
            ],
            [
             0.4444444444444444,
             "#bd3786"
            ],
            [
             0.5555555555555556,
             "#d8576b"
            ],
            [
             0.6666666666666666,
             "#ed7953"
            ],
            [
             0.7777777777777778,
             "#fb9f3a"
            ],
            [
             0.8888888888888888,
             "#fdca26"
            ],
            [
             1,
             "#f0f921"
            ]
           ]
          },
          "colorway": [
           "#636efa",
           "#EF553B",
           "#00cc96",
           "#ab63fa",
           "#FFA15A",
           "#19d3f3",
           "#FF6692",
           "#B6E880",
           "#FF97FF",
           "#FECB52"
          ],
          "font": {
           "color": "#2a3f5f"
          },
          "geo": {
           "bgcolor": "white",
           "lakecolor": "white",
           "landcolor": "#E5ECF6",
           "showlakes": true,
           "showland": true,
           "subunitcolor": "white"
          },
          "hoverlabel": {
           "align": "left"
          },
          "hovermode": "closest",
          "mapbox": {
           "style": "light"
          },
          "paper_bgcolor": "white",
          "plot_bgcolor": "#E5ECF6",
          "polar": {
           "angularaxis": {
            "gridcolor": "white",
            "linecolor": "white",
            "ticks": ""
           },
           "bgcolor": "#E5ECF6",
           "radialaxis": {
            "gridcolor": "white",
            "linecolor": "white",
            "ticks": ""
           }
          },
          "scene": {
           "xaxis": {
            "backgroundcolor": "#E5ECF6",
            "gridcolor": "white",
            "gridwidth": 2,
            "linecolor": "white",
            "showbackground": true,
            "ticks": "",
            "zerolinecolor": "white"
           },
           "yaxis": {
            "backgroundcolor": "#E5ECF6",
            "gridcolor": "white",
            "gridwidth": 2,
            "linecolor": "white",
            "showbackground": true,
            "ticks": "",
            "zerolinecolor": "white"
           },
           "zaxis": {
            "backgroundcolor": "#E5ECF6",
            "gridcolor": "white",
            "gridwidth": 2,
            "linecolor": "white",
            "showbackground": true,
            "ticks": "",
            "zerolinecolor": "white"
           }
          },
          "shapedefaults": {
           "line": {
            "color": "#2a3f5f"
           }
          },
          "ternary": {
           "aaxis": {
            "gridcolor": "white",
            "linecolor": "white",
            "ticks": ""
           },
           "baxis": {
            "gridcolor": "white",
            "linecolor": "white",
            "ticks": ""
           },
           "bgcolor": "#E5ECF6",
           "caxis": {
            "gridcolor": "white",
            "linecolor": "white",
            "ticks": ""
           }
          },
          "title": {
           "x": 0.05
          },
          "xaxis": {
           "automargin": true,
           "gridcolor": "white",
           "linecolor": "white",
           "ticks": "",
           "title": {
            "standoff": 15
           },
           "zerolinecolor": "white",
           "zerolinewidth": 2
          },
          "yaxis": {
           "automargin": true,
           "gridcolor": "white",
           "linecolor": "white",
           "ticks": "",
           "title": {
            "standoff": 15
           },
           "zerolinecolor": "white",
           "zerolinewidth": 2
          }
         }
        },
        "xaxis": {
         "anchor": "y",
         "domain": [
          0,
          1
         ],
         "title": {
          "text": "Date Snapshot"
         }
        },
        "yaxis": {
         "anchor": "x",
         "domain": [
          0,
          1
         ],
         "title": {
          "text": "value"
         }
        }
       }
      }
     },
     "metadata": {},
     "output_type": "display_data"
    }
   ],
   "source": [
    "t.line(combined_df, [\"Stock Gain / (Loss)\"])\n",
    "t.line(combined_df, [\"Stock Gain / (Loss)\",\"Benchmark Gain / (Loss)\"])\n",
    "# t.line_facets(combined_df, 'symbol Return', 'Benchmark Return')"
   ]
  }
 ],
 "metadata": {
  "interpreter": {
   "hash": "2d92824427b41c6028804632d5278b37df1fc0de77b5e6f8aeb0bbbd2f432773"
  },
  "kernelspec": {
   "display_name": "Python 3.7.12 ('cryptoenv')",
   "language": "python",
   "name": "python3"
  },
  "language_info": {
   "codemirror_mode": {
    "name": "ipython",
    "version": 3
   },
   "file_extension": ".py",
   "mimetype": "text/x-python",
   "name": "python",
   "nbconvert_exporter": "python",
   "pygments_lexer": "ipython3",
   "version": "3.7.12"
  },
  "orig_nbformat": 4
 },
 "nbformat": 4,
 "nbformat_minor": 2
}
