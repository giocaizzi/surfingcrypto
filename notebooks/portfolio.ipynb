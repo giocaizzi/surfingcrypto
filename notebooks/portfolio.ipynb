{
 "cells": [
  {
   "cell_type": "markdown",
   "metadata": {},
   "source": [
    "# Surfingcrypto `Portfolio`\n",
    "\n",
    "The `surfingcrypto` portfolio."
   ]
  },
  {
   "cell_type": "code",
   "execution_count": 161,
   "metadata": {},
   "outputs": [
    {
     "name": "stdout",
     "output_type": "stream",
     "text": [
      "The autoreload extension is already loaded. To reload it, use:\n",
      "  %reload_ext autoreload\n"
     ]
    }
   ],
   "source": [
    "%load_ext autoreload\n",
    "%autoreload 2\n",
    "from surfingcrypto import Config\n",
    "from surfingcrypto.portfolio import Portfolio\n",
    "from surfingcrypto.portfolio.tracker import Tracker\n",
    "\n",
    "import pandas as pd\n",
    "c=Config(\"/Users/giorgiocaizzi/Documents/GitHub/surfingcrypto/config\")"
   ]
  },
  {
   "cell_type": "code",
   "execution_count": 162,
   "metadata": {},
   "outputs": [
    {
     "name": "stdout",
     "output_type": "stream",
     "text": [
      "Warning! There are 5 transactionsthat were EXCLUDED in std_df.\n",
      "Coinbase errors:\n",
      "TransactionsHistory(Transactions:186 - Processed:186, Unhandled:0 - Errors:9)\n"
     ]
    }
   ],
   "source": [
    "p=Portfolio(\"coinbase\",configuration=c)"
   ]
  },
  {
   "cell_type": "code",
   "execution_count": 163,
   "metadata": {},
   "outputs": [
    {
     "data": {
      "text/html": [
       "<div>\n",
       "<style scoped>\n",
       "    .dataframe tbody tr th:only-of-type {\n",
       "        vertical-align: middle;\n",
       "    }\n",
       "\n",
       "    .dataframe tbody tr th {\n",
       "        vertical-align: top;\n",
       "    }\n",
       "\n",
       "    .dataframe thead th {\n",
       "        text-align: right;\n",
       "    }\n",
       "</style>\n",
       "<table border=\"1\" class=\"dataframe\">\n",
       "  <thead>\n",
       "    <tr style=\"text-align: right;\">\n",
       "      <th></th>\n",
       "      <th>type</th>\n",
       "      <th>amount</th>\n",
       "      <th>symbol</th>\n",
       "      <th>native_amount</th>\n",
       "      <th>nat_symbol</th>\n",
       "      <th>total</th>\n",
       "      <th>subtotal</th>\n",
       "      <th>total_fee</th>\n",
       "      <th>spot_price</th>\n",
       "      <th>trade_id</th>\n",
       "    </tr>\n",
       "    <tr>\n",
       "      <th>datetime</th>\n",
       "      <th></th>\n",
       "      <th></th>\n",
       "      <th></th>\n",
       "      <th></th>\n",
       "      <th></th>\n",
       "      <th></th>\n",
       "      <th></th>\n",
       "      <th></th>\n",
       "      <th></th>\n",
       "      <th></th>\n",
       "    </tr>\n",
       "  </thead>\n",
       "  <tbody>\n",
       "    <tr>\n",
       "      <th>2018-10-22T06:29:22Z</th>\n",
       "      <td>buy</td>\n",
       "      <td>0.017237</td>\n",
       "      <td>BTC</td>\n",
       "      <td>100.00</td>\n",
       "      <td>EUR</td>\n",
       "      <td>100.00</td>\n",
       "      <td>97.01</td>\n",
       "      <td>2.99</td>\n",
       "      <td>5627.999719</td>\n",
       "      <td>None</td>\n",
       "    </tr>\n",
       "    <tr>\n",
       "      <th>2018-10-22T06:29:22Z</th>\n",
       "      <td>buy</td>\n",
       "      <td>100.000000</td>\n",
       "      <td>EUR</td>\n",
       "      <td>100.00</td>\n",
       "      <td>EUR</td>\n",
       "      <td>NaN</td>\n",
       "      <td>NaN</td>\n",
       "      <td>NaN</td>\n",
       "      <td>1.000000</td>\n",
       "      <td>None</td>\n",
       "    </tr>\n",
       "    <tr>\n",
       "      <th>2018-11-09T12:05:12Z</th>\n",
       "      <td>sell</td>\n",
       "      <td>0.017237</td>\n",
       "      <td>BTC</td>\n",
       "      <td>93.27</td>\n",
       "      <td>EUR</td>\n",
       "      <td>93.27</td>\n",
       "      <td>96.26</td>\n",
       "      <td>2.99</td>\n",
       "      <td>5584.488743</td>\n",
       "      <td>None</td>\n",
       "    </tr>\n",
       "    <tr>\n",
       "      <th>2018-11-09T12:05:13Z</th>\n",
       "      <td>sell</td>\n",
       "      <td>93.270000</td>\n",
       "      <td>EUR</td>\n",
       "      <td>93.27</td>\n",
       "      <td>EUR</td>\n",
       "      <td>NaN</td>\n",
       "      <td>NaN</td>\n",
       "      <td>NaN</td>\n",
       "      <td>1.000000</td>\n",
       "      <td>None</td>\n",
       "    </tr>\n",
       "    <tr>\n",
       "      <th>2018-11-09T12:06:14Z</th>\n",
       "      <td>buy</td>\n",
       "      <td>348.021666</td>\n",
       "      <td>BAT</td>\n",
       "      <td>93.27</td>\n",
       "      <td>EUR</td>\n",
       "      <td>93.27</td>\n",
       "      <td>90.28</td>\n",
       "      <td>2.99</td>\n",
       "      <td>0.259409</td>\n",
       "      <td>None</td>\n",
       "    </tr>\n",
       "    <tr>\n",
       "      <th>2018-11-09T12:06:15Z</th>\n",
       "      <td>buy</td>\n",
       "      <td>93.270000</td>\n",
       "      <td>EUR</td>\n",
       "      <td>93.27</td>\n",
       "      <td>EUR</td>\n",
       "      <td>NaN</td>\n",
       "      <td>NaN</td>\n",
       "      <td>NaN</td>\n",
       "      <td>1.000000</td>\n",
       "      <td>None</td>\n",
       "    </tr>\n",
       "    <tr>\n",
       "      <th>2019-01-25T14:28:56Z</th>\n",
       "      <td>sell</td>\n",
       "      <td>35.960000</td>\n",
       "      <td>EUR</td>\n",
       "      <td>35.96</td>\n",
       "      <td>EUR</td>\n",
       "      <td>NaN</td>\n",
       "      <td>NaN</td>\n",
       "      <td>NaN</td>\n",
       "      <td>1.000000</td>\n",
       "      <td>None</td>\n",
       "    </tr>\n",
       "    <tr>\n",
       "      <th>2019-01-25T14:28:56Z</th>\n",
       "      <td>sell</td>\n",
       "      <td>348.021666</td>\n",
       "      <td>BAT</td>\n",
       "      <td>35.96</td>\n",
       "      <td>EUR</td>\n",
       "      <td>35.96</td>\n",
       "      <td>37.95</td>\n",
       "      <td>1.99</td>\n",
       "      <td>0.109045</td>\n",
       "      <td>None</td>\n",
       "    </tr>\n",
       "    <tr>\n",
       "      <th>2021-04-20T18:57:40Z</th>\n",
       "      <td>buy</td>\n",
       "      <td>0.258429</td>\n",
       "      <td>ETH</td>\n",
       "      <td>500.00</td>\n",
       "      <td>EUR</td>\n",
       "      <td>500.00</td>\n",
       "      <td>492.66</td>\n",
       "      <td>7.34</td>\n",
       "      <td>1906.364408</td>\n",
       "      <td>None</td>\n",
       "    </tr>\n",
       "    <tr>\n",
       "      <th>2021-04-20T18:57:41Z</th>\n",
       "      <td>buy</td>\n",
       "      <td>500.000000</td>\n",
       "      <td>EUR</td>\n",
       "      <td>500.00</td>\n",
       "      <td>EUR</td>\n",
       "      <td>NaN</td>\n",
       "      <td>NaN</td>\n",
       "      <td>NaN</td>\n",
       "      <td>1.000000</td>\n",
       "      <td>None</td>\n",
       "    </tr>\n",
       "  </tbody>\n",
       "</table>\n",
       "</div>"
      ],
      "text/plain": [
       "                      type      amount symbol  native_amount nat_symbol  \\\n",
       "datetime                                                                  \n",
       "2018-10-22T06:29:22Z   buy    0.017237    BTC         100.00        EUR   \n",
       "2018-10-22T06:29:22Z   buy  100.000000    EUR         100.00        EUR   \n",
       "2018-11-09T12:05:12Z  sell    0.017237    BTC          93.27        EUR   \n",
       "2018-11-09T12:05:13Z  sell   93.270000    EUR          93.27        EUR   \n",
       "2018-11-09T12:06:14Z   buy  348.021666    BAT          93.27        EUR   \n",
       "2018-11-09T12:06:15Z   buy   93.270000    EUR          93.27        EUR   \n",
       "2019-01-25T14:28:56Z  sell   35.960000    EUR          35.96        EUR   \n",
       "2019-01-25T14:28:56Z  sell  348.021666    BAT          35.96        EUR   \n",
       "2021-04-20T18:57:40Z   buy    0.258429    ETH         500.00        EUR   \n",
       "2021-04-20T18:57:41Z   buy  500.000000    EUR         500.00        EUR   \n",
       "\n",
       "                       total  subtotal  total_fee   spot_price trade_id  \n",
       "datetime                                                                 \n",
       "2018-10-22T06:29:22Z  100.00     97.01       2.99  5627.999719     None  \n",
       "2018-10-22T06:29:22Z     NaN       NaN        NaN     1.000000     None  \n",
       "2018-11-09T12:05:12Z   93.27     96.26       2.99  5584.488743     None  \n",
       "2018-11-09T12:05:13Z     NaN       NaN        NaN     1.000000     None  \n",
       "2018-11-09T12:06:14Z   93.27     90.28       2.99     0.259409     None  \n",
       "2018-11-09T12:06:15Z     NaN       NaN        NaN     1.000000     None  \n",
       "2019-01-25T14:28:56Z     NaN       NaN        NaN     1.000000     None  \n",
       "2019-01-25T14:28:56Z   35.96     37.95       1.99     0.109045     None  \n",
       "2021-04-20T18:57:40Z  500.00    492.66       7.34  1906.364408     None  \n",
       "2021-04-20T18:57:41Z     NaN       NaN        NaN     1.000000     None  "
      ]
     },
     "execution_count": 163,
     "metadata": {},
     "output_type": "execute_result"
    }
   ],
   "source": [
    "p.std_df.head(10)"
   ]
  },
  {
   "cell_type": "code",
   "execution_count": 164,
   "metadata": {},
   "outputs": [
    {
     "data": {
      "text/plain": [
       "234.18000000000026"
      ]
     },
     "execution_count": 164,
     "metadata": {},
     "output_type": "execute_result"
    }
   ],
   "source": [
    "p.std_df.total_fee.sum()"
   ]
  },
  {
   "cell_type": "markdown",
   "metadata": {},
   "source": [
    "## Portfolio live value tracker"
   ]
  },
  {
   "cell_type": "code",
   "execution_count": 165,
   "metadata": {},
   "outputs": [],
   "source": [
    "t=Tracker(p.std_df,stocks_start=\"1-1-2021\",configuration=c)"
   ]
  },
  {
   "cell_type": "code",
   "execution_count": 201,
   "metadata": {},
   "outputs": [
    {
     "data": {
      "text/plain": [
       "Timestamp('2021-01-01 00:00:00+0000', tz='UTC')"
      ]
     },
     "execution_count": 201,
     "metadata": {},
     "output_type": "execute_result"
    }
   ],
   "source": [
    "t.stocks_start"
   ]
  },
  {
   "cell_type": "code",
   "execution_count": 194,
   "metadata": {},
   "outputs": [
    {
     "data": {
      "text/html": [
       "<div>\n",
       "<style scoped>\n",
       "    .dataframe tbody tr th:only-of-type {\n",
       "        vertical-align: middle;\n",
       "    }\n",
       "\n",
       "    .dataframe tbody tr th {\n",
       "        vertical-align: top;\n",
       "    }\n",
       "\n",
       "    .dataframe thead th {\n",
       "        text-align: right;\n",
       "    }\n",
       "</style>\n",
       "<table border=\"1\" class=\"dataframe\">\n",
       "  <thead>\n",
       "    <tr style=\"text-align: right;\">\n",
       "      <th></th>\n",
       "      <th>Open date</th>\n",
       "      <th>Type</th>\n",
       "      <th>Qty</th>\n",
       "      <th>Symbol</th>\n",
       "      <th>Adj cost</th>\n",
       "      <th>Adj cost per share</th>\n",
       "    </tr>\n",
       "  </thead>\n",
       "  <tbody>\n",
       "    <tr>\n",
       "      <th>0</th>\n",
       "      <td>2021-04-20 18:57:40+00:00</td>\n",
       "      <td>buy</td>\n",
       "      <td>0.258429</td>\n",
       "      <td>ETH</td>\n",
       "      <td>500.00</td>\n",
       "      <td>1906.364408</td>\n",
       "    </tr>\n",
       "    <tr>\n",
       "      <th>1</th>\n",
       "      <td>2021-04-22 10:13:53+00:00</td>\n",
       "      <td>buy</td>\n",
       "      <td>0.062128</td>\n",
       "      <td>MKR</td>\n",
       "      <td>250.00</td>\n",
       "      <td>3964.873854</td>\n",
       "    </tr>\n",
       "    <tr>\n",
       "      <th>2</th>\n",
       "      <td>2021-04-22 19:20:15+00:00</td>\n",
       "      <td>sell</td>\n",
       "      <td>0.062128</td>\n",
       "      <td>MKR</td>\n",
       "      <td>213.69</td>\n",
       "      <td>3491.496921</td>\n",
       "    </tr>\n",
       "    <tr>\n",
       "      <th>3</th>\n",
       "      <td>2021-04-24 08:53:47+00:00</td>\n",
       "      <td>buy</td>\n",
       "      <td>210.343863</td>\n",
       "      <td>ADA</td>\n",
       "      <td>213.69</td>\n",
       "      <td>1.000980</td>\n",
       "    </tr>\n",
       "    <tr>\n",
       "      <th>4</th>\n",
       "      <td>2021-04-25 16:15:33+00:00</td>\n",
       "      <td>buy</td>\n",
       "      <td>0.350116</td>\n",
       "      <td>CGLD</td>\n",
       "      <td>1.65</td>\n",
       "      <td>4.712730</td>\n",
       "    </tr>\n",
       "    <tr>\n",
       "      <th>5</th>\n",
       "      <td>2021-04-25 16:16:15+00:00</td>\n",
       "      <td>buy</td>\n",
       "      <td>0.350324</td>\n",
       "      <td>CGLD</td>\n",
       "      <td>1.66</td>\n",
       "      <td>4.738470</td>\n",
       "    </tr>\n",
       "    <tr>\n",
       "      <th>6</th>\n",
       "      <td>2021-04-25 16:16:40+00:00</td>\n",
       "      <td>buy</td>\n",
       "      <td>0.350324</td>\n",
       "      <td>CGLD</td>\n",
       "      <td>1.66</td>\n",
       "      <td>4.738470</td>\n",
       "    </tr>\n",
       "    <tr>\n",
       "      <th>7</th>\n",
       "      <td>2021-04-25 16:20:07+00:00</td>\n",
       "      <td>buy</td>\n",
       "      <td>0.751597</td>\n",
       "      <td>GRT</td>\n",
       "      <td>0.83</td>\n",
       "      <td>1.104315</td>\n",
       "    </tr>\n",
       "    <tr>\n",
       "      <th>8</th>\n",
       "      <td>2021-04-25 16:20:47+00:00</td>\n",
       "      <td>buy</td>\n",
       "      <td>0.751597</td>\n",
       "      <td>GRT</td>\n",
       "      <td>0.83</td>\n",
       "      <td>1.104315</td>\n",
       "    </tr>\n",
       "    <tr>\n",
       "      <th>9</th>\n",
       "      <td>2021-04-25 16:21:22+00:00</td>\n",
       "      <td>buy</td>\n",
       "      <td>0.751880</td>\n",
       "      <td>GRT</td>\n",
       "      <td>0.83</td>\n",
       "      <td>1.103900</td>\n",
       "    </tr>\n",
       "    <tr>\n",
       "      <th>10</th>\n",
       "      <td>2021-04-25 16:22:08+00:00</td>\n",
       "      <td>buy</td>\n",
       "      <td>2.536783</td>\n",
       "      <td>NU</td>\n",
       "      <td>0.83</td>\n",
       "      <td>0.327186</td>\n",
       "    </tr>\n",
       "    <tr>\n",
       "      <th>11</th>\n",
       "      <td>2021-04-25 16:22:52+00:00</td>\n",
       "      <td>buy</td>\n",
       "      <td>2.536783</td>\n",
       "      <td>NU</td>\n",
       "      <td>0.83</td>\n",
       "      <td>0.327186</td>\n",
       "    </tr>\n",
       "    <tr>\n",
       "      <th>12</th>\n",
       "      <td>2021-04-25 16:23:50+00:00</td>\n",
       "      <td>buy</td>\n",
       "      <td>2.522068</td>\n",
       "      <td>NU</td>\n",
       "      <td>0.83</td>\n",
       "      <td>0.329095</td>\n",
       "    </tr>\n",
       "    <tr>\n",
       "      <th>13</th>\n",
       "      <td>2021-04-25 16:24:29+00:00</td>\n",
       "      <td>buy</td>\n",
       "      <td>0.005164</td>\n",
       "      <td>COMP</td>\n",
       "      <td>2.48</td>\n",
       "      <td>480.268331</td>\n",
       "    </tr>\n",
       "    <tr>\n",
       "      <th>14</th>\n",
       "      <td>2021-04-25 16:24:47+00:00</td>\n",
       "      <td>buy</td>\n",
       "      <td>0.005156</td>\n",
       "      <td>COMP</td>\n",
       "      <td>2.48</td>\n",
       "      <td>480.987421</td>\n",
       "    </tr>\n",
       "    <tr>\n",
       "      <th>15</th>\n",
       "      <td>2021-04-25 16:25:09+00:00</td>\n",
       "      <td>buy</td>\n",
       "      <td>0.005156</td>\n",
       "      <td>COMP</td>\n",
       "      <td>2.48</td>\n",
       "      <td>480.987421</td>\n",
       "    </tr>\n",
       "    <tr>\n",
       "      <th>16</th>\n",
       "      <td>2021-04-25 16:25:41+00:00</td>\n",
       "      <td>buy</td>\n",
       "      <td>4.545289</td>\n",
       "      <td>XLM</td>\n",
       "      <td>1.65</td>\n",
       "      <td>0.363013</td>\n",
       "    </tr>\n",
       "    <tr>\n",
       "      <th>17</th>\n",
       "      <td>2021-04-25 16:25:56+00:00</td>\n",
       "      <td>buy</td>\n",
       "      <td>4.545289</td>\n",
       "      <td>XLM</td>\n",
       "      <td>1.65</td>\n",
       "      <td>0.363013</td>\n",
       "    </tr>\n",
       "    <tr>\n",
       "      <th>18</th>\n",
       "      <td>2021-04-25 16:26:17+00:00</td>\n",
       "      <td>buy</td>\n",
       "      <td>4.545289</td>\n",
       "      <td>XLM</td>\n",
       "      <td>1.66</td>\n",
       "      <td>0.365213</td>\n",
       "    </tr>\n",
       "    <tr>\n",
       "      <th>19</th>\n",
       "      <td>2021-04-25 16:26:32+00:00</td>\n",
       "      <td>buy</td>\n",
       "      <td>4.530945</td>\n",
       "      <td>XLM</td>\n",
       "      <td>1.65</td>\n",
       "      <td>0.364162</td>\n",
       "    </tr>\n",
       "  </tbody>\n",
       "</table>\n",
       "</div>"
      ],
      "text/plain": [
       "                   Open date  Type         Qty Symbol  Adj cost  \\\n",
       "0  2021-04-20 18:57:40+00:00   buy    0.258429    ETH    500.00   \n",
       "1  2021-04-22 10:13:53+00:00   buy    0.062128    MKR    250.00   \n",
       "2  2021-04-22 19:20:15+00:00  sell    0.062128    MKR    213.69   \n",
       "3  2021-04-24 08:53:47+00:00   buy  210.343863    ADA    213.69   \n",
       "4  2021-04-25 16:15:33+00:00   buy    0.350116   CGLD      1.65   \n",
       "5  2021-04-25 16:16:15+00:00   buy    0.350324   CGLD      1.66   \n",
       "6  2021-04-25 16:16:40+00:00   buy    0.350324   CGLD      1.66   \n",
       "7  2021-04-25 16:20:07+00:00   buy    0.751597    GRT      0.83   \n",
       "8  2021-04-25 16:20:47+00:00   buy    0.751597    GRT      0.83   \n",
       "9  2021-04-25 16:21:22+00:00   buy    0.751880    GRT      0.83   \n",
       "10 2021-04-25 16:22:08+00:00   buy    2.536783     NU      0.83   \n",
       "11 2021-04-25 16:22:52+00:00   buy    2.536783     NU      0.83   \n",
       "12 2021-04-25 16:23:50+00:00   buy    2.522068     NU      0.83   \n",
       "13 2021-04-25 16:24:29+00:00   buy    0.005164   COMP      2.48   \n",
       "14 2021-04-25 16:24:47+00:00   buy    0.005156   COMP      2.48   \n",
       "15 2021-04-25 16:25:09+00:00   buy    0.005156   COMP      2.48   \n",
       "16 2021-04-25 16:25:41+00:00   buy    4.545289    XLM      1.65   \n",
       "17 2021-04-25 16:25:56+00:00   buy    4.545289    XLM      1.65   \n",
       "18 2021-04-25 16:26:17+00:00   buy    4.545289    XLM      1.66   \n",
       "19 2021-04-25 16:26:32+00:00   buy    4.530945    XLM      1.65   \n",
       "\n",
       "    Adj cost per share  \n",
       "0          1906.364408  \n",
       "1          3964.873854  \n",
       "2          3491.496921  \n",
       "3             1.000980  \n",
       "4             4.712730  \n",
       "5             4.738470  \n",
       "6             4.738470  \n",
       "7             1.104315  \n",
       "8             1.104315  \n",
       "9             1.103900  \n",
       "10            0.327186  \n",
       "11            0.327186  \n",
       "12            0.329095  \n",
       "13          480.268331  \n",
       "14          480.987421  \n",
       "15          480.987421  \n",
       "16            0.363013  \n",
       "17            0.363013  \n",
       "18            0.365213  \n",
       "19            0.364162  "
      ]
     },
     "execution_count": 194,
     "metadata": {},
     "output_type": "execute_result"
    }
   ],
   "source": [
    "t.portfolio_df.head(20)"
   ]
  },
  {
   "cell_type": "code",
   "execution_count": 168,
   "metadata": {},
   "outputs": [
    {
     "name": "stdout",
     "output_type": "stream",
     "text": [
      "27\n"
     ]
    }
   ],
   "source": [
    "print(len(t.portfolio_df.Symbol.unique()))"
   ]
  },
  {
   "cell_type": "code",
   "execution_count": 169,
   "metadata": {},
   "outputs": [
    {
     "data": {
      "text/html": [
       "<div>\n",
       "<style scoped>\n",
       "    .dataframe tbody tr th:only-of-type {\n",
       "        vertical-align: middle;\n",
       "    }\n",
       "\n",
       "    .dataframe tbody tr th {\n",
       "        vertical-align: top;\n",
       "    }\n",
       "\n",
       "    .dataframe thead th {\n",
       "        text-align: right;\n",
       "    }\n",
       "</style>\n",
       "<table border=\"1\" class=\"dataframe\">\n",
       "  <thead>\n",
       "    <tr style=\"text-align: right;\">\n",
       "      <th></th>\n",
       "      <th>Date</th>\n",
       "      <th>Close</th>\n",
       "      <th>symbol</th>\n",
       "    </tr>\n",
       "  </thead>\n",
       "  <tbody>\n",
       "    <tr>\n",
       "      <th>0</th>\n",
       "      <td>2021-01-01 00:00:00+00:00</td>\n",
       "      <td>600.859522</td>\n",
       "      <td>ETH</td>\n",
       "    </tr>\n",
       "    <tr>\n",
       "      <th>1</th>\n",
       "      <td>2021-01-02 00:00:00+00:00</td>\n",
       "      <td>638.265609</td>\n",
       "      <td>ETH</td>\n",
       "    </tr>\n",
       "    <tr>\n",
       "      <th>2</th>\n",
       "      <td>2021-01-03 00:00:00+00:00</td>\n",
       "      <td>796.329350</td>\n",
       "      <td>ETH</td>\n",
       "    </tr>\n",
       "    <tr>\n",
       "      <th>3</th>\n",
       "      <td>2021-01-04 00:00:00+00:00</td>\n",
       "      <td>848.990363</td>\n",
       "      <td>ETH</td>\n",
       "    </tr>\n",
       "    <tr>\n",
       "      <th>4</th>\n",
       "      <td>2021-01-05 00:00:00+00:00</td>\n",
       "      <td>894.422659</td>\n",
       "      <td>ETH</td>\n",
       "    </tr>\n",
       "    <tr>\n",
       "      <th>...</th>\n",
       "      <td>...</td>\n",
       "      <td>...</td>\n",
       "      <td>...</td>\n",
       "    </tr>\n",
       "    <tr>\n",
       "      <th>3037</th>\n",
       "      <td>2022-03-08 00:00:00+00:00</td>\n",
       "      <td>75.478203</td>\n",
       "      <td>SOL</td>\n",
       "    </tr>\n",
       "    <tr>\n",
       "      <th>3038</th>\n",
       "      <td>2022-03-09 00:00:00+00:00</td>\n",
       "      <td>79.651404</td>\n",
       "      <td>SOL</td>\n",
       "    </tr>\n",
       "    <tr>\n",
       "      <th>3039</th>\n",
       "      <td>2022-03-10 00:00:00+00:00</td>\n",
       "      <td>75.308279</td>\n",
       "      <td>SOL</td>\n",
       "    </tr>\n",
       "    <tr>\n",
       "      <th>3040</th>\n",
       "      <td>2022-03-11 00:00:00+00:00</td>\n",
       "      <td>73.982926</td>\n",
       "      <td>SOL</td>\n",
       "    </tr>\n",
       "    <tr>\n",
       "      <th>3041</th>\n",
       "      <td>2022-03-12 00:00:00+00:00</td>\n",
       "      <td>74.724013</td>\n",
       "      <td>SOL</td>\n",
       "    </tr>\n",
       "  </tbody>\n",
       "</table>\n",
       "<p>3042 rows × 3 columns</p>\n",
       "</div>"
      ],
      "text/plain": [
       "                          Date       Close symbol\n",
       "0    2021-01-01 00:00:00+00:00  600.859522    ETH\n",
       "1    2021-01-02 00:00:00+00:00  638.265609    ETH\n",
       "2    2021-01-03 00:00:00+00:00  796.329350    ETH\n",
       "3    2021-01-04 00:00:00+00:00  848.990363    ETH\n",
       "4    2021-01-05 00:00:00+00:00  894.422659    ETH\n",
       "...                        ...         ...    ...\n",
       "3037 2022-03-08 00:00:00+00:00   75.478203    SOL\n",
       "3038 2022-03-09 00:00:00+00:00   79.651404    SOL\n",
       "3039 2022-03-10 00:00:00+00:00   75.308279    SOL\n",
       "3040 2022-03-11 00:00:00+00:00   73.982926    SOL\n",
       "3041 2022-03-12 00:00:00+00:00   74.724013    SOL\n",
       "\n",
       "[3042 rows x 3 columns]"
      ]
     },
     "execution_count": 169,
     "metadata": {},
     "output_type": "execute_result"
    }
   ],
   "source": [
    "closedata=t.load_data()\n",
    "closedata"
   ]
  },
  {
   "cell_type": "code",
   "execution_count": 170,
   "metadata": {},
   "outputs": [
    {
     "data": {
      "text/plain": [
       "[]"
      ]
     },
     "execution_count": 170,
     "metadata": {},
     "output_type": "execute_result"
    }
   ],
   "source": [
    "t.error_log"
   ]
  },
  {
   "cell_type": "code",
   "execution_count": 171,
   "metadata": {},
   "outputs": [
    {
     "name": "stdout",
     "output_type": "stream",
     "text": [
      "27\n"
     ]
    }
   ],
   "source": [
    "print(len(closedata.symbol.unique()))"
   ]
  },
  {
   "cell_type": "code",
   "execution_count": 172,
   "metadata": {},
   "outputs": [
    {
     "data": {
      "text/html": [
       "<div>\n",
       "<style scoped>\n",
       "    .dataframe tbody tr th:only-of-type {\n",
       "        vertical-align: middle;\n",
       "    }\n",
       "\n",
       "    .dataframe tbody tr th {\n",
       "        vertical-align: top;\n",
       "    }\n",
       "\n",
       "    .dataframe thead th {\n",
       "        text-align: right;\n",
       "    }\n",
       "</style>\n",
       "<table border=\"1\" class=\"dataframe\">\n",
       "  <thead>\n",
       "    <tr style=\"text-align: right;\">\n",
       "      <th></th>\n",
       "      <th>Date</th>\n",
       "      <th>Close</th>\n",
       "    </tr>\n",
       "  </thead>\n",
       "  <tbody>\n",
       "    <tr>\n",
       "      <th>0</th>\n",
       "      <td>2021-01-01 00:00:00+00:00</td>\n",
       "      <td>600.859522</td>\n",
       "    </tr>\n",
       "    <tr>\n",
       "      <th>1</th>\n",
       "      <td>2021-01-02 00:00:00+00:00</td>\n",
       "      <td>638.265609</td>\n",
       "    </tr>\n",
       "    <tr>\n",
       "      <th>2</th>\n",
       "      <td>2021-01-03 00:00:00+00:00</td>\n",
       "      <td>796.329350</td>\n",
       "    </tr>\n",
       "    <tr>\n",
       "      <th>3</th>\n",
       "      <td>2021-01-04 00:00:00+00:00</td>\n",
       "      <td>848.990363</td>\n",
       "    </tr>\n",
       "    <tr>\n",
       "      <th>4</th>\n",
       "      <td>2021-01-05 00:00:00+00:00</td>\n",
       "      <td>894.422659</td>\n",
       "    </tr>\n",
       "    <tr>\n",
       "      <th>...</th>\n",
       "      <td>...</td>\n",
       "      <td>...</td>\n",
       "    </tr>\n",
       "    <tr>\n",
       "      <th>431</th>\n",
       "      <td>2022-03-08 00:00:00+00:00</td>\n",
       "      <td>2364.462260</td>\n",
       "    </tr>\n",
       "    <tr>\n",
       "      <th>432</th>\n",
       "      <td>2022-03-09 00:00:00+00:00</td>\n",
       "      <td>2465.147372</td>\n",
       "    </tr>\n",
       "    <tr>\n",
       "      <th>433</th>\n",
       "      <td>2022-03-10 00:00:00+00:00</td>\n",
       "      <td>2368.094996</td>\n",
       "    </tr>\n",
       "    <tr>\n",
       "      <th>434</th>\n",
       "      <td>2022-03-11 00:00:00+00:00</td>\n",
       "      <td>2345.209878</td>\n",
       "    </tr>\n",
       "    <tr>\n",
       "      <th>435</th>\n",
       "      <td>2022-03-12 00:00:00+00:00</td>\n",
       "      <td>2359.128839</td>\n",
       "    </tr>\n",
       "  </tbody>\n",
       "</table>\n",
       "<p>436 rows × 2 columns</p>\n",
       "</div>"
      ],
      "text/plain": [
       "                         Date        Close\n",
       "0   2021-01-01 00:00:00+00:00   600.859522\n",
       "1   2021-01-02 00:00:00+00:00   638.265609\n",
       "2   2021-01-03 00:00:00+00:00   796.329350\n",
       "3   2021-01-04 00:00:00+00:00   848.990363\n",
       "4   2021-01-05 00:00:00+00:00   894.422659\n",
       "..                        ...          ...\n",
       "431 2022-03-08 00:00:00+00:00  2364.462260\n",
       "432 2022-03-09 00:00:00+00:00  2465.147372\n",
       "433 2022-03-10 00:00:00+00:00  2368.094996\n",
       "434 2022-03-11 00:00:00+00:00  2345.209878\n",
       "435 2022-03-12 00:00:00+00:00  2359.128839\n",
       "\n",
       "[436 rows x 2 columns]"
      ]
     },
     "execution_count": 172,
     "metadata": {},
     "output_type": "execute_result"
    }
   ],
   "source": [
    "benchmark=t.set_benchmark(\"ETH\")\n",
    "benchmark"
   ]
  },
  {
   "cell_type": "code",
   "execution_count": 173,
   "metadata": {},
   "outputs": [
    {
     "data": {
      "text/html": [
       "<div>\n",
       "<style scoped>\n",
       "    .dataframe tbody tr th:only-of-type {\n",
       "        vertical-align: middle;\n",
       "    }\n",
       "\n",
       "    .dataframe tbody tr th {\n",
       "        vertical-align: top;\n",
       "    }\n",
       "\n",
       "    .dataframe thead th {\n",
       "        text-align: right;\n",
       "    }\n",
       "</style>\n",
       "<table border=\"1\" class=\"dataframe\">\n",
       "  <thead>\n",
       "    <tr style=\"text-align: right;\">\n",
       "      <th></th>\n",
       "      <th>Open date</th>\n",
       "      <th>Type</th>\n",
       "      <th>Qty</th>\n",
       "      <th>Symbol</th>\n",
       "      <th>Adj cost</th>\n",
       "      <th>Adj cost per share</th>\n",
       "    </tr>\n",
       "  </thead>\n",
       "  <tbody>\n",
       "    <tr>\n",
       "      <th>0</th>\n",
       "      <td>2021-04-20 18:57:40+00:00</td>\n",
       "      <td>buy</td>\n",
       "      <td>0.258429</td>\n",
       "      <td>ETH</td>\n",
       "      <td>500.00</td>\n",
       "      <td>1906.364408</td>\n",
       "    </tr>\n",
       "    <tr>\n",
       "      <th>1</th>\n",
       "      <td>2021-04-22 10:13:53+00:00</td>\n",
       "      <td>buy</td>\n",
       "      <td>0.062128</td>\n",
       "      <td>MKR</td>\n",
       "      <td>250.00</td>\n",
       "      <td>3964.873854</td>\n",
       "    </tr>\n",
       "    <tr>\n",
       "      <th>2</th>\n",
       "      <td>2021-04-22 19:20:15+00:00</td>\n",
       "      <td>sell</td>\n",
       "      <td>0.062128</td>\n",
       "      <td>MKR</td>\n",
       "      <td>213.69</td>\n",
       "      <td>3491.496921</td>\n",
       "    </tr>\n",
       "    <tr>\n",
       "      <th>3</th>\n",
       "      <td>2021-04-24 08:53:47+00:00</td>\n",
       "      <td>buy</td>\n",
       "      <td>210.343863</td>\n",
       "      <td>ADA</td>\n",
       "      <td>213.69</td>\n",
       "      <td>1.000980</td>\n",
       "    </tr>\n",
       "    <tr>\n",
       "      <th>4</th>\n",
       "      <td>2021-04-25 16:15:33+00:00</td>\n",
       "      <td>buy</td>\n",
       "      <td>0.350116</td>\n",
       "      <td>CGLD</td>\n",
       "      <td>1.65</td>\n",
       "      <td>4.712730</td>\n",
       "    </tr>\n",
       "    <tr>\n",
       "      <th>...</th>\n",
       "      <td>...</td>\n",
       "      <td>...</td>\n",
       "      <td>...</td>\n",
       "      <td>...</td>\n",
       "      <td>...</td>\n",
       "      <td>...</td>\n",
       "    </tr>\n",
       "    <tr>\n",
       "      <th>163</th>\n",
       "      <td>2022-01-02 23:24:25+00:00</td>\n",
       "      <td>sell</td>\n",
       "      <td>1.026156</td>\n",
       "      <td>SOL</td>\n",
       "      <td>159.04</td>\n",
       "      <td>154.986191</td>\n",
       "    </tr>\n",
       "    <tr>\n",
       "      <th>164</th>\n",
       "      <td>2022-01-04 10:33:27+00:00</td>\n",
       "      <td>buy</td>\n",
       "      <td>0.067396</td>\n",
       "      <td>ETH</td>\n",
       "      <td>225.88</td>\n",
       "      <td>3351.534216</td>\n",
       "    </tr>\n",
       "    <tr>\n",
       "      <th>165</th>\n",
       "      <td>2022-01-04 10:44:49+00:00</td>\n",
       "      <td>buy</td>\n",
       "      <td>1.511428</td>\n",
       "      <td>SOL</td>\n",
       "      <td>225.73</td>\n",
       "      <td>149.348800</td>\n",
       "    </tr>\n",
       "    <tr>\n",
       "      <th>166</th>\n",
       "      <td>2022-01-04 10:44:51+00:00</td>\n",
       "      <td>sell</td>\n",
       "      <td>0.068600</td>\n",
       "      <td>ETH</td>\n",
       "      <td>230.19</td>\n",
       "      <td>3355.559414</td>\n",
       "    </tr>\n",
       "    <tr>\n",
       "      <th>167</th>\n",
       "      <td>2022-01-04 10:46:31+00:00</td>\n",
       "      <td>sell</td>\n",
       "      <td>1.511428</td>\n",
       "      <td>SOL</td>\n",
       "      <td>226.08</td>\n",
       "      <td>149.580369</td>\n",
       "    </tr>\n",
       "  </tbody>\n",
       "</table>\n",
       "<p>168 rows × 6 columns</p>\n",
       "</div>"
      ],
      "text/plain": [
       "                    Open date  Type         Qty Symbol  Adj cost  \\\n",
       "0   2021-04-20 18:57:40+00:00   buy    0.258429    ETH    500.00   \n",
       "1   2021-04-22 10:13:53+00:00   buy    0.062128    MKR    250.00   \n",
       "2   2021-04-22 19:20:15+00:00  sell    0.062128    MKR    213.69   \n",
       "3   2021-04-24 08:53:47+00:00   buy  210.343863    ADA    213.69   \n",
       "4   2021-04-25 16:15:33+00:00   buy    0.350116   CGLD      1.65   \n",
       "..                        ...   ...         ...    ...       ...   \n",
       "163 2022-01-02 23:24:25+00:00  sell    1.026156    SOL    159.04   \n",
       "164 2022-01-04 10:33:27+00:00   buy    0.067396    ETH    225.88   \n",
       "165 2022-01-04 10:44:49+00:00   buy    1.511428    SOL    225.73   \n",
       "166 2022-01-04 10:44:51+00:00  sell    0.068600    ETH    230.19   \n",
       "167 2022-01-04 10:46:31+00:00  sell    1.511428    SOL    226.08   \n",
       "\n",
       "     Adj cost per share  \n",
       "0           1906.364408  \n",
       "1           3964.873854  \n",
       "2           3491.496921  \n",
       "3              1.000980  \n",
       "4              4.712730  \n",
       "..                  ...  \n",
       "163          154.986191  \n",
       "164         3351.534216  \n",
       "165          149.348800  \n",
       "166         3355.559414  \n",
       "167          149.580369  \n",
       "\n",
       "[168 rows x 6 columns]"
      ]
     },
     "execution_count": 173,
     "metadata": {},
     "output_type": "execute_result"
    }
   ],
   "source": [
    "active_portfolio=t.portfolio_start_balance()\n",
    "active_portfolio"
   ]
  },
  {
   "cell_type": "code",
   "execution_count": 189,
   "metadata": {},
   "outputs": [
    {
     "data": {
      "text/html": [
       "<div>\n",
       "<style scoped>\n",
       "    .dataframe tbody tr th:only-of-type {\n",
       "        vertical-align: middle;\n",
       "    }\n",
       "\n",
       "    .dataframe tbody tr th {\n",
       "        vertical-align: top;\n",
       "    }\n",
       "\n",
       "    .dataframe thead th {\n",
       "        text-align: right;\n",
       "    }\n",
       "</style>\n",
       "<table border=\"1\" class=\"dataframe\">\n",
       "  <thead>\n",
       "    <tr style=\"text-align: right;\">\n",
       "      <th></th>\n",
       "      <th>Open date</th>\n",
       "      <th>Type</th>\n",
       "      <th>Qty</th>\n",
       "      <th>Symbol</th>\n",
       "      <th>Adj cost</th>\n",
       "      <th>Adj cost per share</th>\n",
       "    </tr>\n",
       "  </thead>\n",
       "  <tbody>\n",
       "    <tr>\n",
       "      <th>158</th>\n",
       "      <td>2021-12-23 07:27:10+00:00</td>\n",
       "      <td>sell</td>\n",
       "      <td>85.344257</td>\n",
       "      <td>MATIC</td>\n",
       "      <td>199.58</td>\n",
       "      <td>2.338529</td>\n",
       "    </tr>\n",
       "    <tr>\n",
       "      <th>159</th>\n",
       "      <td>2021-12-23 07:28:57+00:00</td>\n",
       "      <td>buy</td>\n",
       "      <td>1.001178</td>\n",
       "      <td>AAVE</td>\n",
       "      <td>195.57</td>\n",
       "      <td>195.339958</td>\n",
       "    </tr>\n",
       "    <tr>\n",
       "      <th>160</th>\n",
       "      <td>2021-12-23 07:28:58+00:00</td>\n",
       "      <td>sell</td>\n",
       "      <td>85.357006</td>\n",
       "      <td>MATIC</td>\n",
       "      <td>199.82</td>\n",
       "      <td>2.340991</td>\n",
       "    </tr>\n",
       "    <tr>\n",
       "      <th>161</th>\n",
       "      <td>2022-01-02 12:28:59+00:00</td>\n",
       "      <td>buy</td>\n",
       "      <td>0.072590</td>\n",
       "      <td>ETH</td>\n",
       "      <td>250.00</td>\n",
       "      <td>3311.907396</td>\n",
       "    </tr>\n",
       "    <tr>\n",
       "      <th>162</th>\n",
       "      <td>2022-01-02 12:34:02+00:00</td>\n",
       "      <td>sell</td>\n",
       "      <td>0.071386</td>\n",
       "      <td>ETH</td>\n",
       "      <td>234.98</td>\n",
       "      <td>3291.681842</td>\n",
       "    </tr>\n",
       "    <tr>\n",
       "      <th>163</th>\n",
       "      <td>2022-01-02 23:24:25+00:00</td>\n",
       "      <td>sell</td>\n",
       "      <td>1.026156</td>\n",
       "      <td>SOL</td>\n",
       "      <td>159.04</td>\n",
       "      <td>154.986191</td>\n",
       "    </tr>\n",
       "    <tr>\n",
       "      <th>164</th>\n",
       "      <td>2022-01-04 10:33:27+00:00</td>\n",
       "      <td>buy</td>\n",
       "      <td>0.067396</td>\n",
       "      <td>ETH</td>\n",
       "      <td>225.88</td>\n",
       "      <td>3351.534216</td>\n",
       "    </tr>\n",
       "    <tr>\n",
       "      <th>165</th>\n",
       "      <td>2022-01-04 10:44:49+00:00</td>\n",
       "      <td>buy</td>\n",
       "      <td>1.511428</td>\n",
       "      <td>SOL</td>\n",
       "      <td>225.73</td>\n",
       "      <td>149.348800</td>\n",
       "    </tr>\n",
       "    <tr>\n",
       "      <th>166</th>\n",
       "      <td>2022-01-04 10:44:51+00:00</td>\n",
       "      <td>sell</td>\n",
       "      <td>0.068600</td>\n",
       "      <td>ETH</td>\n",
       "      <td>230.19</td>\n",
       "      <td>3355.559414</td>\n",
       "    </tr>\n",
       "    <tr>\n",
       "      <th>167</th>\n",
       "      <td>2022-01-04 10:46:31+00:00</td>\n",
       "      <td>sell</td>\n",
       "      <td>1.511428</td>\n",
       "      <td>SOL</td>\n",
       "      <td>226.08</td>\n",
       "      <td>149.580369</td>\n",
       "    </tr>\n",
       "  </tbody>\n",
       "</table>\n",
       "</div>"
      ],
      "text/plain": [
       "                    Open date  Type        Qty Symbol  Adj cost  \\\n",
       "158 2021-12-23 07:27:10+00:00  sell  85.344257  MATIC    199.58   \n",
       "159 2021-12-23 07:28:57+00:00   buy   1.001178   AAVE    195.57   \n",
       "160 2021-12-23 07:28:58+00:00  sell  85.357006  MATIC    199.82   \n",
       "161 2022-01-02 12:28:59+00:00   buy   0.072590    ETH    250.00   \n",
       "162 2022-01-02 12:34:02+00:00  sell   0.071386    ETH    234.98   \n",
       "163 2022-01-02 23:24:25+00:00  sell   1.026156    SOL    159.04   \n",
       "164 2022-01-04 10:33:27+00:00   buy   0.067396    ETH    225.88   \n",
       "165 2022-01-04 10:44:49+00:00   buy   1.511428    SOL    225.73   \n",
       "166 2022-01-04 10:44:51+00:00  sell   0.068600    ETH    230.19   \n",
       "167 2022-01-04 10:46:31+00:00  sell   1.511428    SOL    226.08   \n",
       "\n",
       "     Adj cost per share  \n",
       "158            2.338529  \n",
       "159          195.339958  \n",
       "160            2.340991  \n",
       "161         3311.907396  \n",
       "162         3291.681842  \n",
       "163          154.986191  \n",
       "164         3351.534216  \n",
       "165          149.348800  \n",
       "166         3355.559414  \n",
       "167          149.580369  "
      ]
     },
     "execution_count": 189,
     "metadata": {},
     "output_type": "execute_result"
    }
   ],
   "source": [
    "active_portfolio.tail(10)"
   ]
  },
  {
   "cell_type": "code",
   "execution_count": 209,
   "metadata": {},
   "outputs": [
    {
     "name": "stdout",
     "output_type": "stream",
     "text": [
      "27\n"
     ]
    }
   ],
   "source": [
    "print(len(active_portfolio.Symbol.unique()))"
   ]
  },
  {
   "cell_type": "code",
   "execution_count": 211,
   "metadata": {},
   "outputs": [],
   "source": [
    "positions_per_day=t.time_fill(active_portfolio)"
   ]
  },
  {
   "cell_type": "code",
   "execution_count": 186,
   "metadata": {},
   "outputs": [],
   "source": [
    "pd.set_option('display.max_columns', 500)\n"
   ]
  },
  {
   "cell_type": "code",
   "execution_count": 197,
   "metadata": {},
   "outputs": [
    {
     "data": {
      "text/html": [
       "<div>\n",
       "<style scoped>\n",
       "    .dataframe tbody tr th:only-of-type {\n",
       "        vertical-align: middle;\n",
       "    }\n",
       "\n",
       "    .dataframe tbody tr th {\n",
       "        vertical-align: top;\n",
       "    }\n",
       "\n",
       "    .dataframe thead th {\n",
       "        text-align: right;\n",
       "    }\n",
       "</style>\n",
       "<table border=\"1\" class=\"dataframe\">\n",
       "  <thead>\n",
       "    <tr style=\"text-align: right;\">\n",
       "      <th></th>\n",
       "      <th>Open date</th>\n",
       "      <th>Type</th>\n",
       "      <th>Qty</th>\n",
       "      <th>Symbol</th>\n",
       "      <th>Adj cost</th>\n",
       "      <th>Adj cost per share</th>\n",
       "      <th>Date Snapshot</th>\n",
       "    </tr>\n",
       "  </thead>\n",
       "  <tbody>\n",
       "  </tbody>\n",
       "</table>\n",
       "</div>"
      ],
      "text/plain": [
       "Empty DataFrame\n",
       "Columns: [Open date, Type, Qty, Symbol, Adj cost, Adj cost per share, Date Snapshot]\n",
       "Index: []"
      ]
     },
     "execution_count": 197,
     "metadata": {},
     "output_type": "execute_result"
    }
   ],
   "source": [
    "positions_per_day[-1]"
   ]
  },
  {
   "cell_type": "code",
   "execution_count": 156,
   "metadata": {},
   "outputs": [
    {
     "name": "stderr",
     "output_type": "stream",
     "text": [
      "/opt/miniconda3/envs/cryptoenv/lib/python3.7/site-packages/pandas/core/generic.py:5516: SettingWithCopyWarning:\n",
      "\n",
      "\n",
      "A value is trying to be set on a copy of a slice from a DataFrame.\n",
      "Try using .loc[row_indexer,col_indexer] = value instead\n",
      "\n",
      "See the caveats in the documentation: https://pandas.pydata.org/pandas-docs/stable/user_guide/indexing.html#returning-a-view-versus-a-copy\n",
      "\n"
     ]
    },
    {
     "data": {
      "text/html": [
       "<div>\n",
       "<style scoped>\n",
       "    .dataframe tbody tr th:only-of-type {\n",
       "        vertical-align: middle;\n",
       "    }\n",
       "\n",
       "    .dataframe tbody tr th {\n",
       "        vertical-align: top;\n",
       "    }\n",
       "\n",
       "    .dataframe thead th {\n",
       "        text-align: right;\n",
       "    }\n",
       "</style>\n",
       "<table border=\"1\" class=\"dataframe\">\n",
       "  <thead>\n",
       "    <tr style=\"text-align: right;\">\n",
       "      <th></th>\n",
       "      <th>Adj cost</th>\n",
       "      <th>Adj cost per share</th>\n",
       "      <th>Date Snapshot</th>\n",
       "      <th>Open date</th>\n",
       "      <th>Qty</th>\n",
       "      <th>Symbol</th>\n",
       "      <th>Type</th>\n",
       "      <th>Symbol Adj Close</th>\n",
       "      <th>Adj cost daily</th>\n",
       "      <th>Benchmark Close</th>\n",
       "      <th>Benchmark End Date Close</th>\n",
       "      <th>Benchmark Start Date Close</th>\n",
       "      <th>symbol End Date Close</th>\n",
       "      <th>symbol Start Date Close</th>\n",
       "      <th>Equiv Benchmark Shares</th>\n",
       "      <th>Benchmark Start Date Cost</th>\n",
       "      <th>Benchmark Return</th>\n",
       "      <th>symbol Return</th>\n",
       "      <th>symbol Share Value</th>\n",
       "      <th>Benchmark Share Value</th>\n",
       "      <th>Stock Gain / (Loss)</th>\n",
       "      <th>Benchmark Gain / (Loss)</th>\n",
       "      <th>Abs Value Compare</th>\n",
       "      <th>Abs Value Return</th>\n",
       "      <th>Abs. Return Compare</th>\n",
       "    </tr>\n",
       "  </thead>\n",
       "  <tbody>\n",
       "    <tr>\n",
       "      <th>0</th>\n",
       "      <td>492.660000</td>\n",
       "      <td>1906.364408</td>\n",
       "      <td>2021-04-20 00:00:00+00:00</td>\n",
       "      <td>2021-04-20 18:57:40+00:00</td>\n",
       "      <td>0.258429</td>\n",
       "      <td>ETH</td>\n",
       "      <td>buy</td>\n",
       "      <td>1936.596366</td>\n",
       "      <td>500.472817</td>\n",
       "      <td>1936.596366</td>\n",
       "      <td>2359.128839</td>\n",
       "      <td>600.859522</td>\n",
       "      <td>2359.128839</td>\n",
       "      <td>600.859522</td>\n",
       "      <td>0.819925</td>\n",
       "      <td>492.660000</td>\n",
       "      <td>2.223043</td>\n",
       "      <td>0.015858</td>\n",
       "      <td>500.472817</td>\n",
       "      <td>1587.864602</td>\n",
       "      <td>7.812817</td>\n",
       "      <td>1095.204602</td>\n",
       "      <td>7.812817</td>\n",
       "      <td>0.015858</td>\n",
       "      <td>-2.207185</td>\n",
       "    </tr>\n",
       "    <tr>\n",
       "      <th>1</th>\n",
       "      <td>492.660000</td>\n",
       "      <td>1906.364408</td>\n",
       "      <td>2021-04-21 00:00:00+00:00</td>\n",
       "      <td>2021-04-20 18:57:40+00:00</td>\n",
       "      <td>0.258429</td>\n",
       "      <td>ETH</td>\n",
       "      <td>buy</td>\n",
       "      <td>1964.593249</td>\n",
       "      <td>507.708026</td>\n",
       "      <td>1964.593249</td>\n",
       "      <td>2359.128839</td>\n",
       "      <td>600.859522</td>\n",
       "      <td>2359.128839</td>\n",
       "      <td>600.859522</td>\n",
       "      <td>0.819925</td>\n",
       "      <td>492.660000</td>\n",
       "      <td>2.269638</td>\n",
       "      <td>0.030544</td>\n",
       "      <td>507.708026</td>\n",
       "      <td>1610.819957</td>\n",
       "      <td>15.048026</td>\n",
       "      <td>1118.159957</td>\n",
       "      <td>15.048026</td>\n",
       "      <td>0.030544</td>\n",
       "      <td>-2.239094</td>\n",
       "    </tr>\n",
       "    <tr>\n",
       "      <th>2</th>\n",
       "      <td>492.660000</td>\n",
       "      <td>1906.364408</td>\n",
       "      <td>2021-04-22 00:00:00+00:00</td>\n",
       "      <td>2021-04-20 18:57:40+00:00</td>\n",
       "      <td>0.258429</td>\n",
       "      <td>ETH</td>\n",
       "      <td>buy</td>\n",
       "      <td>2000.536891</td>\n",
       "      <td>516.996908</td>\n",
       "      <td>2000.536891</td>\n",
       "      <td>2359.128839</td>\n",
       "      <td>600.859522</td>\n",
       "      <td>2359.128839</td>\n",
       "      <td>600.859522</td>\n",
       "      <td>0.819925</td>\n",
       "      <td>492.660000</td>\n",
       "      <td>2.329459</td>\n",
       "      <td>0.049399</td>\n",
       "      <td>516.996908</td>\n",
       "      <td>1640.291064</td>\n",
       "      <td>24.336908</td>\n",
       "      <td>1147.631064</td>\n",
       "      <td>24.336908</td>\n",
       "      <td>0.049399</td>\n",
       "      <td>-2.280060</td>\n",
       "    </tr>\n",
       "    <tr>\n",
       "      <th>3</th>\n",
       "      <td>492.660000</td>\n",
       "      <td>1906.364408</td>\n",
       "      <td>2021-04-23 00:00:00+00:00</td>\n",
       "      <td>2021-04-20 18:57:40+00:00</td>\n",
       "      <td>0.258429</td>\n",
       "      <td>ETH</td>\n",
       "      <td>buy</td>\n",
       "      <td>1953.619811</td>\n",
       "      <td>504.872170</td>\n",
       "      <td>1953.619811</td>\n",
       "      <td>2359.128839</td>\n",
       "      <td>600.859522</td>\n",
       "      <td>2359.128839</td>\n",
       "      <td>600.859522</td>\n",
       "      <td>0.819925</td>\n",
       "      <td>492.660000</td>\n",
       "      <td>2.251375</td>\n",
       "      <td>0.024788</td>\n",
       "      <td>504.872170</td>\n",
       "      <td>1601.822557</td>\n",
       "      <td>12.212170</td>\n",
       "      <td>1109.162557</td>\n",
       "      <td>12.212170</td>\n",
       "      <td>0.024788</td>\n",
       "      <td>-2.226587</td>\n",
       "    </tr>\n",
       "    <tr>\n",
       "      <th>4</th>\n",
       "      <td>492.660000</td>\n",
       "      <td>1906.364408</td>\n",
       "      <td>2021-04-24 00:00:00+00:00</td>\n",
       "      <td>2021-04-20 18:57:40+00:00</td>\n",
       "      <td>0.258429</td>\n",
       "      <td>ETH</td>\n",
       "      <td>buy</td>\n",
       "      <td>1828.220570</td>\n",
       "      <td>472.465360</td>\n",
       "      <td>1828.220570</td>\n",
       "      <td>2359.128839</td>\n",
       "      <td>600.859522</td>\n",
       "      <td>2359.128839</td>\n",
       "      <td>600.859522</td>\n",
       "      <td>0.819925</td>\n",
       "      <td>492.660000</td>\n",
       "      <td>2.042676</td>\n",
       "      <td>-0.040991</td>\n",
       "      <td>472.465360</td>\n",
       "      <td>1499.004530</td>\n",
       "      <td>-20.194640</td>\n",
       "      <td>1006.344530</td>\n",
       "      <td>-20.194640</td>\n",
       "      <td>-0.040991</td>\n",
       "      <td>-2.083667</td>\n",
       "    </tr>\n",
       "    <tr>\n",
       "      <th>5</th>\n",
       "      <td>492.660000</td>\n",
       "      <td>1906.364408</td>\n",
       "      <td>2021-04-25 00:00:00+00:00</td>\n",
       "      <td>2021-04-20 18:57:40+00:00</td>\n",
       "      <td>0.258429</td>\n",
       "      <td>ETH</td>\n",
       "      <td>buy</td>\n",
       "      <td>1915.747276</td>\n",
       "      <td>495.084806</td>\n",
       "      <td>1915.747276</td>\n",
       "      <td>2359.128839</td>\n",
       "      <td>600.859522</td>\n",
       "      <td>2359.128839</td>\n",
       "      <td>600.859522</td>\n",
       "      <td>0.819925</td>\n",
       "      <td>492.660000</td>\n",
       "      <td>2.188345</td>\n",
       "      <td>0.004922</td>\n",
       "      <td>495.084806</td>\n",
       "      <td>1570.769902</td>\n",
       "      <td>2.424806</td>\n",
       "      <td>1078.109902</td>\n",
       "      <td>2.424806</td>\n",
       "      <td>0.004922</td>\n",
       "      <td>-2.183423</td>\n",
       "    </tr>\n",
       "    <tr>\n",
       "      <th>6</th>\n",
       "      <td>492.660000</td>\n",
       "      <td>1906.364408</td>\n",
       "      <td>2021-04-26 00:00:00+00:00</td>\n",
       "      <td>2021-04-20 18:57:40+00:00</td>\n",
       "      <td>0.258429</td>\n",
       "      <td>ETH</td>\n",
       "      <td>buy</td>\n",
       "      <td>2098.168223</td>\n",
       "      <td>542.227683</td>\n",
       "      <td>2098.168223</td>\n",
       "      <td>2359.128839</td>\n",
       "      <td>600.859522</td>\n",
       "      <td>2359.128839</td>\n",
       "      <td>600.859522</td>\n",
       "      <td>0.819925</td>\n",
       "      <td>492.660000</td>\n",
       "      <td>2.491945</td>\n",
       "      <td>0.100612</td>\n",
       "      <td>542.227683</td>\n",
       "      <td>1720.341475</td>\n",
       "      <td>49.567683</td>\n",
       "      <td>1227.681475</td>\n",
       "      <td>49.567683</td>\n",
       "      <td>0.100612</td>\n",
       "      <td>-2.391332</td>\n",
       "    </tr>\n",
       "    <tr>\n",
       "      <th>7</th>\n",
       "      <td>492.660000</td>\n",
       "      <td>1906.364408</td>\n",
       "      <td>2021-04-27 00:00:00+00:00</td>\n",
       "      <td>2021-04-20 18:57:40+00:00</td>\n",
       "      <td>0.258429</td>\n",
       "      <td>ETH</td>\n",
       "      <td>buy</td>\n",
       "      <td>2202.679525</td>\n",
       "      <td>569.236443</td>\n",
       "      <td>2202.679525</td>\n",
       "      <td>2359.128839</td>\n",
       "      <td>600.859522</td>\n",
       "      <td>2359.128839</td>\n",
       "      <td>600.859522</td>\n",
       "      <td>0.819925</td>\n",
       "      <td>492.660000</td>\n",
       "      <td>2.665881</td>\n",
       "      <td>0.155435</td>\n",
       "      <td>569.236443</td>\n",
       "      <td>1806.032949</td>\n",
       "      <td>76.576443</td>\n",
       "      <td>1313.372949</td>\n",
       "      <td>76.576443</td>\n",
       "      <td>0.155435</td>\n",
       "      <td>-2.510446</td>\n",
       "    </tr>\n",
       "    <tr>\n",
       "      <th>8</th>\n",
       "      <td>492.660000</td>\n",
       "      <td>1906.364408</td>\n",
       "      <td>2021-04-28 00:00:00+00:00</td>\n",
       "      <td>2021-04-20 18:57:40+00:00</td>\n",
       "      <td>0.258429</td>\n",
       "      <td>ETH</td>\n",
       "      <td>buy</td>\n",
       "      <td>2263.173707</td>\n",
       "      <td>584.869899</td>\n",
       "      <td>2263.173707</td>\n",
       "      <td>2359.128839</td>\n",
       "      <td>600.859522</td>\n",
       "      <td>2359.128839</td>\n",
       "      <td>600.859522</td>\n",
       "      <td>0.819925</td>\n",
       "      <td>492.660000</td>\n",
       "      <td>2.766560</td>\n",
       "      <td>0.187167</td>\n",
       "      <td>584.869899</td>\n",
       "      <td>1855.633667</td>\n",
       "      <td>92.209899</td>\n",
       "      <td>1362.973667</td>\n",
       "      <td>92.209899</td>\n",
       "      <td>0.187167</td>\n",
       "      <td>-2.579393</td>\n",
       "    </tr>\n",
       "    <tr>\n",
       "      <th>9</th>\n",
       "      <td>492.660000</td>\n",
       "      <td>1906.364408</td>\n",
       "      <td>2021-04-29 00:00:00+00:00</td>\n",
       "      <td>2021-04-20 18:57:40+00:00</td>\n",
       "      <td>0.258429</td>\n",
       "      <td>ETH</td>\n",
       "      <td>buy</td>\n",
       "      <td>2273.805980</td>\n",
       "      <td>587.617587</td>\n",
       "      <td>2273.805980</td>\n",
       "      <td>2359.128839</td>\n",
       "      <td>600.859522</td>\n",
       "      <td>2359.128839</td>\n",
       "      <td>600.859522</td>\n",
       "      <td>0.819925</td>\n",
       "      <td>492.660000</td>\n",
       "      <td>2.784256</td>\n",
       "      <td>0.192745</td>\n",
       "      <td>587.617587</td>\n",
       "      <td>1864.351338</td>\n",
       "      <td>94.957587</td>\n",
       "      <td>1371.691338</td>\n",
       "      <td>94.957587</td>\n",
       "      <td>0.192745</td>\n",
       "      <td>-2.591511</td>\n",
       "    </tr>\n",
       "    <tr>\n",
       "      <th>10</th>\n",
       "      <td>492.660000</td>\n",
       "      <td>1906.364408</td>\n",
       "      <td>2021-04-30 00:00:00+00:00</td>\n",
       "      <td>2021-04-20 18:57:40+00:00</td>\n",
       "      <td>0.258429</td>\n",
       "      <td>ETH</td>\n",
       "      <td>buy</td>\n",
       "      <td>2307.255643</td>\n",
       "      <td>596.261953</td>\n",
       "      <td>2307.255643</td>\n",
       "      <td>2359.128839</td>\n",
       "      <td>600.859522</td>\n",
       "      <td>2359.128839</td>\n",
       "      <td>600.859522</td>\n",
       "      <td>0.819925</td>\n",
       "      <td>492.660000</td>\n",
       "      <td>2.839925</td>\n",
       "      <td>0.210291</td>\n",
       "      <td>596.261953</td>\n",
       "      <td>1891.777567</td>\n",
       "      <td>103.601953</td>\n",
       "      <td>1399.117567</td>\n",
       "      <td>103.601953</td>\n",
       "      <td>0.210291</td>\n",
       "      <td>-2.629634</td>\n",
       "    </tr>\n",
       "    <tr>\n",
       "      <th>11</th>\n",
       "      <td>219.775335</td>\n",
       "      <td>1906.364408</td>\n",
       "      <td>2021-05-01 00:00:00+00:00</td>\n",
       "      <td>2021-04-20 18:57:40+00:00</td>\n",
       "      <td>0.115285</td>\n",
       "      <td>ETH</td>\n",
       "      <td>buy</td>\n",
       "      <td>2450.835438</td>\n",
       "      <td>282.544711</td>\n",
       "      <td>2450.835438</td>\n",
       "      <td>2359.128839</td>\n",
       "      <td>600.859522</td>\n",
       "      <td>2359.128839</td>\n",
       "      <td>600.859522</td>\n",
       "      <td>0.365768</td>\n",
       "      <td>219.775335</td>\n",
       "      <td>3.078883</td>\n",
       "      <td>0.285607</td>\n",
       "      <td>282.544711</td>\n",
       "      <td>896.437786</td>\n",
       "      <td>62.769375</td>\n",
       "      <td>676.662451</td>\n",
       "      <td>62.769375</td>\n",
       "      <td>0.285607</td>\n",
       "      <td>-2.793276</td>\n",
       "    </tr>\n",
       "  </tbody>\n",
       "</table>\n",
       "</div>"
      ],
      "text/plain": [
       "      Adj cost  Adj cost per share             Date Snapshot  \\\n",
       "0   492.660000         1906.364408 2021-04-20 00:00:00+00:00   \n",
       "1   492.660000         1906.364408 2021-04-21 00:00:00+00:00   \n",
       "2   492.660000         1906.364408 2021-04-22 00:00:00+00:00   \n",
       "3   492.660000         1906.364408 2021-04-23 00:00:00+00:00   \n",
       "4   492.660000         1906.364408 2021-04-24 00:00:00+00:00   \n",
       "5   492.660000         1906.364408 2021-04-25 00:00:00+00:00   \n",
       "6   492.660000         1906.364408 2021-04-26 00:00:00+00:00   \n",
       "7   492.660000         1906.364408 2021-04-27 00:00:00+00:00   \n",
       "8   492.660000         1906.364408 2021-04-28 00:00:00+00:00   \n",
       "9   492.660000         1906.364408 2021-04-29 00:00:00+00:00   \n",
       "10  492.660000         1906.364408 2021-04-30 00:00:00+00:00   \n",
       "11  219.775335         1906.364408 2021-05-01 00:00:00+00:00   \n",
       "\n",
       "                   Open date       Qty Symbol Type  Symbol Adj Close  \\\n",
       "0  2021-04-20 18:57:40+00:00  0.258429    ETH  buy       1936.596366   \n",
       "1  2021-04-20 18:57:40+00:00  0.258429    ETH  buy       1964.593249   \n",
       "2  2021-04-20 18:57:40+00:00  0.258429    ETH  buy       2000.536891   \n",
       "3  2021-04-20 18:57:40+00:00  0.258429    ETH  buy       1953.619811   \n",
       "4  2021-04-20 18:57:40+00:00  0.258429    ETH  buy       1828.220570   \n",
       "5  2021-04-20 18:57:40+00:00  0.258429    ETH  buy       1915.747276   \n",
       "6  2021-04-20 18:57:40+00:00  0.258429    ETH  buy       2098.168223   \n",
       "7  2021-04-20 18:57:40+00:00  0.258429    ETH  buy       2202.679525   \n",
       "8  2021-04-20 18:57:40+00:00  0.258429    ETH  buy       2263.173707   \n",
       "9  2021-04-20 18:57:40+00:00  0.258429    ETH  buy       2273.805980   \n",
       "10 2021-04-20 18:57:40+00:00  0.258429    ETH  buy       2307.255643   \n",
       "11 2021-04-20 18:57:40+00:00  0.115285    ETH  buy       2450.835438   \n",
       "\n",
       "    Adj cost daily  Benchmark Close  Benchmark End Date Close  \\\n",
       "0       500.472817      1936.596366               2359.128839   \n",
       "1       507.708026      1964.593249               2359.128839   \n",
       "2       516.996908      2000.536891               2359.128839   \n",
       "3       504.872170      1953.619811               2359.128839   \n",
       "4       472.465360      1828.220570               2359.128839   \n",
       "5       495.084806      1915.747276               2359.128839   \n",
       "6       542.227683      2098.168223               2359.128839   \n",
       "7       569.236443      2202.679525               2359.128839   \n",
       "8       584.869899      2263.173707               2359.128839   \n",
       "9       587.617587      2273.805980               2359.128839   \n",
       "10      596.261953      2307.255643               2359.128839   \n",
       "11      282.544711      2450.835438               2359.128839   \n",
       "\n",
       "    Benchmark Start Date Close  symbol End Date Close  \\\n",
       "0                   600.859522            2359.128839   \n",
       "1                   600.859522            2359.128839   \n",
       "2                   600.859522            2359.128839   \n",
       "3                   600.859522            2359.128839   \n",
       "4                   600.859522            2359.128839   \n",
       "5                   600.859522            2359.128839   \n",
       "6                   600.859522            2359.128839   \n",
       "7                   600.859522            2359.128839   \n",
       "8                   600.859522            2359.128839   \n",
       "9                   600.859522            2359.128839   \n",
       "10                  600.859522            2359.128839   \n",
       "11                  600.859522            2359.128839   \n",
       "\n",
       "    symbol Start Date Close  Equiv Benchmark Shares  \\\n",
       "0                600.859522                0.819925   \n",
       "1                600.859522                0.819925   \n",
       "2                600.859522                0.819925   \n",
       "3                600.859522                0.819925   \n",
       "4                600.859522                0.819925   \n",
       "5                600.859522                0.819925   \n",
       "6                600.859522                0.819925   \n",
       "7                600.859522                0.819925   \n",
       "8                600.859522                0.819925   \n",
       "9                600.859522                0.819925   \n",
       "10               600.859522                0.819925   \n",
       "11               600.859522                0.365768   \n",
       "\n",
       "    Benchmark Start Date Cost  Benchmark Return  symbol Return  \\\n",
       "0                  492.660000          2.223043       0.015858   \n",
       "1                  492.660000          2.269638       0.030544   \n",
       "2                  492.660000          2.329459       0.049399   \n",
       "3                  492.660000          2.251375       0.024788   \n",
       "4                  492.660000          2.042676      -0.040991   \n",
       "5                  492.660000          2.188345       0.004922   \n",
       "6                  492.660000          2.491945       0.100612   \n",
       "7                  492.660000          2.665881       0.155435   \n",
       "8                  492.660000          2.766560       0.187167   \n",
       "9                  492.660000          2.784256       0.192745   \n",
       "10                 492.660000          2.839925       0.210291   \n",
       "11                 219.775335          3.078883       0.285607   \n",
       "\n",
       "    symbol Share Value  Benchmark Share Value  Stock Gain / (Loss)  \\\n",
       "0           500.472817            1587.864602             7.812817   \n",
       "1           507.708026            1610.819957            15.048026   \n",
       "2           516.996908            1640.291064            24.336908   \n",
       "3           504.872170            1601.822557            12.212170   \n",
       "4           472.465360            1499.004530           -20.194640   \n",
       "5           495.084806            1570.769902             2.424806   \n",
       "6           542.227683            1720.341475            49.567683   \n",
       "7           569.236443            1806.032949            76.576443   \n",
       "8           584.869899            1855.633667            92.209899   \n",
       "9           587.617587            1864.351338            94.957587   \n",
       "10          596.261953            1891.777567           103.601953   \n",
       "11          282.544711             896.437786            62.769375   \n",
       "\n",
       "    Benchmark Gain / (Loss)  Abs Value Compare  Abs Value Return  \\\n",
       "0               1095.204602           7.812817          0.015858   \n",
       "1               1118.159957          15.048026          0.030544   \n",
       "2               1147.631064          24.336908          0.049399   \n",
       "3               1109.162557          12.212170          0.024788   \n",
       "4               1006.344530         -20.194640         -0.040991   \n",
       "5               1078.109902           2.424806          0.004922   \n",
       "6               1227.681475          49.567683          0.100612   \n",
       "7               1313.372949          76.576443          0.155435   \n",
       "8               1362.973667          92.209899          0.187167   \n",
       "9               1371.691338          94.957587          0.192745   \n",
       "10              1399.117567         103.601953          0.210291   \n",
       "11               676.662451          62.769375          0.285607   \n",
       "\n",
       "    Abs. Return Compare  \n",
       "0             -2.207185  \n",
       "1             -2.239094  \n",
       "2             -2.280060  \n",
       "3             -2.226587  \n",
       "4             -2.083667  \n",
       "5             -2.183423  \n",
       "6             -2.391332  \n",
       "7             -2.510446  \n",
       "8             -2.579393  \n",
       "9             -2.591511  \n",
       "10            -2.629634  \n",
       "11            -2.793276  "
      ]
     },
     "execution_count": 156,
     "metadata": {},
     "output_type": "execute_result"
    }
   ],
   "source": [
    "combined_df=t.per_day_portfolio_calcs(\n",
    "    positions_per_day,\n",
    "    benchmark,\n",
    "    closedata,\n",
    "    t.stocks_start \n",
    ")\n",
    "combined_df"
   ]
  },
  {
   "cell_type": "code",
   "execution_count": 157,
   "metadata": {},
   "outputs": [
    {
     "data": {
      "text/plain": [
       "Index(['Adj cost', 'Adj cost per share', 'Date Snapshot', 'Open date', 'Qty',\n",
       "       'Symbol', 'Type', 'Symbol Adj Close', 'Adj cost daily',\n",
       "       'Benchmark Close', 'Benchmark End Date Close',\n",
       "       'Benchmark Start Date Close', 'symbol End Date Close',\n",
       "       'symbol Start Date Close', 'Equiv Benchmark Shares',\n",
       "       'Benchmark Start Date Cost', 'Benchmark Return', 'symbol Return',\n",
       "       'symbol Share Value', 'Benchmark Share Value', 'Stock Gain / (Loss)',\n",
       "       'Benchmark Gain / (Loss)', 'Abs Value Compare', 'Abs Value Return',\n",
       "       'Abs. Return Compare'],\n",
       "      dtype='object')"
      ]
     },
     "execution_count": 157,
     "metadata": {},
     "output_type": "execute_result"
    }
   ],
   "source": [
    "combined_df.columns"
   ]
  },
  {
   "cell_type": "code",
   "execution_count": 158,
   "metadata": {},
   "outputs": [
    {
     "data": {
      "text/plain": [
       "<DatetimeArray>\n",
       "['2021-04-20 00:00:00+00:00', '2021-04-21 00:00:00+00:00',\n",
       " '2021-04-22 00:00:00+00:00', '2021-04-23 00:00:00+00:00',\n",
       " '2021-04-24 00:00:00+00:00', '2021-04-25 00:00:00+00:00',\n",
       " '2021-04-26 00:00:00+00:00', '2021-04-27 00:00:00+00:00',\n",
       " '2021-04-28 00:00:00+00:00', '2021-04-29 00:00:00+00:00',\n",
       " '2021-04-30 00:00:00+00:00', '2021-05-01 00:00:00+00:00']\n",
       "Length: 12, dtype: datetime64[ns, UTC]"
      ]
     },
     "execution_count": 158,
     "metadata": {},
     "output_type": "execute_result"
    }
   ],
   "source": [
    "combined_df[\"Date Snapshot\"].unique()"
   ]
  },
  {
   "cell_type": "code",
   "execution_count": 159,
   "metadata": {},
   "outputs": [
    {
     "data": {
      "text/html": [
       "<div>\n",
       "<style scoped>\n",
       "    .dataframe tbody tr th:only-of-type {\n",
       "        vertical-align: middle;\n",
       "    }\n",
       "\n",
       "    .dataframe tbody tr th {\n",
       "        vertical-align: top;\n",
       "    }\n",
       "\n",
       "    .dataframe thead th {\n",
       "        text-align: right;\n",
       "    }\n",
       "</style>\n",
       "<table border=\"1\" class=\"dataframe\">\n",
       "  <thead>\n",
       "    <tr style=\"text-align: right;\">\n",
       "      <th></th>\n",
       "      <th>Adj cost</th>\n",
       "      <th>Adj cost per share</th>\n",
       "      <th>Qty</th>\n",
       "      <th>Symbol Adj Close</th>\n",
       "      <th>Adj cost daily</th>\n",
       "      <th>Benchmark Close</th>\n",
       "      <th>Benchmark End Date Close</th>\n",
       "      <th>Benchmark Start Date Close</th>\n",
       "      <th>symbol End Date Close</th>\n",
       "      <th>symbol Start Date Close</th>\n",
       "      <th>Equiv Benchmark Shares</th>\n",
       "      <th>Benchmark Start Date Cost</th>\n",
       "      <th>Benchmark Return</th>\n",
       "      <th>symbol Return</th>\n",
       "      <th>symbol Share Value</th>\n",
       "      <th>Benchmark Share Value</th>\n",
       "      <th>Stock Gain / (Loss)</th>\n",
       "      <th>Benchmark Gain / (Loss)</th>\n",
       "      <th>Abs Value Compare</th>\n",
       "      <th>Abs Value Return</th>\n",
       "      <th>Abs. Return Compare</th>\n",
       "    </tr>\n",
       "    <tr>\n",
       "      <th>Date Snapshot</th>\n",
       "      <th></th>\n",
       "      <th></th>\n",
       "      <th></th>\n",
       "      <th></th>\n",
       "      <th></th>\n",
       "      <th></th>\n",
       "      <th></th>\n",
       "      <th></th>\n",
       "      <th></th>\n",
       "      <th></th>\n",
       "      <th></th>\n",
       "      <th></th>\n",
       "      <th></th>\n",
       "      <th></th>\n",
       "      <th></th>\n",
       "      <th></th>\n",
       "      <th></th>\n",
       "      <th></th>\n",
       "      <th></th>\n",
       "      <th></th>\n",
       "      <th></th>\n",
       "    </tr>\n",
       "  </thead>\n",
       "  <tbody>\n",
       "    <tr>\n",
       "      <th>2021-04-20</th>\n",
       "      <td>492.660000</td>\n",
       "      <td>1906.364408</td>\n",
       "      <td>0.258429</td>\n",
       "      <td>1936.596366</td>\n",
       "      <td>500.472817</td>\n",
       "      <td>1936.596366</td>\n",
       "      <td>2359.128839</td>\n",
       "      <td>600.859522</td>\n",
       "      <td>2359.128839</td>\n",
       "      <td>600.859522</td>\n",
       "      <td>0.819925</td>\n",
       "      <td>492.660000</td>\n",
       "      <td>2.223043</td>\n",
       "      <td>0.015858</td>\n",
       "      <td>500.472817</td>\n",
       "      <td>1587.864602</td>\n",
       "      <td>7.812817</td>\n",
       "      <td>1095.204602</td>\n",
       "      <td>7.812817</td>\n",
       "      <td>0.015858</td>\n",
       "      <td>-2.207185</td>\n",
       "    </tr>\n",
       "    <tr>\n",
       "      <th>2021-04-21</th>\n",
       "      <td>492.660000</td>\n",
       "      <td>1906.364408</td>\n",
       "      <td>0.258429</td>\n",
       "      <td>1964.593249</td>\n",
       "      <td>507.708026</td>\n",
       "      <td>1964.593249</td>\n",
       "      <td>2359.128839</td>\n",
       "      <td>600.859522</td>\n",
       "      <td>2359.128839</td>\n",
       "      <td>600.859522</td>\n",
       "      <td>0.819925</td>\n",
       "      <td>492.660000</td>\n",
       "      <td>2.269638</td>\n",
       "      <td>0.030544</td>\n",
       "      <td>507.708026</td>\n",
       "      <td>1610.819957</td>\n",
       "      <td>15.048026</td>\n",
       "      <td>1118.159957</td>\n",
       "      <td>15.048026</td>\n",
       "      <td>0.030544</td>\n",
       "      <td>-2.239094</td>\n",
       "    </tr>\n",
       "    <tr>\n",
       "      <th>2021-04-22</th>\n",
       "      <td>492.660000</td>\n",
       "      <td>1906.364408</td>\n",
       "      <td>0.258429</td>\n",
       "      <td>2000.536891</td>\n",
       "      <td>516.996908</td>\n",
       "      <td>2000.536891</td>\n",
       "      <td>2359.128839</td>\n",
       "      <td>600.859522</td>\n",
       "      <td>2359.128839</td>\n",
       "      <td>600.859522</td>\n",
       "      <td>0.819925</td>\n",
       "      <td>492.660000</td>\n",
       "      <td>2.329459</td>\n",
       "      <td>0.049399</td>\n",
       "      <td>516.996908</td>\n",
       "      <td>1640.291064</td>\n",
       "      <td>24.336908</td>\n",
       "      <td>1147.631064</td>\n",
       "      <td>24.336908</td>\n",
       "      <td>0.049399</td>\n",
       "      <td>-2.280060</td>\n",
       "    </tr>\n",
       "    <tr>\n",
       "      <th>2021-04-23</th>\n",
       "      <td>492.660000</td>\n",
       "      <td>1906.364408</td>\n",
       "      <td>0.258429</td>\n",
       "      <td>1953.619811</td>\n",
       "      <td>504.872170</td>\n",
       "      <td>1953.619811</td>\n",
       "      <td>2359.128839</td>\n",
       "      <td>600.859522</td>\n",
       "      <td>2359.128839</td>\n",
       "      <td>600.859522</td>\n",
       "      <td>0.819925</td>\n",
       "      <td>492.660000</td>\n",
       "      <td>2.251375</td>\n",
       "      <td>0.024788</td>\n",
       "      <td>504.872170</td>\n",
       "      <td>1601.822557</td>\n",
       "      <td>12.212170</td>\n",
       "      <td>1109.162557</td>\n",
       "      <td>12.212170</td>\n",
       "      <td>0.024788</td>\n",
       "      <td>-2.226587</td>\n",
       "    </tr>\n",
       "    <tr>\n",
       "      <th>2021-04-24</th>\n",
       "      <td>492.660000</td>\n",
       "      <td>1906.364408</td>\n",
       "      <td>0.258429</td>\n",
       "      <td>1828.220570</td>\n",
       "      <td>472.465360</td>\n",
       "      <td>1828.220570</td>\n",
       "      <td>2359.128839</td>\n",
       "      <td>600.859522</td>\n",
       "      <td>2359.128839</td>\n",
       "      <td>600.859522</td>\n",
       "      <td>0.819925</td>\n",
       "      <td>492.660000</td>\n",
       "      <td>2.042676</td>\n",
       "      <td>-0.040991</td>\n",
       "      <td>472.465360</td>\n",
       "      <td>1499.004530</td>\n",
       "      <td>-20.194640</td>\n",
       "      <td>1006.344530</td>\n",
       "      <td>-20.194640</td>\n",
       "      <td>-0.040991</td>\n",
       "      <td>-2.083667</td>\n",
       "    </tr>\n",
       "    <tr>\n",
       "      <th>2021-04-25</th>\n",
       "      <td>492.660000</td>\n",
       "      <td>1906.364408</td>\n",
       "      <td>0.258429</td>\n",
       "      <td>1915.747276</td>\n",
       "      <td>495.084806</td>\n",
       "      <td>1915.747276</td>\n",
       "      <td>2359.128839</td>\n",
       "      <td>600.859522</td>\n",
       "      <td>2359.128839</td>\n",
       "      <td>600.859522</td>\n",
       "      <td>0.819925</td>\n",
       "      <td>492.660000</td>\n",
       "      <td>2.188345</td>\n",
       "      <td>0.004922</td>\n",
       "      <td>495.084806</td>\n",
       "      <td>1570.769902</td>\n",
       "      <td>2.424806</td>\n",
       "      <td>1078.109902</td>\n",
       "      <td>2.424806</td>\n",
       "      <td>0.004922</td>\n",
       "      <td>-2.183423</td>\n",
       "    </tr>\n",
       "    <tr>\n",
       "      <th>2021-04-26</th>\n",
       "      <td>492.660000</td>\n",
       "      <td>1906.364408</td>\n",
       "      <td>0.258429</td>\n",
       "      <td>2098.168223</td>\n",
       "      <td>542.227683</td>\n",
       "      <td>2098.168223</td>\n",
       "      <td>2359.128839</td>\n",
       "      <td>600.859522</td>\n",
       "      <td>2359.128839</td>\n",
       "      <td>600.859522</td>\n",
       "      <td>0.819925</td>\n",
       "      <td>492.660000</td>\n",
       "      <td>2.491945</td>\n",
       "      <td>0.100612</td>\n",
       "      <td>542.227683</td>\n",
       "      <td>1720.341475</td>\n",
       "      <td>49.567683</td>\n",
       "      <td>1227.681475</td>\n",
       "      <td>49.567683</td>\n",
       "      <td>0.100612</td>\n",
       "      <td>-2.391332</td>\n",
       "    </tr>\n",
       "    <tr>\n",
       "      <th>2021-04-27</th>\n",
       "      <td>492.660000</td>\n",
       "      <td>1906.364408</td>\n",
       "      <td>0.258429</td>\n",
       "      <td>2202.679525</td>\n",
       "      <td>569.236443</td>\n",
       "      <td>2202.679525</td>\n",
       "      <td>2359.128839</td>\n",
       "      <td>600.859522</td>\n",
       "      <td>2359.128839</td>\n",
       "      <td>600.859522</td>\n",
       "      <td>0.819925</td>\n",
       "      <td>492.660000</td>\n",
       "      <td>2.665881</td>\n",
       "      <td>0.155435</td>\n",
       "      <td>569.236443</td>\n",
       "      <td>1806.032949</td>\n",
       "      <td>76.576443</td>\n",
       "      <td>1313.372949</td>\n",
       "      <td>76.576443</td>\n",
       "      <td>0.155435</td>\n",
       "      <td>-2.510446</td>\n",
       "    </tr>\n",
       "    <tr>\n",
       "      <th>2021-04-28</th>\n",
       "      <td>492.660000</td>\n",
       "      <td>1906.364408</td>\n",
       "      <td>0.258429</td>\n",
       "      <td>2263.173707</td>\n",
       "      <td>584.869899</td>\n",
       "      <td>2263.173707</td>\n",
       "      <td>2359.128839</td>\n",
       "      <td>600.859522</td>\n",
       "      <td>2359.128839</td>\n",
       "      <td>600.859522</td>\n",
       "      <td>0.819925</td>\n",
       "      <td>492.660000</td>\n",
       "      <td>2.766560</td>\n",
       "      <td>0.187167</td>\n",
       "      <td>584.869899</td>\n",
       "      <td>1855.633667</td>\n",
       "      <td>92.209899</td>\n",
       "      <td>1362.973667</td>\n",
       "      <td>92.209899</td>\n",
       "      <td>0.187167</td>\n",
       "      <td>-2.579393</td>\n",
       "    </tr>\n",
       "    <tr>\n",
       "      <th>2021-04-29</th>\n",
       "      <td>492.660000</td>\n",
       "      <td>1906.364408</td>\n",
       "      <td>0.258429</td>\n",
       "      <td>2273.805980</td>\n",
       "      <td>587.617587</td>\n",
       "      <td>2273.805980</td>\n",
       "      <td>2359.128839</td>\n",
       "      <td>600.859522</td>\n",
       "      <td>2359.128839</td>\n",
       "      <td>600.859522</td>\n",
       "      <td>0.819925</td>\n",
       "      <td>492.660000</td>\n",
       "      <td>2.784256</td>\n",
       "      <td>0.192745</td>\n",
       "      <td>587.617587</td>\n",
       "      <td>1864.351338</td>\n",
       "      <td>94.957587</td>\n",
       "      <td>1371.691338</td>\n",
       "      <td>94.957587</td>\n",
       "      <td>0.192745</td>\n",
       "      <td>-2.591511</td>\n",
       "    </tr>\n",
       "    <tr>\n",
       "      <th>2021-04-30</th>\n",
       "      <td>492.660000</td>\n",
       "      <td>1906.364408</td>\n",
       "      <td>0.258429</td>\n",
       "      <td>2307.255643</td>\n",
       "      <td>596.261953</td>\n",
       "      <td>2307.255643</td>\n",
       "      <td>2359.128839</td>\n",
       "      <td>600.859522</td>\n",
       "      <td>2359.128839</td>\n",
       "      <td>600.859522</td>\n",
       "      <td>0.819925</td>\n",
       "      <td>492.660000</td>\n",
       "      <td>2.839925</td>\n",
       "      <td>0.210291</td>\n",
       "      <td>596.261953</td>\n",
       "      <td>1891.777567</td>\n",
       "      <td>103.601953</td>\n",
       "      <td>1399.117567</td>\n",
       "      <td>103.601953</td>\n",
       "      <td>0.210291</td>\n",
       "      <td>-2.629634</td>\n",
       "    </tr>\n",
       "    <tr>\n",
       "      <th>2021-05-01</th>\n",
       "      <td>219.775335</td>\n",
       "      <td>1906.364408</td>\n",
       "      <td>0.115285</td>\n",
       "      <td>2450.835438</td>\n",
       "      <td>282.544711</td>\n",
       "      <td>2450.835438</td>\n",
       "      <td>2359.128839</td>\n",
       "      <td>600.859522</td>\n",
       "      <td>2359.128839</td>\n",
       "      <td>600.859522</td>\n",
       "      <td>0.365768</td>\n",
       "      <td>219.775335</td>\n",
       "      <td>3.078883</td>\n",
       "      <td>0.285607</td>\n",
       "      <td>282.544711</td>\n",
       "      <td>896.437786</td>\n",
       "      <td>62.769375</td>\n",
       "      <td>676.662451</td>\n",
       "      <td>62.769375</td>\n",
       "      <td>0.285607</td>\n",
       "      <td>-2.793276</td>\n",
       "    </tr>\n",
       "  </tbody>\n",
       "</table>\n",
       "</div>"
      ],
      "text/plain": [
       "                 Adj cost  Adj cost per share       Qty  Symbol Adj Close  \\\n",
       "Date Snapshot                                                               \n",
       "2021-04-20     492.660000         1906.364408  0.258429       1936.596366   \n",
       "2021-04-21     492.660000         1906.364408  0.258429       1964.593249   \n",
       "2021-04-22     492.660000         1906.364408  0.258429       2000.536891   \n",
       "2021-04-23     492.660000         1906.364408  0.258429       1953.619811   \n",
       "2021-04-24     492.660000         1906.364408  0.258429       1828.220570   \n",
       "2021-04-25     492.660000         1906.364408  0.258429       1915.747276   \n",
       "2021-04-26     492.660000         1906.364408  0.258429       2098.168223   \n",
       "2021-04-27     492.660000         1906.364408  0.258429       2202.679525   \n",
       "2021-04-28     492.660000         1906.364408  0.258429       2263.173707   \n",
       "2021-04-29     492.660000         1906.364408  0.258429       2273.805980   \n",
       "2021-04-30     492.660000         1906.364408  0.258429       2307.255643   \n",
       "2021-05-01     219.775335         1906.364408  0.115285       2450.835438   \n",
       "\n",
       "               Adj cost daily  Benchmark Close  Benchmark End Date Close  \\\n",
       "Date Snapshot                                                              \n",
       "2021-04-20         500.472817      1936.596366               2359.128839   \n",
       "2021-04-21         507.708026      1964.593249               2359.128839   \n",
       "2021-04-22         516.996908      2000.536891               2359.128839   \n",
       "2021-04-23         504.872170      1953.619811               2359.128839   \n",
       "2021-04-24         472.465360      1828.220570               2359.128839   \n",
       "2021-04-25         495.084806      1915.747276               2359.128839   \n",
       "2021-04-26         542.227683      2098.168223               2359.128839   \n",
       "2021-04-27         569.236443      2202.679525               2359.128839   \n",
       "2021-04-28         584.869899      2263.173707               2359.128839   \n",
       "2021-04-29         587.617587      2273.805980               2359.128839   \n",
       "2021-04-30         596.261953      2307.255643               2359.128839   \n",
       "2021-05-01         282.544711      2450.835438               2359.128839   \n",
       "\n",
       "               Benchmark Start Date Close  symbol End Date Close  \\\n",
       "Date Snapshot                                                      \n",
       "2021-04-20                     600.859522            2359.128839   \n",
       "2021-04-21                     600.859522            2359.128839   \n",
       "2021-04-22                     600.859522            2359.128839   \n",
       "2021-04-23                     600.859522            2359.128839   \n",
       "2021-04-24                     600.859522            2359.128839   \n",
       "2021-04-25                     600.859522            2359.128839   \n",
       "2021-04-26                     600.859522            2359.128839   \n",
       "2021-04-27                     600.859522            2359.128839   \n",
       "2021-04-28                     600.859522            2359.128839   \n",
       "2021-04-29                     600.859522            2359.128839   \n",
       "2021-04-30                     600.859522            2359.128839   \n",
       "2021-05-01                     600.859522            2359.128839   \n",
       "\n",
       "               symbol Start Date Close  Equiv Benchmark Shares  \\\n",
       "Date Snapshot                                                    \n",
       "2021-04-20                  600.859522                0.819925   \n",
       "2021-04-21                  600.859522                0.819925   \n",
       "2021-04-22                  600.859522                0.819925   \n",
       "2021-04-23                  600.859522                0.819925   \n",
       "2021-04-24                  600.859522                0.819925   \n",
       "2021-04-25                  600.859522                0.819925   \n",
       "2021-04-26                  600.859522                0.819925   \n",
       "2021-04-27                  600.859522                0.819925   \n",
       "2021-04-28                  600.859522                0.819925   \n",
       "2021-04-29                  600.859522                0.819925   \n",
       "2021-04-30                  600.859522                0.819925   \n",
       "2021-05-01                  600.859522                0.365768   \n",
       "\n",
       "               Benchmark Start Date Cost  Benchmark Return  symbol Return  \\\n",
       "Date Snapshot                                                               \n",
       "2021-04-20                    492.660000          2.223043       0.015858   \n",
       "2021-04-21                    492.660000          2.269638       0.030544   \n",
       "2021-04-22                    492.660000          2.329459       0.049399   \n",
       "2021-04-23                    492.660000          2.251375       0.024788   \n",
       "2021-04-24                    492.660000          2.042676      -0.040991   \n",
       "2021-04-25                    492.660000          2.188345       0.004922   \n",
       "2021-04-26                    492.660000          2.491945       0.100612   \n",
       "2021-04-27                    492.660000          2.665881       0.155435   \n",
       "2021-04-28                    492.660000          2.766560       0.187167   \n",
       "2021-04-29                    492.660000          2.784256       0.192745   \n",
       "2021-04-30                    492.660000          2.839925       0.210291   \n",
       "2021-05-01                    219.775335          3.078883       0.285607   \n",
       "\n",
       "               symbol Share Value  Benchmark Share Value  Stock Gain / (Loss)  \\\n",
       "Date Snapshot                                                                   \n",
       "2021-04-20             500.472817            1587.864602             7.812817   \n",
       "2021-04-21             507.708026            1610.819957            15.048026   \n",
       "2021-04-22             516.996908            1640.291064            24.336908   \n",
       "2021-04-23             504.872170            1601.822557            12.212170   \n",
       "2021-04-24             472.465360            1499.004530           -20.194640   \n",
       "2021-04-25             495.084806            1570.769902             2.424806   \n",
       "2021-04-26             542.227683            1720.341475            49.567683   \n",
       "2021-04-27             569.236443            1806.032949            76.576443   \n",
       "2021-04-28             584.869899            1855.633667            92.209899   \n",
       "2021-04-29             587.617587            1864.351338            94.957587   \n",
       "2021-04-30             596.261953            1891.777567           103.601953   \n",
       "2021-05-01             282.544711             896.437786            62.769375   \n",
       "\n",
       "               Benchmark Gain / (Loss)  Abs Value Compare  Abs Value Return  \\\n",
       "Date Snapshot                                                                 \n",
       "2021-04-20                 1095.204602           7.812817          0.015858   \n",
       "2021-04-21                 1118.159957          15.048026          0.030544   \n",
       "2021-04-22                 1147.631064          24.336908          0.049399   \n",
       "2021-04-23                 1109.162557          12.212170          0.024788   \n",
       "2021-04-24                 1006.344530         -20.194640         -0.040991   \n",
       "2021-04-25                 1078.109902           2.424806          0.004922   \n",
       "2021-04-26                 1227.681475          49.567683          0.100612   \n",
       "2021-04-27                 1313.372949          76.576443          0.155435   \n",
       "2021-04-28                 1362.973667          92.209899          0.187167   \n",
       "2021-04-29                 1371.691338          94.957587          0.192745   \n",
       "2021-04-30                 1399.117567         103.601953          0.210291   \n",
       "2021-05-01                  676.662451          62.769375          0.285607   \n",
       "\n",
       "               Abs. Return Compare  \n",
       "Date Snapshot                       \n",
       "2021-04-20               -2.207185  \n",
       "2021-04-21               -2.239094  \n",
       "2021-04-22               -2.280060  \n",
       "2021-04-23               -2.226587  \n",
       "2021-04-24               -2.083667  \n",
       "2021-04-25               -2.183423  \n",
       "2021-04-26               -2.391332  \n",
       "2021-04-27               -2.510446  \n",
       "2021-04-28               -2.579393  \n",
       "2021-04-29               -2.591511  \n",
       "2021-04-30               -2.629634  \n",
       "2021-05-01               -2.793276  "
      ]
     },
     "execution_count": 159,
     "metadata": {},
     "output_type": "execute_result"
    }
   ],
   "source": [
    "combined_df.groupby([combined_df[\"Date Snapshot\"].dt.date]).sum()"
   ]
  },
  {
   "cell_type": "code",
   "execution_count": 160,
   "metadata": {},
   "outputs": [
    {
     "data": {
      "application/vnd.plotly.v1+json": {
       "config": {
        "linkText": "Export to plot.ly",
        "plotlyServerURL": "https://plot.ly",
        "showLink": false
       },
       "data": [
        {
         "hovertemplate": "variable=Stock Gain / (Loss)<br>Date Snapshot=%{x}<br>value=%{y}<extra></extra>",
         "legendgroup": "Stock Gain / (Loss)",
         "line": {
          "color": "#636efa",
          "dash": "solid"
         },
         "marker": {
          "symbol": "circle"
         },
         "mode": "lines",
         "name": "Stock Gain / (Loss)",
         "orientation": "v",
         "showlegend": true,
         "type": "scatter",
         "x": [
          "2021-04-20",
          "2021-04-21",
          "2021-04-22",
          "2021-04-23",
          "2021-04-24",
          "2021-04-25",
          "2021-04-26",
          "2021-04-27",
          "2021-04-28",
          "2021-04-29",
          "2021-04-30",
          "2021-05-01"
         ],
         "xaxis": "x",
         "y": [
          7.812817223017646,
          15.048025807812849,
          24.33690823679268,
          12.212170330157448,
          -20.194640169607055,
          2.4248059589218087,
          49.567683444514216,
          76.57644326021233,
          92.20989904761092,
          94.9575874414939,
          103.6019531014295,
          62.769375458696175
         ],
         "yaxis": "y"
        }
       ],
       "layout": {
        "legend": {
         "title": {
          "text": "variable"
         },
         "tracegroupgap": 0
        },
        "margin": {
         "t": 60
        },
        "template": {
         "data": {
          "bar": [
           {
            "error_x": {
             "color": "#2a3f5f"
            },
            "error_y": {
             "color": "#2a3f5f"
            },
            "marker": {
             "line": {
              "color": "#E5ECF6",
              "width": 0.5
             },
             "pattern": {
              "fillmode": "overlay",
              "size": 10,
              "solidity": 0.2
             }
            },
            "type": "bar"
           }
          ],
          "barpolar": [
           {
            "marker": {
             "line": {
              "color": "#E5ECF6",
              "width": 0.5
             },
             "pattern": {
              "fillmode": "overlay",
              "size": 10,
              "solidity": 0.2
             }
            },
            "type": "barpolar"
           }
          ],
          "carpet": [
           {
            "aaxis": {
             "endlinecolor": "#2a3f5f",
             "gridcolor": "white",
             "linecolor": "white",
             "minorgridcolor": "white",
             "startlinecolor": "#2a3f5f"
            },
            "baxis": {
             "endlinecolor": "#2a3f5f",
             "gridcolor": "white",
             "linecolor": "white",
             "minorgridcolor": "white",
             "startlinecolor": "#2a3f5f"
            },
            "type": "carpet"
           }
          ],
          "choropleth": [
           {
            "colorbar": {
             "outlinewidth": 0,
             "ticks": ""
            },
            "type": "choropleth"
           }
          ],
          "contour": [
           {
            "colorbar": {
             "outlinewidth": 0,
             "ticks": ""
            },
            "colorscale": [
             [
              0,
              "#0d0887"
             ],
             [
              0.1111111111111111,
              "#46039f"
             ],
             [
              0.2222222222222222,
              "#7201a8"
             ],
             [
              0.3333333333333333,
              "#9c179e"
             ],
             [
              0.4444444444444444,
              "#bd3786"
             ],
             [
              0.5555555555555556,
              "#d8576b"
             ],
             [
              0.6666666666666666,
              "#ed7953"
             ],
             [
              0.7777777777777778,
              "#fb9f3a"
             ],
             [
              0.8888888888888888,
              "#fdca26"
             ],
             [
              1,
              "#f0f921"
             ]
            ],
            "type": "contour"
           }
          ],
          "contourcarpet": [
           {
            "colorbar": {
             "outlinewidth": 0,
             "ticks": ""
            },
            "type": "contourcarpet"
           }
          ],
          "heatmap": [
           {
            "colorbar": {
             "outlinewidth": 0,
             "ticks": ""
            },
            "colorscale": [
             [
              0,
              "#0d0887"
             ],
             [
              0.1111111111111111,
              "#46039f"
             ],
             [
              0.2222222222222222,
              "#7201a8"
             ],
             [
              0.3333333333333333,
              "#9c179e"
             ],
             [
              0.4444444444444444,
              "#bd3786"
             ],
             [
              0.5555555555555556,
              "#d8576b"
             ],
             [
              0.6666666666666666,
              "#ed7953"
             ],
             [
              0.7777777777777778,
              "#fb9f3a"
             ],
             [
              0.8888888888888888,
              "#fdca26"
             ],
             [
              1,
              "#f0f921"
             ]
            ],
            "type": "heatmap"
           }
          ],
          "heatmapgl": [
           {
            "colorbar": {
             "outlinewidth": 0,
             "ticks": ""
            },
            "colorscale": [
             [
              0,
              "#0d0887"
             ],
             [
              0.1111111111111111,
              "#46039f"
             ],
             [
              0.2222222222222222,
              "#7201a8"
             ],
             [
              0.3333333333333333,
              "#9c179e"
             ],
             [
              0.4444444444444444,
              "#bd3786"
             ],
             [
              0.5555555555555556,
              "#d8576b"
             ],
             [
              0.6666666666666666,
              "#ed7953"
             ],
             [
              0.7777777777777778,
              "#fb9f3a"
             ],
             [
              0.8888888888888888,
              "#fdca26"
             ],
             [
              1,
              "#f0f921"
             ]
            ],
            "type": "heatmapgl"
           }
          ],
          "histogram": [
           {
            "marker": {
             "pattern": {
              "fillmode": "overlay",
              "size": 10,
              "solidity": 0.2
             }
            },
            "type": "histogram"
           }
          ],
          "histogram2d": [
           {
            "colorbar": {
             "outlinewidth": 0,
             "ticks": ""
            },
            "colorscale": [
             [
              0,
              "#0d0887"
             ],
             [
              0.1111111111111111,
              "#46039f"
             ],
             [
              0.2222222222222222,
              "#7201a8"
             ],
             [
              0.3333333333333333,
              "#9c179e"
             ],
             [
              0.4444444444444444,
              "#bd3786"
             ],
             [
              0.5555555555555556,
              "#d8576b"
             ],
             [
              0.6666666666666666,
              "#ed7953"
             ],
             [
              0.7777777777777778,
              "#fb9f3a"
             ],
             [
              0.8888888888888888,
              "#fdca26"
             ],
             [
              1,
              "#f0f921"
             ]
            ],
            "type": "histogram2d"
           }
          ],
          "histogram2dcontour": [
           {
            "colorbar": {
             "outlinewidth": 0,
             "ticks": ""
            },
            "colorscale": [
             [
              0,
              "#0d0887"
             ],
             [
              0.1111111111111111,
              "#46039f"
             ],
             [
              0.2222222222222222,
              "#7201a8"
             ],
             [
              0.3333333333333333,
              "#9c179e"
             ],
             [
              0.4444444444444444,
              "#bd3786"
             ],
             [
              0.5555555555555556,
              "#d8576b"
             ],
             [
              0.6666666666666666,
              "#ed7953"
             ],
             [
              0.7777777777777778,
              "#fb9f3a"
             ],
             [
              0.8888888888888888,
              "#fdca26"
             ],
             [
              1,
              "#f0f921"
             ]
            ],
            "type": "histogram2dcontour"
           }
          ],
          "mesh3d": [
           {
            "colorbar": {
             "outlinewidth": 0,
             "ticks": ""
            },
            "type": "mesh3d"
           }
          ],
          "parcoords": [
           {
            "line": {
             "colorbar": {
              "outlinewidth": 0,
              "ticks": ""
             }
            },
            "type": "parcoords"
           }
          ],
          "pie": [
           {
            "automargin": true,
            "type": "pie"
           }
          ],
          "scatter": [
           {
            "marker": {
             "colorbar": {
              "outlinewidth": 0,
              "ticks": ""
             }
            },
            "type": "scatter"
           }
          ],
          "scatter3d": [
           {
            "line": {
             "colorbar": {
              "outlinewidth": 0,
              "ticks": ""
             }
            },
            "marker": {
             "colorbar": {
              "outlinewidth": 0,
              "ticks": ""
             }
            },
            "type": "scatter3d"
           }
          ],
          "scattercarpet": [
           {
            "marker": {
             "colorbar": {
              "outlinewidth": 0,
              "ticks": ""
             }
            },
            "type": "scattercarpet"
           }
          ],
          "scattergeo": [
           {
            "marker": {
             "colorbar": {
              "outlinewidth": 0,
              "ticks": ""
             }
            },
            "type": "scattergeo"
           }
          ],
          "scattergl": [
           {
            "marker": {
             "colorbar": {
              "outlinewidth": 0,
              "ticks": ""
             }
            },
            "type": "scattergl"
           }
          ],
          "scattermapbox": [
           {
            "marker": {
             "colorbar": {
              "outlinewidth": 0,
              "ticks": ""
             }
            },
            "type": "scattermapbox"
           }
          ],
          "scatterpolar": [
           {
            "marker": {
             "colorbar": {
              "outlinewidth": 0,
              "ticks": ""
             }
            },
            "type": "scatterpolar"
           }
          ],
          "scatterpolargl": [
           {
            "marker": {
             "colorbar": {
              "outlinewidth": 0,
              "ticks": ""
             }
            },
            "type": "scatterpolargl"
           }
          ],
          "scatterternary": [
           {
            "marker": {
             "colorbar": {
              "outlinewidth": 0,
              "ticks": ""
             }
            },
            "type": "scatterternary"
           }
          ],
          "surface": [
           {
            "colorbar": {
             "outlinewidth": 0,
             "ticks": ""
            },
            "colorscale": [
             [
              0,
              "#0d0887"
             ],
             [
              0.1111111111111111,
              "#46039f"
             ],
             [
              0.2222222222222222,
              "#7201a8"
             ],
             [
              0.3333333333333333,
              "#9c179e"
             ],
             [
              0.4444444444444444,
              "#bd3786"
             ],
             [
              0.5555555555555556,
              "#d8576b"
             ],
             [
              0.6666666666666666,
              "#ed7953"
             ],
             [
              0.7777777777777778,
              "#fb9f3a"
             ],
             [
              0.8888888888888888,
              "#fdca26"
             ],
             [
              1,
              "#f0f921"
             ]
            ],
            "type": "surface"
           }
          ],
          "table": [
           {
            "cells": {
             "fill": {
              "color": "#EBF0F8"
             },
             "line": {
              "color": "white"
             }
            },
            "header": {
             "fill": {
              "color": "#C8D4E3"
             },
             "line": {
              "color": "white"
             }
            },
            "type": "table"
           }
          ]
         },
         "layout": {
          "annotationdefaults": {
           "arrowcolor": "#2a3f5f",
           "arrowhead": 0,
           "arrowwidth": 1
          },
          "autotypenumbers": "strict",
          "coloraxis": {
           "colorbar": {
            "outlinewidth": 0,
            "ticks": ""
           }
          },
          "colorscale": {
           "diverging": [
            [
             0,
             "#8e0152"
            ],
            [
             0.1,
             "#c51b7d"
            ],
            [
             0.2,
             "#de77ae"
            ],
            [
             0.3,
             "#f1b6da"
            ],
            [
             0.4,
             "#fde0ef"
            ],
            [
             0.5,
             "#f7f7f7"
            ],
            [
             0.6,
             "#e6f5d0"
            ],
            [
             0.7,
             "#b8e186"
            ],
            [
             0.8,
             "#7fbc41"
            ],
            [
             0.9,
             "#4d9221"
            ],
            [
             1,
             "#276419"
            ]
           ],
           "sequential": [
            [
             0,
             "#0d0887"
            ],
            [
             0.1111111111111111,
             "#46039f"
            ],
            [
             0.2222222222222222,
             "#7201a8"
            ],
            [
             0.3333333333333333,
             "#9c179e"
            ],
            [
             0.4444444444444444,
             "#bd3786"
            ],
            [
             0.5555555555555556,
             "#d8576b"
            ],
            [
             0.6666666666666666,
             "#ed7953"
            ],
            [
             0.7777777777777778,
             "#fb9f3a"
            ],
            [
             0.8888888888888888,
             "#fdca26"
            ],
            [
             1,
             "#f0f921"
            ]
           ],
           "sequentialminus": [
            [
             0,
             "#0d0887"
            ],
            [
             0.1111111111111111,
             "#46039f"
            ],
            [
             0.2222222222222222,
             "#7201a8"
            ],
            [
             0.3333333333333333,
             "#9c179e"
            ],
            [
             0.4444444444444444,
             "#bd3786"
            ],
            [
             0.5555555555555556,
             "#d8576b"
            ],
            [
             0.6666666666666666,
             "#ed7953"
            ],
            [
             0.7777777777777778,
             "#fb9f3a"
            ],
            [
             0.8888888888888888,
             "#fdca26"
            ],
            [
             1,
             "#f0f921"
            ]
           ]
          },
          "colorway": [
           "#636efa",
           "#EF553B",
           "#00cc96",
           "#ab63fa",
           "#FFA15A",
           "#19d3f3",
           "#FF6692",
           "#B6E880",
           "#FF97FF",
           "#FECB52"
          ],
          "font": {
           "color": "#2a3f5f"
          },
          "geo": {
           "bgcolor": "white",
           "lakecolor": "white",
           "landcolor": "#E5ECF6",
           "showlakes": true,
           "showland": true,
           "subunitcolor": "white"
          },
          "hoverlabel": {
           "align": "left"
          },
          "hovermode": "closest",
          "mapbox": {
           "style": "light"
          },
          "paper_bgcolor": "white",
          "plot_bgcolor": "#E5ECF6",
          "polar": {
           "angularaxis": {
            "gridcolor": "white",
            "linecolor": "white",
            "ticks": ""
           },
           "bgcolor": "#E5ECF6",
           "radialaxis": {
            "gridcolor": "white",
            "linecolor": "white",
            "ticks": ""
           }
          },
          "scene": {
           "xaxis": {
            "backgroundcolor": "#E5ECF6",
            "gridcolor": "white",
            "gridwidth": 2,
            "linecolor": "white",
            "showbackground": true,
            "ticks": "",
            "zerolinecolor": "white"
           },
           "yaxis": {
            "backgroundcolor": "#E5ECF6",
            "gridcolor": "white",
            "gridwidth": 2,
            "linecolor": "white",
            "showbackground": true,
            "ticks": "",
            "zerolinecolor": "white"
           },
           "zaxis": {
            "backgroundcolor": "#E5ECF6",
            "gridcolor": "white",
            "gridwidth": 2,
            "linecolor": "white",
            "showbackground": true,
            "ticks": "",
            "zerolinecolor": "white"
           }
          },
          "shapedefaults": {
           "line": {
            "color": "#2a3f5f"
           }
          },
          "ternary": {
           "aaxis": {
            "gridcolor": "white",
            "linecolor": "white",
            "ticks": ""
           },
           "baxis": {
            "gridcolor": "white",
            "linecolor": "white",
            "ticks": ""
           },
           "bgcolor": "#E5ECF6",
           "caxis": {
            "gridcolor": "white",
            "linecolor": "white",
            "ticks": ""
           }
          },
          "title": {
           "x": 0.05
          },
          "xaxis": {
           "automargin": true,
           "gridcolor": "white",
           "linecolor": "white",
           "ticks": "",
           "title": {
            "standoff": 15
           },
           "zerolinecolor": "white",
           "zerolinewidth": 2
          },
          "yaxis": {
           "automargin": true,
           "gridcolor": "white",
           "linecolor": "white",
           "ticks": "",
           "title": {
            "standoff": 15
           },
           "zerolinecolor": "white",
           "zerolinewidth": 2
          }
         }
        },
        "xaxis": {
         "anchor": "y",
         "domain": [
          0,
          1
         ],
         "title": {
          "text": "Date Snapshot"
         }
        },
        "yaxis": {
         "anchor": "x",
         "domain": [
          0,
          1
         ],
         "title": {
          "text": "value"
         }
        }
       }
      }
     },
     "metadata": {},
     "output_type": "display_data"
    }
   ],
   "source": [
    "t.line(combined_df, [\"Stock Gain / (Loss)\"])\n",
    "# t.line_facets(combined_df, 'symbol Return', 'Benchmark Return')"
   ]
  }
 ],
 "metadata": {
  "interpreter": {
   "hash": "2d92824427b41c6028804632d5278b37df1fc0de77b5e6f8aeb0bbbd2f432773"
  },
  "kernelspec": {
   "display_name": "Python 3.7.12 ('cryptoenv')",
   "language": "python",
   "name": "python3"
  },
  "language_info": {
   "codemirror_mode": {
    "name": "ipython",
    "version": 3
   },
   "file_extension": ".py",
   "mimetype": "text/x-python",
   "name": "python",
   "nbconvert_exporter": "python",
   "pygments_lexer": "ipython3",
   "version": "3.7.12"
  },
  "orig_nbformat": 4
 },
 "nbformat": 4,
 "nbformat_minor": 2
}
