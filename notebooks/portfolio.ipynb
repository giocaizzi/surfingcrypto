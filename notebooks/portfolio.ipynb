{
 "cells": [
  {
   "cell_type": "markdown",
   "metadata": {},
   "source": [
    "# Surfingcrypto `Portfolio`\n",
    "\n",
    "The `surfingcrypto` portfolio."
   ]
  },
  {
   "cell_type": "code",
   "execution_count": 1,
   "metadata": {},
   "outputs": [],
   "source": [
    "%load_ext autoreload\n",
    "%autoreload 2\n",
    "from surfingcrypto import Config\n",
    "from surfingcrypto.portfolio import Portfolio\n",
    "from surfingcrypto.portfolio.tracker import Tracker\n",
    "\n",
    "import pandas as pd\n",
    "c=Config(\"/Users/giorgiocaizzi/Documents/GitHub/surfingcrypto/config\")"
   ]
  },
  {
   "cell_type": "code",
   "execution_count": 3,
   "metadata": {},
   "outputs": [
    {
     "name": "stdout",
     "output_type": "stream",
     "text": [
      "Warning! There are 5 transactionsthat were EXCLUDED in std_df.\n",
      "Coinbase errors:\n",
      "TransactionsHistory(Transactions:186 - Processed:186, Unhandled:0 - Errors:9)\n"
     ]
    }
   ],
   "source": [
    "p=Portfolio(\"coinbase\",configuration=c)"
   ]
  },
  {
   "cell_type": "code",
   "execution_count": 4,
   "metadata": {},
   "outputs": [
    {
     "data": {
      "text/html": [
       "<div>\n",
       "<style scoped>\n",
       "    .dataframe tbody tr th:only-of-type {\n",
       "        vertical-align: middle;\n",
       "    }\n",
       "\n",
       "    .dataframe tbody tr th {\n",
       "        vertical-align: top;\n",
       "    }\n",
       "\n",
       "    .dataframe thead th {\n",
       "        text-align: right;\n",
       "    }\n",
       "</style>\n",
       "<table border=\"1\" class=\"dataframe\">\n",
       "  <thead>\n",
       "    <tr style=\"text-align: right;\">\n",
       "      <th></th>\n",
       "      <th>type</th>\n",
       "      <th>amount</th>\n",
       "      <th>symbol</th>\n",
       "      <th>native_amount</th>\n",
       "      <th>nat_symbol</th>\n",
       "      <th>total</th>\n",
       "      <th>subtotal</th>\n",
       "      <th>total_fee</th>\n",
       "      <th>spot_price</th>\n",
       "      <th>trade_id</th>\n",
       "    </tr>\n",
       "    <tr>\n",
       "      <th>datetime</th>\n",
       "      <th></th>\n",
       "      <th></th>\n",
       "      <th></th>\n",
       "      <th></th>\n",
       "      <th></th>\n",
       "      <th></th>\n",
       "      <th></th>\n",
       "      <th></th>\n",
       "      <th></th>\n",
       "      <th></th>\n",
       "    </tr>\n",
       "  </thead>\n",
       "  <tbody>\n",
       "    <tr>\n",
       "      <th>2018-10-22T06:29:22Z</th>\n",
       "      <td>buy</td>\n",
       "      <td>0.017237</td>\n",
       "      <td>BTC</td>\n",
       "      <td>100.00</td>\n",
       "      <td>EUR</td>\n",
       "      <td>100.00</td>\n",
       "      <td>97.01</td>\n",
       "      <td>2.99</td>\n",
       "      <td>5627.999719</td>\n",
       "      <td>None</td>\n",
       "    </tr>\n",
       "    <tr>\n",
       "      <th>2018-10-22T06:29:22Z</th>\n",
       "      <td>buy</td>\n",
       "      <td>100.000000</td>\n",
       "      <td>EUR</td>\n",
       "      <td>100.00</td>\n",
       "      <td>EUR</td>\n",
       "      <td>NaN</td>\n",
       "      <td>NaN</td>\n",
       "      <td>NaN</td>\n",
       "      <td>1.000000</td>\n",
       "      <td>None</td>\n",
       "    </tr>\n",
       "    <tr>\n",
       "      <th>2018-11-09T12:05:12Z</th>\n",
       "      <td>sell</td>\n",
       "      <td>0.017237</td>\n",
       "      <td>BTC</td>\n",
       "      <td>93.27</td>\n",
       "      <td>EUR</td>\n",
       "      <td>93.27</td>\n",
       "      <td>96.26</td>\n",
       "      <td>2.99</td>\n",
       "      <td>5584.488743</td>\n",
       "      <td>None</td>\n",
       "    </tr>\n",
       "    <tr>\n",
       "      <th>2018-11-09T12:05:13Z</th>\n",
       "      <td>sell</td>\n",
       "      <td>93.270000</td>\n",
       "      <td>EUR</td>\n",
       "      <td>93.27</td>\n",
       "      <td>EUR</td>\n",
       "      <td>NaN</td>\n",
       "      <td>NaN</td>\n",
       "      <td>NaN</td>\n",
       "      <td>1.000000</td>\n",
       "      <td>None</td>\n",
       "    </tr>\n",
       "    <tr>\n",
       "      <th>2018-11-09T12:06:14Z</th>\n",
       "      <td>buy</td>\n",
       "      <td>348.021666</td>\n",
       "      <td>BAT</td>\n",
       "      <td>93.27</td>\n",
       "      <td>EUR</td>\n",
       "      <td>93.27</td>\n",
       "      <td>90.28</td>\n",
       "      <td>2.99</td>\n",
       "      <td>0.259409</td>\n",
       "      <td>None</td>\n",
       "    </tr>\n",
       "    <tr>\n",
       "      <th>2018-11-09T12:06:15Z</th>\n",
       "      <td>buy</td>\n",
       "      <td>93.270000</td>\n",
       "      <td>EUR</td>\n",
       "      <td>93.27</td>\n",
       "      <td>EUR</td>\n",
       "      <td>NaN</td>\n",
       "      <td>NaN</td>\n",
       "      <td>NaN</td>\n",
       "      <td>1.000000</td>\n",
       "      <td>None</td>\n",
       "    </tr>\n",
       "    <tr>\n",
       "      <th>2019-01-25T14:28:56Z</th>\n",
       "      <td>sell</td>\n",
       "      <td>35.960000</td>\n",
       "      <td>EUR</td>\n",
       "      <td>35.96</td>\n",
       "      <td>EUR</td>\n",
       "      <td>NaN</td>\n",
       "      <td>NaN</td>\n",
       "      <td>NaN</td>\n",
       "      <td>1.000000</td>\n",
       "      <td>None</td>\n",
       "    </tr>\n",
       "    <tr>\n",
       "      <th>2019-01-25T14:28:56Z</th>\n",
       "      <td>sell</td>\n",
       "      <td>348.021666</td>\n",
       "      <td>BAT</td>\n",
       "      <td>35.96</td>\n",
       "      <td>EUR</td>\n",
       "      <td>35.96</td>\n",
       "      <td>37.95</td>\n",
       "      <td>1.99</td>\n",
       "      <td>0.109045</td>\n",
       "      <td>None</td>\n",
       "    </tr>\n",
       "    <tr>\n",
       "      <th>2021-04-20T18:57:40Z</th>\n",
       "      <td>buy</td>\n",
       "      <td>0.258429</td>\n",
       "      <td>ETH</td>\n",
       "      <td>500.00</td>\n",
       "      <td>EUR</td>\n",
       "      <td>500.00</td>\n",
       "      <td>492.66</td>\n",
       "      <td>7.34</td>\n",
       "      <td>1906.364408</td>\n",
       "      <td>None</td>\n",
       "    </tr>\n",
       "    <tr>\n",
       "      <th>2021-04-20T18:57:41Z</th>\n",
       "      <td>buy</td>\n",
       "      <td>500.000000</td>\n",
       "      <td>EUR</td>\n",
       "      <td>500.00</td>\n",
       "      <td>EUR</td>\n",
       "      <td>NaN</td>\n",
       "      <td>NaN</td>\n",
       "      <td>NaN</td>\n",
       "      <td>1.000000</td>\n",
       "      <td>None</td>\n",
       "    </tr>\n",
       "  </tbody>\n",
       "</table>\n",
       "</div>"
      ],
      "text/plain": [
       "                      type      amount symbol  native_amount nat_symbol  \\\n",
       "datetime                                                                  \n",
       "2018-10-22T06:29:22Z   buy    0.017237    BTC         100.00        EUR   \n",
       "2018-10-22T06:29:22Z   buy  100.000000    EUR         100.00        EUR   \n",
       "2018-11-09T12:05:12Z  sell    0.017237    BTC          93.27        EUR   \n",
       "2018-11-09T12:05:13Z  sell   93.270000    EUR          93.27        EUR   \n",
       "2018-11-09T12:06:14Z   buy  348.021666    BAT          93.27        EUR   \n",
       "2018-11-09T12:06:15Z   buy   93.270000    EUR          93.27        EUR   \n",
       "2019-01-25T14:28:56Z  sell   35.960000    EUR          35.96        EUR   \n",
       "2019-01-25T14:28:56Z  sell  348.021666    BAT          35.96        EUR   \n",
       "2021-04-20T18:57:40Z   buy    0.258429    ETH         500.00        EUR   \n",
       "2021-04-20T18:57:41Z   buy  500.000000    EUR         500.00        EUR   \n",
       "\n",
       "                       total  subtotal  total_fee   spot_price trade_id  \n",
       "datetime                                                                 \n",
       "2018-10-22T06:29:22Z  100.00     97.01       2.99  5627.999719     None  \n",
       "2018-10-22T06:29:22Z     NaN       NaN        NaN     1.000000     None  \n",
       "2018-11-09T12:05:12Z   93.27     96.26       2.99  5584.488743     None  \n",
       "2018-11-09T12:05:13Z     NaN       NaN        NaN     1.000000     None  \n",
       "2018-11-09T12:06:14Z   93.27     90.28       2.99     0.259409     None  \n",
       "2018-11-09T12:06:15Z     NaN       NaN        NaN     1.000000     None  \n",
       "2019-01-25T14:28:56Z     NaN       NaN        NaN     1.000000     None  \n",
       "2019-01-25T14:28:56Z   35.96     37.95       1.99     0.109045     None  \n",
       "2021-04-20T18:57:40Z  500.00    492.66       7.34  1906.364408     None  \n",
       "2021-04-20T18:57:41Z     NaN       NaN        NaN     1.000000     None  "
      ]
     },
     "execution_count": 4,
     "metadata": {},
     "output_type": "execute_result"
    }
   ],
   "source": [
    "p.std_df.head(10)"
   ]
  },
  {
   "cell_type": "code",
   "execution_count": 5,
   "metadata": {},
   "outputs": [
    {
     "data": {
      "text/plain": [
       "234.18000000000026"
      ]
     },
     "execution_count": 5,
     "metadata": {},
     "output_type": "execute_result"
    }
   ],
   "source": [
    "p.std_df.total_fee.sum()"
   ]
  },
  {
   "cell_type": "markdown",
   "metadata": {},
   "source": [
    "## Portfolio live value tracker"
   ]
  },
  {
   "cell_type": "code",
   "execution_count": 18,
   "metadata": {},
   "outputs": [],
   "source": [
    "t=Tracker(p.std_df,stocks_start=\"20-4-2021\",configuration=c)"
   ]
  },
  {
   "cell_type": "code",
   "execution_count": 19,
   "metadata": {},
   "outputs": [
    {
     "data": {
      "text/plain": [
       "Timestamp('2021-04-20 00:00:00+0000', tz='UTC')"
      ]
     },
     "execution_count": 19,
     "metadata": {},
     "output_type": "execute_result"
    }
   ],
   "source": [
    "t.stocks_start"
   ]
  },
  {
   "cell_type": "code",
   "execution_count": 20,
   "metadata": {},
   "outputs": [
    {
     "data": {
      "text/html": [
       "<div>\n",
       "<style scoped>\n",
       "    .dataframe tbody tr th:only-of-type {\n",
       "        vertical-align: middle;\n",
       "    }\n",
       "\n",
       "    .dataframe tbody tr th {\n",
       "        vertical-align: top;\n",
       "    }\n",
       "\n",
       "    .dataframe thead th {\n",
       "        text-align: right;\n",
       "    }\n",
       "</style>\n",
       "<table border=\"1\" class=\"dataframe\">\n",
       "  <thead>\n",
       "    <tr style=\"text-align: right;\">\n",
       "      <th></th>\n",
       "      <th>Open date</th>\n",
       "      <th>Type</th>\n",
       "      <th>Qty</th>\n",
       "      <th>Symbol</th>\n",
       "      <th>Adj cost</th>\n",
       "      <th>Adj cost per share</th>\n",
       "    </tr>\n",
       "  </thead>\n",
       "  <tbody>\n",
       "    <tr>\n",
       "      <th>0</th>\n",
       "      <td>2018-10-22 06:29:22+00:00</td>\n",
       "      <td>buy</td>\n",
       "      <td>0.017237</td>\n",
       "      <td>BTC</td>\n",
       "      <td>100.00</td>\n",
       "      <td>5627.999719</td>\n",
       "    </tr>\n",
       "    <tr>\n",
       "      <th>2</th>\n",
       "      <td>2018-11-09 12:05:12+00:00</td>\n",
       "      <td>sell</td>\n",
       "      <td>0.017237</td>\n",
       "      <td>BTC</td>\n",
       "      <td>93.27</td>\n",
       "      <td>5584.488743</td>\n",
       "    </tr>\n",
       "    <tr>\n",
       "      <th>4</th>\n",
       "      <td>2018-11-09 12:06:14+00:00</td>\n",
       "      <td>buy</td>\n",
       "      <td>348.021666</td>\n",
       "      <td>BAT</td>\n",
       "      <td>93.27</td>\n",
       "      <td>0.259409</td>\n",
       "    </tr>\n",
       "    <tr>\n",
       "      <th>7</th>\n",
       "      <td>2019-01-25 14:28:56+00:00</td>\n",
       "      <td>sell</td>\n",
       "      <td>348.021666</td>\n",
       "      <td>BAT</td>\n",
       "      <td>35.96</td>\n",
       "      <td>0.109045</td>\n",
       "    </tr>\n",
       "    <tr>\n",
       "      <th>8</th>\n",
       "      <td>2021-04-20 18:57:40+00:00</td>\n",
       "      <td>buy</td>\n",
       "      <td>0.258429</td>\n",
       "      <td>ETH</td>\n",
       "      <td>500.00</td>\n",
       "      <td>1906.364408</td>\n",
       "    </tr>\n",
       "  </tbody>\n",
       "</table>\n",
       "</div>"
      ],
      "text/plain": [
       "                  Open date  Type         Qty Symbol  Adj cost  \\\n",
       "0 2018-10-22 06:29:22+00:00   buy    0.017237    BTC    100.00   \n",
       "2 2018-11-09 12:05:12+00:00  sell    0.017237    BTC     93.27   \n",
       "4 2018-11-09 12:06:14+00:00   buy  348.021666    BAT     93.27   \n",
       "7 2019-01-25 14:28:56+00:00  sell  348.021666    BAT     35.96   \n",
       "8 2021-04-20 18:57:40+00:00   buy    0.258429    ETH    500.00   \n",
       "\n",
       "   Adj cost per share  \n",
       "0         5627.999719  \n",
       "2         5584.488743  \n",
       "4            0.259409  \n",
       "7            0.109045  \n",
       "8         1906.364408  "
      ]
     },
     "execution_count": 20,
     "metadata": {},
     "output_type": "execute_result"
    }
   ],
   "source": [
    "t.portfolio_df.head()"
   ]
  },
  {
   "cell_type": "markdown",
   "metadata": {},
   "source": [
    "### Load closedata log\n",
    "\n",
    "Error log from loading data."
   ]
  },
  {
   "cell_type": "code",
   "execution_count": 21,
   "metadata": {},
   "outputs": [
    {
     "data": {
      "text/plain": [
       "[{'symbol': 'CGLD', 'error': KeyError('CELO')}]"
      ]
     },
     "execution_count": 21,
     "metadata": {},
     "output_type": "execute_result"
    }
   ],
   "source": [
    "t.error_log"
   ]
  },
  {
   "cell_type": "markdown",
   "metadata": {},
   "source": [
    "### Set benchmark\n",
    "\n",
    "Set coin as benchmark."
   ]
  },
  {
   "cell_type": "code",
   "execution_count": 22,
   "metadata": {},
   "outputs": [
    {
     "data": {
      "text/html": [
       "<div>\n",
       "<style scoped>\n",
       "    .dataframe tbody tr th:only-of-type {\n",
       "        vertical-align: middle;\n",
       "    }\n",
       "\n",
       "    .dataframe tbody tr th {\n",
       "        vertical-align: top;\n",
       "    }\n",
       "\n",
       "    .dataframe thead th {\n",
       "        text-align: right;\n",
       "    }\n",
       "</style>\n",
       "<table border=\"1\" class=\"dataframe\">\n",
       "  <thead>\n",
       "    <tr style=\"text-align: right;\">\n",
       "      <th></th>\n",
       "      <th>Date</th>\n",
       "      <th>Close</th>\n",
       "    </tr>\n",
       "  </thead>\n",
       "  <tbody>\n",
       "    <tr>\n",
       "      <th>0</th>\n",
       "      <td>2021-04-20 00:00:00+00:00</td>\n",
       "      <td>1936.596366</td>\n",
       "    </tr>\n",
       "    <tr>\n",
       "      <th>1</th>\n",
       "      <td>2021-04-21 00:00:00+00:00</td>\n",
       "      <td>1964.593249</td>\n",
       "    </tr>\n",
       "    <tr>\n",
       "      <th>2</th>\n",
       "      <td>2021-04-22 00:00:00+00:00</td>\n",
       "      <td>2000.536891</td>\n",
       "    </tr>\n",
       "    <tr>\n",
       "      <th>3</th>\n",
       "      <td>2021-04-23 00:00:00+00:00</td>\n",
       "      <td>1953.619811</td>\n",
       "    </tr>\n",
       "    <tr>\n",
       "      <th>4</th>\n",
       "      <td>2021-04-24 00:00:00+00:00</td>\n",
       "      <td>1828.220570</td>\n",
       "    </tr>\n",
       "    <tr>\n",
       "      <th>...</th>\n",
       "      <td>...</td>\n",
       "      <td>...</td>\n",
       "    </tr>\n",
       "    <tr>\n",
       "      <th>322</th>\n",
       "      <td>2022-03-08 00:00:00+00:00</td>\n",
       "      <td>2364.462260</td>\n",
       "    </tr>\n",
       "    <tr>\n",
       "      <th>323</th>\n",
       "      <td>2022-03-09 00:00:00+00:00</td>\n",
       "      <td>2465.147372</td>\n",
       "    </tr>\n",
       "    <tr>\n",
       "      <th>324</th>\n",
       "      <td>2022-03-10 00:00:00+00:00</td>\n",
       "      <td>2368.094996</td>\n",
       "    </tr>\n",
       "    <tr>\n",
       "      <th>325</th>\n",
       "      <td>2022-03-11 00:00:00+00:00</td>\n",
       "      <td>2345.209878</td>\n",
       "    </tr>\n",
       "    <tr>\n",
       "      <th>326</th>\n",
       "      <td>2022-03-12 00:00:00+00:00</td>\n",
       "      <td>2359.128839</td>\n",
       "    </tr>\n",
       "  </tbody>\n",
       "</table>\n",
       "<p>327 rows × 2 columns</p>\n",
       "</div>"
      ],
      "text/plain": [
       "                         Date        Close\n",
       "0   2021-04-20 00:00:00+00:00  1936.596366\n",
       "1   2021-04-21 00:00:00+00:00  1964.593249\n",
       "2   2021-04-22 00:00:00+00:00  2000.536891\n",
       "3   2021-04-23 00:00:00+00:00  1953.619811\n",
       "4   2021-04-24 00:00:00+00:00  1828.220570\n",
       "..                        ...          ...\n",
       "322 2022-03-08 00:00:00+00:00  2364.462260\n",
       "323 2022-03-09 00:00:00+00:00  2465.147372\n",
       "324 2022-03-10 00:00:00+00:00  2368.094996\n",
       "325 2022-03-11 00:00:00+00:00  2345.209878\n",
       "326 2022-03-12 00:00:00+00:00  2359.128839\n",
       "\n",
       "[327 rows x 2 columns]"
      ]
     },
     "execution_count": 22,
     "metadata": {},
     "output_type": "execute_result"
    }
   ],
   "source": [
    "benchmark=t.set_benchmark(\"ETH\")\n",
    "benchmark"
   ]
  },
  {
   "cell_type": "markdown",
   "metadata": {},
   "source": [
    "#### Portfolio start balance\n",
    "\n",
    "Tracker module allows to consider transactions happened before the `stocks_start` date specified.\n",
    "\n",
    "This is done adjusting past positions to the current value at `stocks_start` date."
   ]
  },
  {
   "cell_type": "code",
   "execution_count": 23,
   "metadata": {},
   "outputs": [
    {
     "data": {
      "text/html": [
       "<div>\n",
       "<style scoped>\n",
       "    .dataframe tbody tr th:only-of-type {\n",
       "        vertical-align: middle;\n",
       "    }\n",
       "\n",
       "    .dataframe tbody tr th {\n",
       "        vertical-align: top;\n",
       "    }\n",
       "\n",
       "    .dataframe thead th {\n",
       "        text-align: right;\n",
       "    }\n",
       "</style>\n",
       "<table border=\"1\" class=\"dataframe\">\n",
       "  <thead>\n",
       "    <tr style=\"text-align: right;\">\n",
       "      <th></th>\n",
       "      <th>Open date</th>\n",
       "      <th>Type</th>\n",
       "      <th>Qty</th>\n",
       "      <th>Symbol</th>\n",
       "      <th>Adj cost</th>\n",
       "      <th>Adj cost per share</th>\n",
       "    </tr>\n",
       "  </thead>\n",
       "  <tbody>\n",
       "    <tr>\n",
       "      <th>8</th>\n",
       "      <td>2021-04-20 18:57:40+00:00</td>\n",
       "      <td>buy</td>\n",
       "      <td>0.258429</td>\n",
       "      <td>ETH</td>\n",
       "      <td>500.00</td>\n",
       "      <td>1906.364408</td>\n",
       "    </tr>\n",
       "    <tr>\n",
       "      <th>10</th>\n",
       "      <td>2021-04-22 10:13:53+00:00</td>\n",
       "      <td>buy</td>\n",
       "      <td>0.062128</td>\n",
       "      <td>MKR</td>\n",
       "      <td>250.00</td>\n",
       "      <td>3964.873854</td>\n",
       "    </tr>\n",
       "    <tr>\n",
       "      <th>13</th>\n",
       "      <td>2021-04-22 19:20:15+00:00</td>\n",
       "      <td>sell</td>\n",
       "      <td>0.062128</td>\n",
       "      <td>MKR</td>\n",
       "      <td>213.69</td>\n",
       "      <td>3491.496921</td>\n",
       "    </tr>\n",
       "    <tr>\n",
       "      <th>14</th>\n",
       "      <td>2021-04-24 08:53:47+00:00</td>\n",
       "      <td>buy</td>\n",
       "      <td>210.343863</td>\n",
       "      <td>ADA</td>\n",
       "      <td>213.69</td>\n",
       "      <td>1.000980</td>\n",
       "    </tr>\n",
       "    <tr>\n",
       "      <th>16</th>\n",
       "      <td>2021-04-25 16:15:33+00:00</td>\n",
       "      <td>buy</td>\n",
       "      <td>0.350116</td>\n",
       "      <td>CGLD</td>\n",
       "      <td>1.65</td>\n",
       "      <td>4.712730</td>\n",
       "    </tr>\n",
       "  </tbody>\n",
       "</table>\n",
       "</div>"
      ],
      "text/plain": [
       "                   Open date  Type         Qty Symbol  Adj cost  \\\n",
       "8  2021-04-20 18:57:40+00:00   buy    0.258429    ETH    500.00   \n",
       "10 2021-04-22 10:13:53+00:00   buy    0.062128    MKR    250.00   \n",
       "13 2021-04-22 19:20:15+00:00  sell    0.062128    MKR    213.69   \n",
       "14 2021-04-24 08:53:47+00:00   buy  210.343863    ADA    213.69   \n",
       "16 2021-04-25 16:15:33+00:00   buy    0.350116   CGLD      1.65   \n",
       "\n",
       "    Adj cost per share  \n",
       "8          1906.364408  \n",
       "10         3964.873854  \n",
       "13         3491.496921  \n",
       "14            1.000980  \n",
       "16            4.712730  "
      ]
     },
     "execution_count": 23,
     "metadata": {},
     "output_type": "execute_result"
    }
   ],
   "source": [
    "t.active_positions.head()"
   ]
  },
  {
   "cell_type": "markdown",
   "metadata": {},
   "source": [
    "#### Daily snapshots\n",
    "\n",
    "The module produces daily snapshots of the portfolio balance."
   ]
  },
  {
   "cell_type": "code",
   "execution_count": 24,
   "metadata": {},
   "outputs": [
    {
     "data": {
      "text/html": [
       "<div>\n",
       "<style scoped>\n",
       "    .dataframe tbody tr th:only-of-type {\n",
       "        vertical-align: middle;\n",
       "    }\n",
       "\n",
       "    .dataframe tbody tr th {\n",
       "        vertical-align: top;\n",
       "    }\n",
       "\n",
       "    .dataframe thead th {\n",
       "        text-align: right;\n",
       "    }\n",
       "</style>\n",
       "<table border=\"1\" class=\"dataframe\">\n",
       "  <thead>\n",
       "    <tr style=\"text-align: right;\">\n",
       "      <th></th>\n",
       "      <th>Open date</th>\n",
       "      <th>Type</th>\n",
       "      <th>Qty</th>\n",
       "      <th>Symbol</th>\n",
       "      <th>Adj cost</th>\n",
       "      <th>Adj cost per share</th>\n",
       "      <th>Date Snapshot</th>\n",
       "    </tr>\n",
       "  </thead>\n",
       "  <tbody>\n",
       "    <tr>\n",
       "      <th>160</th>\n",
       "      <td>2021-08-26 19:45:55+00:00</td>\n",
       "      <td>buy</td>\n",
       "      <td>257.829804</td>\n",
       "      <td>MATIC</td>\n",
       "      <td>1360.65</td>\n",
       "      <td>1.174154</td>\n",
       "      <td>2022-03-12 00:00:00+00:00</td>\n",
       "    </tr>\n",
       "    <tr>\n",
       "      <th>162</th>\n",
       "      <td>2021-09-07 10:00:18+00:00</td>\n",
       "      <td>buy</td>\n",
       "      <td>72.073991</td>\n",
       "      <td>ADA</td>\n",
       "      <td>389.49</td>\n",
       "      <td>2.166873</td>\n",
       "      <td>2022-03-12 00:00:00+00:00</td>\n",
       "    </tr>\n",
       "    <tr>\n",
       "      <th>164</th>\n",
       "      <td>2021-09-09 23:30:55+00:00</td>\n",
       "      <td>buy</td>\n",
       "      <td>323.271703</td>\n",
       "      <td>ADA</td>\n",
       "      <td>692.45</td>\n",
       "      <td>2.142006</td>\n",
       "      <td>2022-03-12 00:00:00+00:00</td>\n",
       "    </tr>\n",
       "    <tr>\n",
       "      <th>156</th>\n",
       "      <td>2021-08-21 18:49:29+00:00</td>\n",
       "      <td>buy</td>\n",
       "      <td>0.006479</td>\n",
       "      <td>USDC</td>\n",
       "      <td>1117.38</td>\n",
       "      <td>0.854942</td>\n",
       "      <td>2022-03-12 00:00:00+00:00</td>\n",
       "    </tr>\n",
       "    <tr>\n",
       "      <th>166</th>\n",
       "      <td>2021-11-29 10:44:04+00:00</td>\n",
       "      <td>buy</td>\n",
       "      <td>21.493860</td>\n",
       "      <td>SUSHI</td>\n",
       "      <td>147.19</td>\n",
       "      <td>6.848002</td>\n",
       "      <td>2022-03-12 00:00:00+00:00</td>\n",
       "    </tr>\n",
       "    <tr>\n",
       "      <th>170</th>\n",
       "      <td>2021-12-23 07:27:08+00:00</td>\n",
       "      <td>buy</td>\n",
       "      <td>13.238243</td>\n",
       "      <td>UNI</td>\n",
       "      <td>195.91</td>\n",
       "      <td>14.798792</td>\n",
       "      <td>2022-03-12 00:00:00+00:00</td>\n",
       "    </tr>\n",
       "    <tr>\n",
       "      <th>172</th>\n",
       "      <td>2021-12-23 07:28:57+00:00</td>\n",
       "      <td>buy</td>\n",
       "      <td>1.001178</td>\n",
       "      <td>AAVE</td>\n",
       "      <td>195.57</td>\n",
       "      <td>195.339958</td>\n",
       "      <td>2022-03-12 00:00:00+00:00</td>\n",
       "    </tr>\n",
       "  </tbody>\n",
       "</table>\n",
       "</div>"
      ],
      "text/plain": [
       "                    Open date Type         Qty Symbol  Adj cost  \\\n",
       "160 2021-08-26 19:45:55+00:00  buy  257.829804  MATIC   1360.65   \n",
       "162 2021-09-07 10:00:18+00:00  buy   72.073991    ADA    389.49   \n",
       "164 2021-09-09 23:30:55+00:00  buy  323.271703    ADA    692.45   \n",
       "156 2021-08-21 18:49:29+00:00  buy    0.006479   USDC   1117.38   \n",
       "166 2021-11-29 10:44:04+00:00  buy   21.493860  SUSHI    147.19   \n",
       "170 2021-12-23 07:27:08+00:00  buy   13.238243    UNI    195.91   \n",
       "172 2021-12-23 07:28:57+00:00  buy    1.001178   AAVE    195.57   \n",
       "\n",
       "     Adj cost per share             Date Snapshot  \n",
       "160            1.174154 2022-03-12 00:00:00+00:00  \n",
       "162            2.166873 2022-03-12 00:00:00+00:00  \n",
       "164            2.142006 2022-03-12 00:00:00+00:00  \n",
       "156            0.854942 2022-03-12 00:00:00+00:00  \n",
       "166            6.848002 2022-03-12 00:00:00+00:00  \n",
       "170           14.798792 2022-03-12 00:00:00+00:00  \n",
       "172          195.339958 2022-03-12 00:00:00+00:00  "
      ]
     },
     "execution_count": 24,
     "metadata": {},
     "output_type": "execute_result"
    }
   ],
   "source": [
    "t.daily_snapshots[-1]"
   ]
  },
  {
   "cell_type": "code",
   "execution_count": 27,
   "metadata": {},
   "outputs": [
    {
     "data": {
      "text/plain": [
       "array(['MATIC', 'ADA', 'USDC', 'SUSHI', 'UNI', 'AAVE'], dtype=object)"
      ]
     },
     "execution_count": 27,
     "metadata": {},
     "output_type": "execute_result"
    }
   ],
   "source": [
    "t.daily_snapshots[-1].Symbol.unique()"
   ]
  },
  {
   "cell_type": "markdown",
   "metadata": {},
   "source": [
    "### Portfolio calculations"
   ]
  },
  {
   "cell_type": "code",
   "execution_count": 75,
   "metadata": {},
   "outputs": [
    {
     "data": {
      "text/html": [
       "<div>\n",
       "<style scoped>\n",
       "    .dataframe tbody tr th:only-of-type {\n",
       "        vertical-align: middle;\n",
       "    }\n",
       "\n",
       "    .dataframe tbody tr th {\n",
       "        vertical-align: top;\n",
       "    }\n",
       "\n",
       "    .dataframe thead th {\n",
       "        text-align: right;\n",
       "    }\n",
       "</style>\n",
       "<table border=\"1\" class=\"dataframe\">\n",
       "  <thead>\n",
       "    <tr style=\"text-align: right;\">\n",
       "      <th></th>\n",
       "      <th>Value</th>\n",
       "    </tr>\n",
       "    <tr>\n",
       "      <th>Date Snapshot</th>\n",
       "      <th></th>\n",
       "    </tr>\n",
       "  </thead>\n",
       "  <tbody>\n",
       "    <tr>\n",
       "      <th>2021-04-20 00:00:00+00:00</th>\n",
       "      <td>500.472817</td>\n",
       "    </tr>\n",
       "    <tr>\n",
       "      <th>2021-04-21 00:00:00+00:00</th>\n",
       "      <td>507.708026</td>\n",
       "    </tr>\n",
       "    <tr>\n",
       "      <th>2021-04-22 00:00:00+00:00</th>\n",
       "      <td>516.996908</td>\n",
       "    </tr>\n",
       "    <tr>\n",
       "      <th>2021-04-23 00:00:00+00:00</th>\n",
       "      <td>504.872170</td>\n",
       "    </tr>\n",
       "    <tr>\n",
       "      <th>2021-04-24 00:00:00+00:00</th>\n",
       "      <td>663.967701</td>\n",
       "    </tr>\n",
       "    <tr>\n",
       "      <th>...</th>\n",
       "      <td>...</td>\n",
       "    </tr>\n",
       "    <tr>\n",
       "      <th>2022-03-08 00:00:00+00:00</th>\n",
       "      <td>908.786690</td>\n",
       "    </tr>\n",
       "    <tr>\n",
       "      <th>2022-03-09 00:00:00+00:00</th>\n",
       "      <td>941.186282</td>\n",
       "    </tr>\n",
       "    <tr>\n",
       "      <th>2022-03-10 00:00:00+00:00</th>\n",
       "      <td>897.399906</td>\n",
       "    </tr>\n",
       "    <tr>\n",
       "      <th>2022-03-11 00:00:00+00:00</th>\n",
       "      <td>886.258402</td>\n",
       "    </tr>\n",
       "    <tr>\n",
       "      <th>2022-03-12 00:00:00+00:00</th>\n",
       "      <td>887.741092</td>\n",
       "    </tr>\n",
       "  </tbody>\n",
       "</table>\n",
       "<p>327 rows × 1 columns</p>\n",
       "</div>"
      ],
      "text/plain": [
       "                                Value\n",
       "Date Snapshot                        \n",
       "2021-04-20 00:00:00+00:00  500.472817\n",
       "2021-04-21 00:00:00+00:00  507.708026\n",
       "2021-04-22 00:00:00+00:00  516.996908\n",
       "2021-04-23 00:00:00+00:00  504.872170\n",
       "2021-04-24 00:00:00+00:00  663.967701\n",
       "...                               ...\n",
       "2022-03-08 00:00:00+00:00  908.786690\n",
       "2022-03-09 00:00:00+00:00  941.186282\n",
       "2022-03-10 00:00:00+00:00  897.399906\n",
       "2022-03-11 00:00:00+00:00  886.258402\n",
       "2022-03-12 00:00:00+00:00  887.741092\n",
       "\n",
       "[327 rows x 1 columns]"
      ]
     },
     "execution_count": 75,
     "metadata": {},
     "output_type": "execute_result"
    }
   ],
   "source": [
    "value=t.track_value()\n",
    "value"
   ]
  },
  {
   "cell_type": "code",
   "execution_count": 82,
   "metadata": {},
   "outputs": [
    {
     "data": {
      "image/png": "[encoded data removed]",
      "text/plain": [
       "<Figure size 1800x1200 with 1 Axes>"
      ]
     },
     "metadata": {
      "needs_background": "light"
     },
     "output_type": "display_data"
    }
   ],
   "source": [
    "import matplotlib.pyplot as plt\n",
    "f,ax=plt.subplots(dpi=300)\n",
    "value.plot(ax=ax)\n",
    "ax.grid()"
   ]
  },
  {
   "cell_type": "code",
   "execution_count": 83,
   "metadata": {},
   "outputs": [
    {
     "name": "stderr",
     "output_type": "stream",
     "text": [
      "/opt/miniconda3/envs/cryptoenv/lib/python3.7/site-packages/pandas/core/generic.py:5516: SettingWithCopyWarning:\n",
      "\n",
      "\n",
      "A value is trying to be set on a copy of a slice from a DataFrame.\n",
      "Try using .loc[row_indexer,col_indexer] = value instead\n",
      "\n",
      "See the caveats in the documentation: https://pandas.pydata.org/pandas-docs/stable/user_guide/indexing.html#returning-a-view-versus-a-copy\n",
      "\n"
     ]
    },
    {
     "data": {
      "text/html": [
       "<div>\n",
       "<style scoped>\n",
       "    .dataframe tbody tr th:only-of-type {\n",
       "        vertical-align: middle;\n",
       "    }\n",
       "\n",
       "    .dataframe tbody tr th {\n",
       "        vertical-align: top;\n",
       "    }\n",
       "\n",
       "    .dataframe thead th {\n",
       "        text-align: right;\n",
       "    }\n",
       "</style>\n",
       "<table border=\"1\" class=\"dataframe\">\n",
       "  <thead>\n",
       "    <tr style=\"text-align: right;\">\n",
       "      <th></th>\n",
       "      <th>Adj cost</th>\n",
       "      <th>Adj cost per share</th>\n",
       "      <th>Date Snapshot</th>\n",
       "      <th>Open date</th>\n",
       "      <th>Qty</th>\n",
       "      <th>Symbol</th>\n",
       "      <th>Type</th>\n",
       "      <th>index_x</th>\n",
       "      <th>Symbol Adj Close</th>\n",
       "      <th>Adj cost daily</th>\n",
       "      <th>...</th>\n",
       "      <th>Benchmark Start Date Cost</th>\n",
       "      <th>Benchmark Return</th>\n",
       "      <th>symbol Return</th>\n",
       "      <th>symbol Share Value</th>\n",
       "      <th>Benchmark Share Value</th>\n",
       "      <th>Stock Gain / (Loss)</th>\n",
       "      <th>Benchmark Gain / (Loss)</th>\n",
       "      <th>Abs Value Compare</th>\n",
       "      <th>Abs Value Return</th>\n",
       "      <th>Abs. Return Compare</th>\n",
       "    </tr>\n",
       "  </thead>\n",
       "  <tbody>\n",
       "    <tr>\n",
       "      <th>0</th>\n",
       "      <td>492.66</td>\n",
       "      <td>1906.364408</td>\n",
       "      <td>2021-04-20 00:00:00+00:00</td>\n",
       "      <td>2021-04-20 18:57:40+00:00</td>\n",
       "      <td>0.258429</td>\n",
       "      <td>ETH</td>\n",
       "      <td>buy</td>\n",
       "      <td>0</td>\n",
       "      <td>1936.596366</td>\n",
       "      <td>500.472817</td>\n",
       "      <td>...</td>\n",
       "      <td>492.66</td>\n",
       "      <td>0.000000</td>\n",
       "      <td>0.015858</td>\n",
       "      <td>500.472817</td>\n",
       "      <td>492.660000</td>\n",
       "      <td>7.812817</td>\n",
       "      <td>5.684342e-14</td>\n",
       "      <td>7.812817</td>\n",
       "      <td>0.015858</td>\n",
       "      <td>0.015858</td>\n",
       "    </tr>\n",
       "    <tr>\n",
       "      <th>1</th>\n",
       "      <td>492.66</td>\n",
       "      <td>1906.364408</td>\n",
       "      <td>2021-04-21 00:00:00+00:00</td>\n",
       "      <td>2021-04-20 18:57:40+00:00</td>\n",
       "      <td>0.258429</td>\n",
       "      <td>ETH</td>\n",
       "      <td>buy</td>\n",
       "      <td>1</td>\n",
       "      <td>1964.593249</td>\n",
       "      <td>507.708026</td>\n",
       "      <td>...</td>\n",
       "      <td>492.66</td>\n",
       "      <td>0.014457</td>\n",
       "      <td>0.030544</td>\n",
       "      <td>507.708026</td>\n",
       "      <td>499.782261</td>\n",
       "      <td>15.048026</td>\n",
       "      <td>7.122261e+00</td>\n",
       "      <td>15.048026</td>\n",
       "      <td>0.030544</td>\n",
       "      <td>0.016088</td>\n",
       "    </tr>\n",
       "    <tr>\n",
       "      <th>2</th>\n",
       "      <td>492.66</td>\n",
       "      <td>1906.364408</td>\n",
       "      <td>2021-04-22 00:00:00+00:00</td>\n",
       "      <td>2021-04-20 18:57:40+00:00</td>\n",
       "      <td>0.258429</td>\n",
       "      <td>ETH</td>\n",
       "      <td>buy</td>\n",
       "      <td>2</td>\n",
       "      <td>2000.536891</td>\n",
       "      <td>516.996908</td>\n",
       "      <td>...</td>\n",
       "      <td>492.66</td>\n",
       "      <td>0.033017</td>\n",
       "      <td>0.049399</td>\n",
       "      <td>516.996908</td>\n",
       "      <td>508.926136</td>\n",
       "      <td>24.336908</td>\n",
       "      <td>1.626614e+01</td>\n",
       "      <td>24.336908</td>\n",
       "      <td>0.049399</td>\n",
       "      <td>0.016382</td>\n",
       "    </tr>\n",
       "    <tr>\n",
       "      <th>3</th>\n",
       "      <td>492.66</td>\n",
       "      <td>1906.364408</td>\n",
       "      <td>2021-04-23 00:00:00+00:00</td>\n",
       "      <td>2021-04-20 18:57:40+00:00</td>\n",
       "      <td>0.258429</td>\n",
       "      <td>ETH</td>\n",
       "      <td>buy</td>\n",
       "      <td>3</td>\n",
       "      <td>1953.619811</td>\n",
       "      <td>504.872170</td>\n",
       "      <td>...</td>\n",
       "      <td>492.66</td>\n",
       "      <td>0.008790</td>\n",
       "      <td>0.024788</td>\n",
       "      <td>504.872170</td>\n",
       "      <td>496.990675</td>\n",
       "      <td>12.212170</td>\n",
       "      <td>4.330675e+00</td>\n",
       "      <td>12.212170</td>\n",
       "      <td>0.024788</td>\n",
       "      <td>0.015998</td>\n",
       "    </tr>\n",
       "    <tr>\n",
       "      <th>4</th>\n",
       "      <td>492.66</td>\n",
       "      <td>1906.364408</td>\n",
       "      <td>2021-04-24 00:00:00+00:00</td>\n",
       "      <td>2021-04-20 18:57:40+00:00</td>\n",
       "      <td>0.258429</td>\n",
       "      <td>ETH</td>\n",
       "      <td>buy</td>\n",
       "      <td>4</td>\n",
       "      <td>1828.220570</td>\n",
       "      <td>472.465360</td>\n",
       "      <td>...</td>\n",
       "      <td>492.66</td>\n",
       "      <td>-0.055962</td>\n",
       "      <td>-0.040991</td>\n",
       "      <td>472.465360</td>\n",
       "      <td>465.089763</td>\n",
       "      <td>-20.194640</td>\n",
       "      <td>-2.757024e+01</td>\n",
       "      <td>-20.194640</td>\n",
       "      <td>-0.040991</td>\n",
       "      <td>0.014971</td>\n",
       "    </tr>\n",
       "    <tr>\n",
       "      <th>...</th>\n",
       "      <td>...</td>\n",
       "      <td>...</td>\n",
       "      <td>...</td>\n",
       "      <td>...</td>\n",
       "      <td>...</td>\n",
       "      <td>...</td>\n",
       "      <td>...</td>\n",
       "      <td>...</td>\n",
       "      <td>...</td>\n",
       "      <td>...</td>\n",
       "      <td>...</td>\n",
       "      <td>...</td>\n",
       "      <td>...</td>\n",
       "      <td>...</td>\n",
       "      <td>...</td>\n",
       "      <td>...</td>\n",
       "      <td>...</td>\n",
       "      <td>...</td>\n",
       "      <td>...</td>\n",
       "      <td>...</td>\n",
       "      <td>...</td>\n",
       "    </tr>\n",
       "    <tr>\n",
       "      <th>859</th>\n",
       "      <td>186.85</td>\n",
       "      <td>182.087335</td>\n",
       "      <td>2021-12-28 00:00:00+00:00</td>\n",
       "      <td>2021-11-29 10:47:17+00:00</td>\n",
       "      <td>1.026156</td>\n",
       "      <td>SOL</td>\n",
       "      <td>buy</td>\n",
       "      <td>252</td>\n",
       "      <td>156.830589</td>\n",
       "      <td>160.932640</td>\n",
       "      <td>...</td>\n",
       "      <td>186.85</td>\n",
       "      <td>0.734846</td>\n",
       "      <td>-0.138707</td>\n",
       "      <td>160.932640</td>\n",
       "      <td>324.156010</td>\n",
       "      <td>-25.917360</td>\n",
       "      <td>1.373060e+02</td>\n",
       "      <td>-25.917360</td>\n",
       "      <td>-0.138707</td>\n",
       "      <td>-0.873553</td>\n",
       "    </tr>\n",
       "    <tr>\n",
       "      <th>860</th>\n",
       "      <td>186.85</td>\n",
       "      <td>182.087335</td>\n",
       "      <td>2021-12-29 00:00:00+00:00</td>\n",
       "      <td>2021-11-29 10:47:17+00:00</td>\n",
       "      <td>1.026156</td>\n",
       "      <td>SOL</td>\n",
       "      <td>buy</td>\n",
       "      <td>253</td>\n",
       "      <td>150.229338</td>\n",
       "      <td>154.158727</td>\n",
       "      <td>...</td>\n",
       "      <td>186.85</td>\n",
       "      <td>0.649381</td>\n",
       "      <td>-0.174960</td>\n",
       "      <td>154.158727</td>\n",
       "      <td>308.186868</td>\n",
       "      <td>-32.691273</td>\n",
       "      <td>1.213369e+02</td>\n",
       "      <td>-32.691273</td>\n",
       "      <td>-0.174960</td>\n",
       "      <td>-0.824341</td>\n",
       "    </tr>\n",
       "    <tr>\n",
       "      <th>861</th>\n",
       "      <td>186.85</td>\n",
       "      <td>182.087335</td>\n",
       "      <td>2021-12-30 00:00:00+00:00</td>\n",
       "      <td>2021-11-29 10:47:17+00:00</td>\n",
       "      <td>1.026156</td>\n",
       "      <td>SOL</td>\n",
       "      <td>buy</td>\n",
       "      <td>254</td>\n",
       "      <td>152.570917</td>\n",
       "      <td>156.561552</td>\n",
       "      <td>...</td>\n",
       "      <td>186.85</td>\n",
       "      <td>0.693699</td>\n",
       "      <td>-0.162100</td>\n",
       "      <td>156.561552</td>\n",
       "      <td>316.467636</td>\n",
       "      <td>-30.288448</td>\n",
       "      <td>1.296176e+02</td>\n",
       "      <td>-30.288448</td>\n",
       "      <td>-0.162100</td>\n",
       "      <td>-0.855799</td>\n",
       "    </tr>\n",
       "    <tr>\n",
       "      <th>862</th>\n",
       "      <td>186.85</td>\n",
       "      <td>182.087335</td>\n",
       "      <td>2021-12-31 00:00:00+00:00</td>\n",
       "      <td>2021-11-29 10:47:17+00:00</td>\n",
       "      <td>1.026156</td>\n",
       "      <td>SOL</td>\n",
       "      <td>buy</td>\n",
       "      <td>255</td>\n",
       "      <td>149.727281</td>\n",
       "      <td>153.643538</td>\n",
       "      <td>...</td>\n",
       "      <td>186.85</td>\n",
       "      <td>0.671891</td>\n",
       "      <td>-0.177717</td>\n",
       "      <td>153.643538</td>\n",
       "      <td>312.392851</td>\n",
       "      <td>-33.206462</td>\n",
       "      <td>1.255429e+02</td>\n",
       "      <td>-33.206462</td>\n",
       "      <td>-0.177717</td>\n",
       "      <td>-0.849608</td>\n",
       "    </tr>\n",
       "    <tr>\n",
       "      <th>863</th>\n",
       "      <td>186.85</td>\n",
       "      <td>182.087335</td>\n",
       "      <td>2022-01-01 00:00:00+00:00</td>\n",
       "      <td>2021-11-29 10:47:17+00:00</td>\n",
       "      <td>1.026156</td>\n",
       "      <td>SOL</td>\n",
       "      <td>buy</td>\n",
       "      <td>256</td>\n",
       "      <td>156.953330</td>\n",
       "      <td>161.058592</td>\n",
       "      <td>...</td>\n",
       "      <td>186.85</td>\n",
       "      <td>0.711418</td>\n",
       "      <td>-0.138033</td>\n",
       "      <td>161.058592</td>\n",
       "      <td>319.778375</td>\n",
       "      <td>-25.791408</td>\n",
       "      <td>1.329284e+02</td>\n",
       "      <td>-25.791408</td>\n",
       "      <td>-0.138033</td>\n",
       "      <td>-0.849450</td>\n",
       "    </tr>\n",
       "  </tbody>\n",
       "</table>\n",
       "<p>864 rows × 28 columns</p>\n",
       "</div>"
      ],
      "text/plain": [
       "     Adj cost  Adj cost per share             Date Snapshot  \\\n",
       "0      492.66         1906.364408 2021-04-20 00:00:00+00:00   \n",
       "1      492.66         1906.364408 2021-04-21 00:00:00+00:00   \n",
       "2      492.66         1906.364408 2021-04-22 00:00:00+00:00   \n",
       "3      492.66         1906.364408 2021-04-23 00:00:00+00:00   \n",
       "4      492.66         1906.364408 2021-04-24 00:00:00+00:00   \n",
       "..        ...                 ...                       ...   \n",
       "859    186.85          182.087335 2021-12-28 00:00:00+00:00   \n",
       "860    186.85          182.087335 2021-12-29 00:00:00+00:00   \n",
       "861    186.85          182.087335 2021-12-30 00:00:00+00:00   \n",
       "862    186.85          182.087335 2021-12-31 00:00:00+00:00   \n",
       "863    186.85          182.087335 2022-01-01 00:00:00+00:00   \n",
       "\n",
       "                    Open date       Qty Symbol Type  index_x  \\\n",
       "0   2021-04-20 18:57:40+00:00  0.258429    ETH  buy        0   \n",
       "1   2021-04-20 18:57:40+00:00  0.258429    ETH  buy        1   \n",
       "2   2021-04-20 18:57:40+00:00  0.258429    ETH  buy        2   \n",
       "3   2021-04-20 18:57:40+00:00  0.258429    ETH  buy        3   \n",
       "4   2021-04-20 18:57:40+00:00  0.258429    ETH  buy        4   \n",
       "..                        ...       ...    ...  ...      ...   \n",
       "859 2021-11-29 10:47:17+00:00  1.026156    SOL  buy      252   \n",
       "860 2021-11-29 10:47:17+00:00  1.026156    SOL  buy      253   \n",
       "861 2021-11-29 10:47:17+00:00  1.026156    SOL  buy      254   \n",
       "862 2021-11-29 10:47:17+00:00  1.026156    SOL  buy      255   \n",
       "863 2021-11-29 10:47:17+00:00  1.026156    SOL  buy      256   \n",
       "\n",
       "     Symbol Adj Close  Adj cost daily  ...  Benchmark Start Date Cost  \\\n",
       "0         1936.596366      500.472817  ...                     492.66   \n",
       "1         1964.593249      507.708026  ...                     492.66   \n",
       "2         2000.536891      516.996908  ...                     492.66   \n",
       "3         1953.619811      504.872170  ...                     492.66   \n",
       "4         1828.220570      472.465360  ...                     492.66   \n",
       "..                ...             ...  ...                        ...   \n",
       "859        156.830589      160.932640  ...                     186.85   \n",
       "860        150.229338      154.158727  ...                     186.85   \n",
       "861        152.570917      156.561552  ...                     186.85   \n",
       "862        149.727281      153.643538  ...                     186.85   \n",
       "863        156.953330      161.058592  ...                     186.85   \n",
       "\n",
       "     Benchmark Return  symbol Return  symbol Share Value  \\\n",
       "0            0.000000       0.015858          500.472817   \n",
       "1            0.014457       0.030544          507.708026   \n",
       "2            0.033017       0.049399          516.996908   \n",
       "3            0.008790       0.024788          504.872170   \n",
       "4           -0.055962      -0.040991          472.465360   \n",
       "..                ...            ...                 ...   \n",
       "859          0.734846      -0.138707          160.932640   \n",
       "860          0.649381      -0.174960          154.158727   \n",
       "861          0.693699      -0.162100          156.561552   \n",
       "862          0.671891      -0.177717          153.643538   \n",
       "863          0.711418      -0.138033          161.058592   \n",
       "\n",
       "     Benchmark Share Value  Stock Gain / (Loss)  Benchmark Gain / (Loss)  \\\n",
       "0               492.660000             7.812817             5.684342e-14   \n",
       "1               499.782261            15.048026             7.122261e+00   \n",
       "2               508.926136            24.336908             1.626614e+01   \n",
       "3               496.990675            12.212170             4.330675e+00   \n",
       "4               465.089763           -20.194640            -2.757024e+01   \n",
       "..                     ...                  ...                      ...   \n",
       "859             324.156010           -25.917360             1.373060e+02   \n",
       "860             308.186868           -32.691273             1.213369e+02   \n",
       "861             316.467636           -30.288448             1.296176e+02   \n",
       "862             312.392851           -33.206462             1.255429e+02   \n",
       "863             319.778375           -25.791408             1.329284e+02   \n",
       "\n",
       "     Abs Value Compare  Abs Value Return  Abs. Return Compare  \n",
       "0             7.812817          0.015858             0.015858  \n",
       "1            15.048026          0.030544             0.016088  \n",
       "2            24.336908          0.049399             0.016382  \n",
       "3            12.212170          0.024788             0.015998  \n",
       "4           -20.194640         -0.040991             0.014971  \n",
       "..                 ...               ...                  ...  \n",
       "859         -25.917360         -0.138707            -0.873553  \n",
       "860         -32.691273         -0.174960            -0.824341  \n",
       "861         -30.288448         -0.162100            -0.855799  \n",
       "862         -33.206462         -0.177717            -0.849608  \n",
       "863         -25.791408         -0.138033            -0.849450  \n",
       "\n",
       "[864 rows x 28 columns]"
      ]
     },
     "execution_count": 83,
     "metadata": {},
     "output_type": "execute_result"
    }
   ],
   "source": [
    "combined_df=t.per_day_portfolio_calcs(\n",
    "    benchmark,\n",
    ")\n",
    "combined_df"
   ]
  },
  {
   "cell_type": "code",
   "execution_count": 84,
   "metadata": {},
   "outputs": [
    {
     "data": {
      "application/vnd.plotly.v1+json": {
       "config": {
        "linkText": "Export to plot.ly",
        "plotlyServerURL": "https://plot.ly",
        "showLink": false
       },
       "data": [
        {
         "hovertemplate": "variable=Stock Gain / (Loss)<br>Date Snapshot=%{x}<br>value=%{y}<extra></extra>",
         "legendgroup": "Stock Gain / (Loss)",
         "line": {
          "color": "#636efa",
          "dash": "solid"
         },
         "marker": {
          "symbol": "circle"
         },
         "mode": "lines",
         "name": "Stock Gain / (Loss)",
         "orientation": "v",
         "showlegend": true,
         "type": "scatter",
         "x": [
          "2021-04-20",
          "2021-04-21",
          "2021-04-22",
          "2021-04-23",
          "2021-04-24",
          "2021-04-25",
          "2021-04-26",
          "2021-04-27",
          "2021-04-28",
          "2021-04-29",
          "2021-04-30",
          "2021-05-01",
          "2021-05-02",
          "2021-05-03",
          "2021-05-04",
          "2021-05-05",
          "2021-05-06",
          "2021-05-07",
          "2021-05-08",
          "2021-05-09",
          "2021-05-10",
          "2021-05-11",
          "2021-05-12",
          "2021-05-14",
          "2021-05-15",
          "2021-05-16",
          "2021-05-17",
          "2021-05-18",
          "2021-05-19",
          "2021-05-20",
          "2021-05-21",
          "2021-05-22",
          "2021-05-23",
          "2021-05-24",
          "2021-05-25",
          "2021-05-26",
          "2021-05-27",
          "2021-05-28",
          "2021-05-29",
          "2021-05-30",
          "2021-05-31",
          "2021-06-01",
          "2021-06-02",
          "2021-06-03",
          "2021-06-04",
          "2021-06-05",
          "2021-06-06",
          "2021-06-07",
          "2021-06-08",
          "2021-06-09",
          "2021-06-10",
          "2021-06-11",
          "2021-06-12",
          "2021-06-13",
          "2021-06-14",
          "2021-06-15",
          "2021-06-16",
          "2021-06-17",
          "2021-06-18",
          "2021-06-19",
          "2021-06-20",
          "2021-06-21",
          "2021-06-22",
          "2021-06-23",
          "2021-06-24",
          "2021-06-25",
          "2021-06-26",
          "2021-06-27",
          "2021-06-28",
          "2021-06-29",
          "2021-06-30",
          "2021-07-01",
          "2021-07-02",
          "2021-07-03",
          "2021-07-26",
          "2021-07-27",
          "2021-07-28",
          "2021-07-29",
          "2021-07-30",
          "2021-07-31",
          "2021-08-01",
          "2021-08-02",
          "2021-08-03",
          "2021-08-04",
          "2021-08-05",
          "2021-08-06",
          "2021-08-07",
          "2021-08-08",
          "2021-08-09",
          "2021-08-10",
          "2021-08-11",
          "2021-08-12",
          "2021-08-13",
          "2021-08-14",
          "2021-08-15",
          "2021-08-16",
          "2021-08-17",
          "2021-08-18",
          "2021-08-19",
          "2021-08-20",
          "2021-08-26",
          "2021-08-27",
          "2021-08-28",
          "2021-08-29",
          "2021-08-30",
          "2021-08-31",
          "2021-09-01",
          "2021-09-02",
          "2021-09-03",
          "2021-09-04",
          "2021-09-05",
          "2021-09-06",
          "2021-09-07",
          "2021-09-08",
          "2021-09-09",
          "2021-09-10",
          "2021-09-11",
          "2021-09-12",
          "2021-09-13",
          "2021-09-14",
          "2021-09-15",
          "2021-09-16",
          "2021-09-17",
          "2021-09-18",
          "2021-09-19",
          "2021-09-20",
          "2021-09-21",
          "2021-09-22",
          "2021-09-23",
          "2021-09-24",
          "2021-09-25",
          "2021-09-26",
          "2021-09-27",
          "2021-09-28",
          "2021-09-29",
          "2021-09-30",
          "2021-10-01",
          "2021-10-02",
          "2021-10-03",
          "2021-10-04",
          "2021-10-05",
          "2021-10-06",
          "2021-10-07",
          "2021-10-08",
          "2021-10-09",
          "2021-10-10",
          "2021-10-11",
          "2021-10-12",
          "2021-10-13",
          "2021-10-14",
          "2021-10-15",
          "2021-10-16",
          "2021-10-17",
          "2021-10-18",
          "2021-10-19",
          "2021-10-20",
          "2021-10-21",
          "2021-10-22",
          "2021-10-23",
          "2021-10-24",
          "2021-10-25",
          "2021-10-26",
          "2021-10-27",
          "2021-10-28",
          "2021-10-29",
          "2021-10-30",
          "2021-10-31",
          "2021-11-01",
          "2021-11-02",
          "2021-11-03",
          "2021-11-04",
          "2021-11-05",
          "2021-11-06",
          "2021-11-07",
          "2021-11-08",
          "2021-11-09",
          "2021-11-10",
          "2021-11-11",
          "2021-11-12",
          "2021-11-13",
          "2021-11-14",
          "2021-11-15",
          "2021-11-16",
          "2021-11-17",
          "2021-11-18",
          "2021-11-19",
          "2021-11-20",
          "2021-11-21",
          "2021-11-22",
          "2021-11-23",
          "2021-11-24",
          "2021-11-25",
          "2021-11-26",
          "2021-11-27",
          "2021-11-28",
          "2021-11-29",
          "2021-11-30",
          "2021-12-01",
          "2021-12-02",
          "2021-12-03",
          "2021-12-04",
          "2021-12-05",
          "2021-12-06",
          "2021-12-07",
          "2021-12-08",
          "2021-12-09",
          "2021-12-10",
          "2021-12-11",
          "2021-12-12",
          "2021-12-13",
          "2021-12-14",
          "2021-12-15",
          "2021-12-16",
          "2021-12-17",
          "2021-12-18",
          "2021-12-19",
          "2021-12-20",
          "2021-12-21",
          "2021-12-22",
          "2021-12-23",
          "2021-12-24",
          "2021-12-25",
          "2021-12-26",
          "2021-12-27",
          "2021-12-28",
          "2021-12-29",
          "2021-12-30",
          "2021-12-31",
          "2022-01-01",
          "2022-01-02",
          "2022-01-03",
          "2022-01-04",
          "2022-01-05",
          "2022-01-06",
          "2022-01-07",
          "2022-01-08",
          "2022-01-09",
          "2022-01-10",
          "2022-01-11",
          "2022-01-12",
          "2022-01-13",
          "2022-01-14",
          "2022-01-15",
          "2022-01-16",
          "2022-01-17",
          "2022-01-18",
          "2022-01-19",
          "2022-01-20",
          "2022-01-21",
          "2022-01-22",
          "2022-01-23",
          "2022-01-24",
          "2022-01-25",
          "2022-01-26",
          "2022-01-27",
          "2022-01-28",
          "2022-01-29",
          "2022-01-30",
          "2022-01-31",
          "2022-02-01",
          "2022-02-02",
          "2022-02-03",
          "2022-02-04",
          "2022-02-05",
          "2022-02-06",
          "2022-02-07",
          "2022-02-08",
          "2022-02-09",
          "2022-02-10",
          "2022-02-11",
          "2022-02-12",
          "2022-02-13",
          "2022-02-14",
          "2022-02-15",
          "2022-02-16",
          "2022-02-17",
          "2022-02-18",
          "2022-02-19",
          "2022-02-20",
          "2022-02-21",
          "2022-02-22",
          "2022-02-23",
          "2022-02-24",
          "2022-02-25",
          "2022-02-26",
          "2022-02-27",
          "2022-02-28",
          "2022-03-01",
          "2022-03-02",
          "2022-03-03",
          "2022-03-04",
          "2022-03-05",
          "2022-03-06",
          "2022-03-07",
          "2022-03-08",
          "2022-03-09",
          "2022-03-10",
          "2022-03-11",
          "2022-03-12"
         ],
         "xaxis": "x",
         "y": [
          7.812817223017646,
          15.048025807812849,
          24.33690823679268,
          12.212170330157448,
          -39.242299104527405,
          2.4248059589218087,
          49.567683444514216,
          162.24031299434102,
          156.77406161422715,
          200.00279524359215,
          187.06683937218466,
          4.309686710070196,
          6.1142405501852295,
          117.23479506378754,
          78.16168839698923,
          96.91738009067888,
          67.92983897296932,
          -1.9679742942470284,
          182.42572590787813,
          114.87295167949824,
          -33.11039078485463,
          38.64380847697453,
          -143.40662251046768,
          79.51276526785523,
          124.72883196132977,
          258.5649504517563,
          274.0633928513515,
          1173.676224801633,
          185.13254309800232,
          404.13601003332894,
          -39.40643731955106,
          -403.5864793331473,
          -538.0505241015449,
          251.40543890132966,
          524.6484191123701,
          875.8372123474157,
          644.5971282144053,
          388.41632584949326,
          230.83398269339582,
          441.4462397751165,
          453.3789832258955,
          381.059515656786,
          350.7333090548661,
          400.78926101964544,
          151.07842303406233,
          19.73267338593719,
          90.41459271671278,
          -43.78595665387698,
          -34.539847142096896,
          -26.195271615480642,
          -189.63741231329152,
          -320.34387934448216,
          -207.08133327636477,
          -44.9162837926021,
          -35.83502234739559,
          234.27495328939645,
          -16.880339721541958,
          30.432004535662287,
          -125.29226425501164,
          -142.980924599751,
          -98.3053537807636,
          -491.29788680510876,
          -525.8675031206357,
          -416.77633875315667,
          -359.10942623720155,
          -562.3029753978211,
          -524.4574239298172,
          -478.15928006016185,
          -467.27160510172126,
          -401.80457492681364,
          -395.9863375202045,
          -511.4187666610457,
          -479.70141948566226,
          -460.2512331283026,
          0.023512356592959804,
          0.18556833458446675,
          -0.023396846284354567,
          0.02591098942641601,
          0.3862582705181037,
          16.818108492099327,
          3.806719954108271,
          1.6124238431135431,
          -10.935832458967989,
          4.945882745812014,
          10.44031601509186,
          20.17638661668056,
          58.0666033494659,
          0.2967069010542147,
          33.21469123798704,
          55.10718974321017,
          202.64812745935419,
          166.8560883560921,
          294.1668646171695,
          245.1101146221017,
          262.257790863103,
          236.8150943904843,
          190.18553239191272,
          181.55566382161473,
          274.4147444398574,
          330.09089152887344,
          -2.271020334145078,
          128.2397741595496,
          71.66962104410118,
          34.82411211708995,
          -69.9424784335281,
          -47.66532313942412,
          79.31155704371008,
          51.283212123748626,
          62.85666355554463,
          330.1941381497977,
          276.84840616331485,
          243.7175849672044,
          -45.45595284744837,
          -66.41348236880953,
          -20.9035778076165,
          -104.59785068071432,
          5.637037396795051,
          -9.47193293246778,
          -124.9969995651453,
          -93.51253660567016,
          -3.7190347664023875,
          -45.7865422014749,
          -53.590185063052616,
          -70.28163172721906,
          -132.9399234324236,
          -315.6640279778164,
          -385.97635409918706,
          -173.86961938890335,
          -155.77979547478935,
          -220.43441582508262,
          -214.8284914544857,
          -254.74140536591466,
          -299.8527848552124,
          -357.65156707817977,
          -312.43481000035376,
          -274.59449511798664,
          -147.93572785549748,
          -136.20692608878505,
          -123.5493009152338,
          -178.08394774941456,
          -135.8089654079851,
          -166.7323802643338,
          -130.02123296515066,
          -116.1299968785766,
          -100.08023654288547,
          -179.2222251012157,
          -190.0866203493872,
          -220.2799304754181,
          -190.33796888535858,
          -187.05654081670156,
          -15.285392656603449,
          -68.32832015258549,
          -100.70637147492857,
          -104.6896567825815,
          -117.5664874145665,
          -60.02243848189073,
          -90.50666490908225,
          -81.02910106151512,
          -14.102303778907412,
          -65.13232869729546,
          -3.419888605624635,
          25.713583544408607,
          -60.92829455003141,
          135.16400622973987,
          113.1845572759321,
          15.868587985063755,
          52.1457167997649,
          24.03205753301239,
          52.59988639391133,
          133.6474658830765,
          52.28616737894947,
          45.947664460552005,
          46.83503575083074,
          50.51391442175856,
          96.68476624018882,
          103.96115849013648,
          11.798238315302626,
          36.664032494200626,
          -1.563359374389961,
          20.739324417328135,
          3.4629558102908504,
          -14.943870826660657,
          -132.6388458456122,
          -97.76490599805163,
          -210.59553231758952,
          -106.37850038324581,
          -57.931861328989214,
          -123.5503778511665,
          -168.80657274722603,
          -84.59845746991084,
          -143.27151436516613,
          -106.74917138216443,
          -253.74614793312193,
          -254.6546447561873,
          -211.57191772395106,
          -102.12742430672316,
          -131.8212948683061,
          -29.40339399307669,
          79.87284007502706,
          55.820478591079905,
          -109.71763753852588,
          -103.1299975047327,
          3.154548182884213,
          19.105197864272014,
          37.961539547297434,
          -129.1422433290052,
          -168.9308067699411,
          -102.13270772152833,
          -119.67666278388799,
          -276.82899493278137,
          -283.184686150203,
          -111.7740948729002,
          -162.0322789525363,
          -138.01784965200667,
          -83.91758903103775,
          -89.58438301395185,
          -138.0094677282059,
          -24.242030250708325,
          32.99863849934741,
          -41.06658908183144,
          -117.75888208457474,
          -55.22367461371803,
          4.611788455334079,
          -12.921243570349247,
          -117.9005216757574,
          -160.2869783253866,
          -124.21153214266255,
          -156.29363155657973,
          -114.86229509826833,
          -94.49988011725668,
          -134.08112457960766,
          -150.83646018327806,
          -218.86836069194158,
          -189.8510707361167,
          -263.7418782498795,
          -285.1748945018095,
          -262.1912605479774,
          -286.26520647689824,
          -204.4844949811503,
          -161.33292270797983,
          -216.48816528953057,
          -176.2643506099531,
          -170.80995870050117,
          -136.90371276261493,
          -96.92951666275025,
          -155.5527246565993,
          -220.9450045761568,
          -264.96694108013514,
          -373.80294391436183,
          -431.76259376233946,
          -392.66878361558673,
          -435.71971028139683,
          -430.84528895631246,
          -406.922824437073,
          -412.92998555355155,
          -390.5048427462214,
          -383.68475750432395,
          -412.4399165585568,
          -403.42228368082294,
          -392.75636066317355,
          -439.54972662304385,
          -436.6024429618659,
          -378.4525261859749,
          -376.0121822838911,
          -364.68252914097366,
          -282.6488059077621,
          -303.40430203093433,
          -276.61616453410386,
          -323.73196996754297,
          -385.61715395271415,
          -396.71733234995764,
          -408.6545967225122,
          -405.8078489181965,
          -342.7471935655569,
          -357.3941901258685,
          -420.5938751970282,
          -439.84699687011715,
          -431.37006208452067,
          -480.1146870470925,
          -530.1543284205895,
          -507.8104846111376,
          -518.4884167536402,
          -518.1921118296484,
          -481.8205762832355,
          -493.335167277396,
          -512.7685670789713,
          -442.5541564306553,
          -434.08818713896864,
          -438.00436323658346,
          -459.70852086154866,
          -498.56562389332134,
          -482.2818713712684,
          -511.19703806346274,
          -525.182012714592,
          -518.7458599392587,
          -497.3039439200853,
          -524.9846348292779,
          -532.8753050501466,
          -534.3346710126666
         ],
         "yaxis": "y"
        }
       ],
       "layout": {
        "legend": {
         "title": {
          "text": "variable"
         },
         "tracegroupgap": 0
        },
        "margin": {
         "t": 60
        },
        "template": {
         "data": {
          "bar": [
           {
            "error_x": {
             "color": "#2a3f5f"
            },
            "error_y": {
             "color": "#2a3f5f"
            },
            "marker": {
             "line": {
              "color": "#E5ECF6",
              "width": 0.5
             },
             "pattern": {
              "fillmode": "overlay",
              "size": 10,
              "solidity": 0.2
             }
            },
            "type": "bar"
           }
          ],
          "barpolar": [
           {
            "marker": {
             "line": {
              "color": "#E5ECF6",
              "width": 0.5
             },
             "pattern": {
              "fillmode": "overlay",
              "size": 10,
              "solidity": 0.2
             }
            },
            "type": "barpolar"
           }
          ],
          "carpet": [
           {
            "aaxis": {
             "endlinecolor": "#2a3f5f",
             "gridcolor": "white",
             "linecolor": "white",
             "minorgridcolor": "white",
             "startlinecolor": "#2a3f5f"
            },
            "baxis": {
             "endlinecolor": "#2a3f5f",
             "gridcolor": "white",
             "linecolor": "white",
             "minorgridcolor": "white",
             "startlinecolor": "#2a3f5f"
            },
            "type": "carpet"
           }
          ],
          "choropleth": [
           {
            "colorbar": {
             "outlinewidth": 0,
             "ticks": ""
            },
            "type": "choropleth"
           }
          ],
          "contour": [
           {
            "colorbar": {
             "outlinewidth": 0,
             "ticks": ""
            },
            "colorscale": [
             [
              0,
              "#0d0887"
             ],
             [
              0.1111111111111111,
              "#46039f"
             ],
             [
              0.2222222222222222,
              "#7201a8"
             ],
             [
              0.3333333333333333,
              "#9c179e"
             ],
             [
              0.4444444444444444,
              "#bd3786"
             ],
             [
              0.5555555555555556,
              "#d8576b"
             ],
             [
              0.6666666666666666,
              "#ed7953"
             ],
             [
              0.7777777777777778,
              "#fb9f3a"
             ],
             [
              0.8888888888888888,
              "#fdca26"
             ],
             [
              1,
              "#f0f921"
             ]
            ],
            "type": "contour"
           }
          ],
          "contourcarpet": [
           {
            "colorbar": {
             "outlinewidth": 0,
             "ticks": ""
            },
            "type": "contourcarpet"
           }
          ],
          "heatmap": [
           {
            "colorbar": {
             "outlinewidth": 0,
             "ticks": ""
            },
            "colorscale": [
             [
              0,
              "#0d0887"
             ],
             [
              0.1111111111111111,
              "#46039f"
             ],
             [
              0.2222222222222222,
              "#7201a8"
             ],
             [
              0.3333333333333333,
              "#9c179e"
             ],
             [
              0.4444444444444444,
              "#bd3786"
             ],
             [
              0.5555555555555556,
              "#d8576b"
             ],
             [
              0.6666666666666666,
              "#ed7953"
             ],
             [
              0.7777777777777778,
              "#fb9f3a"
             ],
             [
              0.8888888888888888,
              "#fdca26"
             ],
             [
              1,
              "#f0f921"
             ]
            ],
            "type": "heatmap"
           }
          ],
          "heatmapgl": [
           {
            "colorbar": {
             "outlinewidth": 0,
             "ticks": ""
            },
            "colorscale": [
             [
              0,
              "#0d0887"
             ],
             [
              0.1111111111111111,
              "#46039f"
             ],
             [
              0.2222222222222222,
              "#7201a8"
             ],
             [
              0.3333333333333333,
              "#9c179e"
             ],
             [
              0.4444444444444444,
              "#bd3786"
             ],
             [
              0.5555555555555556,
              "#d8576b"
             ],
             [
              0.6666666666666666,
              "#ed7953"
             ],
             [
              0.7777777777777778,
              "#fb9f3a"
             ],
             [
              0.8888888888888888,
              "#fdca26"
             ],
             [
              1,
              "#f0f921"
             ]
            ],
            "type": "heatmapgl"
           }
          ],
          "histogram": [
           {
            "marker": {
             "pattern": {
              "fillmode": "overlay",
              "size": 10,
              "solidity": 0.2
             }
            },
            "type": "histogram"
           }
          ],
          "histogram2d": [
           {
            "colorbar": {
             "outlinewidth": 0,
             "ticks": ""
            },
            "colorscale": [
             [
              0,
              "#0d0887"
             ],
             [
              0.1111111111111111,
              "#46039f"
             ],
             [
              0.2222222222222222,
              "#7201a8"
             ],
             [
              0.3333333333333333,
              "#9c179e"
             ],
             [
              0.4444444444444444,
              "#bd3786"
             ],
             [
              0.5555555555555556,
              "#d8576b"
             ],
             [
              0.6666666666666666,
              "#ed7953"
             ],
             [
              0.7777777777777778,
              "#fb9f3a"
             ],
             [
              0.8888888888888888,
              "#fdca26"
             ],
             [
              1,
              "#f0f921"
             ]
            ],
            "type": "histogram2d"
           }
          ],
          "histogram2dcontour": [
           {
            "colorbar": {
             "outlinewidth": 0,
             "ticks": ""
            },
            "colorscale": [
             [
              0,
              "#0d0887"
             ],
             [
              0.1111111111111111,
              "#46039f"
             ],
             [
              0.2222222222222222,
              "#7201a8"
             ],
             [
              0.3333333333333333,
              "#9c179e"
             ],
             [
              0.4444444444444444,
              "#bd3786"
             ],
             [
              0.5555555555555556,
              "#d8576b"
             ],
             [
              0.6666666666666666,
              "#ed7953"
             ],
             [
              0.7777777777777778,
              "#fb9f3a"
             ],
             [
              0.8888888888888888,
              "#fdca26"
             ],
             [
              1,
              "#f0f921"
             ]
            ],
            "type": "histogram2dcontour"
           }
          ],
          "mesh3d": [
           {
            "colorbar": {
             "outlinewidth": 0,
             "ticks": ""
            },
            "type": "mesh3d"
           }
          ],
          "parcoords": [
           {
            "line": {
             "colorbar": {
              "outlinewidth": 0,
              "ticks": ""
             }
            },
            "type": "parcoords"
           }
          ],
          "pie": [
           {
            "automargin": true,
            "type": "pie"
           }
          ],
          "scatter": [
           {
            "marker": {
             "colorbar": {
              "outlinewidth": 0,
              "ticks": ""
             }
            },
            "type": "scatter"
           }
          ],
          "scatter3d": [
           {
            "line": {
             "colorbar": {
              "outlinewidth": 0,
              "ticks": ""
             }
            },
            "marker": {
             "colorbar": {
              "outlinewidth": 0,
              "ticks": ""
             }
            },
            "type": "scatter3d"
           }
          ],
          "scattercarpet": [
           {
            "marker": {
             "colorbar": {
              "outlinewidth": 0,
              "ticks": ""
             }
            },
            "type": "scattercarpet"
           }
          ],
          "scattergeo": [
           {
            "marker": {
             "colorbar": {
              "outlinewidth": 0,
              "ticks": ""
             }
            },
            "type": "scattergeo"
           }
          ],
          "scattergl": [
           {
            "marker": {
             "colorbar": {
              "outlinewidth": 0,
              "ticks": ""
             }
            },
            "type": "scattergl"
           }
          ],
          "scattermapbox": [
           {
            "marker": {
             "colorbar": {
              "outlinewidth": 0,
              "ticks": ""
             }
            },
            "type": "scattermapbox"
           }
          ],
          "scatterpolar": [
           {
            "marker": {
             "colorbar": {
              "outlinewidth": 0,
              "ticks": ""
             }
            },
            "type": "scatterpolar"
           }
          ],
          "scatterpolargl": [
           {
            "marker": {
             "colorbar": {
              "outlinewidth": 0,
              "ticks": ""
             }
            },
            "type": "scatterpolargl"
           }
          ],
          "scatterternary": [
           {
            "marker": {
             "colorbar": {
              "outlinewidth": 0,
              "ticks": ""
             }
            },
            "type": "scatterternary"
           }
          ],
          "surface": [
           {
            "colorbar": {
             "outlinewidth": 0,
             "ticks": ""
            },
            "colorscale": [
             [
              0,
              "#0d0887"
             ],
             [
              0.1111111111111111,
              "#46039f"
             ],
             [
              0.2222222222222222,
              "#7201a8"
             ],
             [
              0.3333333333333333,
              "#9c179e"
             ],
             [
              0.4444444444444444,
              "#bd3786"
             ],
             [
              0.5555555555555556,
              "#d8576b"
             ],
             [
              0.6666666666666666,
              "#ed7953"
             ],
             [
              0.7777777777777778,
              "#fb9f3a"
             ],
             [
              0.8888888888888888,
              "#fdca26"
             ],
             [
              1,
              "#f0f921"
             ]
            ],
            "type": "surface"
           }
          ],
          "table": [
           {
            "cells": {
             "fill": {
              "color": "#EBF0F8"
             },
             "line": {
              "color": "white"
             }
            },
            "header": {
             "fill": {
              "color": "#C8D4E3"
             },
             "line": {
              "color": "white"
             }
            },
            "type": "table"
           }
          ]
         },
         "layout": {
          "annotationdefaults": {
           "arrowcolor": "#2a3f5f",
           "arrowhead": 0,
           "arrowwidth": 1
          },
          "autotypenumbers": "strict",
          "coloraxis": {
           "colorbar": {
            "outlinewidth": 0,
            "ticks": ""
           }
          },
          "colorscale": {
           "diverging": [
            [
             0,
             "#8e0152"
            ],
            [
             0.1,
             "#c51b7d"
            ],
            [
             0.2,
             "#de77ae"
            ],
            [
             0.3,
             "#f1b6da"
            ],
            [
             0.4,
             "#fde0ef"
            ],
            [
             0.5,
             "#f7f7f7"
            ],
            [
             0.6,
             "#e6f5d0"
            ],
            [
             0.7,
             "#b8e186"
            ],
            [
             0.8,
             "#7fbc41"
            ],
            [
             0.9,
             "#4d9221"
            ],
            [
             1,
             "#276419"
            ]
           ],
           "sequential": [
            [
             0,
             "#0d0887"
            ],
            [
             0.1111111111111111,
             "#46039f"
            ],
            [
             0.2222222222222222,
             "#7201a8"
            ],
            [
             0.3333333333333333,
             "#9c179e"
            ],
            [
             0.4444444444444444,
             "#bd3786"
            ],
            [
             0.5555555555555556,
             "#d8576b"
            ],
            [
             0.6666666666666666,
             "#ed7953"
            ],
            [
             0.7777777777777778,
             "#fb9f3a"
            ],
            [
             0.8888888888888888,
             "#fdca26"
            ],
            [
             1,
             "#f0f921"
            ]
           ],
           "sequentialminus": [
            [
             0,
             "#0d0887"
            ],
            [
             0.1111111111111111,
             "#46039f"
            ],
            [
             0.2222222222222222,
             "#7201a8"
            ],
            [
             0.3333333333333333,
             "#9c179e"
            ],
            [
             0.4444444444444444,
             "#bd3786"
            ],
            [
             0.5555555555555556,
             "#d8576b"
            ],
            [
             0.6666666666666666,
             "#ed7953"
            ],
            [
             0.7777777777777778,
             "#fb9f3a"
            ],
            [
             0.8888888888888888,
             "#fdca26"
            ],
            [
             1,
             "#f0f921"
            ]
           ]
          },
          "colorway": [
           "#636efa",
           "#EF553B",
           "#00cc96",
           "#ab63fa",
           "#FFA15A",
           "#19d3f3",
           "#FF6692",
           "#B6E880",
           "#FF97FF",
           "#FECB52"
          ],
          "font": {
           "color": "#2a3f5f"
          },
          "geo": {
           "bgcolor": "white",
           "lakecolor": "white",
           "landcolor": "#E5ECF6",
           "showlakes": true,
           "showland": true,
           "subunitcolor": "white"
          },
          "hoverlabel": {
           "align": "left"
          },
          "hovermode": "closest",
          "mapbox": {
           "style": "light"
          },
          "paper_bgcolor": "white",
          "plot_bgcolor": "#E5ECF6",
          "polar": {
           "angularaxis": {
            "gridcolor": "white",
            "linecolor": "white",
            "ticks": ""
           },
           "bgcolor": "#E5ECF6",
           "radialaxis": {
            "gridcolor": "white",
            "linecolor": "white",
            "ticks": ""
           }
          },
          "scene": {
           "xaxis": {
            "backgroundcolor": "#E5ECF6",
            "gridcolor": "white",
            "gridwidth": 2,
            "linecolor": "white",
            "showbackground": true,
            "ticks": "",
            "zerolinecolor": "white"
           },
           "yaxis": {
            "backgroundcolor": "#E5ECF6",
            "gridcolor": "white",
            "gridwidth": 2,
            "linecolor": "white",
            "showbackground": true,
            "ticks": "",
            "zerolinecolor": "white"
           },
           "zaxis": {
            "backgroundcolor": "#E5ECF6",
            "gridcolor": "white",
            "gridwidth": 2,
            "linecolor": "white",
            "showbackground": true,
            "ticks": "",
            "zerolinecolor": "white"
           }
          },
          "shapedefaults": {
           "line": {
            "color": "#2a3f5f"
           }
          },
          "ternary": {
           "aaxis": {
            "gridcolor": "white",
            "linecolor": "white",
            "ticks": ""
           },
           "baxis": {
            "gridcolor": "white",
            "linecolor": "white",
            "ticks": ""
           },
           "bgcolor": "#E5ECF6",
           "caxis": {
            "gridcolor": "white",
            "linecolor": "white",
            "ticks": ""
           }
          },
          "title": {
           "x": 0.05
          },
          "xaxis": {
           "automargin": true,
           "gridcolor": "white",
           "linecolor": "white",
           "ticks": "",
           "title": {
            "standoff": 15
           },
           "zerolinecolor": "white",
           "zerolinewidth": 2
          },
          "yaxis": {
           "automargin": true,
           "gridcolor": "white",
           "linecolor": "white",
           "ticks": "",
           "title": {
            "standoff": 15
           },
           "zerolinecolor": "white",
           "zerolinewidth": 2
          }
         }
        },
        "xaxis": {
         "anchor": "y",
         "domain": [
          0,
          1
         ],
         "title": {
          "text": "Date Snapshot"
         }
        },
        "yaxis": {
         "anchor": "x",
         "domain": [
          0,
          1
         ],
         "title": {
          "text": "value"
         }
        }
       }
      }
     },
     "metadata": {},
     "output_type": "display_data"
    },
    {
     "data": {
      "application/vnd.plotly.v1+json": {
       "config": {
        "linkText": "Export to plot.ly",
        "plotlyServerURL": "https://plot.ly",
        "showLink": false
       },
       "data": [
        {
         "hovertemplate": "variable=Stock Gain / (Loss)<br>Date Snapshot=%{x}<br>value=%{y}<extra></extra>",
         "legendgroup": "Stock Gain / (Loss)",
         "line": {
          "color": "#636efa",
          "dash": "solid"
         },
         "marker": {
          "symbol": "circle"
         },
         "mode": "lines",
         "name": "Stock Gain / (Loss)",
         "orientation": "v",
         "showlegend": true,
         "type": "scatter",
         "x": [
          "2021-04-20",
          "2021-04-21",
          "2021-04-22",
          "2021-04-23",
          "2021-04-24",
          "2021-04-25",
          "2021-04-26",
          "2021-04-27",
          "2021-04-28",
          "2021-04-29",
          "2021-04-30",
          "2021-05-01",
          "2021-05-02",
          "2021-05-03",
          "2021-05-04",
          "2021-05-05",
          "2021-05-06",
          "2021-05-07",
          "2021-05-08",
          "2021-05-09",
          "2021-05-10",
          "2021-05-11",
          "2021-05-12",
          "2021-05-14",
          "2021-05-15",
          "2021-05-16",
          "2021-05-17",
          "2021-05-18",
          "2021-05-19",
          "2021-05-20",
          "2021-05-21",
          "2021-05-22",
          "2021-05-23",
          "2021-05-24",
          "2021-05-25",
          "2021-05-26",
          "2021-05-27",
          "2021-05-28",
          "2021-05-29",
          "2021-05-30",
          "2021-05-31",
          "2021-06-01",
          "2021-06-02",
          "2021-06-03",
          "2021-06-04",
          "2021-06-05",
          "2021-06-06",
          "2021-06-07",
          "2021-06-08",
          "2021-06-09",
          "2021-06-10",
          "2021-06-11",
          "2021-06-12",
          "2021-06-13",
          "2021-06-14",
          "2021-06-15",
          "2021-06-16",
          "2021-06-17",
          "2021-06-18",
          "2021-06-19",
          "2021-06-20",
          "2021-06-21",
          "2021-06-22",
          "2021-06-23",
          "2021-06-24",
          "2021-06-25",
          "2021-06-26",
          "2021-06-27",
          "2021-06-28",
          "2021-06-29",
          "2021-06-30",
          "2021-07-01",
          "2021-07-02",
          "2021-07-03",
          "2021-07-26",
          "2021-07-27",
          "2021-07-28",
          "2021-07-29",
          "2021-07-30",
          "2021-07-31",
          "2021-08-01",
          "2021-08-02",
          "2021-08-03",
          "2021-08-04",
          "2021-08-05",
          "2021-08-06",
          "2021-08-07",
          "2021-08-08",
          "2021-08-09",
          "2021-08-10",
          "2021-08-11",
          "2021-08-12",
          "2021-08-13",
          "2021-08-14",
          "2021-08-15",
          "2021-08-16",
          "2021-08-17",
          "2021-08-18",
          "2021-08-19",
          "2021-08-20",
          "2021-08-26",
          "2021-08-27",
          "2021-08-28",
          "2021-08-29",
          "2021-08-30",
          "2021-08-31",
          "2021-09-01",
          "2021-09-02",
          "2021-09-03",
          "2021-09-04",
          "2021-09-05",
          "2021-09-06",
          "2021-09-07",
          "2021-09-08",
          "2021-09-09",
          "2021-09-10",
          "2021-09-11",
          "2021-09-12",
          "2021-09-13",
          "2021-09-14",
          "2021-09-15",
          "2021-09-16",
          "2021-09-17",
          "2021-09-18",
          "2021-09-19",
          "2021-09-20",
          "2021-09-21",
          "2021-09-22",
          "2021-09-23",
          "2021-09-24",
          "2021-09-25",
          "2021-09-26",
          "2021-09-27",
          "2021-09-28",
          "2021-09-29",
          "2021-09-30",
          "2021-10-01",
          "2021-10-02",
          "2021-10-03",
          "2021-10-04",
          "2021-10-05",
          "2021-10-06",
          "2021-10-07",
          "2021-10-08",
          "2021-10-09",
          "2021-10-10",
          "2021-10-11",
          "2021-10-12",
          "2021-10-13",
          "2021-10-14",
          "2021-10-15",
          "2021-10-16",
          "2021-10-17",
          "2021-10-18",
          "2021-10-19",
          "2021-10-20",
          "2021-10-21",
          "2021-10-22",
          "2021-10-23",
          "2021-10-24",
          "2021-10-25",
          "2021-10-26",
          "2021-10-27",
          "2021-10-28",
          "2021-10-29",
          "2021-10-30",
          "2021-10-31",
          "2021-11-01",
          "2021-11-02",
          "2021-11-03",
          "2021-11-04",
          "2021-11-05",
          "2021-11-06",
          "2021-11-07",
          "2021-11-08",
          "2021-11-09",
          "2021-11-10",
          "2021-11-11",
          "2021-11-12",
          "2021-11-13",
          "2021-11-14",
          "2021-11-15",
          "2021-11-16",
          "2021-11-17",
          "2021-11-18",
          "2021-11-19",
          "2021-11-20",
          "2021-11-21",
          "2021-11-22",
          "2021-11-23",
          "2021-11-24",
          "2021-11-25",
          "2021-11-26",
          "2021-11-27",
          "2021-11-28",
          "2021-11-29",
          "2021-11-30",
          "2021-12-01",
          "2021-12-02",
          "2021-12-03",
          "2021-12-04",
          "2021-12-05",
          "2021-12-06",
          "2021-12-07",
          "2021-12-08",
          "2021-12-09",
          "2021-12-10",
          "2021-12-11",
          "2021-12-12",
          "2021-12-13",
          "2021-12-14",
          "2021-12-15",
          "2021-12-16",
          "2021-12-17",
          "2021-12-18",
          "2021-12-19",
          "2021-12-20",
          "2021-12-21",
          "2021-12-22",
          "2021-12-23",
          "2021-12-24",
          "2021-12-25",
          "2021-12-26",
          "2021-12-27",
          "2021-12-28",
          "2021-12-29",
          "2021-12-30",
          "2021-12-31",
          "2022-01-01",
          "2022-01-02",
          "2022-01-03",
          "2022-01-04",
          "2022-01-05",
          "2022-01-06",
          "2022-01-07",
          "2022-01-08",
          "2022-01-09",
          "2022-01-10",
          "2022-01-11",
          "2022-01-12",
          "2022-01-13",
          "2022-01-14",
          "2022-01-15",
          "2022-01-16",
          "2022-01-17",
          "2022-01-18",
          "2022-01-19",
          "2022-01-20",
          "2022-01-21",
          "2022-01-22",
          "2022-01-23",
          "2022-01-24",
          "2022-01-25",
          "2022-01-26",
          "2022-01-27",
          "2022-01-28",
          "2022-01-29",
          "2022-01-30",
          "2022-01-31",
          "2022-02-01",
          "2022-02-02",
          "2022-02-03",
          "2022-02-04",
          "2022-02-05",
          "2022-02-06",
          "2022-02-07",
          "2022-02-08",
          "2022-02-09",
          "2022-02-10",
          "2022-02-11",
          "2022-02-12",
          "2022-02-13",
          "2022-02-14",
          "2022-02-15",
          "2022-02-16",
          "2022-02-17",
          "2022-02-18",
          "2022-02-19",
          "2022-02-20",
          "2022-02-21",
          "2022-02-22",
          "2022-02-23",
          "2022-02-24",
          "2022-02-25",
          "2022-02-26",
          "2022-02-27",
          "2022-02-28",
          "2022-03-01",
          "2022-03-02",
          "2022-03-03",
          "2022-03-04",
          "2022-03-05",
          "2022-03-06",
          "2022-03-07",
          "2022-03-08",
          "2022-03-09",
          "2022-03-10",
          "2022-03-11",
          "2022-03-12"
         ],
         "xaxis": "x",
         "y": [
          7.812817223017646,
          15.048025807812849,
          24.33690823679268,
          12.212170330157448,
          -39.242299104527405,
          2.4248059589218087,
          49.567683444514216,
          162.24031299434102,
          156.77406161422715,
          200.00279524359215,
          187.06683937218466,
          4.309686710070196,
          6.1142405501852295,
          117.23479506378754,
          78.16168839698923,
          96.91738009067888,
          67.92983897296932,
          -1.9679742942470284,
          182.42572590787813,
          114.87295167949824,
          -33.11039078485463,
          38.64380847697453,
          -143.40662251046768,
          79.51276526785523,
          124.72883196132977,
          258.5649504517563,
          274.0633928513515,
          1173.676224801633,
          185.13254309800232,
          404.13601003332894,
          -39.40643731955106,
          -403.5864793331473,
          -538.0505241015449,
          251.40543890132966,
          524.6484191123701,
          875.8372123474157,
          644.5971282144053,
          388.41632584949326,
          230.83398269339582,
          441.4462397751165,
          453.3789832258955,
          381.059515656786,
          350.7333090548661,
          400.78926101964544,
          151.07842303406233,
          19.73267338593719,
          90.41459271671278,
          -43.78595665387698,
          -34.539847142096896,
          -26.195271615480642,
          -189.63741231329152,
          -320.34387934448216,
          -207.08133327636477,
          -44.9162837926021,
          -35.83502234739559,
          234.27495328939645,
          -16.880339721541958,
          30.432004535662287,
          -125.29226425501164,
          -142.980924599751,
          -98.3053537807636,
          -491.29788680510876,
          -525.8675031206357,
          -416.77633875315667,
          -359.10942623720155,
          -562.3029753978211,
          -524.4574239298172,
          -478.15928006016185,
          -467.27160510172126,
          -401.80457492681364,
          -395.9863375202045,
          -511.4187666610457,
          -479.70141948566226,
          -460.2512331283026,
          0.023512356592959804,
          0.18556833458446675,
          -0.023396846284354567,
          0.02591098942641601,
          0.3862582705181037,
          16.818108492099327,
          3.806719954108271,
          1.6124238431135431,
          -10.935832458967989,
          4.945882745812014,
          10.44031601509186,
          20.17638661668056,
          58.0666033494659,
          0.2967069010542147,
          33.21469123798704,
          55.10718974321017,
          202.64812745935419,
          166.8560883560921,
          294.1668646171695,
          245.1101146221017,
          262.257790863103,
          236.8150943904843,
          190.18553239191272,
          181.55566382161473,
          274.4147444398574,
          330.09089152887344,
          -2.271020334145078,
          128.2397741595496,
          71.66962104410118,
          34.82411211708995,
          -69.9424784335281,
          -47.66532313942412,
          79.31155704371008,
          51.283212123748626,
          62.85666355554463,
          330.1941381497977,
          276.84840616331485,
          243.7175849672044,
          -45.45595284744837,
          -66.41348236880953,
          -20.9035778076165,
          -104.59785068071432,
          5.637037396795051,
          -9.47193293246778,
          -124.9969995651453,
          -93.51253660567016,
          -3.7190347664023875,
          -45.7865422014749,
          -53.590185063052616,
          -70.28163172721906,
          -132.9399234324236,
          -315.6640279778164,
          -385.97635409918706,
          -173.86961938890335,
          -155.77979547478935,
          -220.43441582508262,
          -214.8284914544857,
          -254.74140536591466,
          -299.8527848552124,
          -357.65156707817977,
          -312.43481000035376,
          -274.59449511798664,
          -147.93572785549748,
          -136.20692608878505,
          -123.5493009152338,
          -178.08394774941456,
          -135.8089654079851,
          -166.7323802643338,
          -130.02123296515066,
          -116.1299968785766,
          -100.08023654288547,
          -179.2222251012157,
          -190.0866203493872,
          -220.2799304754181,
          -190.33796888535858,
          -187.05654081670156,
          -15.285392656603449,
          -68.32832015258549,
          -100.70637147492857,
          -104.6896567825815,
          -117.5664874145665,
          -60.02243848189073,
          -90.50666490908225,
          -81.02910106151512,
          -14.102303778907412,
          -65.13232869729546,
          -3.419888605624635,
          25.713583544408607,
          -60.92829455003141,
          135.16400622973987,
          113.1845572759321,
          15.868587985063755,
          52.1457167997649,
          24.03205753301239,
          52.59988639391133,
          133.6474658830765,
          52.28616737894947,
          45.947664460552005,
          46.83503575083074,
          50.51391442175856,
          96.68476624018882,
          103.96115849013648,
          11.798238315302626,
          36.664032494200626,
          -1.563359374389961,
          20.739324417328135,
          3.4629558102908504,
          -14.943870826660657,
          -132.6388458456122,
          -97.76490599805163,
          -210.59553231758952,
          -106.37850038324581,
          -57.931861328989214,
          -123.5503778511665,
          -168.80657274722603,
          -84.59845746991084,
          -143.27151436516613,
          -106.74917138216443,
          -253.74614793312193,
          -254.6546447561873,
          -211.57191772395106,
          -102.12742430672316,
          -131.8212948683061,
          -29.40339399307669,
          79.87284007502706,
          55.820478591079905,
          -109.71763753852588,
          -103.1299975047327,
          3.154548182884213,
          19.105197864272014,
          37.961539547297434,
          -129.1422433290052,
          -168.9308067699411,
          -102.13270772152833,
          -119.67666278388799,
          -276.82899493278137,
          -283.184686150203,
          -111.7740948729002,
          -162.0322789525363,
          -138.01784965200667,
          -83.91758903103775,
          -89.58438301395185,
          -138.0094677282059,
          -24.242030250708325,
          32.99863849934741,
          -41.06658908183144,
          -117.75888208457474,
          -55.22367461371803,
          4.611788455334079,
          -12.921243570349247,
          -117.9005216757574,
          -160.2869783253866,
          -124.21153214266255,
          -156.29363155657973,
          -114.86229509826833,
          -94.49988011725668,
          -134.08112457960766,
          -150.83646018327806,
          -218.86836069194158,
          -189.8510707361167,
          -263.7418782498795,
          -285.1748945018095,
          -262.1912605479774,
          -286.26520647689824,
          -204.4844949811503,
          -161.33292270797983,
          -216.48816528953057,
          -176.2643506099531,
          -170.80995870050117,
          -136.90371276261493,
          -96.92951666275025,
          -155.5527246565993,
          -220.9450045761568,
          -264.96694108013514,
          -373.80294391436183,
          -431.76259376233946,
          -392.66878361558673,
          -435.71971028139683,
          -430.84528895631246,
          -406.922824437073,
          -412.92998555355155,
          -390.5048427462214,
          -383.68475750432395,
          -412.4399165585568,
          -403.42228368082294,
          -392.75636066317355,
          -439.54972662304385,
          -436.6024429618659,
          -378.4525261859749,
          -376.0121822838911,
          -364.68252914097366,
          -282.6488059077621,
          -303.40430203093433,
          -276.61616453410386,
          -323.73196996754297,
          -385.61715395271415,
          -396.71733234995764,
          -408.6545967225122,
          -405.8078489181965,
          -342.7471935655569,
          -357.3941901258685,
          -420.5938751970282,
          -439.84699687011715,
          -431.37006208452067,
          -480.1146870470925,
          -530.1543284205895,
          -507.8104846111376,
          -518.4884167536402,
          -518.1921118296484,
          -481.8205762832355,
          -493.335167277396,
          -512.7685670789713,
          -442.5541564306553,
          -434.08818713896864,
          -438.00436323658346,
          -459.70852086154866,
          -498.56562389332134,
          -482.2818713712684,
          -511.19703806346274,
          -525.182012714592,
          -518.7458599392587,
          -497.3039439200853,
          -524.9846348292779,
          -532.8753050501466,
          -534.3346710126666
         ],
         "yaxis": "y"
        },
        {
         "hovertemplate": "variable=Benchmark Gain / (Loss)<br>Date Snapshot=%{x}<br>value=%{y}<extra></extra>",
         "legendgroup": "Benchmark Gain / (Loss)",
         "line": {
          "color": "#EF553B",
          "dash": "solid"
         },
         "marker": {
          "symbol": "circle"
         },
         "mode": "lines",
         "name": "Benchmark Gain / (Loss)",
         "orientation": "v",
         "showlegend": true,
         "type": "scatter",
         "x": [
          "2021-04-20",
          "2021-04-21",
          "2021-04-22",
          "2021-04-23",
          "2021-04-24",
          "2021-04-25",
          "2021-04-26",
          "2021-04-27",
          "2021-04-28",
          "2021-04-29",
          "2021-04-30",
          "2021-05-01",
          "2021-05-02",
          "2021-05-03",
          "2021-05-04",
          "2021-05-05",
          "2021-05-06",
          "2021-05-07",
          "2021-05-08",
          "2021-05-09",
          "2021-05-10",
          "2021-05-11",
          "2021-05-12",
          "2021-05-14",
          "2021-05-15",
          "2021-05-16",
          "2021-05-17",
          "2021-05-18",
          "2021-05-19",
          "2021-05-20",
          "2021-05-21",
          "2021-05-22",
          "2021-05-23",
          "2021-05-24",
          "2021-05-25",
          "2021-05-26",
          "2021-05-27",
          "2021-05-28",
          "2021-05-29",
          "2021-05-30",
          "2021-05-31",
          "2021-06-01",
          "2021-06-02",
          "2021-06-03",
          "2021-06-04",
          "2021-06-05",
          "2021-06-06",
          "2021-06-07",
          "2021-06-08",
          "2021-06-09",
          "2021-06-10",
          "2021-06-11",
          "2021-06-12",
          "2021-06-13",
          "2021-06-14",
          "2021-06-15",
          "2021-06-16",
          "2021-06-17",
          "2021-06-18",
          "2021-06-19",
          "2021-06-20",
          "2021-06-21",
          "2021-06-22",
          "2021-06-23",
          "2021-06-24",
          "2021-06-25",
          "2021-06-26",
          "2021-06-27",
          "2021-06-28",
          "2021-06-29",
          "2021-06-30",
          "2021-07-01",
          "2021-07-02",
          "2021-07-03",
          "2021-07-26",
          "2021-07-27",
          "2021-07-28",
          "2021-07-29",
          "2021-07-30",
          "2021-07-31",
          "2021-08-01",
          "2021-08-02",
          "2021-08-03",
          "2021-08-04",
          "2021-08-05",
          "2021-08-06",
          "2021-08-07",
          "2021-08-08",
          "2021-08-09",
          "2021-08-10",
          "2021-08-11",
          "2021-08-12",
          "2021-08-13",
          "2021-08-14",
          "2021-08-15",
          "2021-08-16",
          "2021-08-17",
          "2021-08-18",
          "2021-08-19",
          "2021-08-20",
          "2021-08-26",
          "2021-08-27",
          "2021-08-28",
          "2021-08-29",
          "2021-08-30",
          "2021-08-31",
          "2021-09-01",
          "2021-09-02",
          "2021-09-03",
          "2021-09-04",
          "2021-09-05",
          "2021-09-06",
          "2021-09-07",
          "2021-09-08",
          "2021-09-09",
          "2021-09-10",
          "2021-09-11",
          "2021-09-12",
          "2021-09-13",
          "2021-09-14",
          "2021-09-15",
          "2021-09-16",
          "2021-09-17",
          "2021-09-18",
          "2021-09-19",
          "2021-09-20",
          "2021-09-21",
          "2021-09-22",
          "2021-09-23",
          "2021-09-24",
          "2021-09-25",
          "2021-09-26",
          "2021-09-27",
          "2021-09-28",
          "2021-09-29",
          "2021-09-30",
          "2021-10-01",
          "2021-10-02",
          "2021-10-03",
          "2021-10-04",
          "2021-10-05",
          "2021-10-06",
          "2021-10-07",
          "2021-10-08",
          "2021-10-09",
          "2021-10-10",
          "2021-10-11",
          "2021-10-12",
          "2021-10-13",
          "2021-10-14",
          "2021-10-15",
          "2021-10-16",
          "2021-10-17",
          "2021-10-18",
          "2021-10-19",
          "2021-10-20",
          "2021-10-21",
          "2021-10-22",
          "2021-10-23",
          "2021-10-24",
          "2021-10-25",
          "2021-10-26",
          "2021-10-27",
          "2021-10-28",
          "2021-10-29",
          "2021-10-30",
          "2021-10-31",
          "2021-11-01",
          "2021-11-02",
          "2021-11-03",
          "2021-11-04",
          "2021-11-05",
          "2021-11-06",
          "2021-11-07",
          "2021-11-08",
          "2021-11-09",
          "2021-11-10",
          "2021-11-11",
          "2021-11-12",
          "2021-11-13",
          "2021-11-14",
          "2021-11-15",
          "2021-11-16",
          "2021-11-17",
          "2021-11-18",
          "2021-11-19",
          "2021-11-20",
          "2021-11-21",
          "2021-11-22",
          "2021-11-23",
          "2021-11-24",
          "2021-11-25",
          "2021-11-26",
          "2021-11-27",
          "2021-11-28",
          "2021-11-29",
          "2021-11-30",
          "2021-12-01",
          "2021-12-02",
          "2021-12-03",
          "2021-12-04",
          "2021-12-05",
          "2021-12-06",
          "2021-12-07",
          "2021-12-08",
          "2021-12-09",
          "2021-12-10",
          "2021-12-11",
          "2021-12-12",
          "2021-12-13",
          "2021-12-14",
          "2021-12-15",
          "2021-12-16",
          "2021-12-17",
          "2021-12-18",
          "2021-12-19",
          "2021-12-20",
          "2021-12-21",
          "2021-12-22",
          "2021-12-23",
          "2021-12-24",
          "2021-12-25",
          "2021-12-26",
          "2021-12-27",
          "2021-12-28",
          "2021-12-29",
          "2021-12-30",
          "2021-12-31",
          "2022-01-01",
          "2022-01-02",
          "2022-01-03",
          "2022-01-04",
          "2022-01-05",
          "2022-01-06",
          "2022-01-07",
          "2022-01-08",
          "2022-01-09",
          "2022-01-10",
          "2022-01-11",
          "2022-01-12",
          "2022-01-13",
          "2022-01-14",
          "2022-01-15",
          "2022-01-16",
          "2022-01-17",
          "2022-01-18",
          "2022-01-19",
          "2022-01-20",
          "2022-01-21",
          "2022-01-22",
          "2022-01-23",
          "2022-01-24",
          "2022-01-25",
          "2022-01-26",
          "2022-01-27",
          "2022-01-28",
          "2022-01-29",
          "2022-01-30",
          "2022-01-31",
          "2022-02-01",
          "2022-02-02",
          "2022-02-03",
          "2022-02-04",
          "2022-02-05",
          "2022-02-06",
          "2022-02-07",
          "2022-02-08",
          "2022-02-09",
          "2022-02-10",
          "2022-02-11",
          "2022-02-12",
          "2022-02-13",
          "2022-02-14",
          "2022-02-15",
          "2022-02-16",
          "2022-02-17",
          "2022-02-18",
          "2022-02-19",
          "2022-02-20",
          "2022-02-21",
          "2022-02-22",
          "2022-02-23",
          "2022-02-24",
          "2022-02-25",
          "2022-02-26",
          "2022-02-27",
          "2022-02-28",
          "2022-03-01",
          "2022-03-02",
          "2022-03-03",
          "2022-03-04",
          "2022-03-05",
          "2022-03-06",
          "2022-03-07",
          "2022-03-08",
          "2022-03-09",
          "2022-03-10",
          "2022-03-11",
          "2022-03-12"
         ],
         "xaxis": "x",
         "y": [
          5.684341886080802e-14,
          7.1222606677493445,
          16.266135539622724,
          4.330675367724723,
          -39.35303464102256,
          -5.303899708476251,
          41.10303633836685,
          94.75881274075107,
          116.71544639837636,
          120.5153132956965,
          132.4698853616725,
          227.2935241944008,
          185.17363948867222,
          324.7852550878419,
          275.69389145931865,
          1031.793746724516,
          989.9058471718486,
          938.4075819979087,
          1240.0890832745495,
          1320.1012012358472,
          1363.9770227971062,
          759.9044366998853,
          1279.7511898241523,
          1421.953687589095,
          1041.8837582628094,
          999.9284353964102,
          751.3486136758605,
          815.6389242918443,
          83.87253810983793,
          335.44697989239296,
          58.04767642318802,
          -51.021170075801194,
          -201.69625272119825,
          224.41314123711498,
          269.46308638879816,
          426.3984656366427,
          303.2181390655536,
          47.446382386406164,
          -66.01761085521431,
          23.99788097878856,
          278.70083881693284,
          215.7400011505948,
          275.68365961042986,
          410.8960888358213,
          268.77089217994035,
          222.2347920740286,
          290.54519914035825,
          185.1808911775194,
          129.5633002412786,
          202.07475915044398,
          92.33472116582644,
          7.122172624965922,
          22.35159448853891,
          132.82355044964072,
          154.7510017130298,
          213.62746608898522,
          36.739878110189494,
          53.72170174395842,
          -54.60650016992904,
          -98.95135916354607,
          -43.63846015863215,
          -346.1818840288416,
          -360.4461866862647,
          -264.86054368608865,
          -265.59441281965104,
          -411.5450572532833,
          -398.1419361918955,
          -275.47594984109196,
          -190.3853564663435,
          -119.11226272881525,
          -17.872141535407867,
          -150.06716880092878,
          -122.6604552231316,
          -59.4838608182448,
          -0.18510762552429583,
          0.03174311698644239,
          0.008816681463040155,
          0.2714620121605993,
          0.5889158408972897,
          46.86944404783311,
          51.9940888831502,
          61.12613527627537,
          40.11911730538151,
          85.27903439936858,
          105.75091150336884,
          121.75418350994354,
          287.6650305027064,
          241.9671561625209,
          293.3721372263678,
          286.35543368010354,
          291.80089475850775,
          252.71632978533725,
          338.5332569947255,
          320.02236042771574,
          334.9304457361577,
          286.0500996014491,
          245.57702239354393,
          247.85021750126324,
          303.7367733354199,
          335.8226310881885,
          492.65621655748646,
          587.4987819810883,
          571.8940759576792,
          561.0237886915697,
          559.7688125895447,
          682.133520401334,
          914.6920158447501,
          882.5499156988735,
          970.0667552647851,
          937.985343064538,
          975.6217693992717,
          963.9423728428956,
          864.1540507407509,
          924.0337777765944,
          862.388880311792,
          701.5924521255812,
          745.3646458026337,
          852.0859224655902,
          758.002574710285,
          868.6181546863874,
          1006.1941764029874,
          985.2656224190243,
          862.3675307699438,
          887.8221505482825,
          808.640418022315,
          525.9538352085207,
          377.93665442511934,
          624.8071666942492,
          673.5052049032793,
          506.2861992975508,
          501.70391079482033,
          605.7523058394619,
          512.9339800776324,
          417.4720883059391,
          468.7421572778734,
          588.9327856512252,
          821.411389374739,
          886.5051742439607,
          904.209751556394,
          872.5006363823783,
          984.1284517604684,
          1041.8630826838353,
          1046.5529645919441,
          1025.5031571988739,
          1034.4716228028428,
          919.4062756484147,
          1014.9621403333782,
          979.3428778949242,
          1051.6949600379294,
          1192.3092034280653,
          1249.1941205871603,
          1224.2660352010498,
          1238.004819663593,
          1157.7420641884048,
          1252.0950636176212,
          1461.3765903280641,
          1390.625423507483,
          1320.6318010804976,
          1476.3289102985584,
          1412.4815282285813,
          1521.2049100034137,
          1457.57424925347,
          1301.748553944723,
          1554.0050479184015,
          1687.3171803729208,
          1618.2245613217406,
          1590.4345030129,
          1606.3070792238677,
          1813.6526924259274,
          1819.9887555439298,
          1784.114850347419,
          1745.649499118179,
          1773.0759912109515,
          1844.6929740010821,
          1986.621115362901,
          1925.2696299496238,
          1882.6601750021482,
          1968.4251768535166,
          1920.1056663958984,
          1907.8411934883857,
          1888.9765631480564,
          1858.3729513684361,
          1603.1440444751238,
          1660.1879940553636,
          1418.681739428996,
          1677.9343104121554,
          1766.5982813965534,
          1658.7445554820038,
          1524.3503415377306,
          1724.107770948749,
          1656.8129790816156,
          1682.8373818454206,
          1456.2327652161043,
          1508.5070992089309,
          1673.2491387648581,
          1588.7549488935933,
          1709.1239515694037,
          1681.057420264708,
          1631.5903733337439,
          1425.1494956671029,
          1354.2715237542811,
          1412.1072236730652,
          1530.3971960336426,
          1502.5722578139598,
          1570.4971931373593,
          1359.6396352868753,
          1204.94337339215,
          1328.835966102538,
          1365.5452502981686,
          1125.965201534132,
          1104.7100949025403,
          1289.0649533536825,
          1239.0429006058598,
          1203.563788758062,
          1261.1199882388144,
          1233.3162786137125,
          1232.7881993275062,
          1291.1548422509943,
          1254.6510566030333,
          1168.7353750378827,
          1132.2679185033294,
          1159.9132012170435,
          1143.866274297541,
          1124.3536894279216,
          983.3763644656234,
          869.0064511937063,
          928.3127478385278,
          899.1294145719583,
          952.0240399012407,
          853.5162000258948,
          830.1108816026831,
          847.7830441998744,
          714.8434524517003,
          647.5441057507004,
          519.5021640018423,
          466.68530928860343,
          502.1834178933505,
          466.4659941918514,
          542.4096975574232,
          601.1181360198063,
          534.2493300239884,
          572.5412037270446,
          583.2332343943133,
          595.3334490881947,
          522.4080322925976,
          509.0333212044895,
          471.23064829249194,
          425.74884259557297,
          189.1370813064783,
          109.08754899848404,
          177.55912540202326,
          129.8869791281109,
          140.41464907858045,
          153.96194782228636,
          141.2429671863005,
          206.84356680525164,
          233.5014723086114,
          236.54388026924292,
          271.93584960047036,
          321.15724451416645,
          260.2144406143812,
          241.52196613907572,
          397.945490114769,
          414.074858659347,
          435.56173002081914,
          481.5203293622543,
          474.190473015101,
          534.9455541993545,
          451.97964817106254,
          381.9057672495569,
          376.7507979679152,
          357.1121829808358,
          391.1972018242978,
          513.5614140368507,
          483.7314596286352,
          356.2057944830542,
          311.44088792027173,
          299.874791381876,
          229.56595909874648,
          201.7077775363215,
          233.73796021776857,
          210.80665185541102,
          228.88950201896165,
          306.50107170658237,
          315.50202832486013,
          242.8080728690887,
          396.2494058165279,
          436.0994842653875,
          426.9801820954265,
          371.4885432689584,
          272.18519155525547,
          298.51466123975615,
          245.6262987019984,
          215.24379310658566,
          254.37743886586827,
          314.2373655644801,
          256.53719512282686,
          242.9313952951193,
          251.20658137140734
         ],
         "yaxis": "y"
        }
       ],
       "layout": {
        "legend": {
         "title": {
          "text": "variable"
         },
         "tracegroupgap": 0
        },
        "margin": {
         "t": 60
        },
        "template": {
         "data": {
          "bar": [
           {
            "error_x": {
             "color": "#2a3f5f"
            },
            "error_y": {
             "color": "#2a3f5f"
            },
            "marker": {
             "line": {
              "color": "#E5ECF6",
              "width": 0.5
             },
             "pattern": {
              "fillmode": "overlay",
              "size": 10,
              "solidity": 0.2
             }
            },
            "type": "bar"
           }
          ],
          "barpolar": [
           {
            "marker": {
             "line": {
              "color": "#E5ECF6",
              "width": 0.5
             },
             "pattern": {
              "fillmode": "overlay",
              "size": 10,
              "solidity": 0.2
             }
            },
            "type": "barpolar"
           }
          ],
          "carpet": [
           {
            "aaxis": {
             "endlinecolor": "#2a3f5f",
             "gridcolor": "white",
             "linecolor": "white",
             "minorgridcolor": "white",
             "startlinecolor": "#2a3f5f"
            },
            "baxis": {
             "endlinecolor": "#2a3f5f",
             "gridcolor": "white",
             "linecolor": "white",
             "minorgridcolor": "white",
             "startlinecolor": "#2a3f5f"
            },
            "type": "carpet"
           }
          ],
          "choropleth": [
           {
            "colorbar": {
             "outlinewidth": 0,
             "ticks": ""
            },
            "type": "choropleth"
           }
          ],
          "contour": [
           {
            "colorbar": {
             "outlinewidth": 0,
             "ticks": ""
            },
            "colorscale": [
             [
              0,
              "#0d0887"
             ],
             [
              0.1111111111111111,
              "#46039f"
             ],
             [
              0.2222222222222222,
              "#7201a8"
             ],
             [
              0.3333333333333333,
              "#9c179e"
             ],
             [
              0.4444444444444444,
              "#bd3786"
             ],
             [
              0.5555555555555556,
              "#d8576b"
             ],
             [
              0.6666666666666666,
              "#ed7953"
             ],
             [
              0.7777777777777778,
              "#fb9f3a"
             ],
             [
              0.8888888888888888,
              "#fdca26"
             ],
             [
              1,
              "#f0f921"
             ]
            ],
            "type": "contour"
           }
          ],
          "contourcarpet": [
           {
            "colorbar": {
             "outlinewidth": 0,
             "ticks": ""
            },
            "type": "contourcarpet"
           }
          ],
          "heatmap": [
           {
            "colorbar": {
             "outlinewidth": 0,
             "ticks": ""
            },
            "colorscale": [
             [
              0,
              "#0d0887"
             ],
             [
              0.1111111111111111,
              "#46039f"
             ],
             [
              0.2222222222222222,
              "#7201a8"
             ],
             [
              0.3333333333333333,
              "#9c179e"
             ],
             [
              0.4444444444444444,
              "#bd3786"
             ],
             [
              0.5555555555555556,
              "#d8576b"
             ],
             [
              0.6666666666666666,
              "#ed7953"
             ],
             [
              0.7777777777777778,
              "#fb9f3a"
             ],
             [
              0.8888888888888888,
              "#fdca26"
             ],
             [
              1,
              "#f0f921"
             ]
            ],
            "type": "heatmap"
           }
          ],
          "heatmapgl": [
           {
            "colorbar": {
             "outlinewidth": 0,
             "ticks": ""
            },
            "colorscale": [
             [
              0,
              "#0d0887"
             ],
             [
              0.1111111111111111,
              "#46039f"
             ],
             [
              0.2222222222222222,
              "#7201a8"
             ],
             [
              0.3333333333333333,
              "#9c179e"
             ],
             [
              0.4444444444444444,
              "#bd3786"
             ],
             [
              0.5555555555555556,
              "#d8576b"
             ],
             [
              0.6666666666666666,
              "#ed7953"
             ],
             [
              0.7777777777777778,
              "#fb9f3a"
             ],
             [
              0.8888888888888888,
              "#fdca26"
             ],
             [
              1,
              "#f0f921"
             ]
            ],
            "type": "heatmapgl"
           }
          ],
          "histogram": [
           {
            "marker": {
             "pattern": {
              "fillmode": "overlay",
              "size": 10,
              "solidity": 0.2
             }
            },
            "type": "histogram"
           }
          ],
          "histogram2d": [
           {
            "colorbar": {
             "outlinewidth": 0,
             "ticks": ""
            },
            "colorscale": [
             [
              0,
              "#0d0887"
             ],
             [
              0.1111111111111111,
              "#46039f"
             ],
             [
              0.2222222222222222,
              "#7201a8"
             ],
             [
              0.3333333333333333,
              "#9c179e"
             ],
             [
              0.4444444444444444,
              "#bd3786"
             ],
             [
              0.5555555555555556,
              "#d8576b"
             ],
             [
              0.6666666666666666,
              "#ed7953"
             ],
             [
              0.7777777777777778,
              "#fb9f3a"
             ],
             [
              0.8888888888888888,
              "#fdca26"
             ],
             [
              1,
              "#f0f921"
             ]
            ],
            "type": "histogram2d"
           }
          ],
          "histogram2dcontour": [
           {
            "colorbar": {
             "outlinewidth": 0,
             "ticks": ""
            },
            "colorscale": [
             [
              0,
              "#0d0887"
             ],
             [
              0.1111111111111111,
              "#46039f"
             ],
             [
              0.2222222222222222,
              "#7201a8"
             ],
             [
              0.3333333333333333,
              "#9c179e"
             ],
             [
              0.4444444444444444,
              "#bd3786"
             ],
             [
              0.5555555555555556,
              "#d8576b"
             ],
             [
              0.6666666666666666,
              "#ed7953"
             ],
             [
              0.7777777777777778,
              "#fb9f3a"
             ],
             [
              0.8888888888888888,
              "#fdca26"
             ],
             [
              1,
              "#f0f921"
             ]
            ],
            "type": "histogram2dcontour"
           }
          ],
          "mesh3d": [
           {
            "colorbar": {
             "outlinewidth": 0,
             "ticks": ""
            },
            "type": "mesh3d"
           }
          ],
          "parcoords": [
           {
            "line": {
             "colorbar": {
              "outlinewidth": 0,
              "ticks": ""
             }
            },
            "type": "parcoords"
           }
          ],
          "pie": [
           {
            "automargin": true,
            "type": "pie"
           }
          ],
          "scatter": [
           {
            "marker": {
             "colorbar": {
              "outlinewidth": 0,
              "ticks": ""
             }
            },
            "type": "scatter"
           }
          ],
          "scatter3d": [
           {
            "line": {
             "colorbar": {
              "outlinewidth": 0,
              "ticks": ""
             }
            },
            "marker": {
             "colorbar": {
              "outlinewidth": 0,
              "ticks": ""
             }
            },
            "type": "scatter3d"
           }
          ],
          "scattercarpet": [
           {
            "marker": {
             "colorbar": {
              "outlinewidth": 0,
              "ticks": ""
             }
            },
            "type": "scattercarpet"
           }
          ],
          "scattergeo": [
           {
            "marker": {
             "colorbar": {
              "outlinewidth": 0,
              "ticks": ""
             }
            },
            "type": "scattergeo"
           }
          ],
          "scattergl": [
           {
            "marker": {
             "colorbar": {
              "outlinewidth": 0,
              "ticks": ""
             }
            },
            "type": "scattergl"
           }
          ],
          "scattermapbox": [
           {
            "marker": {
             "colorbar": {
              "outlinewidth": 0,
              "ticks": ""
             }
            },
            "type": "scattermapbox"
           }
          ],
          "scatterpolar": [
           {
            "marker": {
             "colorbar": {
              "outlinewidth": 0,
              "ticks": ""
             }
            },
            "type": "scatterpolar"
           }
          ],
          "scatterpolargl": [
           {
            "marker": {
             "colorbar": {
              "outlinewidth": 0,
              "ticks": ""
             }
            },
            "type": "scatterpolargl"
           }
          ],
          "scatterternary": [
           {
            "marker": {
             "colorbar": {
              "outlinewidth": 0,
              "ticks": ""
             }
            },
            "type": "scatterternary"
           }
          ],
          "surface": [
           {
            "colorbar": {
             "outlinewidth": 0,
             "ticks": ""
            },
            "colorscale": [
             [
              0,
              "#0d0887"
             ],
             [
              0.1111111111111111,
              "#46039f"
             ],
             [
              0.2222222222222222,
              "#7201a8"
             ],
             [
              0.3333333333333333,
              "#9c179e"
             ],
             [
              0.4444444444444444,
              "#bd3786"
             ],
             [
              0.5555555555555556,
              "#d8576b"
             ],
             [
              0.6666666666666666,
              "#ed7953"
             ],
             [
              0.7777777777777778,
              "#fb9f3a"
             ],
             [
              0.8888888888888888,
              "#fdca26"
             ],
             [
              1,
              "#f0f921"
             ]
            ],
            "type": "surface"
           }
          ],
          "table": [
           {
            "cells": {
             "fill": {
              "color": "#EBF0F8"
             },
             "line": {
              "color": "white"
             }
            },
            "header": {
             "fill": {
              "color": "#C8D4E3"
             },
             "line": {
              "color": "white"
             }
            },
            "type": "table"
           }
          ]
         },
         "layout": {
          "annotationdefaults": {
           "arrowcolor": "#2a3f5f",
           "arrowhead": 0,
           "arrowwidth": 1
          },
          "autotypenumbers": "strict",
          "coloraxis": {
           "colorbar": {
            "outlinewidth": 0,
            "ticks": ""
           }
          },
          "colorscale": {
           "diverging": [
            [
             0,
             "#8e0152"
            ],
            [
             0.1,
             "#c51b7d"
            ],
            [
             0.2,
             "#de77ae"
            ],
            [
             0.3,
             "#f1b6da"
            ],
            [
             0.4,
             "#fde0ef"
            ],
            [
             0.5,
             "#f7f7f7"
            ],
            [
             0.6,
             "#e6f5d0"
            ],
            [
             0.7,
             "#b8e186"
            ],
            [
             0.8,
             "#7fbc41"
            ],
            [
             0.9,
             "#4d9221"
            ],
            [
             1,
             "#276419"
            ]
           ],
           "sequential": [
            [
             0,
             "#0d0887"
            ],
            [
             0.1111111111111111,
             "#46039f"
            ],
            [
             0.2222222222222222,
             "#7201a8"
            ],
            [
             0.3333333333333333,
             "#9c179e"
            ],
            [
             0.4444444444444444,
             "#bd3786"
            ],
            [
             0.5555555555555556,
             "#d8576b"
            ],
            [
             0.6666666666666666,
             "#ed7953"
            ],
            [
             0.7777777777777778,
             "#fb9f3a"
            ],
            [
             0.8888888888888888,
             "#fdca26"
            ],
            [
             1,
             "#f0f921"
            ]
           ],
           "sequentialminus": [
            [
             0,
             "#0d0887"
            ],
            [
             0.1111111111111111,
             "#46039f"
            ],
            [
             0.2222222222222222,
             "#7201a8"
            ],
            [
             0.3333333333333333,
             "#9c179e"
            ],
            [
             0.4444444444444444,
             "#bd3786"
            ],
            [
             0.5555555555555556,
             "#d8576b"
            ],
            [
             0.6666666666666666,
             "#ed7953"
            ],
            [
             0.7777777777777778,
             "#fb9f3a"
            ],
            [
             0.8888888888888888,
             "#fdca26"
            ],
            [
             1,
             "#f0f921"
            ]
           ]
          },
          "colorway": [
           "#636efa",
           "#EF553B",
           "#00cc96",
           "#ab63fa",
           "#FFA15A",
           "#19d3f3",
           "#FF6692",
           "#B6E880",
           "#FF97FF",
           "#FECB52"
          ],
          "font": {
           "color": "#2a3f5f"
          },
          "geo": {
           "bgcolor": "white",
           "lakecolor": "white",
           "landcolor": "#E5ECF6",
           "showlakes": true,
           "showland": true,
           "subunitcolor": "white"
          },
          "hoverlabel": {
           "align": "left"
          },
          "hovermode": "closest",
          "mapbox": {
           "style": "light"
          },
          "paper_bgcolor": "white",
          "plot_bgcolor": "#E5ECF6",
          "polar": {
           "angularaxis": {
            "gridcolor": "white",
            "linecolor": "white",
            "ticks": ""
           },
           "bgcolor": "#E5ECF6",
           "radialaxis": {
            "gridcolor": "white",
            "linecolor": "white",
            "ticks": ""
           }
          },
          "scene": {
           "xaxis": {
            "backgroundcolor": "#E5ECF6",
            "gridcolor": "white",
            "gridwidth": 2,
            "linecolor": "white",
            "showbackground": true,
            "ticks": "",
            "zerolinecolor": "white"
           },
           "yaxis": {
            "backgroundcolor": "#E5ECF6",
            "gridcolor": "white",
            "gridwidth": 2,
            "linecolor": "white",
            "showbackground": true,
            "ticks": "",
            "zerolinecolor": "white"
           },
           "zaxis": {
            "backgroundcolor": "#E5ECF6",
            "gridcolor": "white",
            "gridwidth": 2,
            "linecolor": "white",
            "showbackground": true,
            "ticks": "",
            "zerolinecolor": "white"
           }
          },
          "shapedefaults": {
           "line": {
            "color": "#2a3f5f"
           }
          },
          "ternary": {
           "aaxis": {
            "gridcolor": "white",
            "linecolor": "white",
            "ticks": ""
           },
           "baxis": {
            "gridcolor": "white",
            "linecolor": "white",
            "ticks": ""
           },
           "bgcolor": "#E5ECF6",
           "caxis": {
            "gridcolor": "white",
            "linecolor": "white",
            "ticks": ""
           }
          },
          "title": {
           "x": 0.05
          },
          "xaxis": {
           "automargin": true,
           "gridcolor": "white",
           "linecolor": "white",
           "ticks": "",
           "title": {
            "standoff": 15
           },
           "zerolinecolor": "white",
           "zerolinewidth": 2
          },
          "yaxis": {
           "automargin": true,
           "gridcolor": "white",
           "linecolor": "white",
           "ticks": "",
           "title": {
            "standoff": 15
           },
           "zerolinecolor": "white",
           "zerolinewidth": 2
          }
         }
        },
        "xaxis": {
         "anchor": "y",
         "domain": [
          0,
          1
         ],
         "title": {
          "text": "Date Snapshot"
         }
        },
        "yaxis": {
         "anchor": "x",
         "domain": [
          0,
          1
         ],
         "title": {
          "text": "value"
         }
        }
       }
      }
     },
     "metadata": {},
     "output_type": "display_data"
    },
    {
     "data": {
      "application/vnd.plotly.v1+json": {
       "config": {
        "linkText": "Export to plot.ly",
        "plotlyServerURL": "https://plot.ly",
        "showLink": false
       },
       "data": [
        {
         "hovertemplate": "variable=symbol Return<br>Symbol=ADA<br>Date Snapshot=%{x}<br>value=%{y}<extra></extra>",
         "legendgroup": "symbol Return",
         "line": {
          "color": "#636efa",
          "dash": "solid"
         },
         "marker": {
          "symbol": "circle"
         },
         "mode": "lines",
         "name": "symbol Return",
         "showlegend": true,
         "type": "scattergl",
         "x": [
          "2021-04-24T00:00:00+00:00",
          "2021-09-07T00:00:00+00:00",
          "2021-09-08T00:00:00+00:00",
          "2021-09-09T00:00:00+00:00",
          "2021-09-10T00:00:00+00:00",
          "2021-09-11T00:00:00+00:00",
          "2021-09-12T00:00:00+00:00",
          "2021-09-13T00:00:00+00:00",
          "2021-09-14T00:00:00+00:00",
          "2021-09-15T00:00:00+00:00",
          "2021-09-16T00:00:00+00:00",
          "2021-09-17T00:00:00+00:00",
          "2021-09-18T00:00:00+00:00",
          "2021-09-19T00:00:00+00:00",
          "2021-09-20T00:00:00+00:00",
          "2021-09-21T00:00:00+00:00",
          "2021-09-22T00:00:00+00:00",
          "2021-09-23T00:00:00+00:00",
          "2021-09-24T00:00:00+00:00",
          "2021-09-25T00:00:00+00:00",
          "2021-09-26T00:00:00+00:00",
          "2021-09-27T00:00:00+00:00",
          "2021-09-28T00:00:00+00:00",
          "2021-09-29T00:00:00+00:00",
          "2021-09-30T00:00:00+00:00",
          "2021-10-01T00:00:00+00:00",
          "2021-10-02T00:00:00+00:00",
          "2021-10-03T00:00:00+00:00",
          "2021-10-04T00:00:00+00:00",
          "2021-10-05T00:00:00+00:00",
          "2021-10-06T00:00:00+00:00",
          "2021-10-07T00:00:00+00:00",
          "2021-10-08T00:00:00+00:00",
          "2021-10-09T00:00:00+00:00",
          "2021-10-10T00:00:00+00:00",
          "2021-10-11T00:00:00+00:00",
          "2021-10-12T00:00:00+00:00",
          "2021-10-13T00:00:00+00:00",
          "2021-10-14T00:00:00+00:00",
          "2021-10-15T00:00:00+00:00",
          "2021-10-16T00:00:00+00:00",
          "2021-10-17T00:00:00+00:00",
          "2021-10-18T00:00:00+00:00",
          "2021-10-19T00:00:00+00:00",
          "2021-10-20T00:00:00+00:00",
          "2021-10-21T00:00:00+00:00",
          "2021-10-22T00:00:00+00:00",
          "2021-10-23T00:00:00+00:00",
          "2021-10-24T00:00:00+00:00",
          "2021-10-25T00:00:00+00:00",
          "2021-10-26T00:00:00+00:00",
          "2021-10-27T00:00:00+00:00",
          "2021-10-28T00:00:00+00:00",
          "2021-10-29T00:00:00+00:00",
          "2021-10-30T00:00:00+00:00",
          "2021-10-31T00:00:00+00:00",
          "2021-11-01T00:00:00+00:00",
          "2021-11-02T00:00:00+00:00",
          "2021-11-03T00:00:00+00:00",
          "2021-11-04T00:00:00+00:00",
          "2021-11-05T00:00:00+00:00",
          "2021-11-06T00:00:00+00:00",
          "2021-11-07T00:00:00+00:00",
          "2021-11-08T00:00:00+00:00",
          "2021-11-09T00:00:00+00:00",
          "2021-11-10T00:00:00+00:00",
          "2021-11-11T00:00:00+00:00",
          "2021-11-12T00:00:00+00:00",
          "2021-11-13T00:00:00+00:00",
          "2021-11-14T00:00:00+00:00",
          "2021-11-15T00:00:00+00:00",
          "2021-11-16T00:00:00+00:00",
          "2021-11-17T00:00:00+00:00",
          "2021-11-18T00:00:00+00:00",
          "2021-11-19T00:00:00+00:00",
          "2021-11-20T00:00:00+00:00",
          "2021-11-21T00:00:00+00:00",
          "2021-11-22T00:00:00+00:00",
          "2021-11-23T00:00:00+00:00",
          "2021-11-24T00:00:00+00:00",
          "2021-11-25T00:00:00+00:00",
          "2021-11-26T00:00:00+00:00",
          "2021-11-27T00:00:00+00:00",
          "2021-11-28T00:00:00+00:00",
          "2021-11-29T00:00:00+00:00",
          "2021-11-30T00:00:00+00:00",
          "2021-12-01T00:00:00+00:00",
          "2021-12-02T00:00:00+00:00",
          "2021-12-03T00:00:00+00:00",
          "2021-12-04T00:00:00+00:00",
          "2021-12-05T00:00:00+00:00",
          "2021-12-06T00:00:00+00:00",
          "2021-12-07T00:00:00+00:00",
          "2021-12-08T00:00:00+00:00",
          "2021-12-09T00:00:00+00:00",
          "2021-12-10T00:00:00+00:00",
          "2021-12-11T00:00:00+00:00",
          "2021-12-12T00:00:00+00:00",
          "2021-12-13T00:00:00+00:00",
          "2021-12-14T00:00:00+00:00",
          "2021-12-15T00:00:00+00:00",
          "2021-12-16T00:00:00+00:00",
          "2021-12-17T00:00:00+00:00",
          "2021-12-18T00:00:00+00:00",
          "2021-12-19T00:00:00+00:00",
          "2021-12-20T00:00:00+00:00",
          "2021-12-21T00:00:00+00:00",
          "2021-12-22T00:00:00+00:00",
          "2021-12-23T00:00:00+00:00",
          "2021-12-24T00:00:00+00:00",
          "2021-12-25T00:00:00+00:00",
          "2021-12-26T00:00:00+00:00",
          "2021-12-27T00:00:00+00:00",
          "2021-12-28T00:00:00+00:00",
          "2021-12-29T00:00:00+00:00",
          "2021-12-30T00:00:00+00:00",
          "2021-12-31T00:00:00+00:00",
          "2022-01-01T00:00:00+00:00",
          "2022-01-02T00:00:00+00:00",
          "2022-01-03T00:00:00+00:00",
          "2022-01-04T00:00:00+00:00",
          "2022-01-05T00:00:00+00:00",
          "2022-01-06T00:00:00+00:00",
          "2022-01-07T00:00:00+00:00",
          "2022-01-08T00:00:00+00:00",
          "2022-01-09T00:00:00+00:00",
          "2022-01-10T00:00:00+00:00",
          "2022-01-11T00:00:00+00:00",
          "2022-01-12T00:00:00+00:00",
          "2022-01-13T00:00:00+00:00",
          "2022-01-14T00:00:00+00:00",
          "2022-01-15T00:00:00+00:00",
          "2022-01-16T00:00:00+00:00",
          "2022-01-17T00:00:00+00:00",
          "2022-01-18T00:00:00+00:00",
          "2022-01-19T00:00:00+00:00",
          "2022-01-20T00:00:00+00:00",
          "2022-01-21T00:00:00+00:00",
          "2022-01-22T00:00:00+00:00",
          "2022-01-23T00:00:00+00:00",
          "2022-01-24T00:00:00+00:00",
          "2022-01-25T00:00:00+00:00",
          "2022-01-26T00:00:00+00:00",
          "2022-01-27T00:00:00+00:00",
          "2022-01-28T00:00:00+00:00",
          "2022-01-29T00:00:00+00:00",
          "2022-01-30T00:00:00+00:00",
          "2022-01-31T00:00:00+00:00",
          "2022-02-01T00:00:00+00:00",
          "2022-02-02T00:00:00+00:00",
          "2022-02-03T00:00:00+00:00",
          "2022-02-04T00:00:00+00:00",
          "2022-02-05T00:00:00+00:00",
          "2022-02-06T00:00:00+00:00",
          "2022-02-07T00:00:00+00:00",
          "2022-02-08T00:00:00+00:00",
          "2022-02-09T00:00:00+00:00",
          "2022-02-10T00:00:00+00:00",
          "2022-02-11T00:00:00+00:00",
          "2022-02-12T00:00:00+00:00",
          "2022-02-13T00:00:00+00:00",
          "2022-02-14T00:00:00+00:00",
          "2022-02-15T00:00:00+00:00",
          "2022-02-16T00:00:00+00:00",
          "2022-02-17T00:00:00+00:00",
          "2022-02-18T00:00:00+00:00",
          "2022-02-19T00:00:00+00:00",
          "2022-02-20T00:00:00+00:00",
          "2022-02-21T00:00:00+00:00",
          "2022-02-22T00:00:00+00:00",
          "2022-02-23T00:00:00+00:00",
          "2022-02-24T00:00:00+00:00",
          "2022-02-25T00:00:00+00:00",
          "2022-02-26T00:00:00+00:00",
          "2022-02-27T00:00:00+00:00",
          "2022-02-28T00:00:00+00:00",
          "2022-03-01T00:00:00+00:00",
          "2022-03-02T00:00:00+00:00",
          "2022-03-03T00:00:00+00:00",
          "2022-03-04T00:00:00+00:00",
          "2022-03-05T00:00:00+00:00",
          "2022-03-06T00:00:00+00:00",
          "2022-03-07T00:00:00+00:00",
          "2022-03-08T00:00:00+00:00",
          "2022-03-09T00:00:00+00:00",
          "2022-03-10T00:00:00+00:00",
          "2022-03-11T00:00:00+00:00",
          "2022-03-12T00:00:00+00:00"
         ],
         "xaxis": "x",
         "y": [
          -0.09046620249309112,
          -0.024959552839631027,
          -0.03359095736655471,
          -0.023373315336839284,
          -0.12462206280396149,
          0.06964007433796637,
          0.029070640522830038,
          -0.11285038616825294,
          -0.11567531632296402,
          -0.03502350250320818,
          -0.08965354389208013,
          -0.14222318629112052,
          -0.1236739972580766,
          -0.193628365475071,
          -0.3660728944001963,
          -0.42645581891159423,
          -0.19993157155863128,
          -0.15680897166800456,
          -0.19308150515007494,
          -0.1769544346143911,
          -0.25104544728767986,
          -0.30463273658391166,
          -0.38010953916281653,
          -0.34695128548138143,
          -0.30399044467287817,
          -0.1918799235659795,
          -0.19721933066684005,
          -0.19807613262839874,
          -0.25041723588977416,
          -0.21219456141163373,
          -0.22273498013880044,
          -0.17133950955456334,
          -0.2047930590131296,
          -0.1813656913439844,
          -0.23634644929049242,
          -0.2536155950539417,
          -0.29381182692911023,
          -0.24761971705488173,
          -0.26163033105121347,
          -0.2275725046039847,
          -0.2571342794406182,
          -0.2732686708601636,
          -0.2987309722438901,
          -0.3138675374047166,
          -0.2584687468189719,
          -0.2937144533468401,
          -0.2825185536445215,
          -0.2721560920804671,
          -0.3063950766990384,
          -0.2854079792582904,
          -0.28782295120008805,
          -0.4686536219306535,
          -0.42004025472534556,
          -0.38423028963279415,
          -0.42820564510936676,
          -0.4214597563928547,
          -0.43935744549977207,
          -0.4194650930845767,
          -0.3505490571441201,
          -0.4053672064289272,
          -0.4037685946932419,
          -0.3873714737792686,
          -0.3774609202311122,
          -0.29814384209535727,
          -0.17960744252323912,
          -0.3011774411222694,
          -0.3087527239748723,
          -0.3404359489353648,
          -0.33448331669695563,
          -0.3440557671117278,
          -0.353862490372317,
          -0.46047694000450745,
          -0.4615816971009502,
          -0.5396893095216844,
          -0.4662367583931718,
          -0.41940170501317053,
          -0.48525895511581796,
          -0.532916901514297,
          -0.5550402284937334,
          -0.6025622399009876,
          -0.6323463783950379,
          -0.7465516158424482,
          -0.7320376458610516,
          -0.6905257989405468,
          -0.682612317468071,
          -0.7259663445780147,
          -0.7306238106557486,
          -0.5914950431457097,
          -0.7228576375361224,
          -0.8342686926244193,
          -0.8682484635132425,
          -0.8272948020112146,
          -0.8619483276378518,
          -0.8567219634767737,
          -0.9392499148698406,
          -1.0061697234107205,
          -0.8890953549296526,
          -0.8941980841973431,
          -0.9918436724080177,
          -0.9916008419742399,
          -0.9213562665221758,
          -0.9838958324224946,
          -0.9924662903158865,
          -0.9737522504388969,
          -0.9722749275869537,
          -0.9806954700821248,
          -0.9465475949392413,
          -0.9115008330786345,
          -0.7909642803066094,
          -0.8583801788571871,
          -0.8082602699723279,
          -0.8062698650058814,
          -0.760321142524883,
          -0.8493202122974369,
          -0.9124311774645014,
          -0.8845955621719974,
          -0.930601526231895,
          -0.8761071317410862,
          -0.8755081846263236,
          -0.9144165826587565,
          -0.9208069485760123,
          -0.9855253343983101,
          -0.948380495381359,
          -1.010099010601463,
          -1.029643259371448,
          -1.040173903335867,
          -1.0757016073165913,
          -1.0320345122173387,
          -0.9414140883275952,
          -1.0007811058729925,
          -0.9501574424012122,
          -0.9458171070368685,
          -0.8545863150270561,
          -0.7029973112745873,
          -0.7990984882908893,
          -0.9018923331587573,
          -0.967675041605886,
          -1.0808524926601473,
          -1.1271006979302616,
          -1.0812681209670831,
          -1.125581365834167,
          -1.1428999780264932,
          -1.1088600977118102,
          -1.1307271803453451,
          -1.1252206752901164,
          -1.1177570049426768,
          -1.1363801879571311,
          -1.1300387503777087,
          -1.1035148431379305,
          -1.1546806686827704,
          -1.142369643274264,
          -1.079187595566056,
          -1.0858998604714762,
          -1.0723918397050607,
          -1.0285348321901606,
          -1.041853079026171,
          -1.0288159742506853,
          -1.062435893031886,
          -1.1164327516383417,
          -1.1344941580110637,
          -1.1456850861601469,
          -1.1376243975631266,
          -1.0944770505722308,
          -1.1143553408464042,
          -1.1667908138783907,
          -1.182421668311078,
          -1.1819383381142872,
          -1.2347345504868676,
          -1.2954901715943286,
          -1.2714823958116503,
          -1.2863050201660606,
          -1.2920361163330918,
          -1.2605277454519823,
          -1.26872302341007,
          -1.2872942321388037,
          -1.2054356358151184,
          -1.1974858443882415,
          -1.2158321967730379,
          -1.2427360988732168,
          -1.2841033258041765,
          -1.264551385349235,
          -1.296717996082843,
          -1.3187709432877113,
          -1.31744338471323,
          -1.2879963344605647,
          -1.3203289962413327,
          -1.3279184859118534,
          -1.327451421894624
         ],
         "yaxis": "y"
        },
        {
         "hovertemplate": "variable=symbol Return<br>Symbol=ETH<br>Date Snapshot=%{x}<br>value=%{y}<extra></extra>",
         "legendgroup": "symbol Return",
         "line": {
          "color": "#636efa",
          "dash": "solid"
         },
         "marker": {
          "symbol": "circle"
         },
         "mode": "lines",
         "name": "symbol Return",
         "showlegend": false,
         "type": "scattergl",
         "x": [
          "2021-04-20T00:00:00+00:00",
          "2021-04-21T00:00:00+00:00",
          "2021-04-22T00:00:00+00:00",
          "2021-04-23T00:00:00+00:00",
          "2021-04-24T00:00:00+00:00",
          "2021-04-25T00:00:00+00:00",
          "2021-04-26T00:00:00+00:00",
          "2021-04-27T00:00:00+00:00",
          "2021-04-28T00:00:00+00:00",
          "2021-04-29T00:00:00+00:00",
          "2021-04-30T00:00:00+00:00",
          "2021-05-01T00:00:00+00:00",
          "2021-05-02T00:00:00+00:00",
          "2021-05-03T00:00:00+00:00",
          "2021-05-04T00:00:00+00:00",
          "2021-05-05T00:00:00+00:00",
          "2021-05-06T00:00:00+00:00",
          "2021-05-07T00:00:00+00:00",
          "2021-05-08T00:00:00+00:00",
          "2021-05-09T00:00:00+00:00",
          "2021-05-10T00:00:00+00:00",
          "2021-05-11T00:00:00+00:00",
          "2021-05-12T00:00:00+00:00",
          "2021-05-14T00:00:00+00:00",
          "2022-01-02T00:00:00+00:00",
          "2022-01-03T00:00:00+00:00"
         ],
         "xaxis": "x2",
         "y": [
          0.015858436290784095,
          0.030544444054343423,
          0.049398993701117666,
          0.024788231904675495,
          -0.0409910286396441,
          0.004921864894494643,
          0.10061235627920717,
          0.1554346674384206,
          0.18716741575855744,
          0.19274466658850709,
          0.21029097775632177,
          0.0050348275176053114,
          0.01775505159887314,
          0.33881042636065795,
          0.225918342992945,
          0.2575996498031574,
          0.2126480341458188,
          -0.0026292635537683573,
          0.3756247941098263,
          0.27742840099153576,
          -0.0051220866187310365,
          0.08928084084129817,
          -0.17810054504594863,
          0.01652765399947631,
          0.016715508249990574,
          0.004869706805649576
         ],
         "yaxis": "y2"
        },
        {
         "hovertemplate": "variable=symbol Return<br>Symbol=MATIC<br>Date Snapshot=%{x}<br>value=%{y}<extra></extra>",
         "legendgroup": "symbol Return",
         "line": {
          "color": "#636efa",
          "dash": "solid"
         },
         "marker": {
          "symbol": "circle"
         },
         "mode": "lines",
         "name": "symbol Return",
         "showlegend": false,
         "type": "scattergl",
         "x": [
          "2021-04-27T00:00:00+00:00",
          "2021-04-28T00:00:00+00:00",
          "2021-04-29T00:00:00+00:00",
          "2021-04-30T00:00:00+00:00",
          "2021-05-09T00:00:00+00:00",
          "2021-05-14T00:00:00+00:00",
          "2021-05-15T00:00:00+00:00",
          "2021-05-16T00:00:00+00:00",
          "2021-05-17T00:00:00+00:00",
          "2021-05-18T00:00:00+00:00",
          "2021-05-19T00:00:00+00:00",
          "2021-05-20T00:00:00+00:00",
          "2021-05-21T00:00:00+00:00",
          "2021-05-22T00:00:00+00:00",
          "2021-05-23T00:00:00+00:00",
          "2021-05-24T00:00:00+00:00",
          "2021-05-25T00:00:00+00:00",
          "2021-05-26T00:00:00+00:00",
          "2021-05-27T00:00:00+00:00",
          "2021-05-28T00:00:00+00:00",
          "2021-05-29T00:00:00+00:00",
          "2021-05-30T00:00:00+00:00",
          "2021-05-31T00:00:00+00:00",
          "2021-06-01T00:00:00+00:00",
          "2021-06-02T00:00:00+00:00",
          "2021-06-03T00:00:00+00:00",
          "2021-06-04T00:00:00+00:00",
          "2021-06-05T00:00:00+00:00",
          "2021-06-06T00:00:00+00:00",
          "2021-06-07T00:00:00+00:00",
          "2021-06-08T00:00:00+00:00",
          "2021-06-09T00:00:00+00:00",
          "2021-06-10T00:00:00+00:00",
          "2021-06-11T00:00:00+00:00",
          "2021-06-12T00:00:00+00:00",
          "2021-06-13T00:00:00+00:00",
          "2021-06-14T00:00:00+00:00",
          "2021-06-15T00:00:00+00:00",
          "2021-06-16T00:00:00+00:00",
          "2021-06-17T00:00:00+00:00",
          "2021-06-18T00:00:00+00:00",
          "2021-06-19T00:00:00+00:00",
          "2021-06-20T00:00:00+00:00",
          "2021-06-21T00:00:00+00:00",
          "2021-06-22T00:00:00+00:00",
          "2021-06-23T00:00:00+00:00",
          "2021-06-24T00:00:00+00:00",
          "2021-06-25T00:00:00+00:00",
          "2021-06-26T00:00:00+00:00",
          "2021-06-27T00:00:00+00:00",
          "2021-06-28T00:00:00+00:00",
          "2021-06-29T00:00:00+00:00",
          "2021-06-30T00:00:00+00:00",
          "2021-07-01T00:00:00+00:00",
          "2021-07-02T00:00:00+00:00",
          "2021-07-03T00:00:00+00:00",
          "2021-07-26T00:00:00+00:00",
          "2021-07-27T00:00:00+00:00",
          "2021-07-28T00:00:00+00:00",
          "2021-07-29T00:00:00+00:00",
          "2021-07-30T00:00:00+00:00",
          "2021-07-31T00:00:00+00:00",
          "2021-08-01T00:00:00+00:00",
          "2021-08-02T00:00:00+00:00",
          "2021-08-03T00:00:00+00:00",
          "2021-08-04T00:00:00+00:00",
          "2021-08-05T00:00:00+00:00",
          "2021-08-06T00:00:00+00:00",
          "2021-08-07T00:00:00+00:00",
          "2021-08-08T00:00:00+00:00",
          "2021-08-09T00:00:00+00:00",
          "2021-08-10T00:00:00+00:00",
          "2021-08-11T00:00:00+00:00",
          "2021-08-12T00:00:00+00:00",
          "2021-08-13T00:00:00+00:00",
          "2021-08-14T00:00:00+00:00",
          "2021-08-15T00:00:00+00:00",
          "2021-08-16T00:00:00+00:00",
          "2021-08-17T00:00:00+00:00",
          "2021-08-18T00:00:00+00:00",
          "2021-08-19T00:00:00+00:00",
          "2021-08-20T00:00:00+00:00",
          "2021-08-26T00:00:00+00:00",
          "2021-08-27T00:00:00+00:00",
          "2021-08-28T00:00:00+00:00",
          "2021-08-29T00:00:00+00:00",
          "2021-08-30T00:00:00+00:00",
          "2021-08-31T00:00:00+00:00",
          "2021-09-01T00:00:00+00:00",
          "2021-09-02T00:00:00+00:00",
          "2021-09-03T00:00:00+00:00",
          "2021-09-04T00:00:00+00:00",
          "2021-09-05T00:00:00+00:00",
          "2021-09-06T00:00:00+00:00",
          "2021-09-07T00:00:00+00:00",
          "2021-09-08T00:00:00+00:00",
          "2021-09-09T00:00:00+00:00",
          "2021-09-10T00:00:00+00:00",
          "2021-09-11T00:00:00+00:00",
          "2021-09-12T00:00:00+00:00",
          "2021-09-13T00:00:00+00:00",
          "2021-09-14T00:00:00+00:00",
          "2021-09-15T00:00:00+00:00",
          "2021-09-16T00:00:00+00:00",
          "2021-09-17T00:00:00+00:00",
          "2021-09-18T00:00:00+00:00",
          "2021-09-19T00:00:00+00:00",
          "2021-09-20T00:00:00+00:00",
          "2021-09-21T00:00:00+00:00",
          "2021-09-22T00:00:00+00:00",
          "2021-09-23T00:00:00+00:00",
          "2021-09-24T00:00:00+00:00",
          "2021-09-25T00:00:00+00:00",
          "2021-09-26T00:00:00+00:00",
          "2021-09-27T00:00:00+00:00",
          "2021-09-28T00:00:00+00:00",
          "2021-09-29T00:00:00+00:00",
          "2021-09-30T00:00:00+00:00",
          "2021-10-01T00:00:00+00:00",
          "2021-10-02T00:00:00+00:00",
          "2021-10-03T00:00:00+00:00",
          "2021-10-04T00:00:00+00:00",
          "2021-10-05T00:00:00+00:00",
          "2021-10-06T00:00:00+00:00",
          "2021-10-07T00:00:00+00:00",
          "2021-10-08T00:00:00+00:00",
          "2021-10-09T00:00:00+00:00",
          "2021-10-10T00:00:00+00:00",
          "2021-10-11T00:00:00+00:00",
          "2021-10-12T00:00:00+00:00",
          "2021-10-13T00:00:00+00:00",
          "2021-10-14T00:00:00+00:00",
          "2021-10-15T00:00:00+00:00",
          "2021-10-16T00:00:00+00:00",
          "2021-10-17T00:00:00+00:00",
          "2021-10-18T00:00:00+00:00",
          "2021-10-19T00:00:00+00:00",
          "2021-10-20T00:00:00+00:00",
          "2021-10-21T00:00:00+00:00",
          "2021-10-22T00:00:00+00:00",
          "2021-10-23T00:00:00+00:00",
          "2021-10-24T00:00:00+00:00",
          "2021-10-25T00:00:00+00:00",
          "2021-10-26T00:00:00+00:00",
          "2021-10-27T00:00:00+00:00",
          "2021-10-28T00:00:00+00:00",
          "2021-10-29T00:00:00+00:00",
          "2021-10-30T00:00:00+00:00",
          "2021-10-31T00:00:00+00:00",
          "2021-11-01T00:00:00+00:00",
          "2021-11-02T00:00:00+00:00",
          "2021-11-03T00:00:00+00:00",
          "2021-11-04T00:00:00+00:00",
          "2021-11-05T00:00:00+00:00",
          "2021-11-06T00:00:00+00:00",
          "2021-11-07T00:00:00+00:00",
          "2021-11-08T00:00:00+00:00",
          "2021-11-09T00:00:00+00:00",
          "2021-11-10T00:00:00+00:00",
          "2021-11-11T00:00:00+00:00",
          "2021-11-12T00:00:00+00:00",
          "2021-11-13T00:00:00+00:00",
          "2021-11-14T00:00:00+00:00",
          "2021-11-15T00:00:00+00:00",
          "2021-11-16T00:00:00+00:00",
          "2021-11-17T00:00:00+00:00",
          "2021-11-18T00:00:00+00:00",
          "2021-11-19T00:00:00+00:00",
          "2021-11-20T00:00:00+00:00",
          "2021-11-21T00:00:00+00:00",
          "2021-11-22T00:00:00+00:00",
          "2021-11-23T00:00:00+00:00",
          "2021-11-24T00:00:00+00:00",
          "2021-11-25T00:00:00+00:00",
          "2021-11-26T00:00:00+00:00",
          "2021-11-27T00:00:00+00:00",
          "2021-11-28T00:00:00+00:00",
          "2021-11-29T00:00:00+00:00",
          "2021-11-30T00:00:00+00:00",
          "2021-12-01T00:00:00+00:00",
          "2021-12-02T00:00:00+00:00",
          "2021-12-03T00:00:00+00:00",
          "2021-12-04T00:00:00+00:00",
          "2021-12-05T00:00:00+00:00",
          "2021-12-06T00:00:00+00:00",
          "2021-12-07T00:00:00+00:00",
          "2021-12-08T00:00:00+00:00",
          "2021-12-09T00:00:00+00:00",
          "2021-12-10T00:00:00+00:00",
          "2021-12-11T00:00:00+00:00",
          "2021-12-12T00:00:00+00:00",
          "2021-12-13T00:00:00+00:00",
          "2021-12-14T00:00:00+00:00",
          "2021-12-15T00:00:00+00:00",
          "2021-12-16T00:00:00+00:00",
          "2021-12-17T00:00:00+00:00",
          "2021-12-18T00:00:00+00:00",
          "2021-12-19T00:00:00+00:00",
          "2021-12-20T00:00:00+00:00",
          "2021-12-21T00:00:00+00:00",
          "2021-12-22T00:00:00+00:00",
          "2021-12-23T00:00:00+00:00",
          "2021-12-24T00:00:00+00:00",
          "2021-12-25T00:00:00+00:00",
          "2021-12-26T00:00:00+00:00",
          "2021-12-27T00:00:00+00:00",
          "2021-12-28T00:00:00+00:00",
          "2021-12-29T00:00:00+00:00",
          "2021-12-30T00:00:00+00:00",
          "2021-12-31T00:00:00+00:00",
          "2022-01-01T00:00:00+00:00",
          "2022-01-02T00:00:00+00:00",
          "2022-01-03T00:00:00+00:00",
          "2022-01-04T00:00:00+00:00",
          "2022-01-05T00:00:00+00:00",
          "2022-01-06T00:00:00+00:00",
          "2022-01-07T00:00:00+00:00",
          "2022-01-08T00:00:00+00:00",
          "2022-01-09T00:00:00+00:00",
          "2022-01-10T00:00:00+00:00",
          "2022-01-11T00:00:00+00:00",
          "2022-01-12T00:00:00+00:00",
          "2022-01-13T00:00:00+00:00",
          "2022-01-14T00:00:00+00:00",
          "2022-01-15T00:00:00+00:00",
          "2022-01-16T00:00:00+00:00",
          "2022-01-17T00:00:00+00:00",
          "2022-01-18T00:00:00+00:00",
          "2022-01-19T00:00:00+00:00",
          "2022-01-20T00:00:00+00:00",
          "2022-01-21T00:00:00+00:00",
          "2022-01-22T00:00:00+00:00",
          "2022-01-23T00:00:00+00:00",
          "2022-01-24T00:00:00+00:00",
          "2022-01-25T00:00:00+00:00",
          "2022-01-26T00:00:00+00:00",
          "2022-01-27T00:00:00+00:00",
          "2022-01-28T00:00:00+00:00",
          "2022-01-29T00:00:00+00:00",
          "2022-01-30T00:00:00+00:00",
          "2022-01-31T00:00:00+00:00",
          "2022-02-01T00:00:00+00:00",
          "2022-02-02T00:00:00+00:00",
          "2022-02-03T00:00:00+00:00",
          "2022-02-04T00:00:00+00:00",
          "2022-02-05T00:00:00+00:00",
          "2022-02-06T00:00:00+00:00",
          "2022-02-07T00:00:00+00:00",
          "2022-02-08T00:00:00+00:00",
          "2022-02-09T00:00:00+00:00",
          "2022-02-10T00:00:00+00:00",
          "2022-02-11T00:00:00+00:00",
          "2022-02-12T00:00:00+00:00",
          "2022-02-13T00:00:00+00:00",
          "2022-02-14T00:00:00+00:00",
          "2022-02-15T00:00:00+00:00",
          "2022-02-16T00:00:00+00:00",
          "2022-02-17T00:00:00+00:00",
          "2022-02-18T00:00:00+00:00",
          "2022-02-19T00:00:00+00:00",
          "2022-02-20T00:00:00+00:00",
          "2022-02-21T00:00:00+00:00",
          "2022-02-22T00:00:00+00:00",
          "2022-02-23T00:00:00+00:00",
          "2022-02-24T00:00:00+00:00",
          "2022-02-25T00:00:00+00:00",
          "2022-02-26T00:00:00+00:00",
          "2022-02-27T00:00:00+00:00",
          "2022-02-28T00:00:00+00:00",
          "2022-03-01T00:00:00+00:00",
          "2022-03-02T00:00:00+00:00",
          "2022-03-03T00:00:00+00:00",
          "2022-03-04T00:00:00+00:00",
          "2022-03-05T00:00:00+00:00",
          "2022-03-06T00:00:00+00:00",
          "2022-03-07T00:00:00+00:00",
          "2022-03-08T00:00:00+00:00",
          "2022-03-09T00:00:00+00:00",
          "2022-03-10T00:00:00+00:00",
          "2022-03-11T00:00:00+00:00",
          "2022-03-12T00:00:00+00:00"
         ],
         "xaxis": "x3",
         "y": [
          0.4348199062693705,
          0.38290934639186314,
          0.7482647748708886,
          0.5534949122368042,
          0.03428040908360375,
          0.0646881031163522,
          0.12368295338294333,
          0.2636631781030203,
          0.2798731180981171,
          1.2207850916209653,
          0.1868596590002901,
          0.41591706788110594,
          -0.04798738596623209,
          -0.5345452043959825,
          -0.7548790129089581,
          0.5387295445407667,
          0.9864675743094782,
          1.56192820732726,
          1.18301644317764,
          0.7632366280590857,
          0.5050209996226147,
          0.8501318491605556,
          0.869684933518883,
          0.7511817028107917,
          0.701488949555739,
          0.7835110139234953,
          0.37433293174474846,
          0.15910878538049433,
          0.27492871706543565,
          0.0550266741194162,
          0.07017741963036284,
          0.08385090468259615,
          -0.18396663266346114,
          -0.3981432456596098,
          -0.21255037449432235,
          0.05317451145563612,
          0.0680551356683824,
          0.5106594002649858,
          0.0991144230734462,
          0.1766407909424338,
          -0.0785301826784005,
          -0.10751495632522812,
          -0.03430922550705051,
          -0.6782697851314325,
          -0.734915821882385,
          -0.5561582085620185,
          -0.4616647662316924,
          -0.7946192644318684,
          -0.7326052553740439,
          -0.6567407639893527,
          -0.6389001368270767,
          -0.5316253622558046,
          -0.5220915541003314,
          -0.7112400122053437,
          -0.6592677254046796,
          -0.6273965018089174,
          0.00293171528590519,
          0.02313819633222791,
          -0.00291731250428362,
          0.0032307966865856574,
          0.04816187911697045,
          0.09789715285495149,
          0.03973251405798828,
          0.02992338105600867,
          -0.026170923807089408,
          0.04482489848082882,
          0.06938659115248735,
          0.11290961932043819,
          0.2816777994430586,
          0.04568727448106247,
          0.1801575242468838,
          0.2695885693516802,
          0.8722945717089912,
          0.7260837834486749,
          1.2461494018802435,
          1.0457521552865332,
          1.115800560542131,
          1.0118669261382025,
          0.8213847634322762,
          0.7861316759340795,
          1.165461820694792,
          1.3928993614757652,
          -0.0016690701753904191,
          0.09424890615481551,
          0.05267307613574479,
          0.025593732493359944,
          -0.05140372500902368,
          -0.03503128882477047,
          0.05828946242142363,
          0.037690230495534216,
          0.04619605596997367,
          0.24267382365031254,
          0.20346775891178104,
          0.17911849848763794,
          -0.026262783678345225,
          -0.03919460580171974,
          -0.015264015288707466,
          -0.059331246217336986,
          -0.05172759112051817,
          -0.04122272721882059,
          -0.10025670525990238,
          -0.04979806082618221,
          0.020647795817294146,
          0.0015945779481443267,
          0.03320222709457643,
          -0.007669210134508275,
          -0.045501841896111395,
          -0.18196205909930507,
          -0.23941909631265945,
          -0.10283684189875297,
          -0.11090026722109847,
          -0.1796768209086077,
          -0.1844642745263929,
          -0.18410836688555543,
          -0.20867721430871045,
          -0.2345095434483554,
          -0.19286180722197532,
          -0.17060563478652024,
          -0.06986859462983852,
          -0.04752118666427685,
          -0.02746637863783563,
          -0.06746926637799999,
          -0.034511571647720785,
          -0.07304453315319692,
          -0.05949906700981611,
          -0.010564625838793251,
          -0.005435827327810561,
          -0.08086134897030028,
          -0.08316489013338946,
          -0.09602321861459384,
          -0.08851438658398669,
          -0.07189665255379418,
          0.16242538476975366,
          0.10583818869044825,
          0.06971455475443,
          0.08471272327132406,
          0.07756743126479426,
          0.11963758202686336,
          0.10223496845532432,
          0.10744836617955555,
          0.2011544279263635,
          0.15151697274279896,
          0.2284551301594422,
          0.27498114298145615,
          0.2923128788111258,
          0.5517522867750617,
          0.48850482324061595,
          0.376189248095365,
          0.4260469049079221,
          0.3979009841302157,
          0.4250892000429791,
          0.49188695009509154,
          0.4129348879720276,
          0.40192359068064554,
          0.389700905761293,
          0.38711631930326784,
          0.39199687835315733,
          0.3049545564907232,
          0.26477285381284665,
          0.3090497583663234,
          0.2768626995667902,
          0.3060194460875283,
          0.2875423317460708,
          0.26753149080228256,
          0.1759428075171563,
          0.23015723346903028,
          0.12239569172441422,
          0.22084763789852735,
          0.2561056341115815,
          0.21035581212011367,
          0.1806553875457393,
          0.3276756894414701,
          0.2773570474604705,
          0.35784097731979814,
          0.22775474889406766,
          0.21434683900961393,
          0.2458151970679141,
          0.370977672807002,
          0.3420416157612527,
          0.5110988163626013,
          0.6024804107424897,
          0.7072165121139957,
          0.49070358073425613,
          0.5411847616923409,
          0.7206746321911626,
          0.7878839272511042,
          0.8158692695772036,
          0.5763186159446589,
          0.5784244766556934,
          0.6048544271114775,
          0.5714618129191678,
          0.3739486556993259,
          0.3638580506204867,
          0.6007269081949049,
          0.5575007838993238,
          0.6124581641795517,
          0.6908324679315099,
          0.6833748585178645,
          0.6068778495576062,
          0.7927591048702911,
          0.880670779310633,
          1.0151252845477212,
          0.855878965990363,
          0.9834183761113211,
          1.163710947377583,
          1.049172675329181,
          0.8806917889185082,
          0.8518342156886081,
          0.9239063848933087,
          0.8922876985262203,
          0.9279935476679122,
          0.9089975590030284,
          0.8331400305013856,
          0.7868465204378912,
          0.6531608163996669,
          0.6967597512098311,
          0.5395006095086843,
          0.4961952889670427,
          0.5869297399438247,
          0.5573850581504747,
          0.7660998971121242,
          0.7811625935251794,
          0.682483850384356,
          0.7441397932344396,
          0.7560513775399591,
          0.7397158061092015,
          0.6585169124085613,
          0.6000573964479143,
          0.5286526565206351,
          0.4757751373945651,
          0.27547166329959305,
          0.14907471721747867,
          0.21373770197180453,
          0.13386608186570825,
          0.17433002010885912,
          0.2054672765523078,
          0.216385037328507,
          0.28271482186600827,
          0.29474396863203056,
          0.2259560758178436,
          0.24682294850577957,
          0.24474339233988207,
          0.16214923365517953,
          0.1545666516067099,
          0.25777086894923107,
          0.2752742400011128,
          0.29369690119202274,
          0.5029803476551384,
          0.45315478612240945,
          0.5233031754078776,
          0.4149616841289294,
          0.2864979171082416,
          0.27523862200689275,
          0.25154935953496516,
          0.2496137294126708,
          0.39722263471047126,
          0.37680315573211676,
          0.24180082223281163,
          0.20019118179234208,
          0.22751272743998885,
          0.14076657017480243,
          0.06093933116611594,
          0.10097439840714828,
          0.0865538196722131,
          0.09559465545716206,
          0.17141547193447737,
          0.1449083559006108,
          0.10683947576114705,
          0.2236230310252889,
          0.2404051108825367,
          0.25327723068936403,
          0.21942925653040835,
          0.1492666638423925,
          0.17555184516706368,
          0.12528726023930226,
          0.11011374718394462,
          0.1295064785969544,
          0.1589106970472447,
          0.11295748539631734,
          0.097568918900663,
          0.09209123461990876
         ],
         "yaxis": "y3"
        },
        {
         "hovertemplate": "variable=symbol Return<br>Symbol=SOL<br>Date Snapshot=%{x}<br>value=%{y}<extra></extra>",
         "legendgroup": "symbol Return",
         "line": {
          "color": "#636efa",
          "dash": "solid"
         },
         "marker": {
          "symbol": "circle"
         },
         "mode": "lines",
         "name": "symbol Return",
         "showlegend": false,
         "type": "scattergl",
         "x": [
          "2021-11-29T00:00:00+00:00",
          "2021-11-30T00:00:00+00:00",
          "2021-12-01T00:00:00+00:00",
          "2021-12-02T00:00:00+00:00",
          "2021-12-03T00:00:00+00:00",
          "2021-12-04T00:00:00+00:00",
          "2021-12-05T00:00:00+00:00",
          "2021-12-06T00:00:00+00:00",
          "2021-12-07T00:00:00+00:00",
          "2021-12-08T00:00:00+00:00",
          "2021-12-09T00:00:00+00:00",
          "2021-12-10T00:00:00+00:00",
          "2021-12-11T00:00:00+00:00",
          "2021-12-12T00:00:00+00:00",
          "2021-12-13T00:00:00+00:00",
          "2021-12-14T00:00:00+00:00",
          "2021-12-15T00:00:00+00:00",
          "2021-12-16T00:00:00+00:00",
          "2021-12-17T00:00:00+00:00",
          "2021-12-18T00:00:00+00:00",
          "2021-12-19T00:00:00+00:00",
          "2021-12-20T00:00:00+00:00",
          "2021-12-21T00:00:00+00:00",
          "2021-12-22T00:00:00+00:00",
          "2021-12-23T00:00:00+00:00",
          "2021-12-24T00:00:00+00:00",
          "2021-12-25T00:00:00+00:00",
          "2021-12-26T00:00:00+00:00",
          "2021-12-27T00:00:00+00:00",
          "2021-12-28T00:00:00+00:00",
          "2021-12-29T00:00:00+00:00",
          "2021-12-30T00:00:00+00:00",
          "2021-12-31T00:00:00+00:00",
          "2022-01-01T00:00:00+00:00"
         ],
         "xaxis": "x4",
         "y": [
          -0.006350853301717141,
          0.011462285600135402,
          0.11495843448148646,
          0.1366183646404897,
          0.02524849050530298,
          -0.023730017448603036,
          -0.046967488098966226,
          -0.05482604938153102,
          -0.07146468715515553,
          -0.05782007621448404,
          -0.11896947196380547,
          -0.18506356915213884,
          -0.16557052375711623,
          -0.15791212979418623,
          -0.24454829082898055,
          -0.2519440576969656,
          -0.13252769192877023,
          -0.14256442420345627,
          -0.14250123557693917,
          -0.1066662462410235,
          -0.12027900930622404,
          -0.15425686888102874,
          -0.12376752971478944,
          -0.13403306215588784,
          -0.0783098428934833,
          -0.07709826137892306,
          -0.06328561159549528,
          -0.039697095921192305,
          -0.05268272371805649,
          -0.13870677235682183,
          -0.17495998567512683,
          -0.16210033633908683,
          -0.17771721787627848,
          -0.13803269123926254
         ],
         "yaxis": "y4"
        },
        {
         "hovertemplate": "variable=Benchmark Return<br>Symbol=ADA<br>Date Snapshot=%{x}<br>value=%{y}<extra></extra>",
         "legendgroup": "Benchmark Return",
         "line": {
          "color": "#EF553B",
          "dash": "solid"
         },
         "marker": {
          "symbol": "circle"
         },
         "mode": "lines",
         "name": "Benchmark Return",
         "showlegend": true,
         "type": "scattergl",
         "x": [
          "2021-04-24T00:00:00+00:00",
          "2021-09-07T00:00:00+00:00",
          "2021-09-08T00:00:00+00:00",
          "2021-09-09T00:00:00+00:00",
          "2021-09-10T00:00:00+00:00",
          "2021-09-11T00:00:00+00:00",
          "2021-09-12T00:00:00+00:00",
          "2021-09-13T00:00:00+00:00",
          "2021-09-14T00:00:00+00:00",
          "2021-09-15T00:00:00+00:00",
          "2021-09-16T00:00:00+00:00",
          "2021-09-17T00:00:00+00:00",
          "2021-09-18T00:00:00+00:00",
          "2021-09-19T00:00:00+00:00",
          "2021-09-20T00:00:00+00:00",
          "2021-09-21T00:00:00+00:00",
          "2021-09-22T00:00:00+00:00",
          "2021-09-23T00:00:00+00:00",
          "2021-09-24T00:00:00+00:00",
          "2021-09-25T00:00:00+00:00",
          "2021-09-26T00:00:00+00:00",
          "2021-09-27T00:00:00+00:00",
          "2021-09-28T00:00:00+00:00",
          "2021-09-29T00:00:00+00:00",
          "2021-09-30T00:00:00+00:00",
          "2021-10-01T00:00:00+00:00",
          "2021-10-02T00:00:00+00:00",
          "2021-10-03T00:00:00+00:00",
          "2021-10-04T00:00:00+00:00",
          "2021-10-05T00:00:00+00:00",
          "2021-10-06T00:00:00+00:00",
          "2021-10-07T00:00:00+00:00",
          "2021-10-08T00:00:00+00:00",
          "2021-10-09T00:00:00+00:00",
          "2021-10-10T00:00:00+00:00",
          "2021-10-11T00:00:00+00:00",
          "2021-10-12T00:00:00+00:00",
          "2021-10-13T00:00:00+00:00",
          "2021-10-14T00:00:00+00:00",
          "2021-10-15T00:00:00+00:00",
          "2021-10-16T00:00:00+00:00",
          "2021-10-17T00:00:00+00:00",
          "2021-10-18T00:00:00+00:00",
          "2021-10-19T00:00:00+00:00",
          "2021-10-20T00:00:00+00:00",
          "2021-10-21T00:00:00+00:00",
          "2021-10-22T00:00:00+00:00",
          "2021-10-23T00:00:00+00:00",
          "2021-10-24T00:00:00+00:00",
          "2021-10-25T00:00:00+00:00",
          "2021-10-26T00:00:00+00:00",
          "2021-10-27T00:00:00+00:00",
          "2021-10-28T00:00:00+00:00",
          "2021-10-29T00:00:00+00:00",
          "2021-10-30T00:00:00+00:00",
          "2021-10-31T00:00:00+00:00",
          "2021-11-01T00:00:00+00:00",
          "2021-11-02T00:00:00+00:00",
          "2021-11-03T00:00:00+00:00",
          "2021-11-04T00:00:00+00:00",
          "2021-11-05T00:00:00+00:00",
          "2021-11-06T00:00:00+00:00",
          "2021-11-07T00:00:00+00:00",
          "2021-11-08T00:00:00+00:00",
          "2021-11-09T00:00:00+00:00",
          "2021-11-10T00:00:00+00:00",
          "2021-11-11T00:00:00+00:00",
          "2021-11-12T00:00:00+00:00",
          "2021-11-13T00:00:00+00:00",
          "2021-11-14T00:00:00+00:00",
          "2021-11-15T00:00:00+00:00",
          "2021-11-16T00:00:00+00:00",
          "2021-11-17T00:00:00+00:00",
          "2021-11-18T00:00:00+00:00",
          "2021-11-19T00:00:00+00:00",
          "2021-11-20T00:00:00+00:00",
          "2021-11-21T00:00:00+00:00",
          "2021-11-22T00:00:00+00:00",
          "2021-11-23T00:00:00+00:00",
          "2021-11-24T00:00:00+00:00",
          "2021-11-25T00:00:00+00:00",
          "2021-11-26T00:00:00+00:00",
          "2021-11-27T00:00:00+00:00",
          "2021-11-28T00:00:00+00:00",
          "2021-11-29T00:00:00+00:00",
          "2021-11-30T00:00:00+00:00",
          "2021-12-01T00:00:00+00:00",
          "2021-12-02T00:00:00+00:00",
          "2021-12-03T00:00:00+00:00",
          "2021-12-04T00:00:00+00:00",
          "2021-12-05T00:00:00+00:00",
          "2021-12-06T00:00:00+00:00",
          "2021-12-07T00:00:00+00:00",
          "2021-12-08T00:00:00+00:00",
          "2021-12-09T00:00:00+00:00",
          "2021-12-10T00:00:00+00:00",
          "2021-12-11T00:00:00+00:00",
          "2021-12-12T00:00:00+00:00",
          "2021-12-13T00:00:00+00:00",
          "2021-12-14T00:00:00+00:00",
          "2021-12-15T00:00:00+00:00",
          "2021-12-16T00:00:00+00:00",
          "2021-12-17T00:00:00+00:00",
          "2021-12-18T00:00:00+00:00",
          "2021-12-19T00:00:00+00:00",
          "2021-12-20T00:00:00+00:00",
          "2021-12-21T00:00:00+00:00",
          "2021-12-22T00:00:00+00:00",
          "2021-12-23T00:00:00+00:00",
          "2021-12-24T00:00:00+00:00",
          "2021-12-25T00:00:00+00:00",
          "2021-12-26T00:00:00+00:00",
          "2021-12-27T00:00:00+00:00",
          "2021-12-28T00:00:00+00:00",
          "2021-12-29T00:00:00+00:00",
          "2021-12-30T00:00:00+00:00",
          "2021-12-31T00:00:00+00:00",
          "2022-01-01T00:00:00+00:00",
          "2022-01-02T00:00:00+00:00",
          "2022-01-03T00:00:00+00:00",
          "2022-01-04T00:00:00+00:00",
          "2022-01-05T00:00:00+00:00",
          "2022-01-06T00:00:00+00:00",
          "2022-01-07T00:00:00+00:00",
          "2022-01-08T00:00:00+00:00",
          "2022-01-09T00:00:00+00:00",
          "2022-01-10T00:00:00+00:00",
          "2022-01-11T00:00:00+00:00",
          "2022-01-12T00:00:00+00:00",
          "2022-01-13T00:00:00+00:00",
          "2022-01-14T00:00:00+00:00",
          "2022-01-15T00:00:00+00:00",
          "2022-01-16T00:00:00+00:00",
          "2022-01-17T00:00:00+00:00",
          "2022-01-18T00:00:00+00:00",
          "2022-01-19T00:00:00+00:00",
          "2022-01-20T00:00:00+00:00",
          "2022-01-21T00:00:00+00:00",
          "2022-01-22T00:00:00+00:00",
          "2022-01-23T00:00:00+00:00",
          "2022-01-24T00:00:00+00:00",
          "2022-01-25T00:00:00+00:00",
          "2022-01-26T00:00:00+00:00",
          "2022-01-27T00:00:00+00:00",
          "2022-01-28T00:00:00+00:00",
          "2022-01-29T00:00:00+00:00",
          "2022-01-30T00:00:00+00:00",
          "2022-01-31T00:00:00+00:00",
          "2022-02-01T00:00:00+00:00",
          "2022-02-02T00:00:00+00:00",
          "2022-02-03T00:00:00+00:00",
          "2022-02-04T00:00:00+00:00",
          "2022-02-05T00:00:00+00:00",
          "2022-02-06T00:00:00+00:00",
          "2022-02-07T00:00:00+00:00",
          "2022-02-08T00:00:00+00:00",
          "2022-02-09T00:00:00+00:00",
          "2022-02-10T00:00:00+00:00",
          "2022-02-11T00:00:00+00:00",
          "2022-02-12T00:00:00+00:00",
          "2022-02-13T00:00:00+00:00",
          "2022-02-14T00:00:00+00:00",
          "2022-02-15T00:00:00+00:00",
          "2022-02-16T00:00:00+00:00",
          "2022-02-17T00:00:00+00:00",
          "2022-02-18T00:00:00+00:00",
          "2022-02-19T00:00:00+00:00",
          "2022-02-20T00:00:00+00:00",
          "2022-02-21T00:00:00+00:00",
          "2022-02-22T00:00:00+00:00",
          "2022-02-23T00:00:00+00:00",
          "2022-02-24T00:00:00+00:00",
          "2022-02-25T00:00:00+00:00",
          "2022-02-26T00:00:00+00:00",
          "2022-02-27T00:00:00+00:00",
          "2022-02-28T00:00:00+00:00",
          "2022-03-01T00:00:00+00:00",
          "2022-03-02T00:00:00+00:00",
          "2022-03-03T00:00:00+00:00",
          "2022-03-04T00:00:00+00:00",
          "2022-03-05T00:00:00+00:00",
          "2022-03-06T00:00:00+00:00",
          "2022-03-07T00:00:00+00:00",
          "2022-03-08T00:00:00+00:00",
          "2022-03-09T00:00:00+00:00",
          "2022-03-10T00:00:00+00:00",
          "2022-03-11T00:00:00+00:00",
          "2022-03-12T00:00:00+00:00"
         ],
         "xaxis": "x",
         "y": [
          -0.055961995194924175,
          0.49376281368390584,
          0.5279770634215517,
          0.993397742539361,
          0.8081741010763324,
          0.8585958996146652,
          0.9815296221361911,
          0.8731537056507248,
          1.0005733303080069,
          1.1590490626845713,
          1.1349411703439771,
          0.993373149705246,
          1.0226946801682284,
          0.9314841414687809,
          0.6058535360372033,
          0.43535048734980597,
          0.7197240631072113,
          0.7758200104546025,
          0.5831981127576498,
          0.5779197109157446,
          0.6977745039353631,
          0.5908557838740052,
          0.4808919033677408,
          0.5399506087143857,
          0.6783998647591849,
          0.9461952009468972,
          1.0211776368510441,
          1.0415717856350892,
          1.005045614958585,
          1.1336312476503045,
          1.2001365717969703,
          1.205538911978591,
          1.1812913461500472,
          1.1916222463835981,
          1.0590768730406692,
          1.1691490022524,
          1.1281186785723398,
          1.211462048031021,
          1.3734375501990668,
          1.438964077245604,
          1.4102490690703622,
          1.4260749659272318,
          1.333619181861215,
          1.4423057138593012,
          1.6833800144859281,
          1.6018807616474868,
          1.5212541347294994,
          1.7006037997683228,
          1.6270571125795543,
          1.7522970878182371,
          1.6790000449314726,
          1.4995022597868295,
          1.7900800227604736,
          1.9436441218077007,
          1.8640553732065372,
          1.832043618626563,
          1.850327459868299,
          2.0891717548062116,
          2.0964703540132597,
          2.0551467037994477,
          2.0108379308671074,
          2.042430888467492,
          2.1249274867602184,
          2.288416486271279,
          2.217744857146201,
          2.168662433518067,
          2.267456331692207,
          2.2117964157250043,
          2.1976687988483183,
          2.1759383688511846,
          2.1406856429064414,
          1.8466839161599897,
          1.9123936348637511,
          1.634199222073745,
          1.9328358634333638,
          2.034969124461303,
          1.9107309179004348,
          1.7559203541390787,
          1.9860237146562358,
          1.9085059081867266,
          1.9384837795933612,
          1.677454770815821,
          1.737670303004093,
          1.927438949066667,
          2.0651463634796148,
          2.221608257319649,
          2.1851259193104156,
          2.120826077379035,
          1.8524834811317659,
          1.760352604656128,
          1.8355304572568407,
          1.9892899192976485,
          1.9531216165531382,
          2.0414139823899173,
          1.7673303553898143,
          1.5662481035810876,
          1.7272901431203485,
          1.7750067811175048,
          1.4635881656715704,
          1.4359596719279817,
          1.6755937110133092,
          1.61057244363794,
          1.5644548476782916,
          1.6392693910640785,
          1.6031286823515685,
          1.6024422574134136,
          1.6783102573626163,
          1.6308607370721373,
          1.7467182724603654,
          1.6922163090223257,
          1.7335332071797138,
          1.7095504810076556,
          1.6803882007664224,
          1.4696923710913365,
          1.298762302918043,
          1.3873977581579493,
          1.3437821865266333,
          1.4228351616918693,
          1.4775110295891811,
          1.4369943807894359,
          1.4726674507443582,
          1.2417406693912945,
          1.124836282094353,
          0.9024171133769463,
          0.8106699814674019,
          0.8723330560745826,
          0.8102890134748795,
          0.9422093447443203,
          1.0441906322908028,
          0.9280341288859488,
          0.9945501985529543,
          1.013123117242202,
          1.034142165038228,
          0.9074648407138195,
          0.884231889999223,
          0.8185656015195146,
          0.7395600407110341,
          0.3285463483546289,
          0.18949386141965885,
          0.30843450615243384,
          0.2256241472934959,
          0.24391155817568455,
          0.26744430755284965,
          0.24535041346354047,
          0.3593039402167433,
          0.4056108698120009,
          0.41089577755598183,
          0.47237447969378143,
          0.5578760082576681,
          0.45201344793126585,
          0.41954311377916875,
          0.6912633774312251,
          0.719281390081004,
          0.7566058167593361,
          0.8364396065419681,
          0.8237070555256025,
          0.9292435263709513,
          0.7851250633216065,
          0.6634010865489501,
          0.6544464895885618,
          0.6203326331402206,
          0.6795410569842582,
          0.8920975520619274,
          0.8402805179578459,
          0.6187581632949648,
          0.5409979140405814,
          0.5209066725126998,
          0.3987745662956783,
          0.35038266048370303,
          0.4060216683632256,
          0.3661881382410259,
          0.3975995058482673,
          0.5324170552933705,
          0.5480524421154906,
          0.4217771847864049,
          0.6883171423574921,
          0.7575399392071644,
          0.7416989766270756,
          0.6453055292146797,
          0.47280760675786837,
          0.5185440168748214,
          0.4266726701129486,
          0.37389581007955286,
          0.441874105626908,
          0.5458556210111736,
          0.4456257762493916,
          0.4219914057760845,
          0.43636607069392763
         ],
         "yaxis": "y"
        },
        {
         "hovertemplate": "variable=Benchmark Return<br>Symbol=ETH<br>Date Snapshot=%{x}<br>value=%{y}<extra></extra>",
         "legendgroup": "Benchmark Return",
         "line": {
          "color": "#EF553B",
          "dash": "solid"
         },
         "marker": {
          "symbol": "circle"
         },
         "mode": "lines",
         "name": "Benchmark Return",
         "showlegend": false,
         "type": "scattergl",
         "x": [
          "2021-04-20T00:00:00+00:00",
          "2021-04-21T00:00:00+00:00",
          "2021-04-22T00:00:00+00:00",
          "2021-04-23T00:00:00+00:00",
          "2021-04-24T00:00:00+00:00",
          "2021-04-25T00:00:00+00:00",
          "2021-04-26T00:00:00+00:00",
          "2021-04-27T00:00:00+00:00",
          "2021-04-28T00:00:00+00:00",
          "2021-04-29T00:00:00+00:00",
          "2021-04-30T00:00:00+00:00",
          "2021-05-01T00:00:00+00:00",
          "2021-05-02T00:00:00+00:00",
          "2021-05-03T00:00:00+00:00",
          "2021-05-04T00:00:00+00:00",
          "2021-05-05T00:00:00+00:00",
          "2021-05-06T00:00:00+00:00",
          "2021-05-07T00:00:00+00:00",
          "2021-05-08T00:00:00+00:00",
          "2021-05-09T00:00:00+00:00",
          "2021-05-10T00:00:00+00:00",
          "2021-05-11T00:00:00+00:00",
          "2021-05-12T00:00:00+00:00",
          "2021-05-14T00:00:00+00:00",
          "2022-01-02T00:00:00+00:00",
          "2022-01-03T00:00:00+00:00"
         ],
         "xaxis": "x2",
         "y": [
          0,
          0.014456746372243146,
          0.03301696005282073,
          0.008790393715188305,
          -0.055961995194924175,
          -0.01076584197717756,
          0.08343083736931511,
          0.1373973244316138,
          0.1686346968710286,
          0.174124881950668,
          0.19139727989607636,
          0.2655375592646749,
          0.5349895274826499,
          0.9383447375802425,
          0.7965137215478051,
          1.5447699301225057,
          1.4820566525218524,
          1.4381468851568937,
          2.627210476607292,
          2.0007291868442736,
          2.04299848305646,
          1.5450385099139998,
          1.855832052048638,
          0.7343777921411245,
          0.7387555147945906,
          0.7184971903947179
         ],
         "yaxis": "y2"
        },
        {
         "hovertemplate": "variable=Benchmark Return<br>Symbol=MATIC<br>Date Snapshot=%{x}<br>value=%{y}<extra></extra>",
         "legendgroup": "Benchmark Return",
         "line": {
          "color": "#EF553B",
          "dash": "solid"
         },
         "marker": {
          "symbol": "circle"
         },
         "mode": "lines",
         "name": "Benchmark Return",
         "showlegend": false,
         "type": "scattergl",
         "x": [
          "2021-04-27T00:00:00+00:00",
          "2021-04-28T00:00:00+00:00",
          "2021-04-29T00:00:00+00:00",
          "2021-04-30T00:00:00+00:00",
          "2021-05-09T00:00:00+00:00",
          "2021-05-14T00:00:00+00:00",
          "2021-05-15T00:00:00+00:00",
          "2021-05-16T00:00:00+00:00",
          "2021-05-17T00:00:00+00:00",
          "2021-05-18T00:00:00+00:00",
          "2021-05-19T00:00:00+00:00",
          "2021-05-20T00:00:00+00:00",
          "2021-05-21T00:00:00+00:00",
          "2021-05-22T00:00:00+00:00",
          "2021-05-23T00:00:00+00:00",
          "2021-05-24T00:00:00+00:00",
          "2021-05-25T00:00:00+00:00",
          "2021-05-26T00:00:00+00:00",
          "2021-05-27T00:00:00+00:00",
          "2021-05-28T00:00:00+00:00",
          "2021-05-29T00:00:00+00:00",
          "2021-05-30T00:00:00+00:00",
          "2021-05-31T00:00:00+00:00",
          "2021-06-01T00:00:00+00:00",
          "2021-06-02T00:00:00+00:00",
          "2021-06-03T00:00:00+00:00",
          "2021-06-04T00:00:00+00:00",
          "2021-06-05T00:00:00+00:00",
          "2021-06-06T00:00:00+00:00",
          "2021-06-07T00:00:00+00:00",
          "2021-06-08T00:00:00+00:00",
          "2021-06-09T00:00:00+00:00",
          "2021-06-10T00:00:00+00:00",
          "2021-06-11T00:00:00+00:00",
          "2021-06-12T00:00:00+00:00",
          "2021-06-13T00:00:00+00:00",
          "2021-06-14T00:00:00+00:00",
          "2021-06-15T00:00:00+00:00",
          "2021-06-16T00:00:00+00:00",
          "2021-06-17T00:00:00+00:00",
          "2021-06-18T00:00:00+00:00",
          "2021-06-19T00:00:00+00:00",
          "2021-06-20T00:00:00+00:00",
          "2021-06-21T00:00:00+00:00",
          "2021-06-22T00:00:00+00:00",
          "2021-06-23T00:00:00+00:00",
          "2021-06-24T00:00:00+00:00",
          "2021-06-25T00:00:00+00:00",
          "2021-06-26T00:00:00+00:00",
          "2021-06-27T00:00:00+00:00",
          "2021-06-28T00:00:00+00:00",
          "2021-06-29T00:00:00+00:00",
          "2021-06-30T00:00:00+00:00",
          "2021-07-01T00:00:00+00:00",
          "2021-07-02T00:00:00+00:00",
          "2021-07-03T00:00:00+00:00",
          "2021-07-26T00:00:00+00:00",
          "2021-07-27T00:00:00+00:00",
          "2021-07-28T00:00:00+00:00",
          "2021-07-29T00:00:00+00:00",
          "2021-07-30T00:00:00+00:00",
          "2021-07-31T00:00:00+00:00",
          "2021-08-01T00:00:00+00:00",
          "2021-08-02T00:00:00+00:00",
          "2021-08-03T00:00:00+00:00",
          "2021-08-04T00:00:00+00:00",
          "2021-08-05T00:00:00+00:00",
          "2021-08-06T00:00:00+00:00",
          "2021-08-07T00:00:00+00:00",
          "2021-08-08T00:00:00+00:00",
          "2021-08-09T00:00:00+00:00",
          "2021-08-10T00:00:00+00:00",
          "2021-08-11T00:00:00+00:00",
          "2021-08-12T00:00:00+00:00",
          "2021-08-13T00:00:00+00:00",
          "2021-08-14T00:00:00+00:00",
          "2021-08-15T00:00:00+00:00",
          "2021-08-16T00:00:00+00:00",
          "2021-08-17T00:00:00+00:00",
          "2021-08-18T00:00:00+00:00",
          "2021-08-19T00:00:00+00:00",
          "2021-08-20T00:00:00+00:00",
          "2021-08-26T00:00:00+00:00",
          "2021-08-27T00:00:00+00:00",
          "2021-08-28T00:00:00+00:00",
          "2021-08-29T00:00:00+00:00",
          "2021-08-30T00:00:00+00:00",
          "2021-08-31T00:00:00+00:00",
          "2021-09-01T00:00:00+00:00",
          "2021-09-02T00:00:00+00:00",
          "2021-09-03T00:00:00+00:00",
          "2021-09-04T00:00:00+00:00",
          "2021-09-05T00:00:00+00:00",
          "2021-09-06T00:00:00+00:00",
          "2021-09-07T00:00:00+00:00",
          "2021-09-08T00:00:00+00:00",
          "2021-09-09T00:00:00+00:00",
          "2021-09-10T00:00:00+00:00",
          "2021-09-11T00:00:00+00:00",
          "2021-09-12T00:00:00+00:00",
          "2021-09-13T00:00:00+00:00",
          "2021-09-14T00:00:00+00:00",
          "2021-09-15T00:00:00+00:00",
          "2021-09-16T00:00:00+00:00",
          "2021-09-17T00:00:00+00:00",
          "2021-09-18T00:00:00+00:00",
          "2021-09-19T00:00:00+00:00",
          "2021-09-20T00:00:00+00:00",
          "2021-09-21T00:00:00+00:00",
          "2021-09-22T00:00:00+00:00",
          "2021-09-23T00:00:00+00:00",
          "2021-09-24T00:00:00+00:00",
          "2021-09-25T00:00:00+00:00",
          "2021-09-26T00:00:00+00:00",
          "2021-09-27T00:00:00+00:00",
          "2021-09-28T00:00:00+00:00",
          "2021-09-29T00:00:00+00:00",
          "2021-09-30T00:00:00+00:00",
          "2021-10-01T00:00:00+00:00",
          "2021-10-02T00:00:00+00:00",
          "2021-10-03T00:00:00+00:00",
          "2021-10-04T00:00:00+00:00",
          "2021-10-05T00:00:00+00:00",
          "2021-10-06T00:00:00+00:00",
          "2021-10-07T00:00:00+00:00",
          "2021-10-08T00:00:00+00:00",
          "2021-10-09T00:00:00+00:00",
          "2021-10-10T00:00:00+00:00",
          "2021-10-11T00:00:00+00:00",
          "2021-10-12T00:00:00+00:00",
          "2021-10-13T00:00:00+00:00",
          "2021-10-14T00:00:00+00:00",
          "2021-10-15T00:00:00+00:00",
          "2021-10-16T00:00:00+00:00",
          "2021-10-17T00:00:00+00:00",
          "2021-10-18T00:00:00+00:00",
          "2021-10-19T00:00:00+00:00",
          "2021-10-20T00:00:00+00:00",
          "2021-10-21T00:00:00+00:00",
          "2021-10-22T00:00:00+00:00",
          "2021-10-23T00:00:00+00:00",
          "2021-10-24T00:00:00+00:00",
          "2021-10-25T00:00:00+00:00",
          "2021-10-26T00:00:00+00:00",
          "2021-10-27T00:00:00+00:00",
          "2021-10-28T00:00:00+00:00",
          "2021-10-29T00:00:00+00:00",
          "2021-10-30T00:00:00+00:00",
          "2021-10-31T00:00:00+00:00",
          "2021-11-01T00:00:00+00:00",
          "2021-11-02T00:00:00+00:00",
          "2021-11-03T00:00:00+00:00",
          "2021-11-04T00:00:00+00:00",
          "2021-11-05T00:00:00+00:00",
          "2021-11-06T00:00:00+00:00",
          "2021-11-07T00:00:00+00:00",
          "2021-11-08T00:00:00+00:00",
          "2021-11-09T00:00:00+00:00",
          "2021-11-10T00:00:00+00:00",
          "2021-11-11T00:00:00+00:00",
          "2021-11-12T00:00:00+00:00",
          "2021-11-13T00:00:00+00:00",
          "2021-11-14T00:00:00+00:00",
          "2021-11-15T00:00:00+00:00",
          "2021-11-16T00:00:00+00:00",
          "2021-11-17T00:00:00+00:00",
          "2021-11-18T00:00:00+00:00",
          "2021-11-19T00:00:00+00:00",
          "2021-11-20T00:00:00+00:00",
          "2021-11-21T00:00:00+00:00",
          "2021-11-22T00:00:00+00:00",
          "2021-11-23T00:00:00+00:00",
          "2021-11-24T00:00:00+00:00",
          "2021-11-25T00:00:00+00:00",
          "2021-11-26T00:00:00+00:00",
          "2021-11-27T00:00:00+00:00",
          "2021-11-28T00:00:00+00:00",
          "2021-11-29T00:00:00+00:00",
          "2021-11-30T00:00:00+00:00",
          "2021-12-01T00:00:00+00:00",
          "2021-12-02T00:00:00+00:00",
          "2021-12-03T00:00:00+00:00",
          "2021-12-04T00:00:00+00:00",
          "2021-12-05T00:00:00+00:00",
          "2021-12-06T00:00:00+00:00",
          "2021-12-07T00:00:00+00:00",
          "2021-12-08T00:00:00+00:00",
          "2021-12-09T00:00:00+00:00",
          "2021-12-10T00:00:00+00:00",
          "2021-12-11T00:00:00+00:00",
          "2021-12-12T00:00:00+00:00",
          "2021-12-13T00:00:00+00:00",
          "2021-12-14T00:00:00+00:00",
          "2021-12-15T00:00:00+00:00",
          "2021-12-16T00:00:00+00:00",
          "2021-12-17T00:00:00+00:00",
          "2021-12-18T00:00:00+00:00",
          "2021-12-19T00:00:00+00:00",
          "2021-12-20T00:00:00+00:00",
          "2021-12-21T00:00:00+00:00",
          "2021-12-22T00:00:00+00:00",
          "2021-12-23T00:00:00+00:00",
          "2021-12-24T00:00:00+00:00",
          "2021-12-25T00:00:00+00:00",
          "2021-12-26T00:00:00+00:00",
          "2021-12-27T00:00:00+00:00",
          "2021-12-28T00:00:00+00:00",
          "2021-12-29T00:00:00+00:00",
          "2021-12-30T00:00:00+00:00",
          "2021-12-31T00:00:00+00:00",
          "2022-01-01T00:00:00+00:00",
          "2022-01-02T00:00:00+00:00",
          "2022-01-03T00:00:00+00:00",
          "2022-01-04T00:00:00+00:00",
          "2022-01-05T00:00:00+00:00",
          "2022-01-06T00:00:00+00:00",
          "2022-01-07T00:00:00+00:00",
          "2022-01-08T00:00:00+00:00",
          "2022-01-09T00:00:00+00:00",
          "2022-01-10T00:00:00+00:00",
          "2022-01-11T00:00:00+00:00",
          "2022-01-12T00:00:00+00:00",
          "2022-01-13T00:00:00+00:00",
          "2022-01-14T00:00:00+00:00",
          "2022-01-15T00:00:00+00:00",
          "2022-01-16T00:00:00+00:00",
          "2022-01-17T00:00:00+00:00",
          "2022-01-18T00:00:00+00:00",
          "2022-01-19T00:00:00+00:00",
          "2022-01-20T00:00:00+00:00",
          "2022-01-21T00:00:00+00:00",
          "2022-01-22T00:00:00+00:00",
          "2022-01-23T00:00:00+00:00",
          "2022-01-24T00:00:00+00:00",
          "2022-01-25T00:00:00+00:00",
          "2022-01-26T00:00:00+00:00",
          "2022-01-27T00:00:00+00:00",
          "2022-01-28T00:00:00+00:00",
          "2022-01-29T00:00:00+00:00",
          "2022-01-30T00:00:00+00:00",
          "2022-01-31T00:00:00+00:00",
          "2022-02-01T00:00:00+00:00",
          "2022-02-02T00:00:00+00:00",
          "2022-02-03T00:00:00+00:00",
          "2022-02-04T00:00:00+00:00",
          "2022-02-05T00:00:00+00:00",
          "2022-02-06T00:00:00+00:00",
          "2022-02-07T00:00:00+00:00",
          "2022-02-08T00:00:00+00:00",
          "2022-02-09T00:00:00+00:00",
          "2022-02-10T00:00:00+00:00",
          "2022-02-11T00:00:00+00:00",
          "2022-02-12T00:00:00+00:00",
          "2022-02-13T00:00:00+00:00",
          "2022-02-14T00:00:00+00:00",
          "2022-02-15T00:00:00+00:00",
          "2022-02-16T00:00:00+00:00",
          "2022-02-17T00:00:00+00:00",
          "2022-02-18T00:00:00+00:00",
          "2022-02-19T00:00:00+00:00",
          "2022-02-20T00:00:00+00:00",
          "2022-02-21T00:00:00+00:00",
          "2022-02-22T00:00:00+00:00",
          "2022-02-23T00:00:00+00:00",
          "2022-02-24T00:00:00+00:00",
          "2022-02-25T00:00:00+00:00",
          "2022-02-26T00:00:00+00:00",
          "2022-02-27T00:00:00+00:00",
          "2022-02-28T00:00:00+00:00",
          "2022-03-01T00:00:00+00:00",
          "2022-03-02T00:00:00+00:00",
          "2022-03-03T00:00:00+00:00",
          "2022-03-04T00:00:00+00:00",
          "2022-03-05T00:00:00+00:00",
          "2022-03-06T00:00:00+00:00",
          "2022-03-07T00:00:00+00:00",
          "2022-03-08T00:00:00+00:00",
          "2022-03-09T00:00:00+00:00",
          "2022-03-10T00:00:00+00:00",
          "2022-03-11T00:00:00+00:00",
          "2022-03-12T00:00:00+00:00"
         ],
         "xaxis": "x3",
         "y": [
          0.1373973244316138,
          0.3372693937420572,
          0.348249763901336,
          0.3827945597921527,
          0.6669097289480912,
          0.7343777921411245,
          1.0934164768151051,
          1.049385997456537,
          0.7885111438872676,
          0.8559813240965131,
          0.08802096624916089,
          0.35203855708794807,
          0.06091877845161253,
          -0.08021397776290795,
          -0.31710089569885314,
          0.3528157173611357,
          0.42364191153207753,
          0.6703710830210448,
          0.47671060910950236,
          0.07459380206332655,
          -0.10379093935386019,
          0.03772876020541238,
          0.43816523325811296,
          0.3391800624947119,
          0.43342171315817035,
          0.645998703749346,
          0.4225536642262149,
          0.3493909810983633,
          0.45678658698613606,
          0.29113593171149543,
          0.20369559672979975,
          0.3176959723357382,
          0.1451659234654199,
          0.01119726959836198,
          0.03514051717366562,
          0.20882126588490801,
          0.24329495759808517,
          0.33585879721985523,
          0.05776135203023247,
          0.08445967394854592,
          -0.0858507279200641,
          -0.1555684064430889,
          -0.0686070991231984,
          -0.544256940916012,
          -0.5666828565597731,
          -0.4164059297335516,
          -0.4175596971260478,
          -0.647018992741734,
          -0.6259470013864898,
          -0.4330951579891287,
          -0.2993182384348677,
          -0.18726478400287494,
          -0.028098053446576787,
          -0.2359311737315395,
          -0.19284314752167997,
          -0.09351877038174095,
          -0.023080751312256287,
          0.0039579946367134244,
          0.00109933684077812,
          0.03384813119209462,
          0.07343090285502374,
          0.20716692029629202,
          0.22981828537460336,
          0.2701827054290815,
          0.1773299032239284,
          0.3769405693041401,
          0.46742800346255686,
          0.5381638238593687,
          1.1579474714310318,
          0.973998320748662,
          1.180920475095405,
          1.1526759084375147,
          1.1745957013143031,
          1.017267321484559,
          1.362709010015265,
          1.288196491631531,
          1.3482064958250233,
          1.151446837167706,
          0.9885292335506546,
          0.9976796002895418,
          1.2226415843793739,
          1.3517978387512957,
          0.362074167903198,
          0.4317780340139552,
          0.42030946676785286,
          0.41232042677512193,
          0.4113980910517361,
          0.5013291591528564,
          0.6722463644910521,
          0.648623757541523,
          0.7129436337520927,
          0.6893656289747827,
          0.7170262517173935,
          0.7084425626302837,
          0.49376281368390584,
          0.5279770634215517,
          0.4966988712696805,
          0.4040870505381662,
          0.4292979498073326,
          0.49076481106809555,
          0.4365768528253624,
          0.5002866651540034,
          0.5795245313422857,
          0.5674705851719886,
          0.496686574852623,
          0.5113473400841142,
          0.46574207073439045,
          0.30292676801860163,
          0.21767524367490299,
          0.35986203155360563,
          0.38791000522730124,
          0.2915990563788249,
          0.2889598554578723,
          0.34888725196768156,
          0.2954278919370026,
          0.2404459516838704,
          0.26997530435719286,
          0.33919993237959245,
          0.4730976004734486,
          0.5105888184255221,
          0.5207858928175446,
          0.5025228074792925,
          0.5668156238251523,
          0.6000682858984852,
          0.6027694559892955,
          0.5906456730750236,
          0.5958111231917991,
          0.5295384365203346,
          0.5845745011262,
          0.5640593392861699,
          0.6057310240155105,
          0.6867187750995334,
          0.719482038622802,
          0.7051245345351811,
          0.7130374829636159,
          0.6668095909306075,
          0.7211528569296506,
          0.8416900072429641,
          0.8009403808237434,
          0.7606270673647497,
          0.8503018998841614,
          0.8135285562897772,
          0.8761485439091186,
          0.8395000224657363,
          0.7497511298934147,
          0.8950400113802368,
          0.9718220609038504,
          0.9320276866032686,
          0.9160218093132815,
          0.9251637299341495,
          1.0445858774031058,
          1.0482351770066298,
          1.0275733518997239,
          1.0054189654335537,
          1.021215444233746,
          1.0624637433801092,
          1.1442082431356395,
          1.1088724285731004,
          1.0843312167590335,
          1.1337281658461036,
          1.1058982078625021,
          1.0988343994241592,
          1.0879691844255923,
          1.0703428214532207,
          0.9233419580799949,
          0.9561968174318756,
          0.8170996110368725,
          0.9664179317166819,
          1.0174845622306514,
          0.9553654589502174,
          0.8779601770695393,
          0.9930118573281179,
          0.9542529540933633,
          0.9692418897966806,
          0.8387273854079105,
          0.8688351515020465,
          0.9637194745333335,
          1.0325731817398074,
          1.1108041286598245,
          1.0925629596552078,
          1.0604130386895174,
          0.9262417405658829,
          0.880176302328064,
          0.9177652286284204,
          0.9946449596488243,
          0.9765608082765691,
          1.0207069911949587,
          0.8836651776949072,
          0.7831240517905438,
          0.8636450715601742,
          0.8875033905587524,
          0.7317940828357852,
          0.7179798359639908,
          0.8377968555066546,
          0.80528622181897,
          0.7822274238391458,
          0.8196346955320393,
          0.8015643411757842,
          0.8012211287067068,
          0.8391551286813081,
          0.8154303685360687,
          0.8733591362301827,
          0.8461081545111628,
          0.8667666035898569,
          0.8547752405038278,
          0.8401941003832112,
          0.7348461855456683,
          0.6493811514590215,
          0.6936988790789747,
          0.6718910932633166,
          0.7114175808459346,
          0.7387555147945906,
          0.7184971903947179,
          0.7363337253721791,
          0.6208703346956472,
          0.5624181410471765,
          0.45120855668847315,
          0.40533499073370094,
          0.4361665280372913,
          0.40514450673743974,
          0.47110467237216014,
          0.5220953161454014,
          0.4640170644429744,
          0.4972750992764772,
          0.506561558621101,
          0.517071082519114,
          0.45373242035690975,
          0.4421159449996115,
          0.4092828007597573,
          0.36978002035551705,
          0.16427317417731446,
          0.09474693070982942,
          0.15421725307621692,
          0.11281207364674795,
          0.12195577908784228,
          0.13372215377642482,
          0.12267520673177024,
          0.17965197010837164,
          0.20280543490600045,
          0.20544788877799092,
          0.23618723984689072,
          0.27893800412883407,
          0.22600672396563293,
          0.20977155688958438,
          0.34563168871561256,
          0.359640695040502,
          0.37830290837966807,
          0.41821980327098407,
          0.41185352776280126,
          0.46462176318547566,
          0.39256253166080324,
          0.33170054327447507,
          0.3272232447942809,
          0.3101663165701103,
          0.3397705284921291,
          0.4460487760309637,
          0.42014025897892293,
          0.3093790816474824,
          0.2704989570202907,
          0.2604533362563499,
          0.19938728314783916,
          0.17519133024185152,
          0.2030108341816128,
          0.18309406912051296,
          0.19879975292413365,
          0.26620852764668523,
          0.2740262210577453,
          0.21088859239320246,
          0.34415857117874604,
          0.3787699696035822,
          0.3708494883135378,
          0.3226527646073398,
          0.23640380337893419,
          0.2592720084374107,
          0.2133363350564743,
          0.18694790503977643,
          0.220937052813454,
          0.2729278105055868,
          0.2228128881246958,
          0.21099570288804226,
          0.21818303534696382
         ],
         "yaxis": "y3"
        },
        {
         "hovertemplate": "variable=Benchmark Return<br>Symbol=SOL<br>Date Snapshot=%{x}<br>value=%{y}<extra></extra>",
         "legendgroup": "Benchmark Return",
         "line": {
          "color": "#EF553B",
          "dash": "solid"
         },
         "marker": {
          "symbol": "circle"
         },
         "mode": "lines",
         "name": "Benchmark Return",
         "showlegend": false,
         "type": "scattergl",
         "x": [
          "2021-11-29T00:00:00+00:00",
          "2021-11-30T00:00:00+00:00",
          "2021-12-01T00:00:00+00:00",
          "2021-12-02T00:00:00+00:00",
          "2021-12-03T00:00:00+00:00",
          "2021-12-04T00:00:00+00:00",
          "2021-12-05T00:00:00+00:00",
          "2021-12-06T00:00:00+00:00",
          "2021-12-07T00:00:00+00:00",
          "2021-12-08T00:00:00+00:00",
          "2021-12-09T00:00:00+00:00",
          "2021-12-10T00:00:00+00:00",
          "2021-12-11T00:00:00+00:00",
          "2021-12-12T00:00:00+00:00",
          "2021-12-13T00:00:00+00:00",
          "2021-12-14T00:00:00+00:00",
          "2021-12-15T00:00:00+00:00",
          "2021-12-16T00:00:00+00:00",
          "2021-12-17T00:00:00+00:00",
          "2021-12-18T00:00:00+00:00",
          "2021-12-19T00:00:00+00:00",
          "2021-12-20T00:00:00+00:00",
          "2021-12-21T00:00:00+00:00",
          "2021-12-22T00:00:00+00:00",
          "2021-12-23T00:00:00+00:00",
          "2021-12-24T00:00:00+00:00",
          "2021-12-25T00:00:00+00:00",
          "2021-12-26T00:00:00+00:00",
          "2021-12-27T00:00:00+00:00",
          "2021-12-28T00:00:00+00:00",
          "2021-12-29T00:00:00+00:00",
          "2021-12-30T00:00:00+00:00",
          "2021-12-31T00:00:00+00:00",
          "2022-01-01T00:00:00+00:00"
         ],
         "xaxis": "x4",
         "y": [
          1.0325731817398074,
          1.1108041286598245,
          1.0925629596552078,
          1.0604130386895174,
          0.9262417405658829,
          0.880176302328064,
          0.9177652286284204,
          0.9946449596488243,
          0.9765608082765691,
          1.0207069911949587,
          0.8836651776949072,
          0.7831240517905438,
          0.8636450715601742,
          0.8875033905587524,
          0.7317940828357852,
          0.7179798359639908,
          0.8377968555066546,
          0.80528622181897,
          0.7822274238391458,
          0.8196346955320393,
          0.8015643411757842,
          0.8012211287067068,
          0.8391551286813081,
          0.8154303685360687,
          0.8733591362301827,
          0.8461081545111628,
          0.8667666035898569,
          0.8547752405038278,
          0.8401941003832112,
          0.7348461855456683,
          0.6493811514590215,
          0.6936988790789747,
          0.6718910932633166,
          0.7114175808459346
         ],
         "yaxis": "y4"
        }
       ],
       "layout": {
        "annotations": [
         {
          "showarrow": false,
          "text": "Symbol=ADA",
          "x": 0.1175,
          "xanchor": "center",
          "xref": "paper",
          "y": 1,
          "yanchor": "bottom",
          "yref": "paper"
         },
         {
          "showarrow": false,
          "text": "Symbol=ETH",
          "x": 0.3725,
          "xanchor": "center",
          "xref": "paper",
          "y": 1,
          "yanchor": "bottom",
          "yref": "paper"
         },
         {
          "showarrow": false,
          "text": "Symbol=MATIC",
          "x": 0.6275,
          "xanchor": "center",
          "xref": "paper",
          "y": 1,
          "yanchor": "bottom",
          "yref": "paper"
         },
         {
          "showarrow": false,
          "text": "Symbol=SOL",
          "x": 0.8824999999999998,
          "xanchor": "center",
          "xref": "paper",
          "y": 1,
          "yanchor": "bottom",
          "yref": "paper"
         }
        ],
        "legend": {
         "title": {
          "text": "variable"
         },
         "tracegroupgap": 0
        },
        "margin": {
         "t": 60
        },
        "template": {
         "data": {
          "bar": [
           {
            "error_x": {
             "color": "#2a3f5f"
            },
            "error_y": {
             "color": "#2a3f5f"
            },
            "marker": {
             "line": {
              "color": "#E5ECF6",
              "width": 0.5
             },
             "pattern": {
              "fillmode": "overlay",
              "size": 10,
              "solidity": 0.2
             }
            },
            "type": "bar"
           }
          ],
          "barpolar": [
           {
            "marker": {
             "line": {
              "color": "#E5ECF6",
              "width": 0.5
             },
             "pattern": {
              "fillmode": "overlay",
              "size": 10,
              "solidity": 0.2
             }
            },
            "type": "barpolar"
           }
          ],
          "carpet": [
           {
            "aaxis": {
             "endlinecolor": "#2a3f5f",
             "gridcolor": "white",
             "linecolor": "white",
             "minorgridcolor": "white",
             "startlinecolor": "#2a3f5f"
            },
            "baxis": {
             "endlinecolor": "#2a3f5f",
             "gridcolor": "white",
             "linecolor": "white",
             "minorgridcolor": "white",
             "startlinecolor": "#2a3f5f"
            },
            "type": "carpet"
           }
          ],
          "choropleth": [
           {
            "colorbar": {
             "outlinewidth": 0,
             "ticks": ""
            },
            "type": "choropleth"
           }
          ],
          "contour": [
           {
            "colorbar": {
             "outlinewidth": 0,
             "ticks": ""
            },
            "colorscale": [
             [
              0,
              "#0d0887"
             ],
             [
              0.1111111111111111,
              "#46039f"
             ],
             [
              0.2222222222222222,
              "#7201a8"
             ],
             [
              0.3333333333333333,
              "#9c179e"
             ],
             [
              0.4444444444444444,
              "#bd3786"
             ],
             [
              0.5555555555555556,
              "#d8576b"
             ],
             [
              0.6666666666666666,
              "#ed7953"
             ],
             [
              0.7777777777777778,
              "#fb9f3a"
             ],
             [
              0.8888888888888888,
              "#fdca26"
             ],
             [
              1,
              "#f0f921"
             ]
            ],
            "type": "contour"
           }
          ],
          "contourcarpet": [
           {
            "colorbar": {
             "outlinewidth": 0,
             "ticks": ""
            },
            "type": "contourcarpet"
           }
          ],
          "heatmap": [
           {
            "colorbar": {
             "outlinewidth": 0,
             "ticks": ""
            },
            "colorscale": [
             [
              0,
              "#0d0887"
             ],
             [
              0.1111111111111111,
              "#46039f"
             ],
             [
              0.2222222222222222,
              "#7201a8"
             ],
             [
              0.3333333333333333,
              "#9c179e"
             ],
             [
              0.4444444444444444,
              "#bd3786"
             ],
             [
              0.5555555555555556,
              "#d8576b"
             ],
             [
              0.6666666666666666,
              "#ed7953"
             ],
             [
              0.7777777777777778,
              "#fb9f3a"
             ],
             [
              0.8888888888888888,
              "#fdca26"
             ],
             [
              1,
              "#f0f921"
             ]
            ],
            "type": "heatmap"
           }
          ],
          "heatmapgl": [
           {
            "colorbar": {
             "outlinewidth": 0,
             "ticks": ""
            },
            "colorscale": [
             [
              0,
              "#0d0887"
             ],
             [
              0.1111111111111111,
              "#46039f"
             ],
             [
              0.2222222222222222,
              "#7201a8"
             ],
             [
              0.3333333333333333,
              "#9c179e"
             ],
             [
              0.4444444444444444,
              "#bd3786"
             ],
             [
              0.5555555555555556,
              "#d8576b"
             ],
             [
              0.6666666666666666,
              "#ed7953"
             ],
             [
              0.7777777777777778,
              "#fb9f3a"
             ],
             [
              0.8888888888888888,
              "#fdca26"
             ],
             [
              1,
              "#f0f921"
             ]
            ],
            "type": "heatmapgl"
           }
          ],
          "histogram": [
           {
            "marker": {
             "pattern": {
              "fillmode": "overlay",
              "size": 10,
              "solidity": 0.2
             }
            },
            "type": "histogram"
           }
          ],
          "histogram2d": [
           {
            "colorbar": {
             "outlinewidth": 0,
             "ticks": ""
            },
            "colorscale": [
             [
              0,
              "#0d0887"
             ],
             [
              0.1111111111111111,
              "#46039f"
             ],
             [
              0.2222222222222222,
              "#7201a8"
             ],
             [
              0.3333333333333333,
              "#9c179e"
             ],
             [
              0.4444444444444444,
              "#bd3786"
             ],
             [
              0.5555555555555556,
              "#d8576b"
             ],
             [
              0.6666666666666666,
              "#ed7953"
             ],
             [
              0.7777777777777778,
              "#fb9f3a"
             ],
             [
              0.8888888888888888,
              "#fdca26"
             ],
             [
              1,
              "#f0f921"
             ]
            ],
            "type": "histogram2d"
           }
          ],
          "histogram2dcontour": [
           {
            "colorbar": {
             "outlinewidth": 0,
             "ticks": ""
            },
            "colorscale": [
             [
              0,
              "#0d0887"
             ],
             [
              0.1111111111111111,
              "#46039f"
             ],
             [
              0.2222222222222222,
              "#7201a8"
             ],
             [
              0.3333333333333333,
              "#9c179e"
             ],
             [
              0.4444444444444444,
              "#bd3786"
             ],
             [
              0.5555555555555556,
              "#d8576b"
             ],
             [
              0.6666666666666666,
              "#ed7953"
             ],
             [
              0.7777777777777778,
              "#fb9f3a"
             ],
             [
              0.8888888888888888,
              "#fdca26"
             ],
             [
              1,
              "#f0f921"
             ]
            ],
            "type": "histogram2dcontour"
           }
          ],
          "mesh3d": [
           {
            "colorbar": {
             "outlinewidth": 0,
             "ticks": ""
            },
            "type": "mesh3d"
           }
          ],
          "parcoords": [
           {
            "line": {
             "colorbar": {
              "outlinewidth": 0,
              "ticks": ""
             }
            },
            "type": "parcoords"
           }
          ],
          "pie": [
           {
            "automargin": true,
            "type": "pie"
           }
          ],
          "scatter": [
           {
            "marker": {
             "colorbar": {
              "outlinewidth": 0,
              "ticks": ""
             }
            },
            "type": "scatter"
           }
          ],
          "scatter3d": [
           {
            "line": {
             "colorbar": {
              "outlinewidth": 0,
              "ticks": ""
             }
            },
            "marker": {
             "colorbar": {
              "outlinewidth": 0,
              "ticks": ""
             }
            },
            "type": "scatter3d"
           }
          ],
          "scattercarpet": [
           {
            "marker": {
             "colorbar": {
              "outlinewidth": 0,
              "ticks": ""
             }
            },
            "type": "scattercarpet"
           }
          ],
          "scattergeo": [
           {
            "marker": {
             "colorbar": {
              "outlinewidth": 0,
              "ticks": ""
             }
            },
            "type": "scattergeo"
           }
          ],
          "scattergl": [
           {
            "marker": {
             "colorbar": {
              "outlinewidth": 0,
              "ticks": ""
             }
            },
            "type": "scattergl"
           }
          ],
          "scattermapbox": [
           {
            "marker": {
             "colorbar": {
              "outlinewidth": 0,
              "ticks": ""
             }
            },
            "type": "scattermapbox"
           }
          ],
          "scatterpolar": [
           {
            "marker": {
             "colorbar": {
              "outlinewidth": 0,
              "ticks": ""
             }
            },
            "type": "scatterpolar"
           }
          ],
          "scatterpolargl": [
           {
            "marker": {
             "colorbar": {
              "outlinewidth": 0,
              "ticks": ""
             }
            },
            "type": "scatterpolargl"
           }
          ],
          "scatterternary": [
           {
            "marker": {
             "colorbar": {
              "outlinewidth": 0,
              "ticks": ""
             }
            },
            "type": "scatterternary"
           }
          ],
          "surface": [
           {
            "colorbar": {
             "outlinewidth": 0,
             "ticks": ""
            },
            "colorscale": [
             [
              0,
              "#0d0887"
             ],
             [
              0.1111111111111111,
              "#46039f"
             ],
             [
              0.2222222222222222,
              "#7201a8"
             ],
             [
              0.3333333333333333,
              "#9c179e"
             ],
             [
              0.4444444444444444,
              "#bd3786"
             ],
             [
              0.5555555555555556,
              "#d8576b"
             ],
             [
              0.6666666666666666,
              "#ed7953"
             ],
             [
              0.7777777777777778,
              "#fb9f3a"
             ],
             [
              0.8888888888888888,
              "#fdca26"
             ],
             [
              1,
              "#f0f921"
             ]
            ],
            "type": "surface"
           }
          ],
          "table": [
           {
            "cells": {
             "fill": {
              "color": "#EBF0F8"
             },
             "line": {
              "color": "white"
             }
            },
            "header": {
             "fill": {
              "color": "#C8D4E3"
             },
             "line": {
              "color": "white"
             }
            },
            "type": "table"
           }
          ]
         },
         "layout": {
          "annotationdefaults": {
           "arrowcolor": "#2a3f5f",
           "arrowhead": 0,
           "arrowwidth": 1
          },
          "autotypenumbers": "strict",
          "coloraxis": {
           "colorbar": {
            "outlinewidth": 0,
            "ticks": ""
           }
          },
          "colorscale": {
           "diverging": [
            [
             0,
             "#8e0152"
            ],
            [
             0.1,
             "#c51b7d"
            ],
            [
             0.2,
             "#de77ae"
            ],
            [
             0.3,
             "#f1b6da"
            ],
            [
             0.4,
             "#fde0ef"
            ],
            [
             0.5,
             "#f7f7f7"
            ],
            [
             0.6,
             "#e6f5d0"
            ],
            [
             0.7,
             "#b8e186"
            ],
            [
             0.8,
             "#7fbc41"
            ],
            [
             0.9,
             "#4d9221"
            ],
            [
             1,
             "#276419"
            ]
           ],
           "sequential": [
            [
             0,
             "#0d0887"
            ],
            [
             0.1111111111111111,
             "#46039f"
            ],
            [
             0.2222222222222222,
             "#7201a8"
            ],
            [
             0.3333333333333333,
             "#9c179e"
            ],
            [
             0.4444444444444444,
             "#bd3786"
            ],
            [
             0.5555555555555556,
             "#d8576b"
            ],
            [
             0.6666666666666666,
             "#ed7953"
            ],
            [
             0.7777777777777778,
             "#fb9f3a"
            ],
            [
             0.8888888888888888,
             "#fdca26"
            ],
            [
             1,
             "#f0f921"
            ]
           ],
           "sequentialminus": [
            [
             0,
             "#0d0887"
            ],
            [
             0.1111111111111111,
             "#46039f"
            ],
            [
             0.2222222222222222,
             "#7201a8"
            ],
            [
             0.3333333333333333,
             "#9c179e"
            ],
            [
             0.4444444444444444,
             "#bd3786"
            ],
            [
             0.5555555555555556,
             "#d8576b"
            ],
            [
             0.6666666666666666,
             "#ed7953"
            ],
            [
             0.7777777777777778,
             "#fb9f3a"
            ],
            [
             0.8888888888888888,
             "#fdca26"
            ],
            [
             1,
             "#f0f921"
            ]
           ]
          },
          "colorway": [
           "#636efa",
           "#EF553B",
           "#00cc96",
           "#ab63fa",
           "#FFA15A",
           "#19d3f3",
           "#FF6692",
           "#B6E880",
           "#FF97FF",
           "#FECB52"
          ],
          "font": {
           "color": "#2a3f5f"
          },
          "geo": {
           "bgcolor": "white",
           "lakecolor": "white",
           "landcolor": "#E5ECF6",
           "showlakes": true,
           "showland": true,
           "subunitcolor": "white"
          },
          "hoverlabel": {
           "align": "left"
          },
          "hovermode": "closest",
          "mapbox": {
           "style": "light"
          },
          "paper_bgcolor": "white",
          "plot_bgcolor": "#E5ECF6",
          "polar": {
           "angularaxis": {
            "gridcolor": "white",
            "linecolor": "white",
            "ticks": ""
           },
           "bgcolor": "#E5ECF6",
           "radialaxis": {
            "gridcolor": "white",
            "linecolor": "white",
            "ticks": ""
           }
          },
          "scene": {
           "xaxis": {
            "backgroundcolor": "#E5ECF6",
            "gridcolor": "white",
            "gridwidth": 2,
            "linecolor": "white",
            "showbackground": true,
            "ticks": "",
            "zerolinecolor": "white"
           },
           "yaxis": {
            "backgroundcolor": "#E5ECF6",
            "gridcolor": "white",
            "gridwidth": 2,
            "linecolor": "white",
            "showbackground": true,
            "ticks": "",
            "zerolinecolor": "white"
           },
           "zaxis": {
            "backgroundcolor": "#E5ECF6",
            "gridcolor": "white",
            "gridwidth": 2,
            "linecolor": "white",
            "showbackground": true,
            "ticks": "",
            "zerolinecolor": "white"
           }
          },
          "shapedefaults": {
           "line": {
            "color": "#2a3f5f"
           }
          },
          "ternary": {
           "aaxis": {
            "gridcolor": "white",
            "linecolor": "white",
            "ticks": ""
           },
           "baxis": {
            "gridcolor": "white",
            "linecolor": "white",
            "ticks": ""
           },
           "bgcolor": "#E5ECF6",
           "caxis": {
            "gridcolor": "white",
            "linecolor": "white",
            "ticks": ""
           }
          },
          "title": {
           "x": 0.05
          },
          "xaxis": {
           "automargin": true,
           "gridcolor": "white",
           "linecolor": "white",
           "ticks": "",
           "title": {
            "standoff": 15
           },
           "zerolinecolor": "white",
           "zerolinewidth": 2
          },
          "yaxis": {
           "automargin": true,
           "gridcolor": "white",
           "linecolor": "white",
           "ticks": "",
           "title": {
            "standoff": 15
           },
           "zerolinecolor": "white",
           "zerolinewidth": 2
          }
         }
        },
        "xaxis": {
         "anchor": "y",
         "domain": [
          0,
          0.235
         ],
         "title": {
          "text": "Date Snapshot"
         }
        },
        "xaxis2": {
         "anchor": "y2",
         "domain": [
          0.255,
          0.49
         ],
         "matches": "x",
         "title": {
          "text": "Date Snapshot"
         }
        },
        "xaxis3": {
         "anchor": "y3",
         "domain": [
          0.51,
          0.745
         ],
         "matches": "x",
         "title": {
          "text": "Date Snapshot"
         }
        },
        "xaxis4": {
         "anchor": "y4",
         "domain": [
          0.7649999999999999,
          0.9999999999999999
         ],
         "matches": "x",
         "title": {
          "text": "Date Snapshot"
         }
        },
        "yaxis": {
         "anchor": "x",
         "domain": [
          0,
          1
         ],
         "title": {
          "text": "value"
         }
        },
        "yaxis2": {
         "anchor": "x2",
         "domain": [
          0,
          1
         ],
         "matches": "y",
         "showticklabels": false
        },
        "yaxis3": {
         "anchor": "x3",
         "domain": [
          0,
          1
         ],
         "matches": "y",
         "showticklabels": false
        },
        "yaxis4": {
         "anchor": "x4",
         "domain": [
          0,
          1
         ],
         "matches": "y",
         "showticklabels": false
        }
       }
      }
     },
     "metadata": {},
     "output_type": "display_data"
    }
   ],
   "source": [
    "t.line(combined_df, [\"Stock Gain / (Loss)\"])\n",
    "t.line(combined_df, [\"Stock Gain / (Loss)\",\"Benchmark Gain / (Loss)\"])\n",
    "t.line_facets(combined_df, 'symbol Return', 'Benchmark Return')"
   ]
  }
 ],
 "metadata": {
  "interpreter": {
   "hash": "2d92824427b41c6028804632d5278b37df1fc0de77b5e6f8aeb0bbbd2f432773"
  },
  "kernelspec": {
   "display_name": "Python 3.7.12 ('cryptoenv')",
   "language": "python",
   "name": "python3"
  },
  "language_info": {
   "codemirror_mode": {
    "name": "ipython",
    "version": 3
   },
   "file_extension": ".py",
   "mimetype": "text/x-python",
   "name": "python",
   "nbconvert_exporter": "python",
   "pygments_lexer": "ipython3",
   "version": "3.7.12"
  },
  "orig_nbformat": 4
 },
 "nbformat": 4,
 "nbformat_minor": 2
}
