{
 "cells": [
  {
   "cell_type": "markdown",
   "metadata": {},
   "source": [
    "# Surfingcrypto `Portfolio`\n",
    "\n",
    "The `surfingcrypto` portfolio."
   ]
  },
  {
   "cell_type": "code",
   "execution_count": 1,
   "metadata": {},
   "outputs": [],
   "source": [
    "%load_ext autoreload\n",
    "%autoreload 2\n",
    "from surfingcrypto import Config\n",
    "from surfingcrypto.portfolio import Portfolio\n",
    "from surfingcrypto.portfolio.tracker import Tracker\n",
    "\n",
    "import pandas as pd\n",
    "c=Config(\"/Users/giorgiocaizzi/Documents/GitHub/surfingcrypto/config\")"
   ]
  },
  {
   "cell_type": "code",
   "execution_count": 2,
   "metadata": {},
   "outputs": [
    {
     "name": "stdout",
     "output_type": "stream",
     "text": [
      "Warning! There are 5 transactionsthat were EXCLUDED in std_df.\n",
      "Coinbase errors:\n",
      "TransactionsHistory(Transactions:186 - Processed:186, Unhandled:0 - Errors:9)\n"
     ]
    }
   ],
   "source": [
    "p=Portfolio(\"coinbase\",configuration=c)"
   ]
  },
  {
   "cell_type": "code",
   "execution_count": 3,
   "metadata": {},
   "outputs": [
    {
     "data": {
      "text/html": [
       "<div>\n",
       "<style scoped>\n",
       "    .dataframe tbody tr th:only-of-type {\n",
       "        vertical-align: middle;\n",
       "    }\n",
       "\n",
       "    .dataframe tbody tr th {\n",
       "        vertical-align: top;\n",
       "    }\n",
       "\n",
       "    .dataframe thead th {\n",
       "        text-align: right;\n",
       "    }\n",
       "</style>\n",
       "<table border=\"1\" class=\"dataframe\">\n",
       "  <thead>\n",
       "    <tr style=\"text-align: right;\">\n",
       "      <th></th>\n",
       "      <th>type</th>\n",
       "      <th>amount</th>\n",
       "      <th>symbol</th>\n",
       "      <th>native_amount</th>\n",
       "      <th>nat_symbol</th>\n",
       "      <th>total</th>\n",
       "      <th>subtotal</th>\n",
       "      <th>total_fee</th>\n",
       "      <th>spot_price</th>\n",
       "      <th>trade_id</th>\n",
       "    </tr>\n",
       "    <tr>\n",
       "      <th>datetime</th>\n",
       "      <th></th>\n",
       "      <th></th>\n",
       "      <th></th>\n",
       "      <th></th>\n",
       "      <th></th>\n",
       "      <th></th>\n",
       "      <th></th>\n",
       "      <th></th>\n",
       "      <th></th>\n",
       "      <th></th>\n",
       "    </tr>\n",
       "  </thead>\n",
       "  <tbody>\n",
       "    <tr>\n",
       "      <th>2018-10-22T06:29:22Z</th>\n",
       "      <td>buy</td>\n",
       "      <td>0.017237</td>\n",
       "      <td>BTC</td>\n",
       "      <td>100.00</td>\n",
       "      <td>EUR</td>\n",
       "      <td>100.00</td>\n",
       "      <td>97.01</td>\n",
       "      <td>2.99</td>\n",
       "      <td>5627.999719</td>\n",
       "      <td>None</td>\n",
       "    </tr>\n",
       "    <tr>\n",
       "      <th>2018-10-22T06:29:22Z</th>\n",
       "      <td>buy</td>\n",
       "      <td>100.000000</td>\n",
       "      <td>EUR</td>\n",
       "      <td>100.00</td>\n",
       "      <td>EUR</td>\n",
       "      <td>NaN</td>\n",
       "      <td>NaN</td>\n",
       "      <td>NaN</td>\n",
       "      <td>1.000000</td>\n",
       "      <td>None</td>\n",
       "    </tr>\n",
       "    <tr>\n",
       "      <th>2018-11-09T12:05:12Z</th>\n",
       "      <td>sell</td>\n",
       "      <td>0.017237</td>\n",
       "      <td>BTC</td>\n",
       "      <td>93.27</td>\n",
       "      <td>EUR</td>\n",
       "      <td>93.27</td>\n",
       "      <td>96.26</td>\n",
       "      <td>2.99</td>\n",
       "      <td>5584.488743</td>\n",
       "      <td>None</td>\n",
       "    </tr>\n",
       "    <tr>\n",
       "      <th>2018-11-09T12:05:13Z</th>\n",
       "      <td>sell</td>\n",
       "      <td>93.270000</td>\n",
       "      <td>EUR</td>\n",
       "      <td>93.27</td>\n",
       "      <td>EUR</td>\n",
       "      <td>NaN</td>\n",
       "      <td>NaN</td>\n",
       "      <td>NaN</td>\n",
       "      <td>1.000000</td>\n",
       "      <td>None</td>\n",
       "    </tr>\n",
       "    <tr>\n",
       "      <th>2018-11-09T12:06:14Z</th>\n",
       "      <td>buy</td>\n",
       "      <td>348.021666</td>\n",
       "      <td>BAT</td>\n",
       "      <td>93.27</td>\n",
       "      <td>EUR</td>\n",
       "      <td>93.27</td>\n",
       "      <td>90.28</td>\n",
       "      <td>2.99</td>\n",
       "      <td>0.259409</td>\n",
       "      <td>None</td>\n",
       "    </tr>\n",
       "    <tr>\n",
       "      <th>2018-11-09T12:06:15Z</th>\n",
       "      <td>buy</td>\n",
       "      <td>93.270000</td>\n",
       "      <td>EUR</td>\n",
       "      <td>93.27</td>\n",
       "      <td>EUR</td>\n",
       "      <td>NaN</td>\n",
       "      <td>NaN</td>\n",
       "      <td>NaN</td>\n",
       "      <td>1.000000</td>\n",
       "      <td>None</td>\n",
       "    </tr>\n",
       "    <tr>\n",
       "      <th>2019-01-25T14:28:56Z</th>\n",
       "      <td>sell</td>\n",
       "      <td>35.960000</td>\n",
       "      <td>EUR</td>\n",
       "      <td>35.96</td>\n",
       "      <td>EUR</td>\n",
       "      <td>NaN</td>\n",
       "      <td>NaN</td>\n",
       "      <td>NaN</td>\n",
       "      <td>1.000000</td>\n",
       "      <td>None</td>\n",
       "    </tr>\n",
       "    <tr>\n",
       "      <th>2019-01-25T14:28:56Z</th>\n",
       "      <td>sell</td>\n",
       "      <td>348.021666</td>\n",
       "      <td>BAT</td>\n",
       "      <td>35.96</td>\n",
       "      <td>EUR</td>\n",
       "      <td>35.96</td>\n",
       "      <td>37.95</td>\n",
       "      <td>1.99</td>\n",
       "      <td>0.109045</td>\n",
       "      <td>None</td>\n",
       "    </tr>\n",
       "    <tr>\n",
       "      <th>2021-04-20T18:57:40Z</th>\n",
       "      <td>buy</td>\n",
       "      <td>0.258429</td>\n",
       "      <td>ETH</td>\n",
       "      <td>500.00</td>\n",
       "      <td>EUR</td>\n",
       "      <td>500.00</td>\n",
       "      <td>492.66</td>\n",
       "      <td>7.34</td>\n",
       "      <td>1906.364408</td>\n",
       "      <td>None</td>\n",
       "    </tr>\n",
       "    <tr>\n",
       "      <th>2021-04-20T18:57:41Z</th>\n",
       "      <td>buy</td>\n",
       "      <td>500.000000</td>\n",
       "      <td>EUR</td>\n",
       "      <td>500.00</td>\n",
       "      <td>EUR</td>\n",
       "      <td>NaN</td>\n",
       "      <td>NaN</td>\n",
       "      <td>NaN</td>\n",
       "      <td>1.000000</td>\n",
       "      <td>None</td>\n",
       "    </tr>\n",
       "  </tbody>\n",
       "</table>\n",
       "</div>"
      ],
      "text/plain": [
       "                      type      amount symbol  native_amount nat_symbol  \\\n",
       "datetime                                                                  \n",
       "2018-10-22T06:29:22Z   buy    0.017237    BTC         100.00        EUR   \n",
       "2018-10-22T06:29:22Z   buy  100.000000    EUR         100.00        EUR   \n",
       "2018-11-09T12:05:12Z  sell    0.017237    BTC          93.27        EUR   \n",
       "2018-11-09T12:05:13Z  sell   93.270000    EUR          93.27        EUR   \n",
       "2018-11-09T12:06:14Z   buy  348.021666    BAT          93.27        EUR   \n",
       "2018-11-09T12:06:15Z   buy   93.270000    EUR          93.27        EUR   \n",
       "2019-01-25T14:28:56Z  sell   35.960000    EUR          35.96        EUR   \n",
       "2019-01-25T14:28:56Z  sell  348.021666    BAT          35.96        EUR   \n",
       "2021-04-20T18:57:40Z   buy    0.258429    ETH         500.00        EUR   \n",
       "2021-04-20T18:57:41Z   buy  500.000000    EUR         500.00        EUR   \n",
       "\n",
       "                       total  subtotal  total_fee   spot_price trade_id  \n",
       "datetime                                                                 \n",
       "2018-10-22T06:29:22Z  100.00     97.01       2.99  5627.999719     None  \n",
       "2018-10-22T06:29:22Z     NaN       NaN        NaN     1.000000     None  \n",
       "2018-11-09T12:05:12Z   93.27     96.26       2.99  5584.488743     None  \n",
       "2018-11-09T12:05:13Z     NaN       NaN        NaN     1.000000     None  \n",
       "2018-11-09T12:06:14Z   93.27     90.28       2.99     0.259409     None  \n",
       "2018-11-09T12:06:15Z     NaN       NaN        NaN     1.000000     None  \n",
       "2019-01-25T14:28:56Z     NaN       NaN        NaN     1.000000     None  \n",
       "2019-01-25T14:28:56Z   35.96     37.95       1.99     0.109045     None  \n",
       "2021-04-20T18:57:40Z  500.00    492.66       7.34  1906.364408     None  \n",
       "2021-04-20T18:57:41Z     NaN       NaN        NaN     1.000000     None  "
      ]
     },
     "execution_count": 3,
     "metadata": {},
     "output_type": "execute_result"
    }
   ],
   "source": [
    "p.std_df.head(10)"
   ]
  },
  {
   "cell_type": "code",
   "execution_count": 4,
   "metadata": {},
   "outputs": [
    {
     "data": {
      "text/plain": [
       "234.18000000000026"
      ]
     },
     "execution_count": 4,
     "metadata": {},
     "output_type": "execute_result"
    }
   ],
   "source": [
    "p.std_df.total_fee.sum()"
   ]
  },
  {
   "cell_type": "markdown",
   "metadata": {},
   "source": [
    "## Portfolio live value tracker"
   ]
  },
  {
   "cell_type": "code",
   "execution_count": 5,
   "metadata": {},
   "outputs": [],
   "source": [
    "t=Tracker(p.std_df,stocks_start=\"1-1-2021\",configuration=c)"
   ]
  },
  {
   "cell_type": "code",
   "execution_count": 6,
   "metadata": {},
   "outputs": [
    {
     "data": {
      "text/plain": [
       "Timestamp('2021-01-01 00:00:00+0000', tz='UTC')"
      ]
     },
     "execution_count": 6,
     "metadata": {},
     "output_type": "execute_result"
    }
   ],
   "source": [
    "t.stocks_start"
   ]
  },
  {
   "cell_type": "code",
   "execution_count": 7,
   "metadata": {},
   "outputs": [
    {
     "data": {
      "text/html": [
       "<div>\n",
       "<style scoped>\n",
       "    .dataframe tbody tr th:only-of-type {\n",
       "        vertical-align: middle;\n",
       "    }\n",
       "\n",
       "    .dataframe tbody tr th {\n",
       "        vertical-align: top;\n",
       "    }\n",
       "\n",
       "    .dataframe thead th {\n",
       "        text-align: right;\n",
       "    }\n",
       "</style>\n",
       "<table border=\"1\" class=\"dataframe\">\n",
       "  <thead>\n",
       "    <tr style=\"text-align: right;\">\n",
       "      <th></th>\n",
       "      <th>Open date</th>\n",
       "      <th>Type</th>\n",
       "      <th>Qty</th>\n",
       "      <th>Symbol</th>\n",
       "      <th>Adj cost</th>\n",
       "      <th>Adj cost per share</th>\n",
       "    </tr>\n",
       "  </thead>\n",
       "  <tbody>\n",
       "    <tr>\n",
       "      <th>0</th>\n",
       "      <td>2021-04-20 18:57:40+00:00</td>\n",
       "      <td>buy</td>\n",
       "      <td>0.258429</td>\n",
       "      <td>ETH</td>\n",
       "      <td>500.00</td>\n",
       "      <td>1906.364408</td>\n",
       "    </tr>\n",
       "    <tr>\n",
       "      <th>1</th>\n",
       "      <td>2021-04-22 10:13:53+00:00</td>\n",
       "      <td>buy</td>\n",
       "      <td>0.062128</td>\n",
       "      <td>MKR</td>\n",
       "      <td>250.00</td>\n",
       "      <td>3964.873854</td>\n",
       "    </tr>\n",
       "    <tr>\n",
       "      <th>2</th>\n",
       "      <td>2021-04-22 19:20:15+00:00</td>\n",
       "      <td>sell</td>\n",
       "      <td>0.062128</td>\n",
       "      <td>MKR</td>\n",
       "      <td>213.69</td>\n",
       "      <td>3491.496921</td>\n",
       "    </tr>\n",
       "    <tr>\n",
       "      <th>3</th>\n",
       "      <td>2021-04-24 08:53:47+00:00</td>\n",
       "      <td>buy</td>\n",
       "      <td>210.343863</td>\n",
       "      <td>ADA</td>\n",
       "      <td>213.69</td>\n",
       "      <td>1.000980</td>\n",
       "    </tr>\n",
       "    <tr>\n",
       "      <th>4</th>\n",
       "      <td>2021-04-25 16:15:33+00:00</td>\n",
       "      <td>buy</td>\n",
       "      <td>0.350116</td>\n",
       "      <td>CGLD</td>\n",
       "      <td>1.65</td>\n",
       "      <td>4.712730</td>\n",
       "    </tr>\n",
       "    <tr>\n",
       "      <th>...</th>\n",
       "      <td>...</td>\n",
       "      <td>...</td>\n",
       "      <td>...</td>\n",
       "      <td>...</td>\n",
       "      <td>...</td>\n",
       "      <td>...</td>\n",
       "    </tr>\n",
       "    <tr>\n",
       "      <th>163</th>\n",
       "      <td>2022-01-02 23:24:25+00:00</td>\n",
       "      <td>sell</td>\n",
       "      <td>1.026156</td>\n",
       "      <td>SOL</td>\n",
       "      <td>159.04</td>\n",
       "      <td>154.986191</td>\n",
       "    </tr>\n",
       "    <tr>\n",
       "      <th>164</th>\n",
       "      <td>2022-01-04 10:33:27+00:00</td>\n",
       "      <td>buy</td>\n",
       "      <td>0.067396</td>\n",
       "      <td>ETH</td>\n",
       "      <td>225.88</td>\n",
       "      <td>3351.534216</td>\n",
       "    </tr>\n",
       "    <tr>\n",
       "      <th>165</th>\n",
       "      <td>2022-01-04 10:44:49+00:00</td>\n",
       "      <td>buy</td>\n",
       "      <td>1.511428</td>\n",
       "      <td>SOL</td>\n",
       "      <td>225.73</td>\n",
       "      <td>149.348800</td>\n",
       "    </tr>\n",
       "    <tr>\n",
       "      <th>166</th>\n",
       "      <td>2022-01-04 10:44:51+00:00</td>\n",
       "      <td>sell</td>\n",
       "      <td>0.068600</td>\n",
       "      <td>ETH</td>\n",
       "      <td>230.19</td>\n",
       "      <td>3355.559414</td>\n",
       "    </tr>\n",
       "    <tr>\n",
       "      <th>167</th>\n",
       "      <td>2022-01-04 10:46:31+00:00</td>\n",
       "      <td>sell</td>\n",
       "      <td>1.511428</td>\n",
       "      <td>SOL</td>\n",
       "      <td>226.08</td>\n",
       "      <td>149.580369</td>\n",
       "    </tr>\n",
       "  </tbody>\n",
       "</table>\n",
       "<p>168 rows × 6 columns</p>\n",
       "</div>"
      ],
      "text/plain": [
       "                    Open date  Type         Qty Symbol  Adj cost  \\\n",
       "0   2021-04-20 18:57:40+00:00   buy    0.258429    ETH    500.00   \n",
       "1   2021-04-22 10:13:53+00:00   buy    0.062128    MKR    250.00   \n",
       "2   2021-04-22 19:20:15+00:00  sell    0.062128    MKR    213.69   \n",
       "3   2021-04-24 08:53:47+00:00   buy  210.343863    ADA    213.69   \n",
       "4   2021-04-25 16:15:33+00:00   buy    0.350116   CGLD      1.65   \n",
       "..                        ...   ...         ...    ...       ...   \n",
       "163 2022-01-02 23:24:25+00:00  sell    1.026156    SOL    159.04   \n",
       "164 2022-01-04 10:33:27+00:00   buy    0.067396    ETH    225.88   \n",
       "165 2022-01-04 10:44:49+00:00   buy    1.511428    SOL    225.73   \n",
       "166 2022-01-04 10:44:51+00:00  sell    0.068600    ETH    230.19   \n",
       "167 2022-01-04 10:46:31+00:00  sell    1.511428    SOL    226.08   \n",
       "\n",
       "     Adj cost per share  \n",
       "0           1906.364408  \n",
       "1           3964.873854  \n",
       "2           3491.496921  \n",
       "3              1.000980  \n",
       "4              4.712730  \n",
       "..                  ...  \n",
       "163          154.986191  \n",
       "164         3351.534216  \n",
       "165          149.348800  \n",
       "166         3355.559414  \n",
       "167          149.580369  \n",
       "\n",
       "[168 rows x 6 columns]"
      ]
     },
     "execution_count": 7,
     "metadata": {},
     "output_type": "execute_result"
    }
   ],
   "source": [
    "t.portfolio_df"
   ]
  },
  {
   "cell_type": "code",
   "execution_count": 8,
   "metadata": {},
   "outputs": [
    {
     "name": "stdout",
     "output_type": "stream",
     "text": [
      "27\n"
     ]
    }
   ],
   "source": [
    "print(len(t.portfolio_df.Symbol.unique()))"
   ]
  },
  {
   "cell_type": "code",
   "execution_count": 9,
   "metadata": {},
   "outputs": [
    {
     "data": {
      "text/html": [
       "<div>\n",
       "<style scoped>\n",
       "    .dataframe tbody tr th:only-of-type {\n",
       "        vertical-align: middle;\n",
       "    }\n",
       "\n",
       "    .dataframe tbody tr th {\n",
       "        vertical-align: top;\n",
       "    }\n",
       "\n",
       "    .dataframe thead th {\n",
       "        text-align: right;\n",
       "    }\n",
       "</style>\n",
       "<table border=\"1\" class=\"dataframe\">\n",
       "  <thead>\n",
       "    <tr style=\"text-align: right;\">\n",
       "      <th></th>\n",
       "      <th>Date</th>\n",
       "      <th>Close</th>\n",
       "      <th>symbol</th>\n",
       "    </tr>\n",
       "  </thead>\n",
       "  <tbody>\n",
       "    <tr>\n",
       "      <th>0</th>\n",
       "      <td>2021-01-01 00:00:00+00:00</td>\n",
       "      <td>600.859522</td>\n",
       "      <td>ETH</td>\n",
       "    </tr>\n",
       "    <tr>\n",
       "      <th>1</th>\n",
       "      <td>2021-01-02 00:00:00+00:00</td>\n",
       "      <td>638.265609</td>\n",
       "      <td>ETH</td>\n",
       "    </tr>\n",
       "    <tr>\n",
       "      <th>2</th>\n",
       "      <td>2021-01-03 00:00:00+00:00</td>\n",
       "      <td>796.329350</td>\n",
       "      <td>ETH</td>\n",
       "    </tr>\n",
       "    <tr>\n",
       "      <th>3</th>\n",
       "      <td>2021-01-04 00:00:00+00:00</td>\n",
       "      <td>848.990363</td>\n",
       "      <td>ETH</td>\n",
       "    </tr>\n",
       "    <tr>\n",
       "      <th>4</th>\n",
       "      <td>2021-01-05 00:00:00+00:00</td>\n",
       "      <td>894.422659</td>\n",
       "      <td>ETH</td>\n",
       "    </tr>\n",
       "    <tr>\n",
       "      <th>...</th>\n",
       "      <td>...</td>\n",
       "      <td>...</td>\n",
       "      <td>...</td>\n",
       "    </tr>\n",
       "    <tr>\n",
       "      <th>3029</th>\n",
       "      <td>2022-03-07 00:00:00+00:00</td>\n",
       "      <td>75.582331</td>\n",
       "      <td>SOL</td>\n",
       "    </tr>\n",
       "    <tr>\n",
       "      <th>3030</th>\n",
       "      <td>2022-03-08 00:00:00+00:00</td>\n",
       "      <td>75.478203</td>\n",
       "      <td>SOL</td>\n",
       "    </tr>\n",
       "    <tr>\n",
       "      <th>3031</th>\n",
       "      <td>2022-03-09 00:00:00+00:00</td>\n",
       "      <td>79.651404</td>\n",
       "      <td>SOL</td>\n",
       "    </tr>\n",
       "    <tr>\n",
       "      <th>3032</th>\n",
       "      <td>2022-03-10 00:00:00+00:00</td>\n",
       "      <td>75.308279</td>\n",
       "      <td>SOL</td>\n",
       "    </tr>\n",
       "    <tr>\n",
       "      <th>3033</th>\n",
       "      <td>2022-03-11 00:00:00+00:00</td>\n",
       "      <td>73.982926</td>\n",
       "      <td>SOL</td>\n",
       "    </tr>\n",
       "  </tbody>\n",
       "</table>\n",
       "<p>3034 rows × 3 columns</p>\n",
       "</div>"
      ],
      "text/plain": [
       "                          Date       Close symbol\n",
       "0    2021-01-01 00:00:00+00:00  600.859522    ETH\n",
       "1    2021-01-02 00:00:00+00:00  638.265609    ETH\n",
       "2    2021-01-03 00:00:00+00:00  796.329350    ETH\n",
       "3    2021-01-04 00:00:00+00:00  848.990363    ETH\n",
       "4    2021-01-05 00:00:00+00:00  894.422659    ETH\n",
       "...                        ...         ...    ...\n",
       "3029 2022-03-07 00:00:00+00:00   75.582331    SOL\n",
       "3030 2022-03-08 00:00:00+00:00   75.478203    SOL\n",
       "3031 2022-03-09 00:00:00+00:00   79.651404    SOL\n",
       "3032 2022-03-10 00:00:00+00:00   75.308279    SOL\n",
       "3033 2022-03-11 00:00:00+00:00   73.982926    SOL\n",
       "\n",
       "[3034 rows x 3 columns]"
      ]
     },
     "execution_count": 9,
     "metadata": {},
     "output_type": "execute_result"
    }
   ],
   "source": [
    "closedata=t.load_data()\n",
    "closedata"
   ]
  },
  {
   "cell_type": "code",
   "execution_count": 10,
   "metadata": {},
   "outputs": [
    {
     "data": {
      "text/plain": [
       "[]"
      ]
     },
     "execution_count": 10,
     "metadata": {},
     "output_type": "execute_result"
    }
   ],
   "source": [
    "t.error_log"
   ]
  },
  {
   "cell_type": "code",
   "execution_count": 11,
   "metadata": {},
   "outputs": [
    {
     "name": "stdout",
     "output_type": "stream",
     "text": [
      "27\n"
     ]
    }
   ],
   "source": [
    "print(len(closedata.symbol.unique()))"
   ]
  },
  {
   "cell_type": "code",
   "execution_count": 12,
   "metadata": {},
   "outputs": [
    {
     "data": {
      "text/html": [
       "<div>\n",
       "<style scoped>\n",
       "    .dataframe tbody tr th:only-of-type {\n",
       "        vertical-align: middle;\n",
       "    }\n",
       "\n",
       "    .dataframe tbody tr th {\n",
       "        vertical-align: top;\n",
       "    }\n",
       "\n",
       "    .dataframe thead th {\n",
       "        text-align: right;\n",
       "    }\n",
       "</style>\n",
       "<table border=\"1\" class=\"dataframe\">\n",
       "  <thead>\n",
       "    <tr style=\"text-align: right;\">\n",
       "      <th></th>\n",
       "      <th>Date</th>\n",
       "      <th>Close</th>\n",
       "    </tr>\n",
       "  </thead>\n",
       "  <tbody>\n",
       "    <tr>\n",
       "      <th>0</th>\n",
       "      <td>2021-01-01 00:00:00+00:00</td>\n",
       "      <td>600.859522</td>\n",
       "    </tr>\n",
       "    <tr>\n",
       "      <th>1</th>\n",
       "      <td>2021-01-02 00:00:00+00:00</td>\n",
       "      <td>638.265609</td>\n",
       "    </tr>\n",
       "    <tr>\n",
       "      <th>2</th>\n",
       "      <td>2021-01-03 00:00:00+00:00</td>\n",
       "      <td>796.329350</td>\n",
       "    </tr>\n",
       "    <tr>\n",
       "      <th>3</th>\n",
       "      <td>2021-01-04 00:00:00+00:00</td>\n",
       "      <td>848.990363</td>\n",
       "    </tr>\n",
       "    <tr>\n",
       "      <th>4</th>\n",
       "      <td>2021-01-05 00:00:00+00:00</td>\n",
       "      <td>894.422659</td>\n",
       "    </tr>\n",
       "    <tr>\n",
       "      <th>...</th>\n",
       "      <td>...</td>\n",
       "      <td>...</td>\n",
       "    </tr>\n",
       "    <tr>\n",
       "      <th>430</th>\n",
       "      <td>2022-03-07 00:00:00+00:00</td>\n",
       "      <td>2298.639000</td>\n",
       "    </tr>\n",
       "    <tr>\n",
       "      <th>431</th>\n",
       "      <td>2022-03-08 00:00:00+00:00</td>\n",
       "      <td>2364.462260</td>\n",
       "    </tr>\n",
       "    <tr>\n",
       "      <th>432</th>\n",
       "      <td>2022-03-09 00:00:00+00:00</td>\n",
       "      <td>2465.147372</td>\n",
       "    </tr>\n",
       "    <tr>\n",
       "      <th>433</th>\n",
       "      <td>2022-03-10 00:00:00+00:00</td>\n",
       "      <td>2368.094996</td>\n",
       "    </tr>\n",
       "    <tr>\n",
       "      <th>434</th>\n",
       "      <td>2022-03-11 00:00:00+00:00</td>\n",
       "      <td>2345.209878</td>\n",
       "    </tr>\n",
       "  </tbody>\n",
       "</table>\n",
       "<p>435 rows × 2 columns</p>\n",
       "</div>"
      ],
      "text/plain": [
       "                         Date        Close\n",
       "0   2021-01-01 00:00:00+00:00   600.859522\n",
       "1   2021-01-02 00:00:00+00:00   638.265609\n",
       "2   2021-01-03 00:00:00+00:00   796.329350\n",
       "3   2021-01-04 00:00:00+00:00   848.990363\n",
       "4   2021-01-05 00:00:00+00:00   894.422659\n",
       "..                        ...          ...\n",
       "430 2022-03-07 00:00:00+00:00  2298.639000\n",
       "431 2022-03-08 00:00:00+00:00  2364.462260\n",
       "432 2022-03-09 00:00:00+00:00  2465.147372\n",
       "433 2022-03-10 00:00:00+00:00  2368.094996\n",
       "434 2022-03-11 00:00:00+00:00  2345.209878\n",
       "\n",
       "[435 rows x 2 columns]"
      ]
     },
     "execution_count": 12,
     "metadata": {},
     "output_type": "execute_result"
    }
   ],
   "source": [
    "benchmark=t.set_benchmark(\"ETH\")\n",
    "benchmark"
   ]
  },
  {
   "cell_type": "code",
   "execution_count": 13,
   "metadata": {},
   "outputs": [
    {
     "data": {
      "text/html": [
       "<div>\n",
       "<style scoped>\n",
       "    .dataframe tbody tr th:only-of-type {\n",
       "        vertical-align: middle;\n",
       "    }\n",
       "\n",
       "    .dataframe tbody tr th {\n",
       "        vertical-align: top;\n",
       "    }\n",
       "\n",
       "    .dataframe thead th {\n",
       "        text-align: right;\n",
       "    }\n",
       "</style>\n",
       "<table border=\"1\" class=\"dataframe\">\n",
       "  <thead>\n",
       "    <tr style=\"text-align: right;\">\n",
       "      <th></th>\n",
       "      <th>Open date</th>\n",
       "      <th>Type</th>\n",
       "      <th>Qty</th>\n",
       "      <th>Symbol</th>\n",
       "      <th>Adj cost</th>\n",
       "      <th>Adj cost per share</th>\n",
       "    </tr>\n",
       "  </thead>\n",
       "  <tbody>\n",
       "    <tr>\n",
       "      <th>0</th>\n",
       "      <td>2021-04-20 18:57:40+00:00</td>\n",
       "      <td>buy</td>\n",
       "      <td>0.258429</td>\n",
       "      <td>ETH</td>\n",
       "      <td>500.00</td>\n",
       "      <td>1906.364408</td>\n",
       "    </tr>\n",
       "    <tr>\n",
       "      <th>1</th>\n",
       "      <td>2021-04-22 10:13:53+00:00</td>\n",
       "      <td>buy</td>\n",
       "      <td>0.062128</td>\n",
       "      <td>MKR</td>\n",
       "      <td>250.00</td>\n",
       "      <td>3964.873854</td>\n",
       "    </tr>\n",
       "    <tr>\n",
       "      <th>2</th>\n",
       "      <td>2021-04-22 19:20:15+00:00</td>\n",
       "      <td>sell</td>\n",
       "      <td>0.062128</td>\n",
       "      <td>MKR</td>\n",
       "      <td>213.69</td>\n",
       "      <td>3491.496921</td>\n",
       "    </tr>\n",
       "    <tr>\n",
       "      <th>3</th>\n",
       "      <td>2021-04-24 08:53:47+00:00</td>\n",
       "      <td>buy</td>\n",
       "      <td>210.343863</td>\n",
       "      <td>ADA</td>\n",
       "      <td>213.69</td>\n",
       "      <td>1.000980</td>\n",
       "    </tr>\n",
       "    <tr>\n",
       "      <th>4</th>\n",
       "      <td>2021-04-25 16:15:33+00:00</td>\n",
       "      <td>buy</td>\n",
       "      <td>0.350116</td>\n",
       "      <td>CGLD</td>\n",
       "      <td>1.65</td>\n",
       "      <td>4.712730</td>\n",
       "    </tr>\n",
       "    <tr>\n",
       "      <th>...</th>\n",
       "      <td>...</td>\n",
       "      <td>...</td>\n",
       "      <td>...</td>\n",
       "      <td>...</td>\n",
       "      <td>...</td>\n",
       "      <td>...</td>\n",
       "    </tr>\n",
       "    <tr>\n",
       "      <th>163</th>\n",
       "      <td>2022-01-02 23:24:25+00:00</td>\n",
       "      <td>sell</td>\n",
       "      <td>1.026156</td>\n",
       "      <td>SOL</td>\n",
       "      <td>159.04</td>\n",
       "      <td>154.986191</td>\n",
       "    </tr>\n",
       "    <tr>\n",
       "      <th>164</th>\n",
       "      <td>2022-01-04 10:33:27+00:00</td>\n",
       "      <td>buy</td>\n",
       "      <td>0.067396</td>\n",
       "      <td>ETH</td>\n",
       "      <td>225.88</td>\n",
       "      <td>3351.534216</td>\n",
       "    </tr>\n",
       "    <tr>\n",
       "      <th>165</th>\n",
       "      <td>2022-01-04 10:44:49+00:00</td>\n",
       "      <td>buy</td>\n",
       "      <td>1.511428</td>\n",
       "      <td>SOL</td>\n",
       "      <td>225.73</td>\n",
       "      <td>149.348800</td>\n",
       "    </tr>\n",
       "    <tr>\n",
       "      <th>166</th>\n",
       "      <td>2022-01-04 10:44:51+00:00</td>\n",
       "      <td>sell</td>\n",
       "      <td>0.068600</td>\n",
       "      <td>ETH</td>\n",
       "      <td>230.19</td>\n",
       "      <td>3355.559414</td>\n",
       "    </tr>\n",
       "    <tr>\n",
       "      <th>167</th>\n",
       "      <td>2022-01-04 10:46:31+00:00</td>\n",
       "      <td>sell</td>\n",
       "      <td>1.511428</td>\n",
       "      <td>SOL</td>\n",
       "      <td>226.08</td>\n",
       "      <td>149.580369</td>\n",
       "    </tr>\n",
       "  </tbody>\n",
       "</table>\n",
       "<p>168 rows × 6 columns</p>\n",
       "</div>"
      ],
      "text/plain": [
       "                    Open date  Type         Qty Symbol  Adj cost  \\\n",
       "0   2021-04-20 18:57:40+00:00   buy    0.258429    ETH    500.00   \n",
       "1   2021-04-22 10:13:53+00:00   buy    0.062128    MKR    250.00   \n",
       "2   2021-04-22 19:20:15+00:00  sell    0.062128    MKR    213.69   \n",
       "3   2021-04-24 08:53:47+00:00   buy  210.343863    ADA    213.69   \n",
       "4   2021-04-25 16:15:33+00:00   buy    0.350116   CGLD      1.65   \n",
       "..                        ...   ...         ...    ...       ...   \n",
       "163 2022-01-02 23:24:25+00:00  sell    1.026156    SOL    159.04   \n",
       "164 2022-01-04 10:33:27+00:00   buy    0.067396    ETH    225.88   \n",
       "165 2022-01-04 10:44:49+00:00   buy    1.511428    SOL    225.73   \n",
       "166 2022-01-04 10:44:51+00:00  sell    0.068600    ETH    230.19   \n",
       "167 2022-01-04 10:46:31+00:00  sell    1.511428    SOL    226.08   \n",
       "\n",
       "     Adj cost per share  \n",
       "0           1906.364408  \n",
       "1           3964.873854  \n",
       "2           3491.496921  \n",
       "3              1.000980  \n",
       "4              4.712730  \n",
       "..                  ...  \n",
       "163          154.986191  \n",
       "164         3351.534216  \n",
       "165          149.348800  \n",
       "166         3355.559414  \n",
       "167          149.580369  \n",
       "\n",
       "[168 rows x 6 columns]"
      ]
     },
     "execution_count": 13,
     "metadata": {},
     "output_type": "execute_result"
    }
   ],
   "source": [
    "active_portfolio=t.portfolio_start_balance()\n",
    "active_portfolio"
   ]
  },
  {
   "cell_type": "code",
   "execution_count": 14,
   "metadata": {},
   "outputs": [
    {
     "data": {
      "text/plain": [
       "array(['buy', 'sell'], dtype=object)"
      ]
     },
     "execution_count": 14,
     "metadata": {},
     "output_type": "execute_result"
    }
   ],
   "source": [
    "active_portfolio.Type.unique()"
   ]
  },
  {
   "cell_type": "code",
   "execution_count": 15,
   "metadata": {},
   "outputs": [
    {
     "name": "stdout",
     "output_type": "stream",
     "text": [
      "27\n"
     ]
    }
   ],
   "source": [
    "print(len(active_portfolio.Symbol.unique()))"
   ]
  },
  {
   "cell_type": "code",
   "execution_count": 37,
   "metadata": {},
   "outputs": [],
   "source": [
    "positions_per_day=t.time_fill()"
   ]
  },
  {
   "cell_type": "code",
   "execution_count": 38,
   "metadata": {},
   "outputs": [],
   "source": [
    "pd.set_option('display.max_columns', 500)\n"
   ]
  },
  {
   "cell_type": "code",
   "execution_count": 41,
   "metadata": {},
   "outputs": [
    {
     "data": {
      "text/html": [
       "<div>\n",
       "<style scoped>\n",
       "    .dataframe tbody tr th:only-of-type {\n",
       "        vertical-align: middle;\n",
       "    }\n",
       "\n",
       "    .dataframe tbody tr th {\n",
       "        vertical-align: top;\n",
       "    }\n",
       "\n",
       "    .dataframe thead th {\n",
       "        text-align: right;\n",
       "    }\n",
       "</style>\n",
       "<table border=\"1\" class=\"dataframe\">\n",
       "  <thead>\n",
       "    <tr style=\"text-align: right;\">\n",
       "      <th></th>\n",
       "      <th>Open date</th>\n",
       "      <th>Type</th>\n",
       "      <th>Qty</th>\n",
       "      <th>Symbol</th>\n",
       "      <th>Adj cost</th>\n",
       "      <th>Adj cost per share</th>\n",
       "      <th>Date Snapshot</th>\n",
       "    </tr>\n",
       "  </thead>\n",
       "  <tbody>\n",
       "    <tr>\n",
       "      <th>0</th>\n",
       "      <td>2021-04-20 18:57:40+00:00</td>\n",
       "      <td>buy</td>\n",
       "      <td>0.258429</td>\n",
       "      <td>ETH</td>\n",
       "      <td>500.0</td>\n",
       "      <td>1906.364408</td>\n",
       "      <td>2022-03-10 00:00:00+00:00</td>\n",
       "    </tr>\n",
       "  </tbody>\n",
       "</table>\n",
       "</div>"
      ],
      "text/plain": [
       "                  Open date Type       Qty Symbol  Adj cost  \\\n",
       "0 2021-04-20 18:57:40+00:00  buy  0.258429    ETH     500.0   \n",
       "\n",
       "   Adj cost per share             Date Snapshot  \n",
       "0         1906.364408 2022-03-10 00:00:00+00:00  "
      ]
     },
     "execution_count": 41,
     "metadata": {},
     "output_type": "execute_result"
    }
   ],
   "source": [
    "positions_per_day[]"
   ]
  },
  {
   "cell_type": "code",
   "execution_count": 19,
   "metadata": {},
   "outputs": [
    {
     "name": "stderr",
     "output_type": "stream",
     "text": [
      "/opt/miniconda3/envs/cryptoenv/lib/python3.7/site-packages/pandas/core/generic.py:5516: SettingWithCopyWarning:\n",
      "\n",
      "\n",
      "A value is trying to be set on a copy of a slice from a DataFrame.\n",
      "Try using .loc[row_indexer,col_indexer] = value instead\n",
      "\n",
      "See the caveats in the documentation: https://pandas.pydata.org/pandas-docs/stable/user_guide/indexing.html#returning-a-view-versus-a-copy\n",
      "\n"
     ]
    },
    {
     "data": {
      "text/html": [
       "<div>\n",
       "<style scoped>\n",
       "    .dataframe tbody tr th:only-of-type {\n",
       "        vertical-align: middle;\n",
       "    }\n",
       "\n",
       "    .dataframe tbody tr th {\n",
       "        vertical-align: top;\n",
       "    }\n",
       "\n",
       "    .dataframe thead th {\n",
       "        text-align: right;\n",
       "    }\n",
       "</style>\n",
       "<table border=\"1\" class=\"dataframe\">\n",
       "  <thead>\n",
       "    <tr style=\"text-align: right;\">\n",
       "      <th></th>\n",
       "      <th>Adj cost</th>\n",
       "      <th>Adj cost per share</th>\n",
       "      <th>Date Snapshot</th>\n",
       "      <th>Open date</th>\n",
       "      <th>Qty</th>\n",
       "      <th>Symbol</th>\n",
       "      <th>Type</th>\n",
       "      <th>Symbol Adj Close</th>\n",
       "      <th>Adj cost daily</th>\n",
       "      <th>Benchmark Close</th>\n",
       "      <th>Benchmark End Date Close</th>\n",
       "      <th>Benchmark Start Date Close</th>\n",
       "      <th>symbol End Date Close</th>\n",
       "      <th>symbol Start Date Close</th>\n",
       "      <th>Equiv Benchmark Shares</th>\n",
       "      <th>Benchmark Start Date Cost</th>\n",
       "      <th>Benchmark Return</th>\n",
       "      <th>symbol Return</th>\n",
       "      <th>symbol Share Value</th>\n",
       "      <th>Benchmark Share Value</th>\n",
       "      <th>Stock Gain / (Loss)</th>\n",
       "      <th>Benchmark Gain / (Loss)</th>\n",
       "      <th>Abs Value Compare</th>\n",
       "      <th>Abs Value Return</th>\n",
       "      <th>Abs. Return Compare</th>\n",
       "    </tr>\n",
       "  </thead>\n",
       "  <tbody>\n",
       "    <tr>\n",
       "      <th>0</th>\n",
       "      <td>492.66</td>\n",
       "      <td>1906.364408</td>\n",
       "      <td>2021-04-21 00:00:00+00:00</td>\n",
       "      <td>2021-04-20 18:57:40+00:00</td>\n",
       "      <td>0.258429</td>\n",
       "      <td>ETH</td>\n",
       "      <td>buy</td>\n",
       "      <td>1964.593249</td>\n",
       "      <td>507.708026</td>\n",
       "      <td>1964.593249</td>\n",
       "      <td>2345.209878</td>\n",
       "      <td>600.859522</td>\n",
       "      <td>2345.209878</td>\n",
       "      <td>600.859522</td>\n",
       "      <td>0.819925</td>\n",
       "      <td>492.66</td>\n",
       "      <td>2.269638</td>\n",
       "      <td>0.030544</td>\n",
       "      <td>507.708026</td>\n",
       "      <td>1610.819957</td>\n",
       "      <td>15.048026</td>\n",
       "      <td>1118.159957</td>\n",
       "      <td>15.048026</td>\n",
       "      <td>0.030544</td>\n",
       "      <td>-2.239094</td>\n",
       "    </tr>\n",
       "    <tr>\n",
       "      <th>1</th>\n",
       "      <td>492.66</td>\n",
       "      <td>1906.364408</td>\n",
       "      <td>2021-04-22 00:00:00+00:00</td>\n",
       "      <td>2021-04-20 18:57:40+00:00</td>\n",
       "      <td>0.258429</td>\n",
       "      <td>ETH</td>\n",
       "      <td>buy</td>\n",
       "      <td>2000.536891</td>\n",
       "      <td>516.996908</td>\n",
       "      <td>2000.536891</td>\n",
       "      <td>2345.209878</td>\n",
       "      <td>600.859522</td>\n",
       "      <td>2345.209878</td>\n",
       "      <td>600.859522</td>\n",
       "      <td>0.819925</td>\n",
       "      <td>492.66</td>\n",
       "      <td>2.329459</td>\n",
       "      <td>0.049399</td>\n",
       "      <td>516.996908</td>\n",
       "      <td>1640.291064</td>\n",
       "      <td>24.336908</td>\n",
       "      <td>1147.631064</td>\n",
       "      <td>24.336908</td>\n",
       "      <td>0.049399</td>\n",
       "      <td>-2.280060</td>\n",
       "    </tr>\n",
       "    <tr>\n",
       "      <th>2</th>\n",
       "      <td>492.66</td>\n",
       "      <td>1906.364408</td>\n",
       "      <td>2021-04-23 00:00:00+00:00</td>\n",
       "      <td>2021-04-20 18:57:40+00:00</td>\n",
       "      <td>0.258429</td>\n",
       "      <td>ETH</td>\n",
       "      <td>buy</td>\n",
       "      <td>1953.619811</td>\n",
       "      <td>504.872170</td>\n",
       "      <td>1953.619811</td>\n",
       "      <td>2345.209878</td>\n",
       "      <td>600.859522</td>\n",
       "      <td>2345.209878</td>\n",
       "      <td>600.859522</td>\n",
       "      <td>0.819925</td>\n",
       "      <td>492.66</td>\n",
       "      <td>2.251375</td>\n",
       "      <td>0.024788</td>\n",
       "      <td>504.872170</td>\n",
       "      <td>1601.822557</td>\n",
       "      <td>12.212170</td>\n",
       "      <td>1109.162557</td>\n",
       "      <td>12.212170</td>\n",
       "      <td>0.024788</td>\n",
       "      <td>-2.226587</td>\n",
       "    </tr>\n",
       "    <tr>\n",
       "      <th>3</th>\n",
       "      <td>492.66</td>\n",
       "      <td>1906.364408</td>\n",
       "      <td>2021-04-24 00:00:00+00:00</td>\n",
       "      <td>2021-04-20 18:57:40+00:00</td>\n",
       "      <td>0.258429</td>\n",
       "      <td>ETH</td>\n",
       "      <td>buy</td>\n",
       "      <td>1828.220570</td>\n",
       "      <td>472.465360</td>\n",
       "      <td>1828.220570</td>\n",
       "      <td>2345.209878</td>\n",
       "      <td>600.859522</td>\n",
       "      <td>2345.209878</td>\n",
       "      <td>600.859522</td>\n",
       "      <td>0.819925</td>\n",
       "      <td>492.66</td>\n",
       "      <td>2.042676</td>\n",
       "      <td>-0.040991</td>\n",
       "      <td>472.465360</td>\n",
       "      <td>1499.004530</td>\n",
       "      <td>-20.194640</td>\n",
       "      <td>1006.344530</td>\n",
       "      <td>-20.194640</td>\n",
       "      <td>-0.040991</td>\n",
       "      <td>-2.083667</td>\n",
       "    </tr>\n",
       "    <tr>\n",
       "      <th>4</th>\n",
       "      <td>492.66</td>\n",
       "      <td>1906.364408</td>\n",
       "      <td>2021-04-25 00:00:00+00:00</td>\n",
       "      <td>2021-04-20 18:57:40+00:00</td>\n",
       "      <td>0.258429</td>\n",
       "      <td>ETH</td>\n",
       "      <td>buy</td>\n",
       "      <td>1915.747276</td>\n",
       "      <td>495.084806</td>\n",
       "      <td>1915.747276</td>\n",
       "      <td>2345.209878</td>\n",
       "      <td>600.859522</td>\n",
       "      <td>2345.209878</td>\n",
       "      <td>600.859522</td>\n",
       "      <td>0.819925</td>\n",
       "      <td>492.66</td>\n",
       "      <td>2.188345</td>\n",
       "      <td>0.004922</td>\n",
       "      <td>495.084806</td>\n",
       "      <td>1570.769902</td>\n",
       "      <td>2.424806</td>\n",
       "      <td>1078.109902</td>\n",
       "      <td>2.424806</td>\n",
       "      <td>0.004922</td>\n",
       "      <td>-2.183423</td>\n",
       "    </tr>\n",
       "    <tr>\n",
       "      <th>...</th>\n",
       "      <td>...</td>\n",
       "      <td>...</td>\n",
       "      <td>...</td>\n",
       "      <td>...</td>\n",
       "      <td>...</td>\n",
       "      <td>...</td>\n",
       "      <td>...</td>\n",
       "      <td>...</td>\n",
       "      <td>...</td>\n",
       "      <td>...</td>\n",
       "      <td>...</td>\n",
       "      <td>...</td>\n",
       "      <td>...</td>\n",
       "      <td>...</td>\n",
       "      <td>...</td>\n",
       "      <td>...</td>\n",
       "      <td>...</td>\n",
       "      <td>...</td>\n",
       "      <td>...</td>\n",
       "      <td>...</td>\n",
       "      <td>...</td>\n",
       "      <td>...</td>\n",
       "      <td>...</td>\n",
       "      <td>...</td>\n",
       "      <td>...</td>\n",
       "    </tr>\n",
       "    <tr>\n",
       "      <th>8127</th>\n",
       "      <td>225.73</td>\n",
       "      <td>149.348800</td>\n",
       "      <td>2022-03-09 00:00:00+00:00</td>\n",
       "      <td>2022-01-04 10:44:49+00:00</td>\n",
       "      <td>1.511428</td>\n",
       "      <td>SOL</td>\n",
       "      <td>buy</td>\n",
       "      <td>79.651404</td>\n",
       "      <td>120.387384</td>\n",
       "      <td>2465.147372</td>\n",
       "      <td>2345.209878</td>\n",
       "      <td>600.859522</td>\n",
       "      <td>73.982926</td>\n",
       "      <td>1.515448</td>\n",
       "      <td>0.375678</td>\n",
       "      <td>225.73</td>\n",
       "      <td>3.102702</td>\n",
       "      <td>-0.466675</td>\n",
       "      <td>120.387384</td>\n",
       "      <td>926.102851</td>\n",
       "      <td>-105.342616</td>\n",
       "      <td>700.372851</td>\n",
       "      <td>-105.342616</td>\n",
       "      <td>-0.466675</td>\n",
       "      <td>-3.569377</td>\n",
       "    </tr>\n",
       "    <tr>\n",
       "      <th>8128</th>\n",
       "      <td>186.85</td>\n",
       "      <td>182.087335</td>\n",
       "      <td>2022-03-10 00:00:00+00:00</td>\n",
       "      <td>2021-11-29 10:47:17+00:00</td>\n",
       "      <td>1.026156</td>\n",
       "      <td>SOL</td>\n",
       "      <td>buy</td>\n",
       "      <td>75.308279</td>\n",
       "      <td>77.278038</td>\n",
       "      <td>2368.094996</td>\n",
       "      <td>2345.209878</td>\n",
       "      <td>600.859522</td>\n",
       "      <td>73.982926</td>\n",
       "      <td>1.515448</td>\n",
       "      <td>0.310971</td>\n",
       "      <td>186.85</td>\n",
       "      <td>2.941179</td>\n",
       "      <td>-0.586417</td>\n",
       "      <td>77.278038</td>\n",
       "      <td>736.409316</td>\n",
       "      <td>-109.571962</td>\n",
       "      <td>549.559316</td>\n",
       "      <td>-109.571962</td>\n",
       "      <td>-0.586417</td>\n",
       "      <td>-3.527596</td>\n",
       "    </tr>\n",
       "    <tr>\n",
       "      <th>8129</th>\n",
       "      <td>225.73</td>\n",
       "      <td>149.348800</td>\n",
       "      <td>2022-03-10 00:00:00+00:00</td>\n",
       "      <td>2022-01-04 10:44:49+00:00</td>\n",
       "      <td>1.511428</td>\n",
       "      <td>SOL</td>\n",
       "      <td>buy</td>\n",
       "      <td>75.308279</td>\n",
       "      <td>113.823063</td>\n",
       "      <td>2368.094996</td>\n",
       "      <td>2345.209878</td>\n",
       "      <td>600.859522</td>\n",
       "      <td>73.982926</td>\n",
       "      <td>1.515448</td>\n",
       "      <td>0.375678</td>\n",
       "      <td>225.73</td>\n",
       "      <td>2.941179</td>\n",
       "      <td>-0.495756</td>\n",
       "      <td>113.823063</td>\n",
       "      <td>889.642360</td>\n",
       "      <td>-111.906937</td>\n",
       "      <td>663.912360</td>\n",
       "      <td>-111.906937</td>\n",
       "      <td>-0.495756</td>\n",
       "      <td>-3.436935</td>\n",
       "    </tr>\n",
       "    <tr>\n",
       "      <th>8130</th>\n",
       "      <td>186.85</td>\n",
       "      <td>182.087335</td>\n",
       "      <td>2022-03-11 00:00:00+00:00</td>\n",
       "      <td>2021-11-29 10:47:17+00:00</td>\n",
       "      <td>1.026156</td>\n",
       "      <td>SOL</td>\n",
       "      <td>buy</td>\n",
       "      <td>73.982926</td>\n",
       "      <td>75.918019</td>\n",
       "      <td>2345.209878</td>\n",
       "      <td>2345.209878</td>\n",
       "      <td>600.859522</td>\n",
       "      <td>73.982926</td>\n",
       "      <td>1.515448</td>\n",
       "      <td>0.310971</td>\n",
       "      <td>186.85</td>\n",
       "      <td>2.903092</td>\n",
       "      <td>-0.593695</td>\n",
       "      <td>75.918019</td>\n",
       "      <td>729.292704</td>\n",
       "      <td>-110.931981</td>\n",
       "      <td>542.442704</td>\n",
       "      <td>-110.931981</td>\n",
       "      <td>-0.593695</td>\n",
       "      <td>-3.496787</td>\n",
       "    </tr>\n",
       "    <tr>\n",
       "      <th>8131</th>\n",
       "      <td>225.73</td>\n",
       "      <td>149.348800</td>\n",
       "      <td>2022-03-11 00:00:00+00:00</td>\n",
       "      <td>2022-01-04 10:44:49+00:00</td>\n",
       "      <td>1.511428</td>\n",
       "      <td>SOL</td>\n",
       "      <td>buy</td>\n",
       "      <td>73.982926</td>\n",
       "      <td>111.819887</td>\n",
       "      <td>2345.209878</td>\n",
       "      <td>2345.209878</td>\n",
       "      <td>600.859522</td>\n",
       "      <td>73.982926</td>\n",
       "      <td>1.515448</td>\n",
       "      <td>0.375678</td>\n",
       "      <td>225.73</td>\n",
       "      <td>2.903092</td>\n",
       "      <td>-0.504630</td>\n",
       "      <td>111.819887</td>\n",
       "      <td>881.044913</td>\n",
       "      <td>-113.910113</td>\n",
       "      <td>655.314913</td>\n",
       "      <td>-113.910113</td>\n",
       "      <td>-0.504630</td>\n",
       "      <td>-3.407722</td>\n",
       "    </tr>\n",
       "  </tbody>\n",
       "</table>\n",
       "<p>8132 rows × 25 columns</p>\n",
       "</div>"
      ],
      "text/plain": [
       "      Adj cost  Adj cost per share             Date Snapshot  \\\n",
       "0       492.66         1906.364408 2021-04-21 00:00:00+00:00   \n",
       "1       492.66         1906.364408 2021-04-22 00:00:00+00:00   \n",
       "2       492.66         1906.364408 2021-04-23 00:00:00+00:00   \n",
       "3       492.66         1906.364408 2021-04-24 00:00:00+00:00   \n",
       "4       492.66         1906.364408 2021-04-25 00:00:00+00:00   \n",
       "...        ...                 ...                       ...   \n",
       "8127    225.73          149.348800 2022-03-09 00:00:00+00:00   \n",
       "8128    186.85          182.087335 2022-03-10 00:00:00+00:00   \n",
       "8129    225.73          149.348800 2022-03-10 00:00:00+00:00   \n",
       "8130    186.85          182.087335 2022-03-11 00:00:00+00:00   \n",
       "8131    225.73          149.348800 2022-03-11 00:00:00+00:00   \n",
       "\n",
       "                     Open date       Qty Symbol Type  Symbol Adj Close  \\\n",
       "0    2021-04-20 18:57:40+00:00  0.258429    ETH  buy       1964.593249   \n",
       "1    2021-04-20 18:57:40+00:00  0.258429    ETH  buy       2000.536891   \n",
       "2    2021-04-20 18:57:40+00:00  0.258429    ETH  buy       1953.619811   \n",
       "3    2021-04-20 18:57:40+00:00  0.258429    ETH  buy       1828.220570   \n",
       "4    2021-04-20 18:57:40+00:00  0.258429    ETH  buy       1915.747276   \n",
       "...                        ...       ...    ...  ...               ...   \n",
       "8127 2022-01-04 10:44:49+00:00  1.511428    SOL  buy         79.651404   \n",
       "8128 2021-11-29 10:47:17+00:00  1.026156    SOL  buy         75.308279   \n",
       "8129 2022-01-04 10:44:49+00:00  1.511428    SOL  buy         75.308279   \n",
       "8130 2021-11-29 10:47:17+00:00  1.026156    SOL  buy         73.982926   \n",
       "8131 2022-01-04 10:44:49+00:00  1.511428    SOL  buy         73.982926   \n",
       "\n",
       "      Adj cost daily  Benchmark Close  Benchmark End Date Close  \\\n",
       "0         507.708026      1964.593249               2345.209878   \n",
       "1         516.996908      2000.536891               2345.209878   \n",
       "2         504.872170      1953.619811               2345.209878   \n",
       "3         472.465360      1828.220570               2345.209878   \n",
       "4         495.084806      1915.747276               2345.209878   \n",
       "...              ...              ...                       ...   \n",
       "8127      120.387384      2465.147372               2345.209878   \n",
       "8128       77.278038      2368.094996               2345.209878   \n",
       "8129      113.823063      2368.094996               2345.209878   \n",
       "8130       75.918019      2345.209878               2345.209878   \n",
       "8131      111.819887      2345.209878               2345.209878   \n",
       "\n",
       "      Benchmark Start Date Close  symbol End Date Close  \\\n",
       "0                     600.859522            2345.209878   \n",
       "1                     600.859522            2345.209878   \n",
       "2                     600.859522            2345.209878   \n",
       "3                     600.859522            2345.209878   \n",
       "4                     600.859522            2345.209878   \n",
       "...                          ...                    ...   \n",
       "8127                  600.859522              73.982926   \n",
       "8128                  600.859522              73.982926   \n",
       "8129                  600.859522              73.982926   \n",
       "8130                  600.859522              73.982926   \n",
       "8131                  600.859522              73.982926   \n",
       "\n",
       "      symbol Start Date Close  Equiv Benchmark Shares  \\\n",
       "0                  600.859522                0.819925   \n",
       "1                  600.859522                0.819925   \n",
       "2                  600.859522                0.819925   \n",
       "3                  600.859522                0.819925   \n",
       "4                  600.859522                0.819925   \n",
       "...                       ...                     ...   \n",
       "8127                 1.515448                0.375678   \n",
       "8128                 1.515448                0.310971   \n",
       "8129                 1.515448                0.375678   \n",
       "8130                 1.515448                0.310971   \n",
       "8131                 1.515448                0.375678   \n",
       "\n",
       "      Benchmark Start Date Cost  Benchmark Return  symbol Return  \\\n",
       "0                        492.66          2.269638       0.030544   \n",
       "1                        492.66          2.329459       0.049399   \n",
       "2                        492.66          2.251375       0.024788   \n",
       "3                        492.66          2.042676      -0.040991   \n",
       "4                        492.66          2.188345       0.004922   \n",
       "...                         ...               ...            ...   \n",
       "8127                     225.73          3.102702      -0.466675   \n",
       "8128                     186.85          2.941179      -0.586417   \n",
       "8129                     225.73          2.941179      -0.495756   \n",
       "8130                     186.85          2.903092      -0.593695   \n",
       "8131                     225.73          2.903092      -0.504630   \n",
       "\n",
       "      symbol Share Value  Benchmark Share Value  Stock Gain / (Loss)  \\\n",
       "0             507.708026            1610.819957            15.048026   \n",
       "1             516.996908            1640.291064            24.336908   \n",
       "2             504.872170            1601.822557            12.212170   \n",
       "3             472.465360            1499.004530           -20.194640   \n",
       "4             495.084806            1570.769902             2.424806   \n",
       "...                  ...                    ...                  ...   \n",
       "8127          120.387384             926.102851          -105.342616   \n",
       "8128           77.278038             736.409316          -109.571962   \n",
       "8129          113.823063             889.642360          -111.906937   \n",
       "8130           75.918019             729.292704          -110.931981   \n",
       "8131          111.819887             881.044913          -113.910113   \n",
       "\n",
       "      Benchmark Gain / (Loss)  Abs Value Compare  Abs Value Return  \\\n",
       "0                 1118.159957          15.048026          0.030544   \n",
       "1                 1147.631064          24.336908          0.049399   \n",
       "2                 1109.162557          12.212170          0.024788   \n",
       "3                 1006.344530         -20.194640         -0.040991   \n",
       "4                 1078.109902           2.424806          0.004922   \n",
       "...                       ...                ...               ...   \n",
       "8127               700.372851        -105.342616         -0.466675   \n",
       "8128               549.559316        -109.571962         -0.586417   \n",
       "8129               663.912360        -111.906937         -0.495756   \n",
       "8130               542.442704        -110.931981         -0.593695   \n",
       "8131               655.314913        -113.910113         -0.504630   \n",
       "\n",
       "      Abs. Return Compare  \n",
       "0               -2.239094  \n",
       "1               -2.280060  \n",
       "2               -2.226587  \n",
       "3               -2.083667  \n",
       "4               -2.183423  \n",
       "...                   ...  \n",
       "8127            -3.569377  \n",
       "8128            -3.527596  \n",
       "8129            -3.436935  \n",
       "8130            -3.496787  \n",
       "8131            -3.407722  \n",
       "\n",
       "[8132 rows x 25 columns]"
      ]
     },
     "execution_count": 19,
     "metadata": {},
     "output_type": "execute_result"
    }
   ],
   "source": [
    "combined_df=t.per_day_portfolio_calcs(\n",
    "    positions_per_day,\n",
    "    benchmark,\n",
    "    closedata,\n",
    "    t.stocks_start \n",
    ")\n",
    "combined_df"
   ]
  },
  {
   "cell_type": "code",
   "execution_count": 20,
   "metadata": {},
   "outputs": [
    {
     "data": {
      "text/plain": [
       "Index(['Adj cost', 'Adj cost per share', 'Date Snapshot', 'Open date', 'Qty',\n",
       "       'Symbol', 'Type', 'Symbol Adj Close', 'Adj cost daily',\n",
       "       'Benchmark Close', 'Benchmark End Date Close',\n",
       "       'Benchmark Start Date Close', 'symbol End Date Close',\n",
       "       'symbol Start Date Close', 'Equiv Benchmark Shares',\n",
       "       'Benchmark Start Date Cost', 'Benchmark Return', 'symbol Return',\n",
       "       'symbol Share Value', 'Benchmark Share Value', 'Stock Gain / (Loss)',\n",
       "       'Benchmark Gain / (Loss)', 'Abs Value Compare', 'Abs Value Return',\n",
       "       'Abs. Return Compare'],\n",
       "      dtype='object')"
      ]
     },
     "execution_count": 20,
     "metadata": {},
     "output_type": "execute_result"
    }
   ],
   "source": [
    "combined_df.columns"
   ]
  },
  {
   "cell_type": "code",
   "execution_count": 21,
   "metadata": {},
   "outputs": [
    {
     "data": {
      "text/plain": [
       "<DatetimeArray>\n",
       "['2021-04-21 00:00:00+00:00', '2021-04-22 00:00:00+00:00',\n",
       " '2021-04-23 00:00:00+00:00', '2021-04-24 00:00:00+00:00',\n",
       " '2021-04-25 00:00:00+00:00', '2021-04-26 00:00:00+00:00',\n",
       " '2021-04-27 00:00:00+00:00', '2021-04-28 00:00:00+00:00',\n",
       " '2021-04-29 00:00:00+00:00', '2021-04-30 00:00:00+00:00',\n",
       " ...\n",
       " '2022-03-02 00:00:00+00:00', '2022-03-03 00:00:00+00:00',\n",
       " '2022-03-04 00:00:00+00:00', '2022-03-05 00:00:00+00:00',\n",
       " '2022-03-06 00:00:00+00:00', '2022-03-07 00:00:00+00:00',\n",
       " '2022-03-08 00:00:00+00:00', '2022-03-09 00:00:00+00:00',\n",
       " '2022-03-10 00:00:00+00:00', '2022-03-11 00:00:00+00:00']\n",
       "Length: 325, dtype: datetime64[ns, UTC]"
      ]
     },
     "execution_count": 21,
     "metadata": {},
     "output_type": "execute_result"
    }
   ],
   "source": [
    "combined_df[\"Date Snapshot\"].unique()"
   ]
  },
  {
   "cell_type": "code",
   "execution_count": 22,
   "metadata": {},
   "outputs": [
    {
     "data": {
      "text/html": [
       "<div>\n",
       "<style scoped>\n",
       "    .dataframe tbody tr th:only-of-type {\n",
       "        vertical-align: middle;\n",
       "    }\n",
       "\n",
       "    .dataframe tbody tr th {\n",
       "        vertical-align: top;\n",
       "    }\n",
       "\n",
       "    .dataframe thead th {\n",
       "        text-align: right;\n",
       "    }\n",
       "</style>\n",
       "<table border=\"1\" class=\"dataframe\">\n",
       "  <thead>\n",
       "    <tr style=\"text-align: right;\">\n",
       "      <th></th>\n",
       "      <th>Adj cost</th>\n",
       "      <th>Adj cost per share</th>\n",
       "      <th>Qty</th>\n",
       "      <th>Symbol Adj Close</th>\n",
       "      <th>Adj cost daily</th>\n",
       "      <th>Benchmark Close</th>\n",
       "      <th>Benchmark End Date Close</th>\n",
       "      <th>Benchmark Start Date Close</th>\n",
       "      <th>symbol End Date Close</th>\n",
       "      <th>symbol Start Date Close</th>\n",
       "      <th>Equiv Benchmark Shares</th>\n",
       "      <th>Benchmark Start Date Cost</th>\n",
       "      <th>Benchmark Return</th>\n",
       "      <th>symbol Return</th>\n",
       "      <th>symbol Share Value</th>\n",
       "      <th>Benchmark Share Value</th>\n",
       "      <th>Stock Gain / (Loss)</th>\n",
       "      <th>Benchmark Gain / (Loss)</th>\n",
       "      <th>Abs Value Compare</th>\n",
       "      <th>Abs Value Return</th>\n",
       "      <th>Abs. Return Compare</th>\n",
       "    </tr>\n",
       "    <tr>\n",
       "      <th>Date Snapshot</th>\n",
       "      <th></th>\n",
       "      <th></th>\n",
       "      <th></th>\n",
       "      <th></th>\n",
       "      <th></th>\n",
       "      <th></th>\n",
       "      <th></th>\n",
       "      <th></th>\n",
       "      <th></th>\n",
       "      <th></th>\n",
       "      <th></th>\n",
       "      <th></th>\n",
       "      <th></th>\n",
       "      <th></th>\n",
       "      <th></th>\n",
       "      <th></th>\n",
       "      <th></th>\n",
       "      <th></th>\n",
       "      <th></th>\n",
       "      <th></th>\n",
       "      <th></th>\n",
       "    </tr>\n",
       "  </thead>\n",
       "  <tbody>\n",
       "    <tr>\n",
       "      <th>2021-04-21</th>\n",
       "      <td>492.66</td>\n",
       "      <td>1906.364408</td>\n",
       "      <td>0.258429</td>\n",
       "      <td>1964.593249</td>\n",
       "      <td>507.708026</td>\n",
       "      <td>1964.593249</td>\n",
       "      <td>2345.209878</td>\n",
       "      <td>600.859522</td>\n",
       "      <td>2345.209878</td>\n",
       "      <td>600.859522</td>\n",
       "      <td>0.819925</td>\n",
       "      <td>492.66</td>\n",
       "      <td>2.269638</td>\n",
       "      <td>0.030544</td>\n",
       "      <td>507.708026</td>\n",
       "      <td>1610.819957</td>\n",
       "      <td>15.048026</td>\n",
       "      <td>1118.159957</td>\n",
       "      <td>15.048026</td>\n",
       "      <td>0.030544</td>\n",
       "      <td>-2.239094</td>\n",
       "    </tr>\n",
       "    <tr>\n",
       "      <th>2021-04-22</th>\n",
       "      <td>492.66</td>\n",
       "      <td>1906.364408</td>\n",
       "      <td>0.258429</td>\n",
       "      <td>2000.536891</td>\n",
       "      <td>516.996908</td>\n",
       "      <td>2000.536891</td>\n",
       "      <td>2345.209878</td>\n",
       "      <td>600.859522</td>\n",
       "      <td>2345.209878</td>\n",
       "      <td>600.859522</td>\n",
       "      <td>0.819925</td>\n",
       "      <td>492.66</td>\n",
       "      <td>2.329459</td>\n",
       "      <td>0.049399</td>\n",
       "      <td>516.996908</td>\n",
       "      <td>1640.291064</td>\n",
       "      <td>24.336908</td>\n",
       "      <td>1147.631064</td>\n",
       "      <td>24.336908</td>\n",
       "      <td>0.049399</td>\n",
       "      <td>-2.280060</td>\n",
       "    </tr>\n",
       "    <tr>\n",
       "      <th>2021-04-23</th>\n",
       "      <td>492.66</td>\n",
       "      <td>1906.364408</td>\n",
       "      <td>0.258429</td>\n",
       "      <td>1953.619811</td>\n",
       "      <td>504.872170</td>\n",
       "      <td>1953.619811</td>\n",
       "      <td>2345.209878</td>\n",
       "      <td>600.859522</td>\n",
       "      <td>2345.209878</td>\n",
       "      <td>600.859522</td>\n",
       "      <td>0.819925</td>\n",
       "      <td>492.66</td>\n",
       "      <td>2.251375</td>\n",
       "      <td>0.024788</td>\n",
       "      <td>504.872170</td>\n",
       "      <td>1601.822557</td>\n",
       "      <td>12.212170</td>\n",
       "      <td>1109.162557</td>\n",
       "      <td>12.212170</td>\n",
       "      <td>0.024788</td>\n",
       "      <td>-2.226587</td>\n",
       "    </tr>\n",
       "    <tr>\n",
       "      <th>2021-04-24</th>\n",
       "      <td>492.66</td>\n",
       "      <td>1906.364408</td>\n",
       "      <td>0.258429</td>\n",
       "      <td>1828.220570</td>\n",
       "      <td>472.465360</td>\n",
       "      <td>1828.220570</td>\n",
       "      <td>2345.209878</td>\n",
       "      <td>600.859522</td>\n",
       "      <td>2345.209878</td>\n",
       "      <td>600.859522</td>\n",
       "      <td>0.819925</td>\n",
       "      <td>492.66</td>\n",
       "      <td>2.042676</td>\n",
       "      <td>-0.040991</td>\n",
       "      <td>472.465360</td>\n",
       "      <td>1499.004530</td>\n",
       "      <td>-20.194640</td>\n",
       "      <td>1006.344530</td>\n",
       "      <td>-20.194640</td>\n",
       "      <td>-0.040991</td>\n",
       "      <td>-2.083667</td>\n",
       "    </tr>\n",
       "    <tr>\n",
       "      <th>2021-04-25</th>\n",
       "      <td>703.21</td>\n",
       "      <td>1907.365388</td>\n",
       "      <td>210.602292</td>\n",
       "      <td>1916.647431</td>\n",
       "      <td>684.426877</td>\n",
       "      <td>3831.494551</td>\n",
       "      <td>4690.419755</td>\n",
       "      <td>1201.719044</td>\n",
       "      <td>2345.933833</td>\n",
       "      <td>601.003779</td>\n",
       "      <td>1.170340</td>\n",
       "      <td>703.21</td>\n",
       "      <td>4.376689</td>\n",
       "      <td>-0.095804</td>\n",
       "      <td>684.426877</td>\n",
       "      <td>2242.075880</td>\n",
       "      <td>-18.783123</td>\n",
       "      <td>1538.865880</td>\n",
       "      <td>-18.783123</td>\n",
       "      <td>-0.095804</td>\n",
       "      <td>-4.472494</td>\n",
       "    </tr>\n",
       "    <tr>\n",
       "      <th>...</th>\n",
       "      <td>...</td>\n",
       "      <td>...</td>\n",
       "      <td>...</td>\n",
       "      <td>...</td>\n",
       "      <td>...</td>\n",
       "      <td>...</td>\n",
       "      <td>...</td>\n",
       "      <td>...</td>\n",
       "      <td>...</td>\n",
       "      <td>...</td>\n",
       "      <td>...</td>\n",
       "      <td>...</td>\n",
       "      <td>...</td>\n",
       "      <td>...</td>\n",
       "      <td>...</td>\n",
       "      <td>...</td>\n",
       "      <td>...</td>\n",
       "      <td>...</td>\n",
       "      <td>...</td>\n",
       "      <td>...</td>\n",
       "      <td>...</td>\n",
       "    </tr>\n",
       "    <tr>\n",
       "      <th>2022-03-07</th>\n",
       "      <td>18494.36</td>\n",
       "      <td>47308.706666</td>\n",
       "      <td>7122.889196</td>\n",
       "      <td>36945.927973</td>\n",
       "      <td>17436.225077</td>\n",
       "      <td>73556.447989</td>\n",
       "      <td>75046.716082</td>\n",
       "      <td>19227.504708</td>\n",
       "      <td>37687.671625</td>\n",
       "      <td>9617.377207</td>\n",
       "      <td>30.779840</td>\n",
       "      <td>18494.36</td>\n",
       "      <td>90.418711</td>\n",
       "      <td>0.091213</td>\n",
       "      <td>17436.225077</td>\n",
       "      <td>70751.740803</td>\n",
       "      <td>-1058.134923</td>\n",
       "      <td>52257.380803</td>\n",
       "      <td>-1058.134923</td>\n",
       "      <td>0.091213</td>\n",
       "      <td>-90.327498</td>\n",
       "    </tr>\n",
       "    <tr>\n",
       "      <th>2022-03-08</th>\n",
       "      <td>18494.36</td>\n",
       "      <td>47308.706666</td>\n",
       "      <td>7122.889196</td>\n",
       "      <td>37999.146640</td>\n",
       "      <td>17822.597063</td>\n",
       "      <td>75662.792311</td>\n",
       "      <td>75046.716082</td>\n",
       "      <td>19227.504708</td>\n",
       "      <td>37687.671625</td>\n",
       "      <td>9617.377207</td>\n",
       "      <td>30.779840</td>\n",
       "      <td>18494.36</td>\n",
       "      <td>93.924263</td>\n",
       "      <td>0.756144</td>\n",
       "      <td>17822.597063</td>\n",
       "      <td>72777.770221</td>\n",
       "      <td>-671.762937</td>\n",
       "      <td>54283.410221</td>\n",
       "      <td>-671.762937</td>\n",
       "      <td>0.756144</td>\n",
       "      <td>-93.168119</td>\n",
       "    </tr>\n",
       "    <tr>\n",
       "      <th>2022-03-09</th>\n",
       "      <td>18494.36</td>\n",
       "      <td>47308.706666</td>\n",
       "      <td>7122.889196</td>\n",
       "      <td>39618.929775</td>\n",
       "      <td>18443.713265</td>\n",
       "      <td>78884.715908</td>\n",
       "      <td>75046.716082</td>\n",
       "      <td>19227.504708</td>\n",
       "      <td>37687.671625</td>\n",
       "      <td>9617.377207</td>\n",
       "      <td>30.779840</td>\n",
       "      <td>18494.36</td>\n",
       "      <td>99.286454</td>\n",
       "      <td>1.879016</td>\n",
       "      <td>18443.713265</td>\n",
       "      <td>75876.841880</td>\n",
       "      <td>-50.646735</td>\n",
       "      <td>57382.481880</td>\n",
       "      <td>-50.646735</td>\n",
       "      <td>1.879016</td>\n",
       "      <td>-97.407437</td>\n",
       "    </tr>\n",
       "    <tr>\n",
       "      <th>2022-03-10</th>\n",
       "      <td>18494.36</td>\n",
       "      <td>47308.706666</td>\n",
       "      <td>7122.889196</td>\n",
       "      <td>38056.707499</td>\n",
       "      <td>17708.759679</td>\n",
       "      <td>75779.039858</td>\n",
       "      <td>75046.716082</td>\n",
       "      <td>19227.504708</td>\n",
       "      <td>37687.671625</td>\n",
       "      <td>9617.377207</td>\n",
       "      <td>30.779840</td>\n",
       "      <td>18494.36</td>\n",
       "      <td>94.117731</td>\n",
       "      <td>0.516585</td>\n",
       "      <td>17708.759679</td>\n",
       "      <td>72889.585250</td>\n",
       "      <td>-785.600321</td>\n",
       "      <td>54395.225250</td>\n",
       "      <td>-785.600321</td>\n",
       "      <td>0.516585</td>\n",
       "      <td>-93.601147</td>\n",
       "    </tr>\n",
       "    <tr>\n",
       "      <th>2022-03-11</th>\n",
       "      <td>18494.36</td>\n",
       "      <td>47308.706666</td>\n",
       "      <td>7122.889196</td>\n",
       "      <td>37687.671625</td>\n",
       "      <td>17500.488847</td>\n",
       "      <td>75046.716082</td>\n",
       "      <td>75046.716082</td>\n",
       "      <td>19227.504708</td>\n",
       "      <td>37687.671625</td>\n",
       "      <td>9617.377207</td>\n",
       "      <td>30.779840</td>\n",
       "      <td>18494.36</td>\n",
       "      <td>92.898938</td>\n",
       "      <td>0.122443</td>\n",
       "      <td>17500.488847</td>\n",
       "      <td>72185.184978</td>\n",
       "      <td>-993.871153</td>\n",
       "      <td>53690.824978</td>\n",
       "      <td>-993.871153</td>\n",
       "      <td>0.122443</td>\n",
       "      <td>-92.776495</td>\n",
       "    </tr>\n",
       "  </tbody>\n",
       "</table>\n",
       "<p>325 rows × 21 columns</p>\n",
       "</div>"
      ],
      "text/plain": [
       "               Adj cost  Adj cost per share          Qty  Symbol Adj Close  \\\n",
       "Date Snapshot                                                                \n",
       "2021-04-21       492.66         1906.364408     0.258429       1964.593249   \n",
       "2021-04-22       492.66         1906.364408     0.258429       2000.536891   \n",
       "2021-04-23       492.66         1906.364408     0.258429       1953.619811   \n",
       "2021-04-24       492.66         1906.364408     0.258429       1828.220570   \n",
       "2021-04-25       703.21         1907.365388   210.602292       1916.647431   \n",
       "...                 ...                 ...          ...               ...   \n",
       "2022-03-07     18494.36        47308.706666  7122.889196      36945.927973   \n",
       "2022-03-08     18494.36        47308.706666  7122.889196      37999.146640   \n",
       "2022-03-09     18494.36        47308.706666  7122.889196      39618.929775   \n",
       "2022-03-10     18494.36        47308.706666  7122.889196      38056.707499   \n",
       "2022-03-11     18494.36        47308.706666  7122.889196      37687.671625   \n",
       "\n",
       "               Adj cost daily  Benchmark Close  Benchmark End Date Close  \\\n",
       "Date Snapshot                                                              \n",
       "2021-04-21         507.708026      1964.593249               2345.209878   \n",
       "2021-04-22         516.996908      2000.536891               2345.209878   \n",
       "2021-04-23         504.872170      1953.619811               2345.209878   \n",
       "2021-04-24         472.465360      1828.220570               2345.209878   \n",
       "2021-04-25         684.426877      3831.494551               4690.419755   \n",
       "...                       ...              ...                       ...   \n",
       "2022-03-07       17436.225077     73556.447989              75046.716082   \n",
       "2022-03-08       17822.597063     75662.792311              75046.716082   \n",
       "2022-03-09       18443.713265     78884.715908              75046.716082   \n",
       "2022-03-10       17708.759679     75779.039858              75046.716082   \n",
       "2022-03-11       17500.488847     75046.716082              75046.716082   \n",
       "\n",
       "               Benchmark Start Date Close  symbol End Date Close  \\\n",
       "Date Snapshot                                                      \n",
       "2021-04-21                     600.859522            2345.209878   \n",
       "2021-04-22                     600.859522            2345.209878   \n",
       "2021-04-23                     600.859522            2345.209878   \n",
       "2021-04-24                     600.859522            2345.209878   \n",
       "2021-04-25                    1201.719044            2345.933833   \n",
       "...                                   ...                    ...   \n",
       "2022-03-07                   19227.504708           37687.671625   \n",
       "2022-03-08                   19227.504708           37687.671625   \n",
       "2022-03-09                   19227.504708           37687.671625   \n",
       "2022-03-10                   19227.504708           37687.671625   \n",
       "2022-03-11                   19227.504708           37687.671625   \n",
       "\n",
       "               symbol Start Date Close  Equiv Benchmark Shares  \\\n",
       "Date Snapshot                                                    \n",
       "2021-04-21                  600.859522                0.819925   \n",
       "2021-04-22                  600.859522                0.819925   \n",
       "2021-04-23                  600.859522                0.819925   \n",
       "2021-04-24                  600.859522                0.819925   \n",
       "2021-04-25                  601.003779                1.170340   \n",
       "...                                ...                     ...   \n",
       "2022-03-07                 9617.377207               30.779840   \n",
       "2022-03-08                 9617.377207               30.779840   \n",
       "2022-03-09                 9617.377207               30.779840   \n",
       "2022-03-10                 9617.377207               30.779840   \n",
       "2022-03-11                 9617.377207               30.779840   \n",
       "\n",
       "               Benchmark Start Date Cost  Benchmark Return  symbol Return  \\\n",
       "Date Snapshot                                                               \n",
       "2021-04-21                        492.66          2.269638       0.030544   \n",
       "2021-04-22                        492.66          2.329459       0.049399   \n",
       "2021-04-23                        492.66          2.251375       0.024788   \n",
       "2021-04-24                        492.66          2.042676      -0.040991   \n",
       "2021-04-25                        703.21          4.376689      -0.095804   \n",
       "...                                  ...               ...            ...   \n",
       "2022-03-07                      18494.36         90.418711       0.091213   \n",
       "2022-03-08                      18494.36         93.924263       0.756144   \n",
       "2022-03-09                      18494.36         99.286454       1.879016   \n",
       "2022-03-10                      18494.36         94.117731       0.516585   \n",
       "2022-03-11                      18494.36         92.898938       0.122443   \n",
       "\n",
       "               symbol Share Value  Benchmark Share Value  Stock Gain / (Loss)  \\\n",
       "Date Snapshot                                                                   \n",
       "2021-04-21             507.708026            1610.819957            15.048026   \n",
       "2021-04-22             516.996908            1640.291064            24.336908   \n",
       "2021-04-23             504.872170            1601.822557            12.212170   \n",
       "2021-04-24             472.465360            1499.004530           -20.194640   \n",
       "2021-04-25             684.426877            2242.075880           -18.783123   \n",
       "...                           ...                    ...                  ...   \n",
       "2022-03-07           17436.225077           70751.740803         -1058.134923   \n",
       "2022-03-08           17822.597063           72777.770221          -671.762937   \n",
       "2022-03-09           18443.713265           75876.841880           -50.646735   \n",
       "2022-03-10           17708.759679           72889.585250          -785.600321   \n",
       "2022-03-11           17500.488847           72185.184978          -993.871153   \n",
       "\n",
       "               Benchmark Gain / (Loss)  Abs Value Compare  Abs Value Return  \\\n",
       "Date Snapshot                                                                 \n",
       "2021-04-21                 1118.159957          15.048026          0.030544   \n",
       "2021-04-22                 1147.631064          24.336908          0.049399   \n",
       "2021-04-23                 1109.162557          12.212170          0.024788   \n",
       "2021-04-24                 1006.344530         -20.194640         -0.040991   \n",
       "2021-04-25                 1538.865880         -18.783123         -0.095804   \n",
       "...                                ...                ...               ...   \n",
       "2022-03-07                52257.380803       -1058.134923          0.091213   \n",
       "2022-03-08                54283.410221        -671.762937          0.756144   \n",
       "2022-03-09                57382.481880         -50.646735          1.879016   \n",
       "2022-03-10                54395.225250        -785.600321          0.516585   \n",
       "2022-03-11                53690.824978        -993.871153          0.122443   \n",
       "\n",
       "               Abs. Return Compare  \n",
       "Date Snapshot                       \n",
       "2021-04-21               -2.239094  \n",
       "2021-04-22               -2.280060  \n",
       "2021-04-23               -2.226587  \n",
       "2021-04-24               -2.083667  \n",
       "2021-04-25               -4.472494  \n",
       "...                            ...  \n",
       "2022-03-07              -90.327498  \n",
       "2022-03-08              -93.168119  \n",
       "2022-03-09              -97.407437  \n",
       "2022-03-10              -93.601147  \n",
       "2022-03-11              -92.776495  \n",
       "\n",
       "[325 rows x 21 columns]"
      ]
     },
     "execution_count": 22,
     "metadata": {},
     "output_type": "execute_result"
    }
   ],
   "source": [
    "combined_df.groupby([combined_df[\"Date Snapshot\"].dt.date]).sum()"
   ]
  },
  {
   "cell_type": "code",
   "execution_count": 26,
   "metadata": {},
   "outputs": [
    {
     "data": {
      "application/vnd.plotly.v1+json": {
       "config": {
        "linkText": "Export to plot.ly",
        "plotlyServerURL": "https://plot.ly",
        "showLink": false
       },
       "data": [
        {
         "hovertemplate": "variable=Stock Gain / (Loss)<br>Date Snapshot=%{x}<br>value=%{y}<extra></extra>",
         "legendgroup": "Stock Gain / (Loss)",
         "line": {
          "color": "#636efa",
          "dash": "solid"
         },
         "marker": {
          "symbol": "circle"
         },
         "mode": "lines",
         "name": "Stock Gain / (Loss)",
         "orientation": "v",
         "showlegend": true,
         "type": "scatter",
         "x": [
          "2021-04-21",
          "2021-04-22",
          "2021-04-23",
          "2021-04-24",
          "2021-04-25",
          "2021-04-26",
          "2021-04-27",
          "2021-04-28",
          "2021-04-29",
          "2021-04-30",
          "2021-05-01",
          "2021-05-02",
          "2021-05-03",
          "2021-05-04",
          "2021-05-05",
          "2021-05-06",
          "2021-05-07",
          "2021-05-08",
          "2021-05-09",
          "2021-05-10",
          "2021-05-11",
          "2021-05-12",
          "2021-05-13",
          "2021-05-14",
          "2021-05-15",
          "2021-05-16",
          "2021-05-17",
          "2021-05-18",
          "2021-05-19",
          "2021-05-20",
          "2021-05-21",
          "2021-05-22",
          "2021-05-23",
          "2021-05-24",
          "2021-05-25",
          "2021-05-26",
          "2021-05-27",
          "2021-05-28",
          "2021-05-29",
          "2021-05-30",
          "2021-05-31",
          "2021-06-01",
          "2021-06-02",
          "2021-06-03",
          "2021-06-04",
          "2021-06-05",
          "2021-06-06",
          "2021-06-07",
          "2021-06-08",
          "2021-06-09",
          "2021-06-10",
          "2021-06-11",
          "2021-06-12",
          "2021-06-13",
          "2021-06-14",
          "2021-06-15",
          "2021-06-16",
          "2021-06-17",
          "2021-06-18",
          "2021-06-19",
          "2021-06-20",
          "2021-06-21",
          "2021-06-22",
          "2021-06-23",
          "2021-06-24",
          "2021-06-25",
          "2021-06-26",
          "2021-06-27",
          "2021-06-28",
          "2021-06-29",
          "2021-06-30",
          "2021-07-01",
          "2021-07-02",
          "2021-07-03",
          "2021-07-04",
          "2021-07-05",
          "2021-07-06",
          "2021-07-07",
          "2021-07-08",
          "2021-07-09",
          "2021-07-10",
          "2021-07-11",
          "2021-07-12",
          "2021-07-13",
          "2021-07-14",
          "2021-07-15",
          "2021-07-16",
          "2021-07-17",
          "2021-07-18",
          "2021-07-19",
          "2021-07-20",
          "2021-07-21",
          "2021-07-22",
          "2021-07-23",
          "2021-07-24",
          "2021-07-25",
          "2021-07-26",
          "2021-07-27",
          "2021-07-28",
          "2021-07-29",
          "2021-07-30",
          "2021-07-31",
          "2021-08-01",
          "2021-08-02",
          "2021-08-03",
          "2021-08-04",
          "2021-08-05",
          "2021-08-06",
          "2021-08-07",
          "2021-08-08",
          "2021-08-09",
          "2021-08-10",
          "2021-08-11",
          "2021-08-12",
          "2021-08-13",
          "2021-08-14",
          "2021-08-15",
          "2021-08-16",
          "2021-08-17",
          "2021-08-18",
          "2021-08-19",
          "2021-08-20",
          "2021-08-21",
          "2021-08-22",
          "2021-08-23",
          "2021-08-24",
          "2021-08-25",
          "2021-08-26",
          "2021-08-27",
          "2021-08-28",
          "2021-08-29",
          "2021-08-30",
          "2021-08-31",
          "2021-09-01",
          "2021-09-02",
          "2021-09-03",
          "2021-09-04",
          "2021-09-05",
          "2021-09-06",
          "2021-09-07",
          "2021-09-08",
          "2021-09-09",
          "2021-09-10",
          "2021-09-11",
          "2021-09-12",
          "2021-09-13",
          "2021-09-14",
          "2021-09-15",
          "2021-09-16",
          "2021-09-17",
          "2021-09-18",
          "2021-09-19",
          "2021-09-20",
          "2021-09-21",
          "2021-09-22",
          "2021-09-23",
          "2021-09-24",
          "2021-09-25",
          "2021-09-26",
          "2021-09-27",
          "2021-09-28",
          "2021-09-29",
          "2021-09-30",
          "2021-10-01",
          "2021-10-02",
          "2021-10-03",
          "2021-10-04",
          "2021-10-05",
          "2021-10-06",
          "2021-10-07",
          "2021-10-08",
          "2021-10-09",
          "2021-10-10",
          "2021-10-11",
          "2021-10-12",
          "2021-10-13",
          "2021-10-14",
          "2021-10-15",
          "2021-10-16",
          "2021-10-17",
          "2021-10-18",
          "2021-10-19",
          "2021-10-20",
          "2021-10-21",
          "2021-10-22",
          "2021-10-23",
          "2021-10-24",
          "2021-10-25",
          "2021-10-26",
          "2021-10-27",
          "2021-10-28",
          "2021-10-29",
          "2021-10-30",
          "2021-10-31",
          "2021-11-01",
          "2021-11-02",
          "2021-11-03",
          "2021-11-04",
          "2021-11-05",
          "2021-11-06",
          "2021-11-07",
          "2021-11-08",
          "2021-11-09",
          "2021-11-10",
          "2021-11-11",
          "2021-11-12",
          "2021-11-13",
          "2021-11-14",
          "2021-11-15",
          "2021-11-16",
          "2021-11-17",
          "2021-11-18",
          "2021-11-19",
          "2021-11-20",
          "2021-11-21",
          "2021-11-22",
          "2021-11-23",
          "2021-11-24",
          "2021-11-25",
          "2021-11-26",
          "2021-11-27",
          "2021-11-28",
          "2021-11-29",
          "2021-11-30",
          "2021-12-01",
          "2021-12-02",
          "2021-12-03",
          "2021-12-04",
          "2021-12-05",
          "2021-12-06",
          "2021-12-07",
          "2021-12-08",
          "2021-12-09",
          "2021-12-10",
          "2021-12-11",
          "2021-12-12",
          "2021-12-13",
          "2021-12-14",
          "2021-12-15",
          "2021-12-16",
          "2021-12-17",
          "2021-12-18",
          "2021-12-19",
          "2021-12-20",
          "2021-12-21",
          "2021-12-22",
          "2021-12-23",
          "2021-12-24",
          "2021-12-25",
          "2021-12-26",
          "2021-12-27",
          "2021-12-28",
          "2021-12-29",
          "2021-12-30",
          "2021-12-31",
          "2022-01-01",
          "2022-01-02",
          "2022-01-03",
          "2022-01-04",
          "2022-01-05",
          "2022-01-06",
          "2022-01-07",
          "2022-01-08",
          "2022-01-09",
          "2022-01-10",
          "2022-01-11",
          "2022-01-12",
          "2022-01-13",
          "2022-01-14",
          "2022-01-15",
          "2022-01-16",
          "2022-01-17",
          "2022-01-18",
          "2022-01-19",
          "2022-01-20",
          "2022-01-21",
          "2022-01-22",
          "2022-01-23",
          "2022-01-24",
          "2022-01-25",
          "2022-01-26",
          "2022-01-27",
          "2022-01-28",
          "2022-01-29",
          "2022-01-30",
          "2022-01-31",
          "2022-02-01",
          "2022-02-02",
          "2022-02-03",
          "2022-02-04",
          "2022-02-05",
          "2022-02-06",
          "2022-02-07",
          "2022-02-08",
          "2022-02-09",
          "2022-02-10",
          "2022-02-11",
          "2022-02-12",
          "2022-02-13",
          "2022-02-14",
          "2022-02-15",
          "2022-02-16",
          "2022-02-17",
          "2022-02-18",
          "2022-02-19",
          "2022-02-20",
          "2022-02-21",
          "2022-02-22",
          "2022-02-23",
          "2022-02-24",
          "2022-02-25",
          "2022-02-26",
          "2022-02-27",
          "2022-02-28",
          "2022-03-01",
          "2022-03-02",
          "2022-03-03",
          "2022-03-04",
          "2022-03-05",
          "2022-03-06",
          "2022-03-07",
          "2022-03-08",
          "2022-03-09",
          "2022-03-10",
          "2022-03-11"
         ],
         "xaxis": "x",
         "y": [
          15.048025807812849,
          24.33690823679268,
          12.212170330157448,
          -20.194640169607055,
          -18.783122836672987,
          53.90113882512779,
          93.42272773333676,
          177.60524570584496,
          216.3756228524492,
          213.19825286045395,
          238.7578000359845,
          255.79605227761854,
          603.1041361285787,
          435.37375759153275,
          709.4070957417858,
          700.5558521874425,
          651.3095434433994,
          1239.5057772545974,
          1349.3034453710188,
          1280.9970013440832,
          1952.1097920003954,
          1155.0565080403055,
          1038.6258917086766,
          2862.924735583404,
          2223.400262552307,
          2458.6724133752423,
          1639.4908882986897,
          4443.596773013391,
          -903.6027336798305,
          610.275240904821,
          -1625.4392674772216,
          -3050.245837629263,
          -3956.503586466546,
          -242.4562359232911,
          694.4417365840087,
          2263.251164646387,
          1168.2197678543487,
          -432.9217285553702,
          -1278.0659910167683,
          -345.33787200158383,
          551.4831717341465,
          135.2922874744832,
          247.5182883277924,
          852.4032995576761,
          -357.79634082402583,
          -898.5212571132632,
          -467.2257051629534,
          -1220.3487707127942,
          -1371.3928121959232,
          -1103.3972195337951,
          -1950.94679374922,
          -2622.8269121701596,
          -2238.2703006782235,
          -1394.3896689952749,
          -1293.6608434289863,
          -316.92513790658876,
          -1639.086501949017,
          -1445.09554376381,
          -2260.5485547869507,
          -2461.394222126771,
          -2144.3939550740415,
          -4316.082755174447,
          -4467.335473569603,
          -3821.376000879026,
          -3639.03966697759,
          -4721.857757046087,
          -4569.691867549147,
          -4019.1295216373223,
          -3710.3579834881166,
          -3279.435333185381,
          -2927.220580644486,
          -3702.0975164249353,
          -3510.649398830848,
          -3245.2053422262316,
          -2858.3479275978093,
          -3383.394132383548,
          -2887.043754588802,
          -2901.3771352804824,
          -3813.6859496430475,
          -3733.9985131763974,
          -3911.777066360248,
          -3782.8633662629554,
          -4230.308582370122,
          -4626.481462722072,
          -4587.241962273103,
          -4999.701506326361,
          -5329.215894889339,
          -5320.906195084497,
          -5355.460104726663,
          -5809.750074902302,
          -6048.90901746807,
          -4735.409523945973,
          -4650.311168133547,
          -4114.038610459184,
          -3931.8403107787112,
          -3963.5630780683405,
          -3576.9734062877483,
          -3327.3948371197034,
          -3444.386331459245,
          -3216.852179665261,
          -2792.74469769261,
          -2552.1108284443103,
          -2590.8980689959235,
          -2487.3039733479754,
          -2888.564446653813,
          -2108.847458933971,
          -1771.2151253190466,
          -1452.0553021186552,
          -313.93649735573365,
          -1104.725017406336,
          -414.5758768012169,
          -301.3744558888731,
          724.9995382639604,
          142.35532757716584,
          1801.5125743657366,
          1325.4251647391777,
          1568.1734443743856,
          943.0274922776448,
          247.54391416941942,
          245.2806924521468,
          1413.4622565982252,
          2070.283480939578,
          2033.703520396701,
          2316.4939621755193,
          2504.2131130998905,
          1351.409986328183,
          1711.01324437304,
          669.3584357617274,
          1932.414521616921,
          1524.7729392319425,
          1268.3564486421428,
          661.3737128636901,
          1401.0493658076723,
          3278.4082008531705,
          2978.293079024754,
          3479.239120889769,
          4772.3276068591895,
          4678.943032320954,
          4424.178911352304,
          1366.2599553666537,
          1484.1388888564086,
          1465.5505685111775,
          423.9664327513816,
          801.4519332415406,
          1266.2765087328055,
          345.7384769505644,
          1155.1770206077185,
          2284.3842809296116,
          2017.3741571399323,
          1734.3912492759823,
          1540.8174598594296,
          893.2116144023906,
          -1369.8871140063295,
          -2426.6619607885964,
          -261.0424620004469,
          -98.2412947850506,
          -1296.627078523211,
          -1338.1346946842234,
          -985.8183496612122,
          -1574.4089959419268,
          -2199.6494078880287,
          -1660.7006933639775,
          -990.7050536029722,
          761.2565239235172,
          1179.5297375285677,
          1398.8351218004714,
          933.9479681611748,
          1647.3026647644315,
          1575.0931780630908,
          1734.7543460714376,
          1994.709085279052,
          2086.3168365741485,
          1027.3575863124613,
          1370.1571317033868,
          1103.410051405871,
          1478.0793563407758,
          2141.710309273105,
          4151.914951479639,
          3606.339783337222,
          3376.0306068074183,
          3155.598458106098,
          3458.933707831908,
          4635.585250043786,
          4201.196528889671,
          3975.4935484931702,
          5296.379965017511,
          4647.383572148797,
          5666.81256813152,
          5766.123702280409,
          5148.582325798975,
          8122.24015290252,
          8195.153476815212,
          7046.933120318287,
          7318.3814217494855,
          7155.035719052519,
          8184.948589083351,
          8764.883527672895,
          7988.978945020596,
          7757.113704107132,
          7784.987435796049,
          8053.017210889565,
          8705.25132898135,
          7902.17490273429,
          7340.1526778865855,
          8002.358711049284,
          7547.2031151698675,
          7723.068689528917,
          7503.078179179948,
          7225.50571467181,
          5457.651679151902,
          6087.316426089555,
          4273.393714912775,
          6083.089560824965,
          6730.624821078736,
          5914.604710400368,
          5129.528854406008,
          6998.4639402417015,
          6320.6681429100045,
          7004.592367722615,
          5053.311746249524,
          5167.9213309639645,
          6080.152083616127,
          7494.40250015717,
          7776.426844415638,
          8939.489025827732,
          9519.380599449325,
          9274.812062391635,
          7239.66600220179,
          7843.77643348069,
          9744.860650764716,
          10097.746363848704,
          10614.227141223833,
          7808.568392585,
          7078.513892697898,
          7917.122638621693,
          7825.435004784276,
          5192.808355845223,
          5022.024798616209,
          7692.108233322984,
          7096.613424842057,
          7346.796336092443,
          8210.918009750903,
          8030.842336836665,
          7440.550706003921,
          9127.39932516099,
          9652.417937621714,
          11159.36509733849,
          9725.60929016836,
          10865.766275516191,
          12145.880804613016,
          11218.680075888347,
          9152.765260399177,
          8300.697134386679,
          9167.03596910493,
          8743.086803162392,
          9328.996537742561,
          9370.195890610594,
          8629.163522690977,
          8397.826954356993,
          6498.574510916379,
          6432.420972336057,
          4384.7489773389725,
          3734.1546845609314,
          4622.248625836781,
          4143.658327075164,
          6220.296817992137,
          6786.464410816194,
          5576.058030913479,
          6314.683953993013,
          6476.74793932165,
          6498.584655669287,
          5539.917265638076,
          4950.526417992311,
          4089.667869724567,
          3344.38712547674,
          266.59881935482167,
          -1249.5886669946497,
          -296.4568604362584,
          -1240.5838042963646,
          -877.8830868991937,
          -539.0287019797202,
          -555.8184718050366,
          352.8504381533851,
          623.5634817568463,
          103.99992026030212,
          495.7441097956644,
          824.2930546795491,
          -228.33171512676176,
          -393.9867562117186,
          1412.5532201428553,
          1641.6480369109677,
          1925.2047243552627,
          3818.8882824693205,
          3381.248594756635,
          4291.9171816981125,
          2925.931232528808,
          1468.4713948265176,
          1337.326264788109,
          1024.0348271449998,
          1232.781645489656,
          3143.515578921488,
          2784.988215197501,
          929.3572131441773,
          323.4497011810313,
          461.5690053935646,
          -663.3009622929553,
          -1498.1948716863772,
          -975.2965223731059,
          -1238.7464511446778,
          -1052.6756006785433,
          23.371990309856045,
          -132.55653185555082,
          -887.3467916382916,
          1024.9788586303375,
          1401.1479643423008,
          1432.907635362414,
          806.9421751272662,
          -375.1093221497987,
          2.1994117675483267,
          -735.4233232999173,
          -1058.1349225173797,
          -671.7629370150771,
          -50.64673483018328,
          -785.6003207499141,
          -993.8711531183303
         ],
         "yaxis": "y"
        }
       ],
       "layout": {
        "legend": {
         "title": {
          "text": "variable"
         },
         "tracegroupgap": 0
        },
        "margin": {
         "t": 60
        },
        "template": {
         "data": {
          "bar": [
           {
            "error_x": {
             "color": "#2a3f5f"
            },
            "error_y": {
             "color": "#2a3f5f"
            },
            "marker": {
             "line": {
              "color": "#E5ECF6",
              "width": 0.5
             },
             "pattern": {
              "fillmode": "overlay",
              "size": 10,
              "solidity": 0.2
             }
            },
            "type": "bar"
           }
          ],
          "barpolar": [
           {
            "marker": {
             "line": {
              "color": "#E5ECF6",
              "width": 0.5
             },
             "pattern": {
              "fillmode": "overlay",
              "size": 10,
              "solidity": 0.2
             }
            },
            "type": "barpolar"
           }
          ],
          "carpet": [
           {
            "aaxis": {
             "endlinecolor": "#2a3f5f",
             "gridcolor": "white",
             "linecolor": "white",
             "minorgridcolor": "white",
             "startlinecolor": "#2a3f5f"
            },
            "baxis": {
             "endlinecolor": "#2a3f5f",
             "gridcolor": "white",
             "linecolor": "white",
             "minorgridcolor": "white",
             "startlinecolor": "#2a3f5f"
            },
            "type": "carpet"
           }
          ],
          "choropleth": [
           {
            "colorbar": {
             "outlinewidth": 0,
             "ticks": ""
            },
            "type": "choropleth"
           }
          ],
          "contour": [
           {
            "colorbar": {
             "outlinewidth": 0,
             "ticks": ""
            },
            "colorscale": [
             [
              0,
              "#0d0887"
             ],
             [
              0.1111111111111111,
              "#46039f"
             ],
             [
              0.2222222222222222,
              "#7201a8"
             ],
             [
              0.3333333333333333,
              "#9c179e"
             ],
             [
              0.4444444444444444,
              "#bd3786"
             ],
             [
              0.5555555555555556,
              "#d8576b"
             ],
             [
              0.6666666666666666,
              "#ed7953"
             ],
             [
              0.7777777777777778,
              "#fb9f3a"
             ],
             [
              0.8888888888888888,
              "#fdca26"
             ],
             [
              1,
              "#f0f921"
             ]
            ],
            "type": "contour"
           }
          ],
          "contourcarpet": [
           {
            "colorbar": {
             "outlinewidth": 0,
             "ticks": ""
            },
            "type": "contourcarpet"
           }
          ],
          "heatmap": [
           {
            "colorbar": {
             "outlinewidth": 0,
             "ticks": ""
            },
            "colorscale": [
             [
              0,
              "#0d0887"
             ],
             [
              0.1111111111111111,
              "#46039f"
             ],
             [
              0.2222222222222222,
              "#7201a8"
             ],
             [
              0.3333333333333333,
              "#9c179e"
             ],
             [
              0.4444444444444444,
              "#bd3786"
             ],
             [
              0.5555555555555556,
              "#d8576b"
             ],
             [
              0.6666666666666666,
              "#ed7953"
             ],
             [
              0.7777777777777778,
              "#fb9f3a"
             ],
             [
              0.8888888888888888,
              "#fdca26"
             ],
             [
              1,
              "#f0f921"
             ]
            ],
            "type": "heatmap"
           }
          ],
          "heatmapgl": [
           {
            "colorbar": {
             "outlinewidth": 0,
             "ticks": ""
            },
            "colorscale": [
             [
              0,
              "#0d0887"
             ],
             [
              0.1111111111111111,
              "#46039f"
             ],
             [
              0.2222222222222222,
              "#7201a8"
             ],
             [
              0.3333333333333333,
              "#9c179e"
             ],
             [
              0.4444444444444444,
              "#bd3786"
             ],
             [
              0.5555555555555556,
              "#d8576b"
             ],
             [
              0.6666666666666666,
              "#ed7953"
             ],
             [
              0.7777777777777778,
              "#fb9f3a"
             ],
             [
              0.8888888888888888,
              "#fdca26"
             ],
             [
              1,
              "#f0f921"
             ]
            ],
            "type": "heatmapgl"
           }
          ],
          "histogram": [
           {
            "marker": {
             "pattern": {
              "fillmode": "overlay",
              "size": 10,
              "solidity": 0.2
             }
            },
            "type": "histogram"
           }
          ],
          "histogram2d": [
           {
            "colorbar": {
             "outlinewidth": 0,
             "ticks": ""
            },
            "colorscale": [
             [
              0,
              "#0d0887"
             ],
             [
              0.1111111111111111,
              "#46039f"
             ],
             [
              0.2222222222222222,
              "#7201a8"
             ],
             [
              0.3333333333333333,
              "#9c179e"
             ],
             [
              0.4444444444444444,
              "#bd3786"
             ],
             [
              0.5555555555555556,
              "#d8576b"
             ],
             [
              0.6666666666666666,
              "#ed7953"
             ],
             [
              0.7777777777777778,
              "#fb9f3a"
             ],
             [
              0.8888888888888888,
              "#fdca26"
             ],
             [
              1,
              "#f0f921"
             ]
            ],
            "type": "histogram2d"
           }
          ],
          "histogram2dcontour": [
           {
            "colorbar": {
             "outlinewidth": 0,
             "ticks": ""
            },
            "colorscale": [
             [
              0,
              "#0d0887"
             ],
             [
              0.1111111111111111,
              "#46039f"
             ],
             [
              0.2222222222222222,
              "#7201a8"
             ],
             [
              0.3333333333333333,
              "#9c179e"
             ],
             [
              0.4444444444444444,
              "#bd3786"
             ],
             [
              0.5555555555555556,
              "#d8576b"
             ],
             [
              0.6666666666666666,
              "#ed7953"
             ],
             [
              0.7777777777777778,
              "#fb9f3a"
             ],
             [
              0.8888888888888888,
              "#fdca26"
             ],
             [
              1,
              "#f0f921"
             ]
            ],
            "type": "histogram2dcontour"
           }
          ],
          "mesh3d": [
           {
            "colorbar": {
             "outlinewidth": 0,
             "ticks": ""
            },
            "type": "mesh3d"
           }
          ],
          "parcoords": [
           {
            "line": {
             "colorbar": {
              "outlinewidth": 0,
              "ticks": ""
             }
            },
            "type": "parcoords"
           }
          ],
          "pie": [
           {
            "automargin": true,
            "type": "pie"
           }
          ],
          "scatter": [
           {
            "marker": {
             "colorbar": {
              "outlinewidth": 0,
              "ticks": ""
             }
            },
            "type": "scatter"
           }
          ],
          "scatter3d": [
           {
            "line": {
             "colorbar": {
              "outlinewidth": 0,
              "ticks": ""
             }
            },
            "marker": {
             "colorbar": {
              "outlinewidth": 0,
              "ticks": ""
             }
            },
            "type": "scatter3d"
           }
          ],
          "scattercarpet": [
           {
            "marker": {
             "colorbar": {
              "outlinewidth": 0,
              "ticks": ""
             }
            },
            "type": "scattercarpet"
           }
          ],
          "scattergeo": [
           {
            "marker": {
             "colorbar": {
              "outlinewidth": 0,
              "ticks": ""
             }
            },
            "type": "scattergeo"
           }
          ],
          "scattergl": [
           {
            "marker": {
             "colorbar": {
              "outlinewidth": 0,
              "ticks": ""
             }
            },
            "type": "scattergl"
           }
          ],
          "scattermapbox": [
           {
            "marker": {
             "colorbar": {
              "outlinewidth": 0,
              "ticks": ""
             }
            },
            "type": "scattermapbox"
           }
          ],
          "scatterpolar": [
           {
            "marker": {
             "colorbar": {
              "outlinewidth": 0,
              "ticks": ""
             }
            },
            "type": "scatterpolar"
           }
          ],
          "scatterpolargl": [
           {
            "marker": {
             "colorbar": {
              "outlinewidth": 0,
              "ticks": ""
             }
            },
            "type": "scatterpolargl"
           }
          ],
          "scatterternary": [
           {
            "marker": {
             "colorbar": {
              "outlinewidth": 0,
              "ticks": ""
             }
            },
            "type": "scatterternary"
           }
          ],
          "surface": [
           {
            "colorbar": {
             "outlinewidth": 0,
             "ticks": ""
            },
            "colorscale": [
             [
              0,
              "#0d0887"
             ],
             [
              0.1111111111111111,
              "#46039f"
             ],
             [
              0.2222222222222222,
              "#7201a8"
             ],
             [
              0.3333333333333333,
              "#9c179e"
             ],
             [
              0.4444444444444444,
              "#bd3786"
             ],
             [
              0.5555555555555556,
              "#d8576b"
             ],
             [
              0.6666666666666666,
              "#ed7953"
             ],
             [
              0.7777777777777778,
              "#fb9f3a"
             ],
             [
              0.8888888888888888,
              "#fdca26"
             ],
             [
              1,
              "#f0f921"
             ]
            ],
            "type": "surface"
           }
          ],
          "table": [
           {
            "cells": {
             "fill": {
              "color": "#EBF0F8"
             },
             "line": {
              "color": "white"
             }
            },
            "header": {
             "fill": {
              "color": "#C8D4E3"
             },
             "line": {
              "color": "white"
             }
            },
            "type": "table"
           }
          ]
         },
         "layout": {
          "annotationdefaults": {
           "arrowcolor": "#2a3f5f",
           "arrowhead": 0,
           "arrowwidth": 1
          },
          "autotypenumbers": "strict",
          "coloraxis": {
           "colorbar": {
            "outlinewidth": 0,
            "ticks": ""
           }
          },
          "colorscale": {
           "diverging": [
            [
             0,
             "#8e0152"
            ],
            [
             0.1,
             "#c51b7d"
            ],
            [
             0.2,
             "#de77ae"
            ],
            [
             0.3,
             "#f1b6da"
            ],
            [
             0.4,
             "#fde0ef"
            ],
            [
             0.5,
             "#f7f7f7"
            ],
            [
             0.6,
             "#e6f5d0"
            ],
            [
             0.7,
             "#b8e186"
            ],
            [
             0.8,
             "#7fbc41"
            ],
            [
             0.9,
             "#4d9221"
            ],
            [
             1,
             "#276419"
            ]
           ],
           "sequential": [
            [
             0,
             "#0d0887"
            ],
            [
             0.1111111111111111,
             "#46039f"
            ],
            [
             0.2222222222222222,
             "#7201a8"
            ],
            [
             0.3333333333333333,
             "#9c179e"
            ],
            [
             0.4444444444444444,
             "#bd3786"
            ],
            [
             0.5555555555555556,
             "#d8576b"
            ],
            [
             0.6666666666666666,
             "#ed7953"
            ],
            [
             0.7777777777777778,
             "#fb9f3a"
            ],
            [
             0.8888888888888888,
             "#fdca26"
            ],
            [
             1,
             "#f0f921"
            ]
           ],
           "sequentialminus": [
            [
             0,
             "#0d0887"
            ],
            [
             0.1111111111111111,
             "#46039f"
            ],
            [
             0.2222222222222222,
             "#7201a8"
            ],
            [
             0.3333333333333333,
             "#9c179e"
            ],
            [
             0.4444444444444444,
             "#bd3786"
            ],
            [
             0.5555555555555556,
             "#d8576b"
            ],
            [
             0.6666666666666666,
             "#ed7953"
            ],
            [
             0.7777777777777778,
             "#fb9f3a"
            ],
            [
             0.8888888888888888,
             "#fdca26"
            ],
            [
             1,
             "#f0f921"
            ]
           ]
          },
          "colorway": [
           "#636efa",
           "#EF553B",
           "#00cc96",
           "#ab63fa",
           "#FFA15A",
           "#19d3f3",
           "#FF6692",
           "#B6E880",
           "#FF97FF",
           "#FECB52"
          ],
          "font": {
           "color": "#2a3f5f"
          },
          "geo": {
           "bgcolor": "white",
           "lakecolor": "white",
           "landcolor": "#E5ECF6",
           "showlakes": true,
           "showland": true,
           "subunitcolor": "white"
          },
          "hoverlabel": {
           "align": "left"
          },
          "hovermode": "closest",
          "mapbox": {
           "style": "light"
          },
          "paper_bgcolor": "white",
          "plot_bgcolor": "#E5ECF6",
          "polar": {
           "angularaxis": {
            "gridcolor": "white",
            "linecolor": "white",
            "ticks": ""
           },
           "bgcolor": "#E5ECF6",
           "radialaxis": {
            "gridcolor": "white",
            "linecolor": "white",
            "ticks": ""
           }
          },
          "scene": {
           "xaxis": {
            "backgroundcolor": "#E5ECF6",
            "gridcolor": "white",
            "gridwidth": 2,
            "linecolor": "white",
            "showbackground": true,
            "ticks": "",
            "zerolinecolor": "white"
           },
           "yaxis": {
            "backgroundcolor": "#E5ECF6",
            "gridcolor": "white",
            "gridwidth": 2,
            "linecolor": "white",
            "showbackground": true,
            "ticks": "",
            "zerolinecolor": "white"
           },
           "zaxis": {
            "backgroundcolor": "#E5ECF6",
            "gridcolor": "white",
            "gridwidth": 2,
            "linecolor": "white",
            "showbackground": true,
            "ticks": "",
            "zerolinecolor": "white"
           }
          },
          "shapedefaults": {
           "line": {
            "color": "#2a3f5f"
           }
          },
          "ternary": {
           "aaxis": {
            "gridcolor": "white",
            "linecolor": "white",
            "ticks": ""
           },
           "baxis": {
            "gridcolor": "white",
            "linecolor": "white",
            "ticks": ""
           },
           "bgcolor": "#E5ECF6",
           "caxis": {
            "gridcolor": "white",
            "linecolor": "white",
            "ticks": ""
           }
          },
          "title": {
           "x": 0.05
          },
          "xaxis": {
           "automargin": true,
           "gridcolor": "white",
           "linecolor": "white",
           "ticks": "",
           "title": {
            "standoff": 15
           },
           "zerolinecolor": "white",
           "zerolinewidth": 2
          },
          "yaxis": {
           "automargin": true,
           "gridcolor": "white",
           "linecolor": "white",
           "ticks": "",
           "title": {
            "standoff": 15
           },
           "zerolinecolor": "white",
           "zerolinewidth": 2
          }
         }
        },
        "xaxis": {
         "anchor": "y",
         "domain": [
          0,
          1
         ],
         "title": {
          "text": "Date Snapshot"
         }
        },
        "yaxis": {
         "anchor": "x",
         "domain": [
          0,
          1
         ],
         "title": {
          "text": "value"
         }
        }
       }
      }
     },
     "metadata": {},
     "output_type": "display_data"
    }
   ],
   "source": [
    "t.line(combined_df, [\"Stock Gain / (Loss)\"])\n",
    "# t.line_facets(combined_df, 'symbol Return', 'Benchmark Return')"
   ]
  }
 ],
 "metadata": {
  "interpreter": {
   "hash": "2d92824427b41c6028804632d5278b37df1fc0de77b5e6f8aeb0bbbd2f432773"
  },
  "kernelspec": {
   "display_name": "Python 3.7.12 ('cryptoenv')",
   "language": "python",
   "name": "python3"
  },
  "language_info": {
   "codemirror_mode": {
    "name": "ipython",
    "version": 3
   },
   "file_extension": ".py",
   "mimetype": "text/x-python",
   "name": "python",
   "nbconvert_exporter": "python",
   "pygments_lexer": "ipython3",
   "version": "3.7.12"
  },
  "orig_nbformat": 4
 },
 "nbformat": 4,
 "nbformat_minor": 2
}
