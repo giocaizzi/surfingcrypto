{
 "cells": [
  {
   "cell_type": "markdown",
   "metadata": {},
   "source": [
    "# Portfolio\n",
    "\n",
    "## MyCoinbase\n",
    "\n",
    "`MyCoinbase` is the class that handles the integrated Coinbase user-profile, that is made of the client methods - inherited from the Coinbase API client wrapper object `CB` - plus some additional methods that are used for facilitating the user's sessions."
   ]
  },
  {
   "cell_type": "code",
   "execution_count": 1,
   "metadata": {},
   "outputs": [],
   "source": [
    "%load_ext autoreload\n",
    "%autoreload 2\n",
    "from surfingcrypto import Config\n",
    "from surfingcrypto.portfolio import MyCoinbase"
   ]
  },
  {
   "cell_type": "code",
   "execution_count": 2,
   "metadata": {},
   "outputs": [],
   "source": [
    "parent=\"/Users/giorgiocaizzi/Documents/GitHub/surfingcrypto/\"\n",
    "c=Config(parent+\"config\")"
   ]
  },
  {
   "cell_type": "markdown",
   "metadata": {},
   "source": [
    "### Get active accounts\n",
    "\n",
    "Basic `MyCoinbase` initialization offers loading all accounts that can be considered `active`, a.k.a. that have a `balance`> 0.00 EUR or USD."
   ]
  },
  {
   "cell_type": "code",
   "execution_count": 3,
   "metadata": {},
   "outputs": [
    {
     "name": "stdout",
     "output_type": "stream",
     "text": [
      "MyCoinbase( isHistoric:False,  last updated:2022-02-27 15:37:17.335515, N_accounts:6)\n"
     ]
    }
   ],
   "source": [
    "cb=MyCoinbase(configuration=c)\n",
    "print(cb)"
   ]
  },
  {
   "cell_type": "code",
   "execution_count": 4,
   "metadata": {},
   "outputs": [
    {
     "name": "stdout",
     "output_type": "stream",
     "text": [
      "AAVE : EUR 127.41\n",
      "SUSHI : EUR 65.08\n",
      "MATIC : EUR 346.68\n",
      "UNI : EUR 117.89\n",
      "ADA : EUR 315.03\n",
      "USDC : EUR 0.01\n",
      "---\n",
      "Portfolio: EUR 972.10\n"
     ]
    }
   ],
   "source": [
    "print(cb.mycoinbase_report())"
   ]
  },
  {
   "cell_type": "markdown",
   "metadata": {},
   "source": [
    "### Get all accounts with transactions.\n",
    "\n",
    "This is the `isHistoric` mode of MyCoinbase, in which the `accounts` represents all accounts that has ever had a transaction. These accounts can either be fetched all from Coinbase API or locally cached.\n",
    "\n",
    "If the local cached account file is older than 7 days, it is automatically updated. Otherwise, accounts are loaded from the ones specified in dump file.\n",
    "\n",
    "There is a huge difference in time of execution, loading all accounts that have transactions takes about 1m 20s versus about 12.7s to load accounts from a local dump file."
   ]
  },
  {
   "cell_type": "code",
   "execution_count": 5,
   "metadata": {},
   "outputs": [
    {
     "name": "stdout",
     "output_type": "stream",
     "text": [
      "MyCoinbase( isHistoric:True,  last updated:2022-02-27 11:23:57, N_accounts:30)\n"
     ]
    }
   ],
   "source": [
    "cb=MyCoinbase(\n",
    "    active_accounts=False,\n",
    "    configuration=c)\n",
    "print(cb)"
   ]
  },
  {
   "cell_type": "markdown",
   "metadata": {},
   "source": [
    "Obviously the result of `mycoinbase_report()` won't change as it ignores accounts that have `balance`==0.00, but the length of the `accounts` attribute has more accounts than when initalized for only the active ones."
   ]
  },
  {
   "cell_type": "code",
   "execution_count": 6,
   "metadata": {},
   "outputs": [
    {
     "name": "stdout",
     "output_type": "stream",
     "text": [
      "AAVE : EUR 127.41\n",
      "SUSHI : EUR 65.08\n",
      "MATIC : EUR 346.68\n",
      "UNI : EUR 117.89\n",
      "ADA : EUR 315.03\n",
      "USDC : EUR 0.01\n",
      "---\n",
      "Portfolio: EUR 972.10\n"
     ]
    }
   ],
   "source": [
    "print(cb.mycoinbase_report())"
   ]
  }
 ],
 "metadata": {
  "interpreter": {
   "hash": "2e02a164808c41417adc12155d25fe4bbfd713e61a4a1963afc9ad34588db99f"
  },
  "kernelspec": {
   "display_name": "Python 3.7.11 64-bit ('crypto': conda)",
   "language": "python",
   "name": "python3"
  },
  "language_info": {
   "codemirror_mode": {
    "name": "ipython",
    "version": 3
   },
   "file_extension": ".py",
   "mimetype": "text/x-python",
   "name": "python",
   "nbconvert_exporter": "python",
   "pygments_lexer": "ipython3",
   "version": "3.7.12"
  },
  "orig_nbformat": 4
 },
 "nbformat": 4,
 "nbformat_minor": 2
}
