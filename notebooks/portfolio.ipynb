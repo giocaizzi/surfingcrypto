{
 "cells": [
  {
   "cell_type": "markdown",
   "metadata": {},
   "source": [
    "# Surfingcrypto `Portfolio`\n",
    "\n",
    "The `surfingcrypto` portfolio."
   ]
  },
  {
   "cell_type": "code",
   "execution_count": 42,
   "metadata": {},
   "outputs": [
    {
     "name": "stdout",
     "output_type": "stream",
     "text": [
      "The autoreload extension is already loaded. To reload it, use:\n",
      "  %reload_ext autoreload\n"
     ]
    }
   ],
   "source": [
    "%load_ext autoreload\n",
    "%autoreload 2\n",
    "from surfingcrypto import Config\n",
    "from surfingcrypto.portfolio import Portfolio\n",
    "from surfingcrypto.portfolio.tracker import Tracker\n",
    "\n",
    "import pandas as pd\n",
    "c=Config(\"/Users/giorgiocaizzi/Documents/GitHub/surfingcrypto/config\")"
   ]
  },
  {
   "cell_type": "code",
   "execution_count": 43,
   "metadata": {},
   "outputs": [
    {
     "name": "stdout",
     "output_type": "stream",
     "text": [
      "Warning! There are 5 transactionsthat were EXCLUDED in std_df.\n",
      "Coinbase errors:\n",
      "TransactionsHistory(Transactions:186 - Processed:186, Unhandled:0 - Errors:9)\n"
     ]
    }
   ],
   "source": [
    "p=Portfolio(\"coinbase\",configuration=c)"
   ]
  },
  {
   "cell_type": "code",
   "execution_count": 44,
   "metadata": {},
   "outputs": [
    {
     "data": {
      "text/html": [
       "<div>\n",
       "<style scoped>\n",
       "    .dataframe tbody tr th:only-of-type {\n",
       "        vertical-align: middle;\n",
       "    }\n",
       "\n",
       "    .dataframe tbody tr th {\n",
       "        vertical-align: top;\n",
       "    }\n",
       "\n",
       "    .dataframe thead th {\n",
       "        text-align: right;\n",
       "    }\n",
       "</style>\n",
       "<table border=\"1\" class=\"dataframe\">\n",
       "  <thead>\n",
       "    <tr style=\"text-align: right;\">\n",
       "      <th></th>\n",
       "      <th>type</th>\n",
       "      <th>amount</th>\n",
       "      <th>symbol</th>\n",
       "      <th>native_amount</th>\n",
       "      <th>nat_symbol</th>\n",
       "      <th>total</th>\n",
       "      <th>subtotal</th>\n",
       "      <th>total_fee</th>\n",
       "      <th>spot_price</th>\n",
       "      <th>trade_id</th>\n",
       "    </tr>\n",
       "    <tr>\n",
       "      <th>datetime</th>\n",
       "      <th></th>\n",
       "      <th></th>\n",
       "      <th></th>\n",
       "      <th></th>\n",
       "      <th></th>\n",
       "      <th></th>\n",
       "      <th></th>\n",
       "      <th></th>\n",
       "      <th></th>\n",
       "      <th></th>\n",
       "    </tr>\n",
       "  </thead>\n",
       "  <tbody>\n",
       "    <tr>\n",
       "      <th>2018-10-22T06:29:22Z</th>\n",
       "      <td>buy</td>\n",
       "      <td>0.017237</td>\n",
       "      <td>BTC</td>\n",
       "      <td>100.00</td>\n",
       "      <td>EUR</td>\n",
       "      <td>100.00</td>\n",
       "      <td>97.01</td>\n",
       "      <td>2.99</td>\n",
       "      <td>5627.999719</td>\n",
       "      <td>None</td>\n",
       "    </tr>\n",
       "    <tr>\n",
       "      <th>2018-10-22T06:29:22Z</th>\n",
       "      <td>buy</td>\n",
       "      <td>100.000000</td>\n",
       "      <td>EUR</td>\n",
       "      <td>100.00</td>\n",
       "      <td>EUR</td>\n",
       "      <td>NaN</td>\n",
       "      <td>NaN</td>\n",
       "      <td>NaN</td>\n",
       "      <td>1.000000</td>\n",
       "      <td>None</td>\n",
       "    </tr>\n",
       "    <tr>\n",
       "      <th>2018-11-09T12:05:12Z</th>\n",
       "      <td>sell</td>\n",
       "      <td>0.017237</td>\n",
       "      <td>BTC</td>\n",
       "      <td>93.27</td>\n",
       "      <td>EUR</td>\n",
       "      <td>93.27</td>\n",
       "      <td>96.26</td>\n",
       "      <td>2.99</td>\n",
       "      <td>5584.488743</td>\n",
       "      <td>None</td>\n",
       "    </tr>\n",
       "    <tr>\n",
       "      <th>2018-11-09T12:05:13Z</th>\n",
       "      <td>sell</td>\n",
       "      <td>93.270000</td>\n",
       "      <td>EUR</td>\n",
       "      <td>93.27</td>\n",
       "      <td>EUR</td>\n",
       "      <td>NaN</td>\n",
       "      <td>NaN</td>\n",
       "      <td>NaN</td>\n",
       "      <td>1.000000</td>\n",
       "      <td>None</td>\n",
       "    </tr>\n",
       "    <tr>\n",
       "      <th>2018-11-09T12:06:14Z</th>\n",
       "      <td>buy</td>\n",
       "      <td>348.021666</td>\n",
       "      <td>BAT</td>\n",
       "      <td>93.27</td>\n",
       "      <td>EUR</td>\n",
       "      <td>93.27</td>\n",
       "      <td>90.28</td>\n",
       "      <td>2.99</td>\n",
       "      <td>0.259409</td>\n",
       "      <td>None</td>\n",
       "    </tr>\n",
       "    <tr>\n",
       "      <th>2018-11-09T12:06:15Z</th>\n",
       "      <td>buy</td>\n",
       "      <td>93.270000</td>\n",
       "      <td>EUR</td>\n",
       "      <td>93.27</td>\n",
       "      <td>EUR</td>\n",
       "      <td>NaN</td>\n",
       "      <td>NaN</td>\n",
       "      <td>NaN</td>\n",
       "      <td>1.000000</td>\n",
       "      <td>None</td>\n",
       "    </tr>\n",
       "    <tr>\n",
       "      <th>2019-01-25T14:28:56Z</th>\n",
       "      <td>sell</td>\n",
       "      <td>35.960000</td>\n",
       "      <td>EUR</td>\n",
       "      <td>35.96</td>\n",
       "      <td>EUR</td>\n",
       "      <td>NaN</td>\n",
       "      <td>NaN</td>\n",
       "      <td>NaN</td>\n",
       "      <td>1.000000</td>\n",
       "      <td>None</td>\n",
       "    </tr>\n",
       "    <tr>\n",
       "      <th>2019-01-25T14:28:56Z</th>\n",
       "      <td>sell</td>\n",
       "      <td>348.021666</td>\n",
       "      <td>BAT</td>\n",
       "      <td>35.96</td>\n",
       "      <td>EUR</td>\n",
       "      <td>35.96</td>\n",
       "      <td>37.95</td>\n",
       "      <td>1.99</td>\n",
       "      <td>0.109045</td>\n",
       "      <td>None</td>\n",
       "    </tr>\n",
       "    <tr>\n",
       "      <th>2021-04-20T18:57:40Z</th>\n",
       "      <td>buy</td>\n",
       "      <td>0.258429</td>\n",
       "      <td>ETH</td>\n",
       "      <td>500.00</td>\n",
       "      <td>EUR</td>\n",
       "      <td>500.00</td>\n",
       "      <td>492.66</td>\n",
       "      <td>7.34</td>\n",
       "      <td>1906.364408</td>\n",
       "      <td>None</td>\n",
       "    </tr>\n",
       "    <tr>\n",
       "      <th>2021-04-20T18:57:41Z</th>\n",
       "      <td>buy</td>\n",
       "      <td>500.000000</td>\n",
       "      <td>EUR</td>\n",
       "      <td>500.00</td>\n",
       "      <td>EUR</td>\n",
       "      <td>NaN</td>\n",
       "      <td>NaN</td>\n",
       "      <td>NaN</td>\n",
       "      <td>1.000000</td>\n",
       "      <td>None</td>\n",
       "    </tr>\n",
       "  </tbody>\n",
       "</table>\n",
       "</div>"
      ],
      "text/plain": [
       "                      type      amount symbol  native_amount nat_symbol  \\\n",
       "datetime                                                                  \n",
       "2018-10-22T06:29:22Z   buy    0.017237    BTC         100.00        EUR   \n",
       "2018-10-22T06:29:22Z   buy  100.000000    EUR         100.00        EUR   \n",
       "2018-11-09T12:05:12Z  sell    0.017237    BTC          93.27        EUR   \n",
       "2018-11-09T12:05:13Z  sell   93.270000    EUR          93.27        EUR   \n",
       "2018-11-09T12:06:14Z   buy  348.021666    BAT          93.27        EUR   \n",
       "2018-11-09T12:06:15Z   buy   93.270000    EUR          93.27        EUR   \n",
       "2019-01-25T14:28:56Z  sell   35.960000    EUR          35.96        EUR   \n",
       "2019-01-25T14:28:56Z  sell  348.021666    BAT          35.96        EUR   \n",
       "2021-04-20T18:57:40Z   buy    0.258429    ETH         500.00        EUR   \n",
       "2021-04-20T18:57:41Z   buy  500.000000    EUR         500.00        EUR   \n",
       "\n",
       "                       total  subtotal  total_fee   spot_price trade_id  \n",
       "datetime                                                                 \n",
       "2018-10-22T06:29:22Z  100.00     97.01       2.99  5627.999719     None  \n",
       "2018-10-22T06:29:22Z     NaN       NaN        NaN     1.000000     None  \n",
       "2018-11-09T12:05:12Z   93.27     96.26       2.99  5584.488743     None  \n",
       "2018-11-09T12:05:13Z     NaN       NaN        NaN     1.000000     None  \n",
       "2018-11-09T12:06:14Z   93.27     90.28       2.99     0.259409     None  \n",
       "2018-11-09T12:06:15Z     NaN       NaN        NaN     1.000000     None  \n",
       "2019-01-25T14:28:56Z     NaN       NaN        NaN     1.000000     None  \n",
       "2019-01-25T14:28:56Z   35.96     37.95       1.99     0.109045     None  \n",
       "2021-04-20T18:57:40Z  500.00    492.66       7.34  1906.364408     None  \n",
       "2021-04-20T18:57:41Z     NaN       NaN        NaN     1.000000     None  "
      ]
     },
     "execution_count": 44,
     "metadata": {},
     "output_type": "execute_result"
    }
   ],
   "source": [
    "p.std_df.head(10)"
   ]
  },
  {
   "cell_type": "code",
   "execution_count": 45,
   "metadata": {},
   "outputs": [
    {
     "data": {
      "text/plain": [
       "234.18000000000026"
      ]
     },
     "execution_count": 45,
     "metadata": {},
     "output_type": "execute_result"
    }
   ],
   "source": [
    "p.std_df.total_fee.sum()"
   ]
  },
  {
   "cell_type": "markdown",
   "metadata": {},
   "source": [
    "## Portfolio live value tracker"
   ]
  },
  {
   "cell_type": "code",
   "execution_count": 46,
   "metadata": {},
   "outputs": [],
   "source": [
    "t=Tracker(p.std_df,stocks_start=\"1-1-2021\",configuration=c)"
   ]
  },
  {
   "cell_type": "code",
   "execution_count": 47,
   "metadata": {},
   "outputs": [
    {
     "data": {
      "text/plain": [
       "Timestamp('2021-01-01 00:00:00+0000', tz='UTC')"
      ]
     },
     "execution_count": 47,
     "metadata": {},
     "output_type": "execute_result"
    }
   ],
   "source": [
    "t.stocks_start"
   ]
  },
  {
   "cell_type": "code",
   "execution_count": 48,
   "metadata": {},
   "outputs": [
    {
     "data": {
      "text/html": [
       "<div>\n",
       "<style scoped>\n",
       "    .dataframe tbody tr th:only-of-type {\n",
       "        vertical-align: middle;\n",
       "    }\n",
       "\n",
       "    .dataframe tbody tr th {\n",
       "        vertical-align: top;\n",
       "    }\n",
       "\n",
       "    .dataframe thead th {\n",
       "        text-align: right;\n",
       "    }\n",
       "</style>\n",
       "<table border=\"1\" class=\"dataframe\">\n",
       "  <thead>\n",
       "    <tr style=\"text-align: right;\">\n",
       "      <th></th>\n",
       "      <th>Open date</th>\n",
       "      <th>Type</th>\n",
       "      <th>Qty</th>\n",
       "      <th>Symbol</th>\n",
       "      <th>Adj cost</th>\n",
       "      <th>Adj cost per share</th>\n",
       "    </tr>\n",
       "  </thead>\n",
       "  <tbody>\n",
       "    <tr>\n",
       "      <th>0</th>\n",
       "      <td>2021-04-20 18:57:40+00:00</td>\n",
       "      <td>buy</td>\n",
       "      <td>0.258429</td>\n",
       "      <td>ETH</td>\n",
       "      <td>500.00</td>\n",
       "      <td>1906.364408</td>\n",
       "    </tr>\n",
       "    <tr>\n",
       "      <th>1</th>\n",
       "      <td>2021-04-22 10:13:53+00:00</td>\n",
       "      <td>buy</td>\n",
       "      <td>0.062128</td>\n",
       "      <td>MKR</td>\n",
       "      <td>250.00</td>\n",
       "      <td>3964.873854</td>\n",
       "    </tr>\n",
       "    <tr>\n",
       "      <th>2</th>\n",
       "      <td>2021-04-22 19:20:15+00:00</td>\n",
       "      <td>sell</td>\n",
       "      <td>0.062128</td>\n",
       "      <td>MKR</td>\n",
       "      <td>213.69</td>\n",
       "      <td>3491.496921</td>\n",
       "    </tr>\n",
       "    <tr>\n",
       "      <th>3</th>\n",
       "      <td>2021-04-24 08:53:47+00:00</td>\n",
       "      <td>buy</td>\n",
       "      <td>210.343863</td>\n",
       "      <td>ADA</td>\n",
       "      <td>213.69</td>\n",
       "      <td>1.000980</td>\n",
       "    </tr>\n",
       "    <tr>\n",
       "      <th>4</th>\n",
       "      <td>2021-04-25 16:15:33+00:00</td>\n",
       "      <td>buy</td>\n",
       "      <td>0.350116</td>\n",
       "      <td>CGLD</td>\n",
       "      <td>1.65</td>\n",
       "      <td>4.712730</td>\n",
       "    </tr>\n",
       "    <tr>\n",
       "      <th>...</th>\n",
       "      <td>...</td>\n",
       "      <td>...</td>\n",
       "      <td>...</td>\n",
       "      <td>...</td>\n",
       "      <td>...</td>\n",
       "      <td>...</td>\n",
       "    </tr>\n",
       "    <tr>\n",
       "      <th>163</th>\n",
       "      <td>2022-01-02 23:24:25+00:00</td>\n",
       "      <td>sell</td>\n",
       "      <td>1.026156</td>\n",
       "      <td>SOL</td>\n",
       "      <td>159.04</td>\n",
       "      <td>154.986191</td>\n",
       "    </tr>\n",
       "    <tr>\n",
       "      <th>164</th>\n",
       "      <td>2022-01-04 10:33:27+00:00</td>\n",
       "      <td>buy</td>\n",
       "      <td>0.067396</td>\n",
       "      <td>ETH</td>\n",
       "      <td>225.88</td>\n",
       "      <td>3351.534216</td>\n",
       "    </tr>\n",
       "    <tr>\n",
       "      <th>165</th>\n",
       "      <td>2022-01-04 10:44:49+00:00</td>\n",
       "      <td>buy</td>\n",
       "      <td>1.511428</td>\n",
       "      <td>SOL</td>\n",
       "      <td>225.73</td>\n",
       "      <td>149.348800</td>\n",
       "    </tr>\n",
       "    <tr>\n",
       "      <th>166</th>\n",
       "      <td>2022-01-04 10:44:51+00:00</td>\n",
       "      <td>sell</td>\n",
       "      <td>0.068600</td>\n",
       "      <td>ETH</td>\n",
       "      <td>230.19</td>\n",
       "      <td>3355.559414</td>\n",
       "    </tr>\n",
       "    <tr>\n",
       "      <th>167</th>\n",
       "      <td>2022-01-04 10:46:31+00:00</td>\n",
       "      <td>sell</td>\n",
       "      <td>1.511428</td>\n",
       "      <td>SOL</td>\n",
       "      <td>226.08</td>\n",
       "      <td>149.580369</td>\n",
       "    </tr>\n",
       "  </tbody>\n",
       "</table>\n",
       "<p>168 rows × 6 columns</p>\n",
       "</div>"
      ],
      "text/plain": [
       "                    Open date  Type         Qty Symbol  Adj cost  \\\n",
       "0   2021-04-20 18:57:40+00:00   buy    0.258429    ETH    500.00   \n",
       "1   2021-04-22 10:13:53+00:00   buy    0.062128    MKR    250.00   \n",
       "2   2021-04-22 19:20:15+00:00  sell    0.062128    MKR    213.69   \n",
       "3   2021-04-24 08:53:47+00:00   buy  210.343863    ADA    213.69   \n",
       "4   2021-04-25 16:15:33+00:00   buy    0.350116   CGLD      1.65   \n",
       "..                        ...   ...         ...    ...       ...   \n",
       "163 2022-01-02 23:24:25+00:00  sell    1.026156    SOL    159.04   \n",
       "164 2022-01-04 10:33:27+00:00   buy    0.067396    ETH    225.88   \n",
       "165 2022-01-04 10:44:49+00:00   buy    1.511428    SOL    225.73   \n",
       "166 2022-01-04 10:44:51+00:00  sell    0.068600    ETH    230.19   \n",
       "167 2022-01-04 10:46:31+00:00  sell    1.511428    SOL    226.08   \n",
       "\n",
       "     Adj cost per share  \n",
       "0           1906.364408  \n",
       "1           3964.873854  \n",
       "2           3491.496921  \n",
       "3              1.000980  \n",
       "4              4.712730  \n",
       "..                  ...  \n",
       "163          154.986191  \n",
       "164         3351.534216  \n",
       "165          149.348800  \n",
       "166         3355.559414  \n",
       "167          149.580369  \n",
       "\n",
       "[168 rows x 6 columns]"
      ]
     },
     "execution_count": 48,
     "metadata": {},
     "output_type": "execute_result"
    }
   ],
   "source": [
    "t.portfolio_df"
   ]
  },
  {
   "cell_type": "code",
   "execution_count": 49,
   "metadata": {},
   "outputs": [
    {
     "name": "stdout",
     "output_type": "stream",
     "text": [
      "27\n"
     ]
    }
   ],
   "source": [
    "print(len(t.portfolio_df.Symbol.unique()))"
   ]
  },
  {
   "cell_type": "code",
   "execution_count": 50,
   "metadata": {},
   "outputs": [
    {
     "data": {
      "text/html": [
       "<div>\n",
       "<style scoped>\n",
       "    .dataframe tbody tr th:only-of-type {\n",
       "        vertical-align: middle;\n",
       "    }\n",
       "\n",
       "    .dataframe tbody tr th {\n",
       "        vertical-align: top;\n",
       "    }\n",
       "\n",
       "    .dataframe thead th {\n",
       "        text-align: right;\n",
       "    }\n",
       "</style>\n",
       "<table border=\"1\" class=\"dataframe\">\n",
       "  <thead>\n",
       "    <tr style=\"text-align: right;\">\n",
       "      <th></th>\n",
       "      <th>Date</th>\n",
       "      <th>Close</th>\n",
       "      <th>symbol</th>\n",
       "    </tr>\n",
       "  </thead>\n",
       "  <tbody>\n",
       "    <tr>\n",
       "      <th>0</th>\n",
       "      <td>2021-01-01 00:00:00+00:00</td>\n",
       "      <td>600.859522</td>\n",
       "      <td>ETH</td>\n",
       "    </tr>\n",
       "    <tr>\n",
       "      <th>1</th>\n",
       "      <td>2021-01-02 00:00:00+00:00</td>\n",
       "      <td>638.265609</td>\n",
       "      <td>ETH</td>\n",
       "    </tr>\n",
       "    <tr>\n",
       "      <th>2</th>\n",
       "      <td>2021-01-03 00:00:00+00:00</td>\n",
       "      <td>796.329350</td>\n",
       "      <td>ETH</td>\n",
       "    </tr>\n",
       "    <tr>\n",
       "      <th>3</th>\n",
       "      <td>2021-01-04 00:00:00+00:00</td>\n",
       "      <td>848.990363</td>\n",
       "      <td>ETH</td>\n",
       "    </tr>\n",
       "    <tr>\n",
       "      <th>4</th>\n",
       "      <td>2021-01-05 00:00:00+00:00</td>\n",
       "      <td>894.422659</td>\n",
       "      <td>ETH</td>\n",
       "    </tr>\n",
       "    <tr>\n",
       "      <th>...</th>\n",
       "      <td>...</td>\n",
       "      <td>...</td>\n",
       "      <td>...</td>\n",
       "    </tr>\n",
       "    <tr>\n",
       "      <th>3029</th>\n",
       "      <td>2022-03-07 00:00:00+00:00</td>\n",
       "      <td>75.582331</td>\n",
       "      <td>SOL</td>\n",
       "    </tr>\n",
       "    <tr>\n",
       "      <th>3030</th>\n",
       "      <td>2022-03-08 00:00:00+00:00</td>\n",
       "      <td>75.478203</td>\n",
       "      <td>SOL</td>\n",
       "    </tr>\n",
       "    <tr>\n",
       "      <th>3031</th>\n",
       "      <td>2022-03-09 00:00:00+00:00</td>\n",
       "      <td>79.651404</td>\n",
       "      <td>SOL</td>\n",
       "    </tr>\n",
       "    <tr>\n",
       "      <th>3032</th>\n",
       "      <td>2022-03-10 00:00:00+00:00</td>\n",
       "      <td>75.308279</td>\n",
       "      <td>SOL</td>\n",
       "    </tr>\n",
       "    <tr>\n",
       "      <th>3033</th>\n",
       "      <td>2022-03-11 00:00:00+00:00</td>\n",
       "      <td>73.982926</td>\n",
       "      <td>SOL</td>\n",
       "    </tr>\n",
       "  </tbody>\n",
       "</table>\n",
       "<p>3034 rows × 3 columns</p>\n",
       "</div>"
      ],
      "text/plain": [
       "                          Date       Close symbol\n",
       "0    2021-01-01 00:00:00+00:00  600.859522    ETH\n",
       "1    2021-01-02 00:00:00+00:00  638.265609    ETH\n",
       "2    2021-01-03 00:00:00+00:00  796.329350    ETH\n",
       "3    2021-01-04 00:00:00+00:00  848.990363    ETH\n",
       "4    2021-01-05 00:00:00+00:00  894.422659    ETH\n",
       "...                        ...         ...    ...\n",
       "3029 2022-03-07 00:00:00+00:00   75.582331    SOL\n",
       "3030 2022-03-08 00:00:00+00:00   75.478203    SOL\n",
       "3031 2022-03-09 00:00:00+00:00   79.651404    SOL\n",
       "3032 2022-03-10 00:00:00+00:00   75.308279    SOL\n",
       "3033 2022-03-11 00:00:00+00:00   73.982926    SOL\n",
       "\n",
       "[3034 rows x 3 columns]"
      ]
     },
     "execution_count": 50,
     "metadata": {},
     "output_type": "execute_result"
    }
   ],
   "source": [
    "closedata=t.load_data()\n",
    "closedata"
   ]
  },
  {
   "cell_type": "code",
   "execution_count": 51,
   "metadata": {},
   "outputs": [
    {
     "data": {
      "text/plain": [
       "[]"
      ]
     },
     "execution_count": 51,
     "metadata": {},
     "output_type": "execute_result"
    }
   ],
   "source": [
    "t.error_log"
   ]
  },
  {
   "cell_type": "code",
   "execution_count": 52,
   "metadata": {},
   "outputs": [
    {
     "name": "stdout",
     "output_type": "stream",
     "text": [
      "27\n"
     ]
    }
   ],
   "source": [
    "print(len(closedata.symbol.unique()))"
   ]
  },
  {
   "cell_type": "code",
   "execution_count": 53,
   "metadata": {},
   "outputs": [
    {
     "data": {
      "text/html": [
       "<div>\n",
       "<style scoped>\n",
       "    .dataframe tbody tr th:only-of-type {\n",
       "        vertical-align: middle;\n",
       "    }\n",
       "\n",
       "    .dataframe tbody tr th {\n",
       "        vertical-align: top;\n",
       "    }\n",
       "\n",
       "    .dataframe thead th {\n",
       "        text-align: right;\n",
       "    }\n",
       "</style>\n",
       "<table border=\"1\" class=\"dataframe\">\n",
       "  <thead>\n",
       "    <tr style=\"text-align: right;\">\n",
       "      <th></th>\n",
       "      <th>Date</th>\n",
       "      <th>Close</th>\n",
       "    </tr>\n",
       "  </thead>\n",
       "  <tbody>\n",
       "    <tr>\n",
       "      <th>0</th>\n",
       "      <td>2021-01-01 00:00:00+00:00</td>\n",
       "      <td>600.859522</td>\n",
       "    </tr>\n",
       "    <tr>\n",
       "      <th>1</th>\n",
       "      <td>2021-01-02 00:00:00+00:00</td>\n",
       "      <td>638.265609</td>\n",
       "    </tr>\n",
       "    <tr>\n",
       "      <th>2</th>\n",
       "      <td>2021-01-03 00:00:00+00:00</td>\n",
       "      <td>796.329350</td>\n",
       "    </tr>\n",
       "    <tr>\n",
       "      <th>3</th>\n",
       "      <td>2021-01-04 00:00:00+00:00</td>\n",
       "      <td>848.990363</td>\n",
       "    </tr>\n",
       "    <tr>\n",
       "      <th>4</th>\n",
       "      <td>2021-01-05 00:00:00+00:00</td>\n",
       "      <td>894.422659</td>\n",
       "    </tr>\n",
       "    <tr>\n",
       "      <th>...</th>\n",
       "      <td>...</td>\n",
       "      <td>...</td>\n",
       "    </tr>\n",
       "    <tr>\n",
       "      <th>430</th>\n",
       "      <td>2022-03-07 00:00:00+00:00</td>\n",
       "      <td>2298.639000</td>\n",
       "    </tr>\n",
       "    <tr>\n",
       "      <th>431</th>\n",
       "      <td>2022-03-08 00:00:00+00:00</td>\n",
       "      <td>2364.462260</td>\n",
       "    </tr>\n",
       "    <tr>\n",
       "      <th>432</th>\n",
       "      <td>2022-03-09 00:00:00+00:00</td>\n",
       "      <td>2465.147372</td>\n",
       "    </tr>\n",
       "    <tr>\n",
       "      <th>433</th>\n",
       "      <td>2022-03-10 00:00:00+00:00</td>\n",
       "      <td>2368.094996</td>\n",
       "    </tr>\n",
       "    <tr>\n",
       "      <th>434</th>\n",
       "      <td>2022-03-11 00:00:00+00:00</td>\n",
       "      <td>2345.209878</td>\n",
       "    </tr>\n",
       "  </tbody>\n",
       "</table>\n",
       "<p>435 rows × 2 columns</p>\n",
       "</div>"
      ],
      "text/plain": [
       "                         Date        Close\n",
       "0   2021-01-01 00:00:00+00:00   600.859522\n",
       "1   2021-01-02 00:00:00+00:00   638.265609\n",
       "2   2021-01-03 00:00:00+00:00   796.329350\n",
       "3   2021-01-04 00:00:00+00:00   848.990363\n",
       "4   2021-01-05 00:00:00+00:00   894.422659\n",
       "..                        ...          ...\n",
       "430 2022-03-07 00:00:00+00:00  2298.639000\n",
       "431 2022-03-08 00:00:00+00:00  2364.462260\n",
       "432 2022-03-09 00:00:00+00:00  2465.147372\n",
       "433 2022-03-10 00:00:00+00:00  2368.094996\n",
       "434 2022-03-11 00:00:00+00:00  2345.209878\n",
       "\n",
       "[435 rows x 2 columns]"
      ]
     },
     "execution_count": 53,
     "metadata": {},
     "output_type": "execute_result"
    }
   ],
   "source": [
    "benchmark=t.set_benchmark(\"ETH\")\n",
    "benchmark"
   ]
  },
  {
   "cell_type": "code",
   "execution_count": 54,
   "metadata": {},
   "outputs": [
    {
     "data": {
      "text/html": [
       "<div>\n",
       "<style scoped>\n",
       "    .dataframe tbody tr th:only-of-type {\n",
       "        vertical-align: middle;\n",
       "    }\n",
       "\n",
       "    .dataframe tbody tr th {\n",
       "        vertical-align: top;\n",
       "    }\n",
       "\n",
       "    .dataframe thead th {\n",
       "        text-align: right;\n",
       "    }\n",
       "</style>\n",
       "<table border=\"1\" class=\"dataframe\">\n",
       "  <thead>\n",
       "    <tr style=\"text-align: right;\">\n",
       "      <th></th>\n",
       "      <th>Open date</th>\n",
       "      <th>Type</th>\n",
       "      <th>Qty</th>\n",
       "      <th>Symbol</th>\n",
       "      <th>Adj cost</th>\n",
       "      <th>Adj cost per share</th>\n",
       "    </tr>\n",
       "  </thead>\n",
       "  <tbody>\n",
       "    <tr>\n",
       "      <th>0</th>\n",
       "      <td>2021-04-20 18:57:40+00:00</td>\n",
       "      <td>buy</td>\n",
       "      <td>0.258429</td>\n",
       "      <td>ETH</td>\n",
       "      <td>500.00</td>\n",
       "      <td>1906.364408</td>\n",
       "    </tr>\n",
       "    <tr>\n",
       "      <th>1</th>\n",
       "      <td>2021-04-22 10:13:53+00:00</td>\n",
       "      <td>buy</td>\n",
       "      <td>0.062128</td>\n",
       "      <td>MKR</td>\n",
       "      <td>250.00</td>\n",
       "      <td>3964.873854</td>\n",
       "    </tr>\n",
       "    <tr>\n",
       "      <th>2</th>\n",
       "      <td>2021-04-22 19:20:15+00:00</td>\n",
       "      <td>sell</td>\n",
       "      <td>0.062128</td>\n",
       "      <td>MKR</td>\n",
       "      <td>213.69</td>\n",
       "      <td>3491.496921</td>\n",
       "    </tr>\n",
       "    <tr>\n",
       "      <th>3</th>\n",
       "      <td>2021-04-24 08:53:47+00:00</td>\n",
       "      <td>buy</td>\n",
       "      <td>210.343863</td>\n",
       "      <td>ADA</td>\n",
       "      <td>213.69</td>\n",
       "      <td>1.000980</td>\n",
       "    </tr>\n",
       "    <tr>\n",
       "      <th>4</th>\n",
       "      <td>2021-04-25 16:15:33+00:00</td>\n",
       "      <td>buy</td>\n",
       "      <td>0.350116</td>\n",
       "      <td>CGLD</td>\n",
       "      <td>1.65</td>\n",
       "      <td>4.712730</td>\n",
       "    </tr>\n",
       "    <tr>\n",
       "      <th>...</th>\n",
       "      <td>...</td>\n",
       "      <td>...</td>\n",
       "      <td>...</td>\n",
       "      <td>...</td>\n",
       "      <td>...</td>\n",
       "      <td>...</td>\n",
       "    </tr>\n",
       "    <tr>\n",
       "      <th>163</th>\n",
       "      <td>2022-01-02 23:24:25+00:00</td>\n",
       "      <td>sell</td>\n",
       "      <td>1.026156</td>\n",
       "      <td>SOL</td>\n",
       "      <td>159.04</td>\n",
       "      <td>154.986191</td>\n",
       "    </tr>\n",
       "    <tr>\n",
       "      <th>164</th>\n",
       "      <td>2022-01-04 10:33:27+00:00</td>\n",
       "      <td>buy</td>\n",
       "      <td>0.067396</td>\n",
       "      <td>ETH</td>\n",
       "      <td>225.88</td>\n",
       "      <td>3351.534216</td>\n",
       "    </tr>\n",
       "    <tr>\n",
       "      <th>165</th>\n",
       "      <td>2022-01-04 10:44:49+00:00</td>\n",
       "      <td>buy</td>\n",
       "      <td>1.511428</td>\n",
       "      <td>SOL</td>\n",
       "      <td>225.73</td>\n",
       "      <td>149.348800</td>\n",
       "    </tr>\n",
       "    <tr>\n",
       "      <th>166</th>\n",
       "      <td>2022-01-04 10:44:51+00:00</td>\n",
       "      <td>sell</td>\n",
       "      <td>0.068600</td>\n",
       "      <td>ETH</td>\n",
       "      <td>230.19</td>\n",
       "      <td>3355.559414</td>\n",
       "    </tr>\n",
       "    <tr>\n",
       "      <th>167</th>\n",
       "      <td>2022-01-04 10:46:31+00:00</td>\n",
       "      <td>sell</td>\n",
       "      <td>1.511428</td>\n",
       "      <td>SOL</td>\n",
       "      <td>226.08</td>\n",
       "      <td>149.580369</td>\n",
       "    </tr>\n",
       "  </tbody>\n",
       "</table>\n",
       "<p>168 rows × 6 columns</p>\n",
       "</div>"
      ],
      "text/plain": [
       "                    Open date  Type         Qty Symbol  Adj cost  \\\n",
       "0   2021-04-20 18:57:40+00:00   buy    0.258429    ETH    500.00   \n",
       "1   2021-04-22 10:13:53+00:00   buy    0.062128    MKR    250.00   \n",
       "2   2021-04-22 19:20:15+00:00  sell    0.062128    MKR    213.69   \n",
       "3   2021-04-24 08:53:47+00:00   buy  210.343863    ADA    213.69   \n",
       "4   2021-04-25 16:15:33+00:00   buy    0.350116   CGLD      1.65   \n",
       "..                        ...   ...         ...    ...       ...   \n",
       "163 2022-01-02 23:24:25+00:00  sell    1.026156    SOL    159.04   \n",
       "164 2022-01-04 10:33:27+00:00   buy    0.067396    ETH    225.88   \n",
       "165 2022-01-04 10:44:49+00:00   buy    1.511428    SOL    225.73   \n",
       "166 2022-01-04 10:44:51+00:00  sell    0.068600    ETH    230.19   \n",
       "167 2022-01-04 10:46:31+00:00  sell    1.511428    SOL    226.08   \n",
       "\n",
       "     Adj cost per share  \n",
       "0           1906.364408  \n",
       "1           3964.873854  \n",
       "2           3491.496921  \n",
       "3              1.000980  \n",
       "4              4.712730  \n",
       "..                  ...  \n",
       "163          154.986191  \n",
       "164         3351.534216  \n",
       "165          149.348800  \n",
       "166         3355.559414  \n",
       "167          149.580369  \n",
       "\n",
       "[168 rows x 6 columns]"
      ]
     },
     "execution_count": 54,
     "metadata": {},
     "output_type": "execute_result"
    }
   ],
   "source": [
    "active_portfolio=t.portfolio_start_balance()\n",
    "active_portfolio"
   ]
  },
  {
   "cell_type": "code",
   "execution_count": 55,
   "metadata": {},
   "outputs": [
    {
     "data": {
      "text/plain": [
       "array(['buy', 'sell'], dtype=object)"
      ]
     },
     "execution_count": 55,
     "metadata": {},
     "output_type": "execute_result"
    }
   ],
   "source": [
    "active_portfolio.Type.unique()"
   ]
  },
  {
   "cell_type": "code",
   "execution_count": 56,
   "metadata": {},
   "outputs": [
    {
     "name": "stdout",
     "output_type": "stream",
     "text": [
      "27\n"
     ]
    }
   ],
   "source": [
    "print(len(active_portfolio.Symbol.unique()))"
   ]
  },
  {
   "cell_type": "code",
   "execution_count": 57,
   "metadata": {},
   "outputs": [],
   "source": [
    "positions_per_day=t.time_fill()"
   ]
  },
  {
   "cell_type": "code",
   "execution_count": 58,
   "metadata": {},
   "outputs": [],
   "source": [
    "pd.set_option('display.max_columns', 500)\n"
   ]
  },
  {
   "cell_type": "code",
   "execution_count": 60,
   "metadata": {},
   "outputs": [
    {
     "data": {
      "text/html": [
       "<div>\n",
       "<style scoped>\n",
       "    .dataframe tbody tr th:only-of-type {\n",
       "        vertical-align: middle;\n",
       "    }\n",
       "\n",
       "    .dataframe tbody tr th {\n",
       "        vertical-align: top;\n",
       "    }\n",
       "\n",
       "    .dataframe thead th {\n",
       "        text-align: right;\n",
       "    }\n",
       "</style>\n",
       "<table border=\"1\" class=\"dataframe\">\n",
       "  <thead>\n",
       "    <tr style=\"text-align: right;\">\n",
       "      <th></th>\n",
       "      <th>Open date</th>\n",
       "      <th>Type</th>\n",
       "      <th>Qty</th>\n",
       "      <th>Symbol</th>\n",
       "      <th>Adj cost</th>\n",
       "      <th>Adj cost per share</th>\n",
       "      <th>Date Snapshot</th>\n",
       "    </tr>\n",
       "  </thead>\n",
       "  <tbody>\n",
       "    <tr>\n",
       "      <th>0</th>\n",
       "      <td>2021-04-20 18:57:40+00:00</td>\n",
       "      <td>buy</td>\n",
       "      <td>0.258429</td>\n",
       "      <td>ETH</td>\n",
       "      <td>500.0</td>\n",
       "      <td>1906.364408</td>\n",
       "      <td>2022-03-11 00:00:00+00:00</td>\n",
       "    </tr>\n",
       "  </tbody>\n",
       "</table>\n",
       "</div>"
      ],
      "text/plain": [
       "                  Open date Type       Qty Symbol  Adj cost  \\\n",
       "0 2021-04-20 18:57:40+00:00  buy  0.258429    ETH     500.0   \n",
       "\n",
       "   Adj cost per share             Date Snapshot  \n",
       "0         1906.364408 2022-03-11 00:00:00+00:00  "
      ]
     },
     "execution_count": 60,
     "metadata": {},
     "output_type": "execute_result"
    }
   ],
   "source": [
    "positions_per_day[-1]"
   ]
  },
  {
   "cell_type": "code",
   "execution_count": 61,
   "metadata": {},
   "outputs": [
    {
     "name": "stderr",
     "output_type": "stream",
     "text": [
      "/opt/miniconda3/envs/cryptoenv/lib/python3.7/site-packages/pandas/core/generic.py:5516: SettingWithCopyWarning:\n",
      "\n",
      "\n",
      "A value is trying to be set on a copy of a slice from a DataFrame.\n",
      "Try using .loc[row_indexer,col_indexer] = value instead\n",
      "\n",
      "See the caveats in the documentation: https://pandas.pydata.org/pandas-docs/stable/user_guide/indexing.html#returning-a-view-versus-a-copy\n",
      "\n"
     ]
    },
    {
     "data": {
      "text/html": [
       "<div>\n",
       "<style scoped>\n",
       "    .dataframe tbody tr th:only-of-type {\n",
       "        vertical-align: middle;\n",
       "    }\n",
       "\n",
       "    .dataframe tbody tr th {\n",
       "        vertical-align: top;\n",
       "    }\n",
       "\n",
       "    .dataframe thead th {\n",
       "        text-align: right;\n",
       "    }\n",
       "</style>\n",
       "<table border=\"1\" class=\"dataframe\">\n",
       "  <thead>\n",
       "    <tr style=\"text-align: right;\">\n",
       "      <th></th>\n",
       "      <th>Adj cost</th>\n",
       "      <th>Adj cost per share</th>\n",
       "      <th>Date Snapshot</th>\n",
       "      <th>Open date</th>\n",
       "      <th>Qty</th>\n",
       "      <th>Symbol</th>\n",
       "      <th>Type</th>\n",
       "      <th>Symbol Adj Close</th>\n",
       "      <th>Adj cost daily</th>\n",
       "      <th>Benchmark Close</th>\n",
       "      <th>Benchmark End Date Close</th>\n",
       "      <th>Benchmark Start Date Close</th>\n",
       "      <th>symbol End Date Close</th>\n",
       "      <th>symbol Start Date Close</th>\n",
       "      <th>Equiv Benchmark Shares</th>\n",
       "      <th>Benchmark Start Date Cost</th>\n",
       "      <th>Benchmark Return</th>\n",
       "      <th>symbol Return</th>\n",
       "      <th>symbol Share Value</th>\n",
       "      <th>Benchmark Share Value</th>\n",
       "      <th>Stock Gain / (Loss)</th>\n",
       "      <th>Benchmark Gain / (Loss)</th>\n",
       "      <th>Abs Value Compare</th>\n",
       "      <th>Abs Value Return</th>\n",
       "      <th>Abs. Return Compare</th>\n",
       "    </tr>\n",
       "  </thead>\n",
       "  <tbody>\n",
       "    <tr>\n",
       "      <th>0</th>\n",
       "      <td>492.66</td>\n",
       "      <td>1906.364408</td>\n",
       "      <td>2021-04-21 00:00:00+00:00</td>\n",
       "      <td>2021-04-20 18:57:40+00:00</td>\n",
       "      <td>0.258429</td>\n",
       "      <td>ETH</td>\n",
       "      <td>buy</td>\n",
       "      <td>1964.593249</td>\n",
       "      <td>507.708026</td>\n",
       "      <td>1964.593249</td>\n",
       "      <td>2345.209878</td>\n",
       "      <td>600.859522</td>\n",
       "      <td>2345.209878</td>\n",
       "      <td>600.859522</td>\n",
       "      <td>0.819925</td>\n",
       "      <td>492.66</td>\n",
       "      <td>2.269638</td>\n",
       "      <td>0.030544</td>\n",
       "      <td>507.708026</td>\n",
       "      <td>1610.819957</td>\n",
       "      <td>15.048026</td>\n",
       "      <td>1118.159957</td>\n",
       "      <td>15.048026</td>\n",
       "      <td>0.030544</td>\n",
       "      <td>-2.239094</td>\n",
       "    </tr>\n",
       "    <tr>\n",
       "      <th>1</th>\n",
       "      <td>492.66</td>\n",
       "      <td>1906.364408</td>\n",
       "      <td>2021-04-22 00:00:00+00:00</td>\n",
       "      <td>2021-04-20 18:57:40+00:00</td>\n",
       "      <td>0.258429</td>\n",
       "      <td>ETH</td>\n",
       "      <td>buy</td>\n",
       "      <td>2000.536891</td>\n",
       "      <td>516.996908</td>\n",
       "      <td>2000.536891</td>\n",
       "      <td>2345.209878</td>\n",
       "      <td>600.859522</td>\n",
       "      <td>2345.209878</td>\n",
       "      <td>600.859522</td>\n",
       "      <td>0.819925</td>\n",
       "      <td>492.66</td>\n",
       "      <td>2.329459</td>\n",
       "      <td>0.049399</td>\n",
       "      <td>516.996908</td>\n",
       "      <td>1640.291064</td>\n",
       "      <td>24.336908</td>\n",
       "      <td>1147.631064</td>\n",
       "      <td>24.336908</td>\n",
       "      <td>0.049399</td>\n",
       "      <td>-2.280060</td>\n",
       "    </tr>\n",
       "    <tr>\n",
       "      <th>2</th>\n",
       "      <td>492.66</td>\n",
       "      <td>1906.364408</td>\n",
       "      <td>2021-04-23 00:00:00+00:00</td>\n",
       "      <td>2021-04-20 18:57:40+00:00</td>\n",
       "      <td>0.258429</td>\n",
       "      <td>ETH</td>\n",
       "      <td>buy</td>\n",
       "      <td>1953.619811</td>\n",
       "      <td>504.872170</td>\n",
       "      <td>1953.619811</td>\n",
       "      <td>2345.209878</td>\n",
       "      <td>600.859522</td>\n",
       "      <td>2345.209878</td>\n",
       "      <td>600.859522</td>\n",
       "      <td>0.819925</td>\n",
       "      <td>492.66</td>\n",
       "      <td>2.251375</td>\n",
       "      <td>0.024788</td>\n",
       "      <td>504.872170</td>\n",
       "      <td>1601.822557</td>\n",
       "      <td>12.212170</td>\n",
       "      <td>1109.162557</td>\n",
       "      <td>12.212170</td>\n",
       "      <td>0.024788</td>\n",
       "      <td>-2.226587</td>\n",
       "    </tr>\n",
       "    <tr>\n",
       "      <th>3</th>\n",
       "      <td>492.66</td>\n",
       "      <td>1906.364408</td>\n",
       "      <td>2021-04-24 00:00:00+00:00</td>\n",
       "      <td>2021-04-20 18:57:40+00:00</td>\n",
       "      <td>0.258429</td>\n",
       "      <td>ETH</td>\n",
       "      <td>buy</td>\n",
       "      <td>1828.220570</td>\n",
       "      <td>472.465360</td>\n",
       "      <td>1828.220570</td>\n",
       "      <td>2345.209878</td>\n",
       "      <td>600.859522</td>\n",
       "      <td>2345.209878</td>\n",
       "      <td>600.859522</td>\n",
       "      <td>0.819925</td>\n",
       "      <td>492.66</td>\n",
       "      <td>2.042676</td>\n",
       "      <td>-0.040991</td>\n",
       "      <td>472.465360</td>\n",
       "      <td>1499.004530</td>\n",
       "      <td>-20.194640</td>\n",
       "      <td>1006.344530</td>\n",
       "      <td>-20.194640</td>\n",
       "      <td>-0.040991</td>\n",
       "      <td>-2.083667</td>\n",
       "    </tr>\n",
       "    <tr>\n",
       "      <th>4</th>\n",
       "      <td>492.66</td>\n",
       "      <td>1906.364408</td>\n",
       "      <td>2021-04-25 00:00:00+00:00</td>\n",
       "      <td>2021-04-20 18:57:40+00:00</td>\n",
       "      <td>0.258429</td>\n",
       "      <td>ETH</td>\n",
       "      <td>buy</td>\n",
       "      <td>1915.747276</td>\n",
       "      <td>495.084806</td>\n",
       "      <td>1915.747276</td>\n",
       "      <td>2345.209878</td>\n",
       "      <td>600.859522</td>\n",
       "      <td>2345.209878</td>\n",
       "      <td>600.859522</td>\n",
       "      <td>0.819925</td>\n",
       "      <td>492.66</td>\n",
       "      <td>2.188345</td>\n",
       "      <td>0.004922</td>\n",
       "      <td>495.084806</td>\n",
       "      <td>1570.769902</td>\n",
       "      <td>2.424806</td>\n",
       "      <td>1078.109902</td>\n",
       "      <td>2.424806</td>\n",
       "      <td>0.004922</td>\n",
       "      <td>-2.183423</td>\n",
       "    </tr>\n",
       "    <tr>\n",
       "      <th>...</th>\n",
       "      <td>...</td>\n",
       "      <td>...</td>\n",
       "      <td>...</td>\n",
       "      <td>...</td>\n",
       "      <td>...</td>\n",
       "      <td>...</td>\n",
       "      <td>...</td>\n",
       "      <td>...</td>\n",
       "      <td>...</td>\n",
       "      <td>...</td>\n",
       "      <td>...</td>\n",
       "      <td>...</td>\n",
       "      <td>...</td>\n",
       "      <td>...</td>\n",
       "      <td>...</td>\n",
       "      <td>...</td>\n",
       "      <td>...</td>\n",
       "      <td>...</td>\n",
       "      <td>...</td>\n",
       "      <td>...</td>\n",
       "      <td>...</td>\n",
       "      <td>...</td>\n",
       "      <td>...</td>\n",
       "      <td>...</td>\n",
       "      <td>...</td>\n",
       "    </tr>\n",
       "    <tr>\n",
       "      <th>320</th>\n",
       "      <td>492.66</td>\n",
       "      <td>1906.364408</td>\n",
       "      <td>2022-03-07 00:00:00+00:00</td>\n",
       "      <td>2021-04-20 18:57:40+00:00</td>\n",
       "      <td>0.258429</td>\n",
       "      <td>ETH</td>\n",
       "      <td>buy</td>\n",
       "      <td>2298.639000</td>\n",
       "      <td>594.035162</td>\n",
       "      <td>2298.639000</td>\n",
       "      <td>2345.209878</td>\n",
       "      <td>600.859522</td>\n",
       "      <td>2345.209878</td>\n",
       "      <td>600.859522</td>\n",
       "      <td>0.819925</td>\n",
       "      <td>492.66</td>\n",
       "      <td>2.825585</td>\n",
       "      <td>0.205771</td>\n",
       "      <td>594.035162</td>\n",
       "      <td>1884.712562</td>\n",
       "      <td>101.375162</td>\n",
       "      <td>1392.052562</td>\n",
       "      <td>101.375162</td>\n",
       "      <td>0.205771</td>\n",
       "      <td>-2.619814</td>\n",
       "    </tr>\n",
       "    <tr>\n",
       "      <th>321</th>\n",
       "      <td>492.66</td>\n",
       "      <td>1906.364408</td>\n",
       "      <td>2022-03-08 00:00:00+00:00</td>\n",
       "      <td>2021-04-20 18:57:40+00:00</td>\n",
       "      <td>0.258429</td>\n",
       "      <td>ETH</td>\n",
       "      <td>buy</td>\n",
       "      <td>2364.462260</td>\n",
       "      <td>611.045806</td>\n",
       "      <td>2364.462260</td>\n",
       "      <td>2345.209878</td>\n",
       "      <td>600.859522</td>\n",
       "      <td>2345.209878</td>\n",
       "      <td>600.859522</td>\n",
       "      <td>0.819925</td>\n",
       "      <td>492.66</td>\n",
       "      <td>2.935133</td>\n",
       "      <td>0.240299</td>\n",
       "      <td>611.045806</td>\n",
       "      <td>1938.682727</td>\n",
       "      <td>118.385806</td>\n",
       "      <td>1446.022727</td>\n",
       "      <td>118.385806</td>\n",
       "      <td>0.240299</td>\n",
       "      <td>-2.694834</td>\n",
       "    </tr>\n",
       "    <tr>\n",
       "      <th>322</th>\n",
       "      <td>492.66</td>\n",
       "      <td>1906.364408</td>\n",
       "      <td>2022-03-09 00:00:00+00:00</td>\n",
       "      <td>2021-04-20 18:57:40+00:00</td>\n",
       "      <td>0.258429</td>\n",
       "      <td>ETH</td>\n",
       "      <td>buy</td>\n",
       "      <td>2465.147372</td>\n",
       "      <td>637.065767</td>\n",
       "      <td>2465.147372</td>\n",
       "      <td>2345.209878</td>\n",
       "      <td>600.859522</td>\n",
       "      <td>2345.209878</td>\n",
       "      <td>600.859522</td>\n",
       "      <td>0.819925</td>\n",
       "      <td>492.66</td>\n",
       "      <td>3.102702</td>\n",
       "      <td>0.293114</td>\n",
       "      <td>637.065767</td>\n",
       "      <td>2021.237011</td>\n",
       "      <td>144.405767</td>\n",
       "      <td>1528.577011</td>\n",
       "      <td>144.405767</td>\n",
       "      <td>0.293114</td>\n",
       "      <td>-2.809587</td>\n",
       "    </tr>\n",
       "    <tr>\n",
       "      <th>323</th>\n",
       "      <td>492.66</td>\n",
       "      <td>1906.364408</td>\n",
       "      <td>2022-03-10 00:00:00+00:00</td>\n",
       "      <td>2021-04-20 18:57:40+00:00</td>\n",
       "      <td>0.258429</td>\n",
       "      <td>ETH</td>\n",
       "      <td>buy</td>\n",
       "      <td>2368.094996</td>\n",
       "      <td>611.984611</td>\n",
       "      <td>2368.094996</td>\n",
       "      <td>2345.209878</td>\n",
       "      <td>600.859522</td>\n",
       "      <td>2345.209878</td>\n",
       "      <td>600.859522</td>\n",
       "      <td>0.819925</td>\n",
       "      <td>492.66</td>\n",
       "      <td>2.941179</td>\n",
       "      <td>0.242205</td>\n",
       "      <td>611.984611</td>\n",
       "      <td>1941.661299</td>\n",
       "      <td>119.324611</td>\n",
       "      <td>1449.001299</td>\n",
       "      <td>119.324611</td>\n",
       "      <td>0.242205</td>\n",
       "      <td>-2.698974</td>\n",
       "    </tr>\n",
       "    <tr>\n",
       "      <th>324</th>\n",
       "      <td>492.66</td>\n",
       "      <td>1906.364408</td>\n",
       "      <td>2022-03-11 00:00:00+00:00</td>\n",
       "      <td>2021-04-20 18:57:40+00:00</td>\n",
       "      <td>0.258429</td>\n",
       "      <td>ETH</td>\n",
       "      <td>buy</td>\n",
       "      <td>2345.209878</td>\n",
       "      <td>606.070431</td>\n",
       "      <td>2345.209878</td>\n",
       "      <td>2345.209878</td>\n",
       "      <td>600.859522</td>\n",
       "      <td>2345.209878</td>\n",
       "      <td>600.859522</td>\n",
       "      <td>0.819925</td>\n",
       "      <td>492.66</td>\n",
       "      <td>2.903092</td>\n",
       "      <td>0.230200</td>\n",
       "      <td>606.070431</td>\n",
       "      <td>1922.897209</td>\n",
       "      <td>113.410431</td>\n",
       "      <td>1430.237209</td>\n",
       "      <td>113.410431</td>\n",
       "      <td>0.230200</td>\n",
       "      <td>-2.672892</td>\n",
       "    </tr>\n",
       "  </tbody>\n",
       "</table>\n",
       "<p>325 rows × 25 columns</p>\n",
       "</div>"
      ],
      "text/plain": [
       "     Adj cost  Adj cost per share             Date Snapshot  \\\n",
       "0      492.66         1906.364408 2021-04-21 00:00:00+00:00   \n",
       "1      492.66         1906.364408 2021-04-22 00:00:00+00:00   \n",
       "2      492.66         1906.364408 2021-04-23 00:00:00+00:00   \n",
       "3      492.66         1906.364408 2021-04-24 00:00:00+00:00   \n",
       "4      492.66         1906.364408 2021-04-25 00:00:00+00:00   \n",
       "..        ...                 ...                       ...   \n",
       "320    492.66         1906.364408 2022-03-07 00:00:00+00:00   \n",
       "321    492.66         1906.364408 2022-03-08 00:00:00+00:00   \n",
       "322    492.66         1906.364408 2022-03-09 00:00:00+00:00   \n",
       "323    492.66         1906.364408 2022-03-10 00:00:00+00:00   \n",
       "324    492.66         1906.364408 2022-03-11 00:00:00+00:00   \n",
       "\n",
       "                    Open date       Qty Symbol Type  Symbol Adj Close  \\\n",
       "0   2021-04-20 18:57:40+00:00  0.258429    ETH  buy       1964.593249   \n",
       "1   2021-04-20 18:57:40+00:00  0.258429    ETH  buy       2000.536891   \n",
       "2   2021-04-20 18:57:40+00:00  0.258429    ETH  buy       1953.619811   \n",
       "3   2021-04-20 18:57:40+00:00  0.258429    ETH  buy       1828.220570   \n",
       "4   2021-04-20 18:57:40+00:00  0.258429    ETH  buy       1915.747276   \n",
       "..                        ...       ...    ...  ...               ...   \n",
       "320 2021-04-20 18:57:40+00:00  0.258429    ETH  buy       2298.639000   \n",
       "321 2021-04-20 18:57:40+00:00  0.258429    ETH  buy       2364.462260   \n",
       "322 2021-04-20 18:57:40+00:00  0.258429    ETH  buy       2465.147372   \n",
       "323 2021-04-20 18:57:40+00:00  0.258429    ETH  buy       2368.094996   \n",
       "324 2021-04-20 18:57:40+00:00  0.258429    ETH  buy       2345.209878   \n",
       "\n",
       "     Adj cost daily  Benchmark Close  Benchmark End Date Close  \\\n",
       "0        507.708026      1964.593249               2345.209878   \n",
       "1        516.996908      2000.536891               2345.209878   \n",
       "2        504.872170      1953.619811               2345.209878   \n",
       "3        472.465360      1828.220570               2345.209878   \n",
       "4        495.084806      1915.747276               2345.209878   \n",
       "..              ...              ...                       ...   \n",
       "320      594.035162      2298.639000               2345.209878   \n",
       "321      611.045806      2364.462260               2345.209878   \n",
       "322      637.065767      2465.147372               2345.209878   \n",
       "323      611.984611      2368.094996               2345.209878   \n",
       "324      606.070431      2345.209878               2345.209878   \n",
       "\n",
       "     Benchmark Start Date Close  symbol End Date Close  \\\n",
       "0                    600.859522            2345.209878   \n",
       "1                    600.859522            2345.209878   \n",
       "2                    600.859522            2345.209878   \n",
       "3                    600.859522            2345.209878   \n",
       "4                    600.859522            2345.209878   \n",
       "..                          ...                    ...   \n",
       "320                  600.859522            2345.209878   \n",
       "321                  600.859522            2345.209878   \n",
       "322                  600.859522            2345.209878   \n",
       "323                  600.859522            2345.209878   \n",
       "324                  600.859522            2345.209878   \n",
       "\n",
       "     symbol Start Date Close  Equiv Benchmark Shares  \\\n",
       "0                 600.859522                0.819925   \n",
       "1                 600.859522                0.819925   \n",
       "2                 600.859522                0.819925   \n",
       "3                 600.859522                0.819925   \n",
       "4                 600.859522                0.819925   \n",
       "..                       ...                     ...   \n",
       "320               600.859522                0.819925   \n",
       "321               600.859522                0.819925   \n",
       "322               600.859522                0.819925   \n",
       "323               600.859522                0.819925   \n",
       "324               600.859522                0.819925   \n",
       "\n",
       "     Benchmark Start Date Cost  Benchmark Return  symbol Return  \\\n",
       "0                       492.66          2.269638       0.030544   \n",
       "1                       492.66          2.329459       0.049399   \n",
       "2                       492.66          2.251375       0.024788   \n",
       "3                       492.66          2.042676      -0.040991   \n",
       "4                       492.66          2.188345       0.004922   \n",
       "..                         ...               ...            ...   \n",
       "320                     492.66          2.825585       0.205771   \n",
       "321                     492.66          2.935133       0.240299   \n",
       "322                     492.66          3.102702       0.293114   \n",
       "323                     492.66          2.941179       0.242205   \n",
       "324                     492.66          2.903092       0.230200   \n",
       "\n",
       "     symbol Share Value  Benchmark Share Value  Stock Gain / (Loss)  \\\n",
       "0            507.708026            1610.819957            15.048026   \n",
       "1            516.996908            1640.291064            24.336908   \n",
       "2            504.872170            1601.822557            12.212170   \n",
       "3            472.465360            1499.004530           -20.194640   \n",
       "4            495.084806            1570.769902             2.424806   \n",
       "..                  ...                    ...                  ...   \n",
       "320          594.035162            1884.712562           101.375162   \n",
       "321          611.045806            1938.682727           118.385806   \n",
       "322          637.065767            2021.237011           144.405767   \n",
       "323          611.984611            1941.661299           119.324611   \n",
       "324          606.070431            1922.897209           113.410431   \n",
       "\n",
       "     Benchmark Gain / (Loss)  Abs Value Compare  Abs Value Return  \\\n",
       "0                1118.159957          15.048026          0.030544   \n",
       "1                1147.631064          24.336908          0.049399   \n",
       "2                1109.162557          12.212170          0.024788   \n",
       "3                1006.344530         -20.194640         -0.040991   \n",
       "4                1078.109902           2.424806          0.004922   \n",
       "..                       ...                ...               ...   \n",
       "320              1392.052562         101.375162          0.205771   \n",
       "321              1446.022727         118.385806          0.240299   \n",
       "322              1528.577011         144.405767          0.293114   \n",
       "323              1449.001299         119.324611          0.242205   \n",
       "324              1430.237209         113.410431          0.230200   \n",
       "\n",
       "     Abs. Return Compare  \n",
       "0              -2.239094  \n",
       "1              -2.280060  \n",
       "2              -2.226587  \n",
       "3              -2.083667  \n",
       "4              -2.183423  \n",
       "..                   ...  \n",
       "320            -2.619814  \n",
       "321            -2.694834  \n",
       "322            -2.809587  \n",
       "323            -2.698974  \n",
       "324            -2.672892  \n",
       "\n",
       "[325 rows x 25 columns]"
      ]
     },
     "execution_count": 61,
     "metadata": {},
     "output_type": "execute_result"
    }
   ],
   "source": [
    "combined_df=t.per_day_portfolio_calcs(\n",
    "    positions_per_day,\n",
    "    benchmark,\n",
    "    closedata,\n",
    "    t.stocks_start \n",
    ")\n",
    "combined_df"
   ]
  },
  {
   "cell_type": "code",
   "execution_count": 62,
   "metadata": {},
   "outputs": [
    {
     "data": {
      "text/plain": [
       "Index(['Adj cost', 'Adj cost per share', 'Date Snapshot', 'Open date', 'Qty',\n",
       "       'Symbol', 'Type', 'Symbol Adj Close', 'Adj cost daily',\n",
       "       'Benchmark Close', 'Benchmark End Date Close',\n",
       "       'Benchmark Start Date Close', 'symbol End Date Close',\n",
       "       'symbol Start Date Close', 'Equiv Benchmark Shares',\n",
       "       'Benchmark Start Date Cost', 'Benchmark Return', 'symbol Return',\n",
       "       'symbol Share Value', 'Benchmark Share Value', 'Stock Gain / (Loss)',\n",
       "       'Benchmark Gain / (Loss)', 'Abs Value Compare', 'Abs Value Return',\n",
       "       'Abs. Return Compare'],\n",
       "      dtype='object')"
      ]
     },
     "execution_count": 62,
     "metadata": {},
     "output_type": "execute_result"
    }
   ],
   "source": [
    "combined_df.columns"
   ]
  },
  {
   "cell_type": "code",
   "execution_count": 63,
   "metadata": {},
   "outputs": [
    {
     "data": {
      "text/plain": [
       "<DatetimeArray>\n",
       "['2021-04-21 00:00:00+00:00', '2021-04-22 00:00:00+00:00',\n",
       " '2021-04-23 00:00:00+00:00', '2021-04-24 00:00:00+00:00',\n",
       " '2021-04-25 00:00:00+00:00', '2021-04-26 00:00:00+00:00',\n",
       " '2021-04-27 00:00:00+00:00', '2021-04-28 00:00:00+00:00',\n",
       " '2021-04-29 00:00:00+00:00', '2021-04-30 00:00:00+00:00',\n",
       " ...\n",
       " '2022-03-02 00:00:00+00:00', '2022-03-03 00:00:00+00:00',\n",
       " '2022-03-04 00:00:00+00:00', '2022-03-05 00:00:00+00:00',\n",
       " '2022-03-06 00:00:00+00:00', '2022-03-07 00:00:00+00:00',\n",
       " '2022-03-08 00:00:00+00:00', '2022-03-09 00:00:00+00:00',\n",
       " '2022-03-10 00:00:00+00:00', '2022-03-11 00:00:00+00:00']\n",
       "Length: 325, dtype: datetime64[ns, UTC]"
      ]
     },
     "execution_count": 63,
     "metadata": {},
     "output_type": "execute_result"
    }
   ],
   "source": [
    "combined_df[\"Date Snapshot\"].unique()"
   ]
  },
  {
   "cell_type": "code",
   "execution_count": 64,
   "metadata": {},
   "outputs": [
    {
     "data": {
      "text/html": [
       "<div>\n",
       "<style scoped>\n",
       "    .dataframe tbody tr th:only-of-type {\n",
       "        vertical-align: middle;\n",
       "    }\n",
       "\n",
       "    .dataframe tbody tr th {\n",
       "        vertical-align: top;\n",
       "    }\n",
       "\n",
       "    .dataframe thead th {\n",
       "        text-align: right;\n",
       "    }\n",
       "</style>\n",
       "<table border=\"1\" class=\"dataframe\">\n",
       "  <thead>\n",
       "    <tr style=\"text-align: right;\">\n",
       "      <th></th>\n",
       "      <th>Adj cost</th>\n",
       "      <th>Adj cost per share</th>\n",
       "      <th>Qty</th>\n",
       "      <th>Symbol Adj Close</th>\n",
       "      <th>Adj cost daily</th>\n",
       "      <th>Benchmark Close</th>\n",
       "      <th>Benchmark End Date Close</th>\n",
       "      <th>Benchmark Start Date Close</th>\n",
       "      <th>symbol End Date Close</th>\n",
       "      <th>symbol Start Date Close</th>\n",
       "      <th>Equiv Benchmark Shares</th>\n",
       "      <th>Benchmark Start Date Cost</th>\n",
       "      <th>Benchmark Return</th>\n",
       "      <th>symbol Return</th>\n",
       "      <th>symbol Share Value</th>\n",
       "      <th>Benchmark Share Value</th>\n",
       "      <th>Stock Gain / (Loss)</th>\n",
       "      <th>Benchmark Gain / (Loss)</th>\n",
       "      <th>Abs Value Compare</th>\n",
       "      <th>Abs Value Return</th>\n",
       "      <th>Abs. Return Compare</th>\n",
       "    </tr>\n",
       "    <tr>\n",
       "      <th>Date Snapshot</th>\n",
       "      <th></th>\n",
       "      <th></th>\n",
       "      <th></th>\n",
       "      <th></th>\n",
       "      <th></th>\n",
       "      <th></th>\n",
       "      <th></th>\n",
       "      <th></th>\n",
       "      <th></th>\n",
       "      <th></th>\n",
       "      <th></th>\n",
       "      <th></th>\n",
       "      <th></th>\n",
       "      <th></th>\n",
       "      <th></th>\n",
       "      <th></th>\n",
       "      <th></th>\n",
       "      <th></th>\n",
       "      <th></th>\n",
       "      <th></th>\n",
       "      <th></th>\n",
       "    </tr>\n",
       "  </thead>\n",
       "  <tbody>\n",
       "    <tr>\n",
       "      <th>2021-04-21</th>\n",
       "      <td>492.66</td>\n",
       "      <td>1906.364408</td>\n",
       "      <td>0.258429</td>\n",
       "      <td>1964.593249</td>\n",
       "      <td>507.708026</td>\n",
       "      <td>1964.593249</td>\n",
       "      <td>2345.209878</td>\n",
       "      <td>600.859522</td>\n",
       "      <td>2345.209878</td>\n",
       "      <td>600.859522</td>\n",
       "      <td>0.819925</td>\n",
       "      <td>492.66</td>\n",
       "      <td>2.269638</td>\n",
       "      <td>0.030544</td>\n",
       "      <td>507.708026</td>\n",
       "      <td>1610.819957</td>\n",
       "      <td>15.048026</td>\n",
       "      <td>1118.159957</td>\n",
       "      <td>15.048026</td>\n",
       "      <td>0.030544</td>\n",
       "      <td>-2.239094</td>\n",
       "    </tr>\n",
       "    <tr>\n",
       "      <th>2021-04-22</th>\n",
       "      <td>492.66</td>\n",
       "      <td>1906.364408</td>\n",
       "      <td>0.258429</td>\n",
       "      <td>2000.536891</td>\n",
       "      <td>516.996908</td>\n",
       "      <td>2000.536891</td>\n",
       "      <td>2345.209878</td>\n",
       "      <td>600.859522</td>\n",
       "      <td>2345.209878</td>\n",
       "      <td>600.859522</td>\n",
       "      <td>0.819925</td>\n",
       "      <td>492.66</td>\n",
       "      <td>2.329459</td>\n",
       "      <td>0.049399</td>\n",
       "      <td>516.996908</td>\n",
       "      <td>1640.291064</td>\n",
       "      <td>24.336908</td>\n",
       "      <td>1147.631064</td>\n",
       "      <td>24.336908</td>\n",
       "      <td>0.049399</td>\n",
       "      <td>-2.280060</td>\n",
       "    </tr>\n",
       "    <tr>\n",
       "      <th>2021-04-23</th>\n",
       "      <td>492.66</td>\n",
       "      <td>1906.364408</td>\n",
       "      <td>0.258429</td>\n",
       "      <td>1953.619811</td>\n",
       "      <td>504.872170</td>\n",
       "      <td>1953.619811</td>\n",
       "      <td>2345.209878</td>\n",
       "      <td>600.859522</td>\n",
       "      <td>2345.209878</td>\n",
       "      <td>600.859522</td>\n",
       "      <td>0.819925</td>\n",
       "      <td>492.66</td>\n",
       "      <td>2.251375</td>\n",
       "      <td>0.024788</td>\n",
       "      <td>504.872170</td>\n",
       "      <td>1601.822557</td>\n",
       "      <td>12.212170</td>\n",
       "      <td>1109.162557</td>\n",
       "      <td>12.212170</td>\n",
       "      <td>0.024788</td>\n",
       "      <td>-2.226587</td>\n",
       "    </tr>\n",
       "    <tr>\n",
       "      <th>2021-04-24</th>\n",
       "      <td>492.66</td>\n",
       "      <td>1906.364408</td>\n",
       "      <td>0.258429</td>\n",
       "      <td>1828.220570</td>\n",
       "      <td>472.465360</td>\n",
       "      <td>1828.220570</td>\n",
       "      <td>2345.209878</td>\n",
       "      <td>600.859522</td>\n",
       "      <td>2345.209878</td>\n",
       "      <td>600.859522</td>\n",
       "      <td>0.819925</td>\n",
       "      <td>492.66</td>\n",
       "      <td>2.042676</td>\n",
       "      <td>-0.040991</td>\n",
       "      <td>472.465360</td>\n",
       "      <td>1499.004530</td>\n",
       "      <td>-20.194640</td>\n",
       "      <td>1006.344530</td>\n",
       "      <td>-20.194640</td>\n",
       "      <td>-0.040991</td>\n",
       "      <td>-2.083667</td>\n",
       "    </tr>\n",
       "    <tr>\n",
       "      <th>2021-04-25</th>\n",
       "      <td>492.66</td>\n",
       "      <td>1906.364408</td>\n",
       "      <td>0.258429</td>\n",
       "      <td>1915.747276</td>\n",
       "      <td>495.084806</td>\n",
       "      <td>1915.747276</td>\n",
       "      <td>2345.209878</td>\n",
       "      <td>600.859522</td>\n",
       "      <td>2345.209878</td>\n",
       "      <td>600.859522</td>\n",
       "      <td>0.819925</td>\n",
       "      <td>492.66</td>\n",
       "      <td>2.188345</td>\n",
       "      <td>0.004922</td>\n",
       "      <td>495.084806</td>\n",
       "      <td>1570.769902</td>\n",
       "      <td>2.424806</td>\n",
       "      <td>1078.109902</td>\n",
       "      <td>2.424806</td>\n",
       "      <td>0.004922</td>\n",
       "      <td>-2.183423</td>\n",
       "    </tr>\n",
       "    <tr>\n",
       "      <th>...</th>\n",
       "      <td>...</td>\n",
       "      <td>...</td>\n",
       "      <td>...</td>\n",
       "      <td>...</td>\n",
       "      <td>...</td>\n",
       "      <td>...</td>\n",
       "      <td>...</td>\n",
       "      <td>...</td>\n",
       "      <td>...</td>\n",
       "      <td>...</td>\n",
       "      <td>...</td>\n",
       "      <td>...</td>\n",
       "      <td>...</td>\n",
       "      <td>...</td>\n",
       "      <td>...</td>\n",
       "      <td>...</td>\n",
       "      <td>...</td>\n",
       "      <td>...</td>\n",
       "      <td>...</td>\n",
       "      <td>...</td>\n",
       "      <td>...</td>\n",
       "    </tr>\n",
       "    <tr>\n",
       "      <th>2022-03-07</th>\n",
       "      <td>492.66</td>\n",
       "      <td>1906.364408</td>\n",
       "      <td>0.258429</td>\n",
       "      <td>2298.639000</td>\n",
       "      <td>594.035162</td>\n",
       "      <td>2298.639000</td>\n",
       "      <td>2345.209878</td>\n",
       "      <td>600.859522</td>\n",
       "      <td>2345.209878</td>\n",
       "      <td>600.859522</td>\n",
       "      <td>0.819925</td>\n",
       "      <td>492.66</td>\n",
       "      <td>2.825585</td>\n",
       "      <td>0.205771</td>\n",
       "      <td>594.035162</td>\n",
       "      <td>1884.712562</td>\n",
       "      <td>101.375162</td>\n",
       "      <td>1392.052562</td>\n",
       "      <td>101.375162</td>\n",
       "      <td>0.205771</td>\n",
       "      <td>-2.619814</td>\n",
       "    </tr>\n",
       "    <tr>\n",
       "      <th>2022-03-08</th>\n",
       "      <td>492.66</td>\n",
       "      <td>1906.364408</td>\n",
       "      <td>0.258429</td>\n",
       "      <td>2364.462260</td>\n",
       "      <td>611.045806</td>\n",
       "      <td>2364.462260</td>\n",
       "      <td>2345.209878</td>\n",
       "      <td>600.859522</td>\n",
       "      <td>2345.209878</td>\n",
       "      <td>600.859522</td>\n",
       "      <td>0.819925</td>\n",
       "      <td>492.66</td>\n",
       "      <td>2.935133</td>\n",
       "      <td>0.240299</td>\n",
       "      <td>611.045806</td>\n",
       "      <td>1938.682727</td>\n",
       "      <td>118.385806</td>\n",
       "      <td>1446.022727</td>\n",
       "      <td>118.385806</td>\n",
       "      <td>0.240299</td>\n",
       "      <td>-2.694834</td>\n",
       "    </tr>\n",
       "    <tr>\n",
       "      <th>2022-03-09</th>\n",
       "      <td>492.66</td>\n",
       "      <td>1906.364408</td>\n",
       "      <td>0.258429</td>\n",
       "      <td>2465.147372</td>\n",
       "      <td>637.065767</td>\n",
       "      <td>2465.147372</td>\n",
       "      <td>2345.209878</td>\n",
       "      <td>600.859522</td>\n",
       "      <td>2345.209878</td>\n",
       "      <td>600.859522</td>\n",
       "      <td>0.819925</td>\n",
       "      <td>492.66</td>\n",
       "      <td>3.102702</td>\n",
       "      <td>0.293114</td>\n",
       "      <td>637.065767</td>\n",
       "      <td>2021.237011</td>\n",
       "      <td>144.405767</td>\n",
       "      <td>1528.577011</td>\n",
       "      <td>144.405767</td>\n",
       "      <td>0.293114</td>\n",
       "      <td>-2.809587</td>\n",
       "    </tr>\n",
       "    <tr>\n",
       "      <th>2022-03-10</th>\n",
       "      <td>492.66</td>\n",
       "      <td>1906.364408</td>\n",
       "      <td>0.258429</td>\n",
       "      <td>2368.094996</td>\n",
       "      <td>611.984611</td>\n",
       "      <td>2368.094996</td>\n",
       "      <td>2345.209878</td>\n",
       "      <td>600.859522</td>\n",
       "      <td>2345.209878</td>\n",
       "      <td>600.859522</td>\n",
       "      <td>0.819925</td>\n",
       "      <td>492.66</td>\n",
       "      <td>2.941179</td>\n",
       "      <td>0.242205</td>\n",
       "      <td>611.984611</td>\n",
       "      <td>1941.661299</td>\n",
       "      <td>119.324611</td>\n",
       "      <td>1449.001299</td>\n",
       "      <td>119.324611</td>\n",
       "      <td>0.242205</td>\n",
       "      <td>-2.698974</td>\n",
       "    </tr>\n",
       "    <tr>\n",
       "      <th>2022-03-11</th>\n",
       "      <td>492.66</td>\n",
       "      <td>1906.364408</td>\n",
       "      <td>0.258429</td>\n",
       "      <td>2345.209878</td>\n",
       "      <td>606.070431</td>\n",
       "      <td>2345.209878</td>\n",
       "      <td>2345.209878</td>\n",
       "      <td>600.859522</td>\n",
       "      <td>2345.209878</td>\n",
       "      <td>600.859522</td>\n",
       "      <td>0.819925</td>\n",
       "      <td>492.66</td>\n",
       "      <td>2.903092</td>\n",
       "      <td>0.230200</td>\n",
       "      <td>606.070431</td>\n",
       "      <td>1922.897209</td>\n",
       "      <td>113.410431</td>\n",
       "      <td>1430.237209</td>\n",
       "      <td>113.410431</td>\n",
       "      <td>0.230200</td>\n",
       "      <td>-2.672892</td>\n",
       "    </tr>\n",
       "  </tbody>\n",
       "</table>\n",
       "<p>325 rows × 21 columns</p>\n",
       "</div>"
      ],
      "text/plain": [
       "               Adj cost  Adj cost per share       Qty  Symbol Adj Close  \\\n",
       "Date Snapshot                                                             \n",
       "2021-04-21       492.66         1906.364408  0.258429       1964.593249   \n",
       "2021-04-22       492.66         1906.364408  0.258429       2000.536891   \n",
       "2021-04-23       492.66         1906.364408  0.258429       1953.619811   \n",
       "2021-04-24       492.66         1906.364408  0.258429       1828.220570   \n",
       "2021-04-25       492.66         1906.364408  0.258429       1915.747276   \n",
       "...                 ...                 ...       ...               ...   \n",
       "2022-03-07       492.66         1906.364408  0.258429       2298.639000   \n",
       "2022-03-08       492.66         1906.364408  0.258429       2364.462260   \n",
       "2022-03-09       492.66         1906.364408  0.258429       2465.147372   \n",
       "2022-03-10       492.66         1906.364408  0.258429       2368.094996   \n",
       "2022-03-11       492.66         1906.364408  0.258429       2345.209878   \n",
       "\n",
       "               Adj cost daily  Benchmark Close  Benchmark End Date Close  \\\n",
       "Date Snapshot                                                              \n",
       "2021-04-21         507.708026      1964.593249               2345.209878   \n",
       "2021-04-22         516.996908      2000.536891               2345.209878   \n",
       "2021-04-23         504.872170      1953.619811               2345.209878   \n",
       "2021-04-24         472.465360      1828.220570               2345.209878   \n",
       "2021-04-25         495.084806      1915.747276               2345.209878   \n",
       "...                       ...              ...                       ...   \n",
       "2022-03-07         594.035162      2298.639000               2345.209878   \n",
       "2022-03-08         611.045806      2364.462260               2345.209878   \n",
       "2022-03-09         637.065767      2465.147372               2345.209878   \n",
       "2022-03-10         611.984611      2368.094996               2345.209878   \n",
       "2022-03-11         606.070431      2345.209878               2345.209878   \n",
       "\n",
       "               Benchmark Start Date Close  symbol End Date Close  \\\n",
       "Date Snapshot                                                      \n",
       "2021-04-21                     600.859522            2345.209878   \n",
       "2021-04-22                     600.859522            2345.209878   \n",
       "2021-04-23                     600.859522            2345.209878   \n",
       "2021-04-24                     600.859522            2345.209878   \n",
       "2021-04-25                     600.859522            2345.209878   \n",
       "...                                   ...                    ...   \n",
       "2022-03-07                     600.859522            2345.209878   \n",
       "2022-03-08                     600.859522            2345.209878   \n",
       "2022-03-09                     600.859522            2345.209878   \n",
       "2022-03-10                     600.859522            2345.209878   \n",
       "2022-03-11                     600.859522            2345.209878   \n",
       "\n",
       "               symbol Start Date Close  Equiv Benchmark Shares  \\\n",
       "Date Snapshot                                                    \n",
       "2021-04-21                  600.859522                0.819925   \n",
       "2021-04-22                  600.859522                0.819925   \n",
       "2021-04-23                  600.859522                0.819925   \n",
       "2021-04-24                  600.859522                0.819925   \n",
       "2021-04-25                  600.859522                0.819925   \n",
       "...                                ...                     ...   \n",
       "2022-03-07                  600.859522                0.819925   \n",
       "2022-03-08                  600.859522                0.819925   \n",
       "2022-03-09                  600.859522                0.819925   \n",
       "2022-03-10                  600.859522                0.819925   \n",
       "2022-03-11                  600.859522                0.819925   \n",
       "\n",
       "               Benchmark Start Date Cost  Benchmark Return  symbol Return  \\\n",
       "Date Snapshot                                                               \n",
       "2021-04-21                        492.66          2.269638       0.030544   \n",
       "2021-04-22                        492.66          2.329459       0.049399   \n",
       "2021-04-23                        492.66          2.251375       0.024788   \n",
       "2021-04-24                        492.66          2.042676      -0.040991   \n",
       "2021-04-25                        492.66          2.188345       0.004922   \n",
       "...                                  ...               ...            ...   \n",
       "2022-03-07                        492.66          2.825585       0.205771   \n",
       "2022-03-08                        492.66          2.935133       0.240299   \n",
       "2022-03-09                        492.66          3.102702       0.293114   \n",
       "2022-03-10                        492.66          2.941179       0.242205   \n",
       "2022-03-11                        492.66          2.903092       0.230200   \n",
       "\n",
       "               symbol Share Value  Benchmark Share Value  Stock Gain / (Loss)  \\\n",
       "Date Snapshot                                                                   \n",
       "2021-04-21             507.708026            1610.819957            15.048026   \n",
       "2021-04-22             516.996908            1640.291064            24.336908   \n",
       "2021-04-23             504.872170            1601.822557            12.212170   \n",
       "2021-04-24             472.465360            1499.004530           -20.194640   \n",
       "2021-04-25             495.084806            1570.769902             2.424806   \n",
       "...                           ...                    ...                  ...   \n",
       "2022-03-07             594.035162            1884.712562           101.375162   \n",
       "2022-03-08             611.045806            1938.682727           118.385806   \n",
       "2022-03-09             637.065767            2021.237011           144.405767   \n",
       "2022-03-10             611.984611            1941.661299           119.324611   \n",
       "2022-03-11             606.070431            1922.897209           113.410431   \n",
       "\n",
       "               Benchmark Gain / (Loss)  Abs Value Compare  Abs Value Return  \\\n",
       "Date Snapshot                                                                 \n",
       "2021-04-21                 1118.159957          15.048026          0.030544   \n",
       "2021-04-22                 1147.631064          24.336908          0.049399   \n",
       "2021-04-23                 1109.162557          12.212170          0.024788   \n",
       "2021-04-24                 1006.344530         -20.194640         -0.040991   \n",
       "2021-04-25                 1078.109902           2.424806          0.004922   \n",
       "...                                ...                ...               ...   \n",
       "2022-03-07                 1392.052562         101.375162          0.205771   \n",
       "2022-03-08                 1446.022727         118.385806          0.240299   \n",
       "2022-03-09                 1528.577011         144.405767          0.293114   \n",
       "2022-03-10                 1449.001299         119.324611          0.242205   \n",
       "2022-03-11                 1430.237209         113.410431          0.230200   \n",
       "\n",
       "               Abs. Return Compare  \n",
       "Date Snapshot                       \n",
       "2021-04-21               -2.239094  \n",
       "2021-04-22               -2.280060  \n",
       "2021-04-23               -2.226587  \n",
       "2021-04-24               -2.083667  \n",
       "2021-04-25               -2.183423  \n",
       "...                            ...  \n",
       "2022-03-07               -2.619814  \n",
       "2022-03-08               -2.694834  \n",
       "2022-03-09               -2.809587  \n",
       "2022-03-10               -2.698974  \n",
       "2022-03-11               -2.672892  \n",
       "\n",
       "[325 rows x 21 columns]"
      ]
     },
     "execution_count": 64,
     "metadata": {},
     "output_type": "execute_result"
    }
   ],
   "source": [
    "combined_df.groupby([combined_df[\"Date Snapshot\"].dt.date]).sum()"
   ]
  },
  {
   "cell_type": "code",
   "execution_count": 65,
   "metadata": {},
   "outputs": [
    {
     "data": {
      "application/vnd.plotly.v1+json": {
       "config": {
        "linkText": "Export to plot.ly",
        "plotlyServerURL": "https://plot.ly",
        "showLink": false
       },
       "data": [
        {
         "hovertemplate": "variable=Stock Gain / (Loss)<br>Date Snapshot=%{x}<br>value=%{y}<extra></extra>",
         "legendgroup": "Stock Gain / (Loss)",
         "line": {
          "color": "#636efa",
          "dash": "solid"
         },
         "marker": {
          "symbol": "circle"
         },
         "mode": "lines",
         "name": "Stock Gain / (Loss)",
         "orientation": "v",
         "showlegend": true,
         "type": "scatter",
         "x": [
          "2021-04-21",
          "2021-04-22",
          "2021-04-23",
          "2021-04-24",
          "2021-04-25",
          "2021-04-26",
          "2021-04-27",
          "2021-04-28",
          "2021-04-29",
          "2021-04-30",
          "2021-05-01",
          "2021-05-02",
          "2021-05-03",
          "2021-05-04",
          "2021-05-05",
          "2021-05-06",
          "2021-05-07",
          "2021-05-08",
          "2021-05-09",
          "2021-05-10",
          "2021-05-11",
          "2021-05-12",
          "2021-05-13",
          "2021-05-14",
          "2021-05-15",
          "2021-05-16",
          "2021-05-17",
          "2021-05-18",
          "2021-05-19",
          "2021-05-20",
          "2021-05-21",
          "2021-05-22",
          "2021-05-23",
          "2021-05-24",
          "2021-05-25",
          "2021-05-26",
          "2021-05-27",
          "2021-05-28",
          "2021-05-29",
          "2021-05-30",
          "2021-05-31",
          "2021-06-01",
          "2021-06-02",
          "2021-06-03",
          "2021-06-04",
          "2021-06-05",
          "2021-06-06",
          "2021-06-07",
          "2021-06-08",
          "2021-06-09",
          "2021-06-10",
          "2021-06-11",
          "2021-06-12",
          "2021-06-13",
          "2021-06-14",
          "2021-06-15",
          "2021-06-16",
          "2021-06-17",
          "2021-06-18",
          "2021-06-19",
          "2021-06-20",
          "2021-06-21",
          "2021-06-22",
          "2021-06-23",
          "2021-06-24",
          "2021-06-25",
          "2021-06-26",
          "2021-06-27",
          "2021-06-28",
          "2021-06-29",
          "2021-06-30",
          "2021-07-01",
          "2021-07-02",
          "2021-07-03",
          "2021-07-04",
          "2021-07-05",
          "2021-07-06",
          "2021-07-07",
          "2021-07-08",
          "2021-07-09",
          "2021-07-10",
          "2021-07-11",
          "2021-07-12",
          "2021-07-13",
          "2021-07-14",
          "2021-07-15",
          "2021-07-16",
          "2021-07-17",
          "2021-07-18",
          "2021-07-19",
          "2021-07-20",
          "2021-07-21",
          "2021-07-22",
          "2021-07-23",
          "2021-07-24",
          "2021-07-25",
          "2021-07-26",
          "2021-07-27",
          "2021-07-28",
          "2021-07-29",
          "2021-07-30",
          "2021-07-31",
          "2021-08-01",
          "2021-08-02",
          "2021-08-03",
          "2021-08-04",
          "2021-08-05",
          "2021-08-06",
          "2021-08-07",
          "2021-08-08",
          "2021-08-09",
          "2021-08-10",
          "2021-08-11",
          "2021-08-12",
          "2021-08-13",
          "2021-08-14",
          "2021-08-15",
          "2021-08-16",
          "2021-08-17",
          "2021-08-18",
          "2021-08-19",
          "2021-08-20",
          "2021-08-21",
          "2021-08-22",
          "2021-08-23",
          "2021-08-24",
          "2021-08-25",
          "2021-08-26",
          "2021-08-27",
          "2021-08-28",
          "2021-08-29",
          "2021-08-30",
          "2021-08-31",
          "2021-09-01",
          "2021-09-02",
          "2021-09-03",
          "2021-09-04",
          "2021-09-05",
          "2021-09-06",
          "2021-09-07",
          "2021-09-08",
          "2021-09-09",
          "2021-09-10",
          "2021-09-11",
          "2021-09-12",
          "2021-09-13",
          "2021-09-14",
          "2021-09-15",
          "2021-09-16",
          "2021-09-17",
          "2021-09-18",
          "2021-09-19",
          "2021-09-20",
          "2021-09-21",
          "2021-09-22",
          "2021-09-23",
          "2021-09-24",
          "2021-09-25",
          "2021-09-26",
          "2021-09-27",
          "2021-09-28",
          "2021-09-29",
          "2021-09-30",
          "2021-10-01",
          "2021-10-02",
          "2021-10-03",
          "2021-10-04",
          "2021-10-05",
          "2021-10-06",
          "2021-10-07",
          "2021-10-08",
          "2021-10-09",
          "2021-10-10",
          "2021-10-11",
          "2021-10-12",
          "2021-10-13",
          "2021-10-14",
          "2021-10-15",
          "2021-10-16",
          "2021-10-17",
          "2021-10-18",
          "2021-10-19",
          "2021-10-20",
          "2021-10-21",
          "2021-10-22",
          "2021-10-23",
          "2021-10-24",
          "2021-10-25",
          "2021-10-26",
          "2021-10-27",
          "2021-10-28",
          "2021-10-29",
          "2021-10-30",
          "2021-10-31",
          "2021-11-01",
          "2021-11-02",
          "2021-11-03",
          "2021-11-04",
          "2021-11-05",
          "2021-11-06",
          "2021-11-07",
          "2021-11-08",
          "2021-11-09",
          "2021-11-10",
          "2021-11-11",
          "2021-11-12",
          "2021-11-13",
          "2021-11-14",
          "2021-11-15",
          "2021-11-16",
          "2021-11-17",
          "2021-11-18",
          "2021-11-19",
          "2021-11-20",
          "2021-11-21",
          "2021-11-22",
          "2021-11-23",
          "2021-11-24",
          "2021-11-25",
          "2021-11-26",
          "2021-11-27",
          "2021-11-28",
          "2021-11-29",
          "2021-11-30",
          "2021-12-01",
          "2021-12-02",
          "2021-12-03",
          "2021-12-04",
          "2021-12-05",
          "2021-12-06",
          "2021-12-07",
          "2021-12-08",
          "2021-12-09",
          "2021-12-10",
          "2021-12-11",
          "2021-12-12",
          "2021-12-13",
          "2021-12-14",
          "2021-12-15",
          "2021-12-16",
          "2021-12-17",
          "2021-12-18",
          "2021-12-19",
          "2021-12-20",
          "2021-12-21",
          "2021-12-22",
          "2021-12-23",
          "2021-12-24",
          "2021-12-25",
          "2021-12-26",
          "2021-12-27",
          "2021-12-28",
          "2021-12-29",
          "2021-12-30",
          "2021-12-31",
          "2022-01-01",
          "2022-01-02",
          "2022-01-03",
          "2022-01-04",
          "2022-01-05",
          "2022-01-06",
          "2022-01-07",
          "2022-01-08",
          "2022-01-09",
          "2022-01-10",
          "2022-01-11",
          "2022-01-12",
          "2022-01-13",
          "2022-01-14",
          "2022-01-15",
          "2022-01-16",
          "2022-01-17",
          "2022-01-18",
          "2022-01-19",
          "2022-01-20",
          "2022-01-21",
          "2022-01-22",
          "2022-01-23",
          "2022-01-24",
          "2022-01-25",
          "2022-01-26",
          "2022-01-27",
          "2022-01-28",
          "2022-01-29",
          "2022-01-30",
          "2022-01-31",
          "2022-02-01",
          "2022-02-02",
          "2022-02-03",
          "2022-02-04",
          "2022-02-05",
          "2022-02-06",
          "2022-02-07",
          "2022-02-08",
          "2022-02-09",
          "2022-02-10",
          "2022-02-11",
          "2022-02-12",
          "2022-02-13",
          "2022-02-14",
          "2022-02-15",
          "2022-02-16",
          "2022-02-17",
          "2022-02-18",
          "2022-02-19",
          "2022-02-20",
          "2022-02-21",
          "2022-02-22",
          "2022-02-23",
          "2022-02-24",
          "2022-02-25",
          "2022-02-26",
          "2022-02-27",
          "2022-02-28",
          "2022-03-01",
          "2022-03-02",
          "2022-03-03",
          "2022-03-04",
          "2022-03-05",
          "2022-03-06",
          "2022-03-07",
          "2022-03-08",
          "2022-03-09",
          "2022-03-10",
          "2022-03-11"
         ],
         "xaxis": "x",
         "y": [
          15.048025807812849,
          24.33690823679268,
          12.212170330157448,
          -20.194640169607055,
          2.4248059589218087,
          49.567683444514216,
          76.57644326021233,
          92.20989904761092,
          94.9575874414939,
          103.6019531014295,
          140.70714758673358,
          141.6866752250441,
          242.62083439460622,
          207.12955031292785,
          265.51793685295587,
          255.05583994692648,
          247.73062495467713,
          336.52467438938737,
          341.58300810310794,
          348.6345526888903,
          394.4377051103741,
          317.4106490168696,
          302.33743087418355,
          375.3489397619059,
          281.4254294978786,
          270.4074004737474,
          205.12701401952012,
          222.01050960345304,
          29.838867699722584,
          95.90568144148341,
          23.056913559749376,
          -5.568821254204693,
          -45.08730898176481,
          66.67104256578017,
          78.48657087575208,
          119.64698539114698,
          87.3397177367288,
          20.256873978354008,
          -9.502030717198977,
          14.106890193129118,
          80.9094134556405,
          64.39628436388688,
          80.11807916631636,
          115.58108095230187,
          78.30502481075195,
          66.09971343055503,
          84.01590724256386,
          56.38135720251768,
          41.79418694011309,
          60.81221665477523,
          32.03001678352422,
          9.680793576716894,
          13.67510843254371,
          42.64927296751654,
          48.40032150477367,
          63.842216700936035,
          17.448812748744558,
          21.90274087727306,
          -6.509167997916109,
          -18.139768991471726,
          -3.6325121702110437,
          -82.98245094812165,
          -86.72363800846801,
          -61.653799031022515,
          -61.84627543680341,
          -100.12565547506733,
          -96.61033584904794,
          -64.43796739180476,
          -42.12073012222544,
          -23.42749411584191,
          3.1253799007205316,
          -31.54622917303459,
          -24.358100551092093,
          -7.788383602376484,
          13.421065537875165,
          -13.751018829697102,
          15.494478782162844,
          14.677663254600418,
          -30.182141783258885,
          -25.595506996071265,
          -33.243982965406985,
          -26.902792700456985,
          -48.97763837494682,
          -66.86803330690799,
          -57.11201915606995,
          -74.50758944987228,
          -81.03002262493334,
          -76.99288014764483,
          -77.96068234704683,
          -94.38782882010469,
          -100.57099766121411,
          -56.38158156613446,
          -48.08905955786753,
          -26.19114184205762,
          -12.035182063486616,
          -11.631163650371775,
          -3.7384714098511154,
          9.793685949407234,
          8.363005428798942,
          24.752886798459542,
          44.56298804610111,
          59.65352334106848,
          65.32171958841326,
          75.42236709853222,
          52.18721534519983,
          102.13707154566322,
          124.78032209393581,
          142.48099975022268,
          200.9865616308038,
          170.29937840820804,
          204.81901625213158,
          200.10713696995896,
          203.76389046795606,
          177.51769797378114,
          235.14575632219402,
          222.71525965756422,
          232.72638494432493,
          199.90209804963598,
          172.72348736381986,
          174.24999063729814,
          211.77910995247072,
          233.3255081149668,
          220.0986906590776,
          223.64065560922614,
          237.7289571023618,
          204.92263345715122,
          215.27087213458293,
          189.0210960772111,
          223.90598632099778,
          218.16628016182932,
          214.16798280975996,
          213.70637885185153,
          258.71443386029426,
          344.25384912778605,
          332.43137647760324,
          364.6217261281428,
          352.8215756527447,
          366.6649654428822,
          362.3690623832899,
          254.92768362736598,
          272.0509855827375,
          256.3971006388477,
          210.04740180919356,
          222.66477159115897,
          253.42726481218943,
          226.30766469088547,
          258.1926939517502,
          297.84909207374034,
          291.8164196752371,
          256.3909466163611,
          263.7282610944107,
          240.9040634627401,
          159.41943022555068,
          116.75335966470317,
          187.91398196624908,
          201.95123036812055,
          153.7502184685017,
          152.42937014837497,
          182.4214031084801,
          155.66644658698664,
          128.14948005211392,
          142.92811837530354,
          177.5731629828893,
          244.58530615341414,
          263.34864162301045,
          268.4520001714188,
          259.31182240099935,
          291.48862932481376,
          308.13068279281964,
          309.48254499796616,
          303.41492120746017,
          306.00008857962774,
          272.8324103762216,
          300.3764646783871,
          290.10918383652114,
          310.9647292914436,
          351.4968972370211,
          367.8940200339313,
          360.7084795149088,
          364.66869510742794,
          341.5328917473867,
          368.73021917902764,
          429.05578637636603,
          408.66170604155315,
          388.48598848313594,
          433.3658045481282,
          414.9617456807368,
          446.30134729905893,
          427.9597585252313,
          383.0428774169156,
          455.7560132458065,
          494.1833418830468,
          474.2673392672073,
          466.2568327677615,
          470.83211553571647,
          530.5996541183279,
          532.4260293717941,
          522.0853475515719,
          510.99767934300013,
          518.903387590336,
          539.5470400697743,
          580.4579401549106,
          562.7733254919265,
          550.4911160772738,
          575.2129463491017,
          561.2848088738504,
          557.7495647643893,
          552.3118200043227,
          543.4903044701443,
          469.92036824353016,
          486.3633322628319,
          416.7489615104732,
          491.4787221241074,
          517.0361825635207,
          485.9472599413942,
          447.2080204506295,
          504.788258995882,
          485.3904815015101,
          492.892036380124,
          427.57307468021037,
          442.6411931976342,
          490.12821765540133,
          524.5876264772742,
          563.7400888763593,
          554.6108796351775,
          538.5207181159813,
          471.3716305535766,
          448.3171309020824,
          467.12936674401004,
          505.60558231513943,
          496.55495613077943,
          518.6489206655885,
          450.06321818586633,
          399.74511765773553,
          440.04369926751275,
          451.9841393909366,
          374.05586348697744,
          367.1422084372362,
          427.1073697590186,
          410.83668132763756,
          399.29637974089854,
          418.0177023896677,
          408.9739812367745,
          408.80221272546925,
          427.78714856129585,
          415.9135510134674,
          444.90532457959847,
          431.2669489865877,
          441.6059411964599,
          435.6045899304508,
          428.30712565596235,
          375.58335792864665,
          332.81043154524133,
          354.9902495401215,
          344.0760455355631,
          363.8579781309665,
          377.539870951307,
          367.401130266685,
          376.32783117635194,
          318.5415427583461,
          289.28780873023055,
          233.63043474402951,
          210.67196195457876,
          226.10230828822313,
          210.57662989233398,
          243.58789981203932,
          269.1073309532488,
          240.04074470434756,
          256.685487092772,
          261.3331075630029,
          266.5928385959141,
          234.89355990445875,
          229.0798297561899,
          212.64773356018048,
          192.87766576312805,
          90.02707549770577,
          55.23108055860013,
          84.9943603344671,
          64.2721935377761,
          68.84836955973805,
          74.73712024863454,
          69.2084235394828,
          97.72374482281981,
          109.31142457856305,
          110.63390091225989,
          126.01811054131969,
          147.41370597994097,
          120.92303907744287,
          112.7977792728064,
          180.79208219606943,
          187.80320905798186,
          197.14313954345124,
          217.12046038450325,
          213.93431254570504,
          240.34337998757843,
          204.27969337949986,
          173.81992258999963,
          171.57915640606865,
          163.04262748454715,
          177.85873082682718,
          231.04810478211294,
          218.08159626300738,
          162.64863780500315,
          143.1901922988505,
          138.16263217436705,
          107.60073253846014,
          95.49131582220508,
          109.41422133268435,
          99.44642181258672,
          107.3066896321987,
          141.0429490231458,
          144.95549206876484,
          113.35682517824029,
          180.0548269122931,
          197.37689098999914,
          193.41290540500853,
          169.29175531084815,
          126.12649470230923,
          137.57140971275857,
          114.58185384476491,
          101.3751619322158,
          118.38580647351768,
          144.40576744525862,
          119.32461105638123,
          113.41043106934688
         ],
         "yaxis": "y"
        }
       ],
       "layout": {
        "legend": {
         "title": {
          "text": "variable"
         },
         "tracegroupgap": 0
        },
        "margin": {
         "t": 60
        },
        "template": {
         "data": {
          "bar": [
           {
            "error_x": {
             "color": "#2a3f5f"
            },
            "error_y": {
             "color": "#2a3f5f"
            },
            "marker": {
             "line": {
              "color": "#E5ECF6",
              "width": 0.5
             },
             "pattern": {
              "fillmode": "overlay",
              "size": 10,
              "solidity": 0.2
             }
            },
            "type": "bar"
           }
          ],
          "barpolar": [
           {
            "marker": {
             "line": {
              "color": "#E5ECF6",
              "width": 0.5
             },
             "pattern": {
              "fillmode": "overlay",
              "size": 10,
              "solidity": 0.2
             }
            },
            "type": "barpolar"
           }
          ],
          "carpet": [
           {
            "aaxis": {
             "endlinecolor": "#2a3f5f",
             "gridcolor": "white",
             "linecolor": "white",
             "minorgridcolor": "white",
             "startlinecolor": "#2a3f5f"
            },
            "baxis": {
             "endlinecolor": "#2a3f5f",
             "gridcolor": "white",
             "linecolor": "white",
             "minorgridcolor": "white",
             "startlinecolor": "#2a3f5f"
            },
            "type": "carpet"
           }
          ],
          "choropleth": [
           {
            "colorbar": {
             "outlinewidth": 0,
             "ticks": ""
            },
            "type": "choropleth"
           }
          ],
          "contour": [
           {
            "colorbar": {
             "outlinewidth": 0,
             "ticks": ""
            },
            "colorscale": [
             [
              0,
              "#0d0887"
             ],
             [
              0.1111111111111111,
              "#46039f"
             ],
             [
              0.2222222222222222,
              "#7201a8"
             ],
             [
              0.3333333333333333,
              "#9c179e"
             ],
             [
              0.4444444444444444,
              "#bd3786"
             ],
             [
              0.5555555555555556,
              "#d8576b"
             ],
             [
              0.6666666666666666,
              "#ed7953"
             ],
             [
              0.7777777777777778,
              "#fb9f3a"
             ],
             [
              0.8888888888888888,
              "#fdca26"
             ],
             [
              1,
              "#f0f921"
             ]
            ],
            "type": "contour"
           }
          ],
          "contourcarpet": [
           {
            "colorbar": {
             "outlinewidth": 0,
             "ticks": ""
            },
            "type": "contourcarpet"
           }
          ],
          "heatmap": [
           {
            "colorbar": {
             "outlinewidth": 0,
             "ticks": ""
            },
            "colorscale": [
             [
              0,
              "#0d0887"
             ],
             [
              0.1111111111111111,
              "#46039f"
             ],
             [
              0.2222222222222222,
              "#7201a8"
             ],
             [
              0.3333333333333333,
              "#9c179e"
             ],
             [
              0.4444444444444444,
              "#bd3786"
             ],
             [
              0.5555555555555556,
              "#d8576b"
             ],
             [
              0.6666666666666666,
              "#ed7953"
             ],
             [
              0.7777777777777778,
              "#fb9f3a"
             ],
             [
              0.8888888888888888,
              "#fdca26"
             ],
             [
              1,
              "#f0f921"
             ]
            ],
            "type": "heatmap"
           }
          ],
          "heatmapgl": [
           {
            "colorbar": {
             "outlinewidth": 0,
             "ticks": ""
            },
            "colorscale": [
             [
              0,
              "#0d0887"
             ],
             [
              0.1111111111111111,
              "#46039f"
             ],
             [
              0.2222222222222222,
              "#7201a8"
             ],
             [
              0.3333333333333333,
              "#9c179e"
             ],
             [
              0.4444444444444444,
              "#bd3786"
             ],
             [
              0.5555555555555556,
              "#d8576b"
             ],
             [
              0.6666666666666666,
              "#ed7953"
             ],
             [
              0.7777777777777778,
              "#fb9f3a"
             ],
             [
              0.8888888888888888,
              "#fdca26"
             ],
             [
              1,
              "#f0f921"
             ]
            ],
            "type": "heatmapgl"
           }
          ],
          "histogram": [
           {
            "marker": {
             "pattern": {
              "fillmode": "overlay",
              "size": 10,
              "solidity": 0.2
             }
            },
            "type": "histogram"
           }
          ],
          "histogram2d": [
           {
            "colorbar": {
             "outlinewidth": 0,
             "ticks": ""
            },
            "colorscale": [
             [
              0,
              "#0d0887"
             ],
             [
              0.1111111111111111,
              "#46039f"
             ],
             [
              0.2222222222222222,
              "#7201a8"
             ],
             [
              0.3333333333333333,
              "#9c179e"
             ],
             [
              0.4444444444444444,
              "#bd3786"
             ],
             [
              0.5555555555555556,
              "#d8576b"
             ],
             [
              0.6666666666666666,
              "#ed7953"
             ],
             [
              0.7777777777777778,
              "#fb9f3a"
             ],
             [
              0.8888888888888888,
              "#fdca26"
             ],
             [
              1,
              "#f0f921"
             ]
            ],
            "type": "histogram2d"
           }
          ],
          "histogram2dcontour": [
           {
            "colorbar": {
             "outlinewidth": 0,
             "ticks": ""
            },
            "colorscale": [
             [
              0,
              "#0d0887"
             ],
             [
              0.1111111111111111,
              "#46039f"
             ],
             [
              0.2222222222222222,
              "#7201a8"
             ],
             [
              0.3333333333333333,
              "#9c179e"
             ],
             [
              0.4444444444444444,
              "#bd3786"
             ],
             [
              0.5555555555555556,
              "#d8576b"
             ],
             [
              0.6666666666666666,
              "#ed7953"
             ],
             [
              0.7777777777777778,
              "#fb9f3a"
             ],
             [
              0.8888888888888888,
              "#fdca26"
             ],
             [
              1,
              "#f0f921"
             ]
            ],
            "type": "histogram2dcontour"
           }
          ],
          "mesh3d": [
           {
            "colorbar": {
             "outlinewidth": 0,
             "ticks": ""
            },
            "type": "mesh3d"
           }
          ],
          "parcoords": [
           {
            "line": {
             "colorbar": {
              "outlinewidth": 0,
              "ticks": ""
             }
            },
            "type": "parcoords"
           }
          ],
          "pie": [
           {
            "automargin": true,
            "type": "pie"
           }
          ],
          "scatter": [
           {
            "marker": {
             "colorbar": {
              "outlinewidth": 0,
              "ticks": ""
             }
            },
            "type": "scatter"
           }
          ],
          "scatter3d": [
           {
            "line": {
             "colorbar": {
              "outlinewidth": 0,
              "ticks": ""
             }
            },
            "marker": {
             "colorbar": {
              "outlinewidth": 0,
              "ticks": ""
             }
            },
            "type": "scatter3d"
           }
          ],
          "scattercarpet": [
           {
            "marker": {
             "colorbar": {
              "outlinewidth": 0,
              "ticks": ""
             }
            },
            "type": "scattercarpet"
           }
          ],
          "scattergeo": [
           {
            "marker": {
             "colorbar": {
              "outlinewidth": 0,
              "ticks": ""
             }
            },
            "type": "scattergeo"
           }
          ],
          "scattergl": [
           {
            "marker": {
             "colorbar": {
              "outlinewidth": 0,
              "ticks": ""
             }
            },
            "type": "scattergl"
           }
          ],
          "scattermapbox": [
           {
            "marker": {
             "colorbar": {
              "outlinewidth": 0,
              "ticks": ""
             }
            },
            "type": "scattermapbox"
           }
          ],
          "scatterpolar": [
           {
            "marker": {
             "colorbar": {
              "outlinewidth": 0,
              "ticks": ""
             }
            },
            "type": "scatterpolar"
           }
          ],
          "scatterpolargl": [
           {
            "marker": {
             "colorbar": {
              "outlinewidth": 0,
              "ticks": ""
             }
            },
            "type": "scatterpolargl"
           }
          ],
          "scatterternary": [
           {
            "marker": {
             "colorbar": {
              "outlinewidth": 0,
              "ticks": ""
             }
            },
            "type": "scatterternary"
           }
          ],
          "surface": [
           {
            "colorbar": {
             "outlinewidth": 0,
             "ticks": ""
            },
            "colorscale": [
             [
              0,
              "#0d0887"
             ],
             [
              0.1111111111111111,
              "#46039f"
             ],
             [
              0.2222222222222222,
              "#7201a8"
             ],
             [
              0.3333333333333333,
              "#9c179e"
             ],
             [
              0.4444444444444444,
              "#bd3786"
             ],
             [
              0.5555555555555556,
              "#d8576b"
             ],
             [
              0.6666666666666666,
              "#ed7953"
             ],
             [
              0.7777777777777778,
              "#fb9f3a"
             ],
             [
              0.8888888888888888,
              "#fdca26"
             ],
             [
              1,
              "#f0f921"
             ]
            ],
            "type": "surface"
           }
          ],
          "table": [
           {
            "cells": {
             "fill": {
              "color": "#EBF0F8"
             },
             "line": {
              "color": "white"
             }
            },
            "header": {
             "fill": {
              "color": "#C8D4E3"
             },
             "line": {
              "color": "white"
             }
            },
            "type": "table"
           }
          ]
         },
         "layout": {
          "annotationdefaults": {
           "arrowcolor": "#2a3f5f",
           "arrowhead": 0,
           "arrowwidth": 1
          },
          "autotypenumbers": "strict",
          "coloraxis": {
           "colorbar": {
            "outlinewidth": 0,
            "ticks": ""
           }
          },
          "colorscale": {
           "diverging": [
            [
             0,
             "#8e0152"
            ],
            [
             0.1,
             "#c51b7d"
            ],
            [
             0.2,
             "#de77ae"
            ],
            [
             0.3,
             "#f1b6da"
            ],
            [
             0.4,
             "#fde0ef"
            ],
            [
             0.5,
             "#f7f7f7"
            ],
            [
             0.6,
             "#e6f5d0"
            ],
            [
             0.7,
             "#b8e186"
            ],
            [
             0.8,
             "#7fbc41"
            ],
            [
             0.9,
             "#4d9221"
            ],
            [
             1,
             "#276419"
            ]
           ],
           "sequential": [
            [
             0,
             "#0d0887"
            ],
            [
             0.1111111111111111,
             "#46039f"
            ],
            [
             0.2222222222222222,
             "#7201a8"
            ],
            [
             0.3333333333333333,
             "#9c179e"
            ],
            [
             0.4444444444444444,
             "#bd3786"
            ],
            [
             0.5555555555555556,
             "#d8576b"
            ],
            [
             0.6666666666666666,
             "#ed7953"
            ],
            [
             0.7777777777777778,
             "#fb9f3a"
            ],
            [
             0.8888888888888888,
             "#fdca26"
            ],
            [
             1,
             "#f0f921"
            ]
           ],
           "sequentialminus": [
            [
             0,
             "#0d0887"
            ],
            [
             0.1111111111111111,
             "#46039f"
            ],
            [
             0.2222222222222222,
             "#7201a8"
            ],
            [
             0.3333333333333333,
             "#9c179e"
            ],
            [
             0.4444444444444444,
             "#bd3786"
            ],
            [
             0.5555555555555556,
             "#d8576b"
            ],
            [
             0.6666666666666666,
             "#ed7953"
            ],
            [
             0.7777777777777778,
             "#fb9f3a"
            ],
            [
             0.8888888888888888,
             "#fdca26"
            ],
            [
             1,
             "#f0f921"
            ]
           ]
          },
          "colorway": [
           "#636efa",
           "#EF553B",
           "#00cc96",
           "#ab63fa",
           "#FFA15A",
           "#19d3f3",
           "#FF6692",
           "#B6E880",
           "#FF97FF",
           "#FECB52"
          ],
          "font": {
           "color": "#2a3f5f"
          },
          "geo": {
           "bgcolor": "white",
           "lakecolor": "white",
           "landcolor": "#E5ECF6",
           "showlakes": true,
           "showland": true,
           "subunitcolor": "white"
          },
          "hoverlabel": {
           "align": "left"
          },
          "hovermode": "closest",
          "mapbox": {
           "style": "light"
          },
          "paper_bgcolor": "white",
          "plot_bgcolor": "#E5ECF6",
          "polar": {
           "angularaxis": {
            "gridcolor": "white",
            "linecolor": "white",
            "ticks": ""
           },
           "bgcolor": "#E5ECF6",
           "radialaxis": {
            "gridcolor": "white",
            "linecolor": "white",
            "ticks": ""
           }
          },
          "scene": {
           "xaxis": {
            "backgroundcolor": "#E5ECF6",
            "gridcolor": "white",
            "gridwidth": 2,
            "linecolor": "white",
            "showbackground": true,
            "ticks": "",
            "zerolinecolor": "white"
           },
           "yaxis": {
            "backgroundcolor": "#E5ECF6",
            "gridcolor": "white",
            "gridwidth": 2,
            "linecolor": "white",
            "showbackground": true,
            "ticks": "",
            "zerolinecolor": "white"
           },
           "zaxis": {
            "backgroundcolor": "#E5ECF6",
            "gridcolor": "white",
            "gridwidth": 2,
            "linecolor": "white",
            "showbackground": true,
            "ticks": "",
            "zerolinecolor": "white"
           }
          },
          "shapedefaults": {
           "line": {
            "color": "#2a3f5f"
           }
          },
          "ternary": {
           "aaxis": {
            "gridcolor": "white",
            "linecolor": "white",
            "ticks": ""
           },
           "baxis": {
            "gridcolor": "white",
            "linecolor": "white",
            "ticks": ""
           },
           "bgcolor": "#E5ECF6",
           "caxis": {
            "gridcolor": "white",
            "linecolor": "white",
            "ticks": ""
           }
          },
          "title": {
           "x": 0.05
          },
          "xaxis": {
           "automargin": true,
           "gridcolor": "white",
           "linecolor": "white",
           "ticks": "",
           "title": {
            "standoff": 15
           },
           "zerolinecolor": "white",
           "zerolinewidth": 2
          },
          "yaxis": {
           "automargin": true,
           "gridcolor": "white",
           "linecolor": "white",
           "ticks": "",
           "title": {
            "standoff": 15
           },
           "zerolinecolor": "white",
           "zerolinewidth": 2
          }
         }
        },
        "xaxis": {
         "anchor": "y",
         "domain": [
          0,
          1
         ],
         "title": {
          "text": "Date Snapshot"
         }
        },
        "yaxis": {
         "anchor": "x",
         "domain": [
          0,
          1
         ],
         "title": {
          "text": "value"
         }
        }
       }
      }
     },
     "metadata": {},
     "output_type": "display_data"
    }
   ],
   "source": [
    "t.line(combined_df, [\"Stock Gain / (Loss)\"])\n",
    "# t.line_facets(combined_df, 'symbol Return', 'Benchmark Return')"
   ]
  }
 ],
 "metadata": {
  "interpreter": {
   "hash": "2d92824427b41c6028804632d5278b37df1fc0de77b5e6f8aeb0bbbd2f432773"
  },
  "kernelspec": {
   "display_name": "Python 3.7.12 ('cryptoenv')",
   "language": "python",
   "name": "python3"
  },
  "language_info": {
   "codemirror_mode": {
    "name": "ipython",
    "version": 3
   },
   "file_extension": ".py",
   "mimetype": "text/x-python",
   "name": "python",
   "nbconvert_exporter": "python",
   "pygments_lexer": "ipython3",
   "version": "3.7.12"
  },
  "orig_nbformat": 4
 },
 "nbformat": 4,
 "nbformat_minor": 2
}
