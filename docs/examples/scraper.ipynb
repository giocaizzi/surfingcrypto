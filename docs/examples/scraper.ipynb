{
 "cells": [
  {
   "cell_type": "markdown",
   "metadata": {},
   "source": [
    "# `Scraper`: get the required data.\n",
    "\n",
    "The object `surfingcrypto.scraper.Scraper` is used for dowloading locally the data required, eventually also obtaining Coinbase historic price data if coinbase configuration is specified in the `config` folder."
   ]
  },
  {
   "cell_type": "code",
   "execution_count": 1,
   "metadata": {},
   "outputs": [],
   "source": [
    "%load_ext autoreload\n",
    "%autoreload 2\n",
    "from surfingcrypto import Config\n",
    "from surfingcrypto.scraper import Scraper "
   ]
  },
  {
   "cell_type": "markdown",
   "metadata": {},
   "source": [
    "Load the configuration."
   ]
  },
  {
   "cell_type": "code",
   "execution_count": 2,
   "metadata": {},
   "outputs": [],
   "source": [
    "coins={\n",
    "    \"BTC\":\"\",\n",
    "    \"ETH\":\"\",\n",
    "    \"MATIC\":\"\",\n",
    "    \"ADA\":\"\",\n",
    "    \"SOL\":\"\"\n",
    "}\n",
    "c = Config(coins,\"/Users/giorgiocaizzi/Documents/GitHub/surfingcrypto/config\")"
   ]
  },
  {
   "cell_type": "markdown",
   "metadata": {},
   "source": [
    "## Download data\n",
    "\n",
    "Run the scraper.\n",
    "\n",
    "The `fiat` argument specifies currency in which download the data.\n",
    "The output is printed right after execution if `verbose` is `True`.\n"
   ]
  },
  {
   "cell_type": "code",
   "execution_count": 3,
   "metadata": {},
   "outputs": [
    {
     "name": "stdout",
     "output_type": "stream",
     "text": [
      "Update successful.\n"
     ]
    }
   ],
   "source": [
    "s=Scraper(c,fiat=\"EUR\",verbose=True)\n",
    "s.run()"
   ]
  },
  {
   "cell_type": "code",
   "execution_count": 4,
   "metadata": {},
   "outputs": [
    {
     "name": "stdout",
     "output_type": "stream",
     "text": [
      "Update successful.\n"
     ]
    }
   ],
   "source": [
    "s=Scraper(c,fiat=\"EUR\",verbose=True)\n",
    "s.run()"
   ]
  },
  {
   "cell_type": "markdown",
   "metadata": {},
   "source": [
    "## Add coins not specified in configuration\n",
    "\n",
    "It is possibld to add coins to the `coins` attribute of the configuration object using the `add_coins()` method.\n",
    "It takes a list of string as input."
   ]
  },
  {
   "cell_type": "code",
   "execution_count": 5,
   "metadata": {},
   "outputs": [
    {
     "name": "stdout",
     "output_type": "stream",
     "text": [
      "Update successful.\n"
     ]
    }
   ],
   "source": [
    "c.add_coins([\"ALGO\"])\n",
    "s.run()"
   ]
  },
  {
   "cell_type": "markdown",
   "metadata": {},
   "source": [
    "## Access individual `CoinScraper` runs\n",
    "\n",
    "All runs are stored in `runs` attribute, as a list of individual `CoinScraper` objects."
   ]
  },
  {
   "cell_type": "code",
   "execution_count": 6,
   "metadata": {},
   "outputs": [
    {
     "data": {
      "text/plain": [
       "[CoinScraper(DOGE, start=13-04-2022, end_day=26-04-2022, error=False,),\n",
       " CoinScraper(ALGO, start=01-10-2017, end_day=07-05-2022, error=False,),\n",
       " CoinScraper(SOL, start=01-10-2017, end_day=07-05-2022, error=False,)]"
      ]
     },
     "execution_count": 6,
     "metadata": {},
     "output_type": "execute_result"
    }
   ],
   "source": [
    "s.runs[0:3]"
   ]
  },
  {
   "cell_type": "code",
   "execution_count": 7,
   "metadata": {},
   "outputs": [],
   "source": [
    "for run in s.runs:\n",
    "    if hasattr(run,\"error\"):\n",
    "        print(run.description)\n",
    "        print(run.error)"
   ]
  }
 ],
 "metadata": {
  "interpreter": {
   "hash": "2d92824427b41c6028804632d5278b37df1fc0de77b5e6f8aeb0bbbd2f432773"
  },
  "kernelspec": {
   "display_name": "Python 3.7.11 64-bit ('cryptoenv': conda)",
   "language": "python",
   "name": "python3"
  },
  "language_info": {
   "codemirror_mode": {
    "name": "ipython",
    "version": 3
   },
   "file_extension": ".py",
   "mimetype": "text/x-python",
   "name": "python",
   "nbconvert_exporter": "python",
   "pygments_lexer": "ipython3",
   "version": "3.7.12"
  }
 },
 "nbformat": 4,
 "nbformat_minor": 2
}
