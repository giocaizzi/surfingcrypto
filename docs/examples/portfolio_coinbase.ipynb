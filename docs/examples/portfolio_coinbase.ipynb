{
 "cells": [
  {
   "cell_type": "markdown",
   "metadata": {},
   "source": [
    "# Portfolio: `MyCoinbase`\n",
    "\n",
    "The user portfolio is an object that is kept apart from the definition of objects related to the cryprocurrency portfolio provider (eg. Coinbase API). \n",
    "\n",
    "This is done for keeping a level of separation between the two layers, allowing future developement (eg. the implementation of other crypto trading services) and providing methods that are useful specifically at this level.\n"
   ]
  },
  {
   "cell_type": "code",
   "execution_count": 1,
   "metadata": {},
   "outputs": [],
   "source": [
    "%load_ext autoreload\n",
    "%autoreload 2"
   ]
  },
  {
   "cell_type": "code",
   "execution_count": 2,
   "metadata": {},
   "outputs": [],
   "source": [
    "from surfingcrypto import Config\n",
    "from surfingcrypto.portfolio import MyCoinbase\n"
   ]
  },
  {
   "cell_type": "code",
   "execution_count": 3,
   "metadata": {},
   "outputs": [],
   "source": [
    "parent = \"/Users/giorgiocaizzi/Documents/GitHub/surfingcrypto/\"\n",
    "c = Config(parent + \"config\")\n"
   ]
  },
  {
   "cell_type": "markdown",
   "metadata": {},
   "source": [
    "## `MyCoinbase` object\n",
    "\n",
    "The only implemented crypto trading platform is Coinbase and `MyCoinbase` is the class that under the hood of the `Portfolio` object handles the Coinbase user-profile, that is made of the client methods - inherited from the Coinbase API client wrapper object `CB` - plus some additional methods that are used for facilitating the user's sessions."
   ]
  },
  {
   "cell_type": "markdown",
   "metadata": {},
   "source": [
    "### Get active accounts\n",
    "\n",
    "Basic `MyCoinbase` initialization offers loading all accounts that can be considered `active`, a.k.a. that have a `balance`> 0.00 EUR or USD."
   ]
  },
  {
   "cell_type": "code",
   "execution_count": 4,
   "metadata": {},
   "outputs": [
    {
     "name": "stdout",
     "output_type": "stream",
     "text": [
      "MyCoinbase( isHistoric:False, N_accounts:4)\n"
     ]
    }
   ],
   "source": [
    "cb = MyCoinbase(configuration=c)\n",
    "print(cb)\n"
   ]
  },
  {
   "cell_type": "markdown",
   "metadata": {},
   "source": [
    "### Get all accounts with transactions.\n",
    "\n",
    "This is the `isHistoric` mode of MyCoinbase, in which the `accounts` represents all accounts that has ever had a transaction. These accounts can either be fetched all from Coinbase API or locally cached.\n",
    "\n",
    "The `MyCoinbase` object has a built-in cache system that allows to dump locally accounts information - functional to other modules, such as `Scraper` - and transactions. This helps avoiding fetching the same information every time and so reducing execution time. With about 200 transactions, the execution time is cut from 34 seconds to 25s."
   ]
  },
  {
   "cell_type": "code",
   "execution_count": 5,
   "metadata": {},
   "outputs": [
    {
     "name": "stdout",
     "output_type": "stream",
     "text": [
      "MyCoinbase( isHistoric:True, N_accounts:32)\n"
     ]
    }
   ],
   "source": [
    "cb = MyCoinbase(active_accounts=False, configuration=c)\n",
    "print(cb)\n"
   ]
  },
  {
   "cell_type": "markdown",
   "metadata": {},
   "source": [
    "If required, a fresh update of all accounts and transactions can be forced with `force=True`."
   ]
  },
  {
   "cell_type": "code",
   "execution_count": 6,
   "metadata": {},
   "outputs": [
    {
     "name": "stdout",
     "output_type": "stream",
     "text": [
      "MyCoinbase( isHistoric:True, N_accounts:32)\n"
     ]
    }
   ],
   "source": [
    "cb = MyCoinbase(active_accounts=False,force=True, configuration=c)\n",
    "print(cb)"
   ]
  },
  {
   "cell_type": "markdown",
   "metadata": {},
   "source": [
    "### Transaction history\n",
    "\n",
    "Get the full transaction history via the `TransactionsHistory` class."
   ]
  },
  {
   "cell_type": "code",
   "execution_count": 25,
   "metadata": {},
   "outputs": [
    {
     "data": {
      "text/plain": [
       "TransactionsHistory(Transactions:203 - Processed:203, Unhandled:0 - Errors:9)"
      ]
     },
     "execution_count": 25,
     "metadata": {},
     "output_type": "execute_result"
    }
   ],
   "source": [
    "cb.get_history()\n",
    "cb.history\n"
   ]
  },
  {
   "cell_type": "code",
   "execution_count": 26,
   "metadata": {},
   "outputs": [
    {
     "data": {
      "text/plain": [
       "[]"
      ]
     },
     "execution_count": 26,
     "metadata": {},
     "output_type": "execute_result"
    }
   ],
   "source": [
    "cb.history.unhandled_trans"
   ]
  },
  {
   "cell_type": "code",
   "execution_count": 27,
   "metadata": {},
   "outputs": [
    {
     "data": {
      "text/html": [
       "<div>\n",
       "<style scoped>\n",
       "    .dataframe tbody tr th:only-of-type {\n",
       "        vertical-align: middle;\n",
       "    }\n",
       "\n",
       "    .dataframe tbody tr th {\n",
       "        vertical-align: top;\n",
       "    }\n",
       "\n",
       "    .dataframe thead th {\n",
       "        text-align: right;\n",
       "    }\n",
       "</style>\n",
       "<table border=\"1\" class=\"dataframe\">\n",
       "  <thead>\n",
       "    <tr style=\"text-align: right;\">\n",
       "      <th></th>\n",
       "      <th>type</th>\n",
       "      <th>amount</th>\n",
       "      <th>symbol</th>\n",
       "      <th>native_amount</th>\n",
       "      <th>nat_symbol</th>\n",
       "      <th>total</th>\n",
       "      <th>subtotal</th>\n",
       "      <th>total_fee</th>\n",
       "      <th>spot_price</th>\n",
       "      <th>transaction_id</th>\n",
       "      <th>transaction_type_id</th>\n",
       "    </tr>\n",
       "    <tr>\n",
       "      <th>datetime</th>\n",
       "      <th></th>\n",
       "      <th></th>\n",
       "      <th></th>\n",
       "      <th></th>\n",
       "      <th></th>\n",
       "      <th></th>\n",
       "      <th></th>\n",
       "      <th></th>\n",
       "      <th></th>\n",
       "      <th></th>\n",
       "      <th></th>\n",
       "    </tr>\n",
       "  </thead>\n",
       "  <tbody>\n",
       "    <tr>\n",
       "      <th>2018-10-22T06:07:05Z</th>\n",
       "      <td>fiat_deposit</td>\n",
       "      <td>100.000000</td>\n",
       "      <td>EUR</td>\n",
       "      <td>100.00</td>\n",
       "      <td>EUR</td>\n",
       "      <td>100.00</td>\n",
       "      <td>100.00</td>\n",
       "      <td>0.00</td>\n",
       "      <td>1.000000</td>\n",
       "      <td>b11187ba-d297-5e7c-8152-54f185bcea27</td>\n",
       "      <td>d243a769-4683-563d-870c-995aeee9000d</td>\n",
       "    </tr>\n",
       "    <tr>\n",
       "      <th>2018-10-22T06:29:22Z</th>\n",
       "      <td>buy</td>\n",
       "      <td>0.017237</td>\n",
       "      <td>BTC</td>\n",
       "      <td>100.00</td>\n",
       "      <td>EUR</td>\n",
       "      <td>100.00</td>\n",
       "      <td>97.01</td>\n",
       "      <td>2.99</td>\n",
       "      <td>5627.999719</td>\n",
       "      <td>e1c9a69b-7b83-5cbc-831e-de11458a276c</td>\n",
       "      <td>17dad4f5-a677-53e1-a2e8-e5bf2968a7d1</td>\n",
       "    </tr>\n",
       "    <tr>\n",
       "      <th>2018-10-22T06:29:22Z</th>\n",
       "      <td>buy</td>\n",
       "      <td>-100.000000</td>\n",
       "      <td>EUR</td>\n",
       "      <td>-100.00</td>\n",
       "      <td>EUR</td>\n",
       "      <td>NaN</td>\n",
       "      <td>NaN</td>\n",
       "      <td>NaN</td>\n",
       "      <td>1.000000</td>\n",
       "      <td>0a7bdc5f-80de-520e-a77d-8c75ce0dad23</td>\n",
       "      <td>17dad4f5-a677-53e1-a2e8-e5bf2968a7d1</td>\n",
       "    </tr>\n",
       "    <tr>\n",
       "      <th>2018-11-09T12:05:12Z</th>\n",
       "      <td>sell</td>\n",
       "      <td>-0.017237</td>\n",
       "      <td>BTC</td>\n",
       "      <td>-93.27</td>\n",
       "      <td>EUR</td>\n",
       "      <td>93.27</td>\n",
       "      <td>96.26</td>\n",
       "      <td>2.99</td>\n",
       "      <td>5584.488743</td>\n",
       "      <td>ac53f2e0-98da-51b2-b44a-cc576d6674f4</td>\n",
       "      <td>6b48ecd7-a0d6-56df-bc23-84aac4ca1bb1</td>\n",
       "    </tr>\n",
       "    <tr>\n",
       "      <th>2018-11-09T12:05:13Z</th>\n",
       "      <td>sell</td>\n",
       "      <td>93.270000</td>\n",
       "      <td>EUR</td>\n",
       "      <td>93.27</td>\n",
       "      <td>EUR</td>\n",
       "      <td>NaN</td>\n",
       "      <td>NaN</td>\n",
       "      <td>NaN</td>\n",
       "      <td>1.000000</td>\n",
       "      <td>57d63f1e-b8f1-51e4-8a74-10ba7e3bb7c7</td>\n",
       "      <td>6b48ecd7-a0d6-56df-bc23-84aac4ca1bb1</td>\n",
       "    </tr>\n",
       "  </tbody>\n",
       "</table>\n",
       "</div>"
      ],
      "text/plain": [
       "                              type      amount symbol  native_amount  \\\n",
       "datetime                                                               \n",
       "2018-10-22T06:07:05Z  fiat_deposit  100.000000    EUR         100.00   \n",
       "2018-10-22T06:29:22Z           buy    0.017237    BTC         100.00   \n",
       "2018-10-22T06:29:22Z           buy -100.000000    EUR        -100.00   \n",
       "2018-11-09T12:05:12Z          sell   -0.017237    BTC         -93.27   \n",
       "2018-11-09T12:05:13Z          sell   93.270000    EUR          93.27   \n",
       "\n",
       "                     nat_symbol   total  subtotal  total_fee   spot_price  \\\n",
       "datetime                                                                    \n",
       "2018-10-22T06:07:05Z        EUR  100.00    100.00       0.00     1.000000   \n",
       "2018-10-22T06:29:22Z        EUR  100.00     97.01       2.99  5627.999719   \n",
       "2018-10-22T06:29:22Z        EUR     NaN       NaN        NaN     1.000000   \n",
       "2018-11-09T12:05:12Z        EUR   93.27     96.26       2.99  5584.488743   \n",
       "2018-11-09T12:05:13Z        EUR     NaN       NaN        NaN     1.000000   \n",
       "\n",
       "                                            transaction_id  \\\n",
       "datetime                                                     \n",
       "2018-10-22T06:07:05Z  b11187ba-d297-5e7c-8152-54f185bcea27   \n",
       "2018-10-22T06:29:22Z  e1c9a69b-7b83-5cbc-831e-de11458a276c   \n",
       "2018-10-22T06:29:22Z  0a7bdc5f-80de-520e-a77d-8c75ce0dad23   \n",
       "2018-11-09T12:05:12Z  ac53f2e0-98da-51b2-b44a-cc576d6674f4   \n",
       "2018-11-09T12:05:13Z  57d63f1e-b8f1-51e4-8a74-10ba7e3bb7c7   \n",
       "\n",
       "                                       transaction_type_id  \n",
       "datetime                                                    \n",
       "2018-10-22T06:07:05Z  d243a769-4683-563d-870c-995aeee9000d  \n",
       "2018-10-22T06:29:22Z  17dad4f5-a677-53e1-a2e8-e5bf2968a7d1  \n",
       "2018-10-22T06:29:22Z  17dad4f5-a677-53e1-a2e8-e5bf2968a7d1  \n",
       "2018-11-09T12:05:12Z  6b48ecd7-a0d6-56df-bc23-84aac4ca1bb1  \n",
       "2018-11-09T12:05:13Z  6b48ecd7-a0d6-56df-bc23-84aac4ca1bb1  "
      ]
     },
     "execution_count": 27,
     "metadata": {},
     "output_type": "execute_result"
    }
   ],
   "source": [
    "cb.history.df.head()\n"
   ]
  },
  {
   "cell_type": "code",
   "execution_count": 29,
   "metadata": {},
   "outputs": [
    {
     "data": {
      "text/plain": [
       "{'transaction_type': 'buy',\n",
       " 'account_id': 'af38031b-b9e5-5825-bb3e-77ea783ac192',\n",
       " 'transaction_id': '22d9ed43-e213-5726-a127-6f80dbb8b3d1',\n",
       " 'info': {'amount': -200.0, 'symbol': 'EUR', 'date': '2021-04-27T06:07:25Z'},\n",
       " 'error_log': coinbase.wallet.error.NotFoundError(<Response [404]>,\n",
       "                                     'not_found',\n",
       "                                     'Not found',\n",
       "                                     [{'id': 'not_found',\n",
       "                                       'message': 'Not found'}])}"
      ]
     },
     "execution_count": 29,
     "metadata": {},
     "output_type": "execute_result"
    }
   ],
   "source": [
    "cb.history.error_log[0]\n"
   ]
  }
 ],
 "metadata": {
  "interpreter": {
   "hash": "2e02a164808c41417adc12155d25fe4bbfd713e61a4a1963afc9ad34588db99f"
  },
  "kernelspec": {
   "display_name": "Python 3.7.11 64-bit ('crypto': conda)",
   "language": "python",
   "name": "python3"
  },
  "language_info": {
   "codemirror_mode": {
    "name": "ipython",
    "version": 3
   },
   "file_extension": ".py",
   "mimetype": "text/x-python",
   "name": "python",
   "nbconvert_exporter": "python",
   "pygments_lexer": "ipython3",
   "version": "3.7.12"
  }
 },
 "nbformat": 4,
 "nbformat_minor": 2
}
