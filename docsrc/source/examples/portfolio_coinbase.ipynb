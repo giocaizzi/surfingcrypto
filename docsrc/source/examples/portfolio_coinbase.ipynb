{
 "cells": [
  {
   "cell_type": "markdown",
   "metadata": {},
   "source": [
    "# Portfolio: `MyCoinbase`\n",
    "\n",
    "The user portfolio is an object that is kept apart from the definition of objects related to the cryprocurrency portfolio provider (eg. Coinbase API). \n",
    "\n",
    "This is done for keeping a level of separation between the two layers, allowing future developement (eg. the implementation of other crypto trading services) and providing methods that are useful specifically at this level.\n"
   ]
  },
  {
   "cell_type": "code",
   "execution_count": 1,
   "metadata": {},
   "outputs": [],
   "source": [
    "%load_ext autoreload\n",
    "%autoreload 2"
   ]
  },
  {
   "cell_type": "code",
   "execution_count": 2,
   "metadata": {},
   "outputs": [],
   "source": [
    "from surfingcrypto import Config\n",
    "from surfingcrypto.portfolio import MyCoinbase"
   ]
  },
  {
   "cell_type": "code",
   "execution_count": 3,
   "metadata": {},
   "outputs": [],
   "source": [
    "parent=\"/Users/giorgiocaizzi/Documents/GitHub/surfingcrypto/\"\n",
    "c=Config(parent+\"config\")"
   ]
  },
  {
   "cell_type": "markdown",
   "metadata": {},
   "source": [
    "## `MyCoinbase` object\n",
    "\n",
    "The only implemented crypto trading platform is Coinbase and `MyCoinbase` is the class that under the hood of the `Portfolio` object handles the Coinbase user-profile, that is made of the client methods - inherited from the Coinbase API client wrapper object `CB` - plus some additional methods that are used for facilitating the user's sessions."
   ]
  },
  {
   "cell_type": "markdown",
   "metadata": {},
   "source": [
    "### Get active accounts\n",
    "\n",
    "Basic `MyCoinbase` initialization offers loading all accounts that can be considered `active`, a.k.a. that have a `balance`> 0.00 EUR or USD."
   ]
  },
  {
   "cell_type": "code",
   "execution_count": 4,
   "metadata": {},
   "outputs": [
    {
     "name": "stdout",
     "output_type": "stream",
     "text": [
      "MyCoinbase( isHistoric:False, last updated:2022-03-06 22:08:50.892283, N_accounts:6)\n"
     ]
    }
   ],
   "source": [
    "cb=MyCoinbase(configuration=c)\n",
    "print(cb)"
   ]
  },
  {
   "cell_type": "code",
   "execution_count": 5,
   "metadata": {},
   "outputs": [
    {
     "name": "stdout",
     "output_type": "stream",
     "text": [
      "AAVE : EUR 110.32\n",
      "SUSHI : EUR 59.59\n",
      "MATIC : EUR 348.68\n",
      "UNI : EUR 106.50\n",
      "ADA : EUR 305.37\n",
      "USDC : EUR 0.01\n",
      "---\n",
      "Portfolio: EUR 930.47\n"
     ]
    }
   ],
   "source": [
    "print(cb.mycoinbase_report())"
   ]
  },
  {
   "cell_type": "markdown",
   "metadata": {},
   "source": [
    "### Get all accounts with transactions.\n",
    "\n",
    "This is the `isHistoric` mode of MyCoinbase, in which the `accounts` represents all accounts that has ever had a transaction. These accounts can either be fetched all from Coinbase API or locally cached.\n",
    "\n",
    "If the local cached account file is older than 7 days, it is automatically updated. Otherwise, accounts are loaded from the ones specified in dump file.\n",
    "\n",
    "There is a huge difference in time of execution, loading all accounts that have transactions takes about 1m 20s versus about 12.7s to load accounts from a local dump file."
   ]
  },
  {
   "cell_type": "code",
   "execution_count": 6,
   "metadata": {},
   "outputs": [
    {
     "name": "stdout",
     "output_type": "stream",
     "text": [
      "MyCoinbase( isHistoric:True, last updated:2022-03-06 16:08:57, N_accounts:30)\n"
     ]
    }
   ],
   "source": [
    "cb=MyCoinbase(\n",
    "    active_accounts=False,\n",
    "    configuration=c)\n",
    "print(cb)"
   ]
  },
  {
   "cell_type": "markdown",
   "metadata": {},
   "source": [
    "Obviously the result of `mycoinbase_report()` won't change as it ignores accounts that have `balance`==0.00, but the length of the `accounts` attribute has more accounts than when initalized for only the active ones."
   ]
  },
  {
   "cell_type": "code",
   "execution_count": 7,
   "metadata": {},
   "outputs": [
    {
     "name": "stdout",
     "output_type": "stream",
     "text": [
      "AAVE : EUR 110.32\n",
      "SUSHI : EUR 59.59\n",
      "MATIC : EUR 348.68\n",
      "UNI : EUR 106.50\n",
      "ADA : EUR 305.37\n",
      "USDC : EUR 0.01\n",
      "---\n",
      "Portfolio: EUR 930.47\n"
     ]
    }
   ],
   "source": [
    "print(cb.mycoinbase_report())"
   ]
  },
  {
   "cell_type": "markdown",
   "metadata": {},
   "source": [
    "### Transaction history\n",
    "\n",
    "Get the full transaction history via the `TransactionsHistory` class."
   ]
  },
  {
   "cell_type": "code",
   "execution_count": 17,
   "metadata": {},
   "outputs": [],
   "source": [
    "cb.get_history()"
   ]
  },
  {
   "cell_type": "code",
   "execution_count": 39,
   "metadata": {},
   "outputs": [
    {
     "data": {
      "text/plain": [
       "TransactionsHistory(Transactions:186 - Processed:186, Unhandled:0 - Errors:9)"
      ]
     },
     "execution_count": 39,
     "metadata": {},
     "output_type": "execute_result"
    }
   ],
   "source": [
    "cb.history"
   ]
  },
  {
   "cell_type": "code",
   "execution_count": 37,
   "metadata": {},
   "outputs": [
    {
     "data": {
      "text/html": [
       "<div>\n",
       "<style scoped>\n",
       "    .dataframe tbody tr th:only-of-type {\n",
       "        vertical-align: middle;\n",
       "    }\n",
       "\n",
       "    .dataframe tbody tr th {\n",
       "        vertical-align: top;\n",
       "    }\n",
       "\n",
       "    .dataframe thead th {\n",
       "        text-align: right;\n",
       "    }\n",
       "</style>\n",
       "<table border=\"1\" class=\"dataframe\">\n",
       "  <thead>\n",
       "    <tr style=\"text-align: right;\">\n",
       "      <th></th>\n",
       "      <th>type</th>\n",
       "      <th>amount</th>\n",
       "      <th>symbol</th>\n",
       "      <th>native_amount</th>\n",
       "      <th>nat_symbol</th>\n",
       "      <th>total</th>\n",
       "      <th>subtotal</th>\n",
       "      <th>total_fee</th>\n",
       "      <th>spot_price</th>\n",
       "      <th>trade_id</th>\n",
       "    </tr>\n",
       "    <tr>\n",
       "      <th>datetime</th>\n",
       "      <th></th>\n",
       "      <th></th>\n",
       "      <th></th>\n",
       "      <th></th>\n",
       "      <th></th>\n",
       "      <th></th>\n",
       "      <th></th>\n",
       "      <th></th>\n",
       "      <th></th>\n",
       "      <th></th>\n",
       "    </tr>\n",
       "  </thead>\n",
       "  <tbody>\n",
       "    <tr>\n",
       "      <th>2018-10-22T06:07:05Z</th>\n",
       "      <td>fiat_deposit</td>\n",
       "      <td>100.000000</td>\n",
       "      <td>EUR</td>\n",
       "      <td>100.00</td>\n",
       "      <td>EUR</td>\n",
       "      <td>100.00</td>\n",
       "      <td>100.00</td>\n",
       "      <td>0.00</td>\n",
       "      <td>1.000000</td>\n",
       "      <td>None</td>\n",
       "    </tr>\n",
       "    <tr>\n",
       "      <th>2018-10-22T06:29:22Z</th>\n",
       "      <td>buy</td>\n",
       "      <td>0.017237</td>\n",
       "      <td>BTC</td>\n",
       "      <td>100.00</td>\n",
       "      <td>EUR</td>\n",
       "      <td>100.00</td>\n",
       "      <td>97.01</td>\n",
       "      <td>2.99</td>\n",
       "      <td>5627.999719</td>\n",
       "      <td>None</td>\n",
       "    </tr>\n",
       "    <tr>\n",
       "      <th>2018-10-22T06:29:22Z</th>\n",
       "      <td>buy</td>\n",
       "      <td>-100.000000</td>\n",
       "      <td>EUR</td>\n",
       "      <td>-100.00</td>\n",
       "      <td>EUR</td>\n",
       "      <td>NaN</td>\n",
       "      <td>NaN</td>\n",
       "      <td>NaN</td>\n",
       "      <td>1.000000</td>\n",
       "      <td>None</td>\n",
       "    </tr>\n",
       "    <tr>\n",
       "      <th>2018-11-09T12:05:12Z</th>\n",
       "      <td>sell</td>\n",
       "      <td>-0.017237</td>\n",
       "      <td>BTC</td>\n",
       "      <td>-93.27</td>\n",
       "      <td>EUR</td>\n",
       "      <td>93.27</td>\n",
       "      <td>96.26</td>\n",
       "      <td>2.99</td>\n",
       "      <td>5584.488743</td>\n",
       "      <td>None</td>\n",
       "    </tr>\n",
       "    <tr>\n",
       "      <th>2018-11-09T12:05:13Z</th>\n",
       "      <td>sell</td>\n",
       "      <td>93.270000</td>\n",
       "      <td>EUR</td>\n",
       "      <td>93.27</td>\n",
       "      <td>EUR</td>\n",
       "      <td>NaN</td>\n",
       "      <td>NaN</td>\n",
       "      <td>NaN</td>\n",
       "      <td>1.000000</td>\n",
       "      <td>None</td>\n",
       "    </tr>\n",
       "  </tbody>\n",
       "</table>\n",
       "</div>"
      ],
      "text/plain": [
       "                              type      amount symbol  native_amount  \\\n",
       "datetime                                                               \n",
       "2018-10-22T06:07:05Z  fiat_deposit  100.000000    EUR         100.00   \n",
       "2018-10-22T06:29:22Z           buy    0.017237    BTC         100.00   \n",
       "2018-10-22T06:29:22Z           buy -100.000000    EUR        -100.00   \n",
       "2018-11-09T12:05:12Z          sell   -0.017237    BTC         -93.27   \n",
       "2018-11-09T12:05:13Z          sell   93.270000    EUR          93.27   \n",
       "\n",
       "                     nat_symbol   total  subtotal  total_fee   spot_price  \\\n",
       "datetime                                                                    \n",
       "2018-10-22T06:07:05Z        EUR  100.00    100.00       0.00     1.000000   \n",
       "2018-10-22T06:29:22Z        EUR  100.00     97.01       2.99  5627.999719   \n",
       "2018-10-22T06:29:22Z        EUR     NaN       NaN        NaN     1.000000   \n",
       "2018-11-09T12:05:12Z        EUR   93.27     96.26       2.99  5584.488743   \n",
       "2018-11-09T12:05:13Z        EUR     NaN       NaN        NaN     1.000000   \n",
       "\n",
       "                     trade_id  \n",
       "datetime                       \n",
       "2018-10-22T06:07:05Z     None  \n",
       "2018-10-22T06:29:22Z     None  \n",
       "2018-10-22T06:29:22Z     None  \n",
       "2018-11-09T12:05:12Z     None  \n",
       "2018-11-09T12:05:13Z     None  "
      ]
     },
     "execution_count": 37,
     "metadata": {},
     "output_type": "execute_result"
    }
   ],
   "source": [
    "cb.history.df.head()"
   ]
  },
  {
   "cell_type": "code",
   "execution_count": 38,
   "metadata": {},
   "outputs": [
    {
     "data": {
      "text/plain": [
       "{'transaction_type': 'buy',\n",
       " 'account_id': 'af38031b-b9e5-5825-bb3e-77ea783ac192',\n",
       " 'transaction_id': '22d9ed43-e213-5726-a127-6f80dbb8b3d1',\n",
       " 'info': {'amount': -200.0, 'symbol': 'EUR', 'date': '2021-04-27T06:07:25Z'},\n",
       " 'error_log': coinbase.wallet.error.NotFoundError(<Response [404]>,\n",
       "                                     'not_found',\n",
       "                                     'Not found',\n",
       "                                     [{'id': 'not_found',\n",
       "                                       'message': 'Not found'}])}"
      ]
     },
     "execution_count": 38,
     "metadata": {},
     "output_type": "execute_result"
    }
   ],
   "source": [
    "cb.history.error_log[0]"
   ]
  }
 ],
 "metadata": {
  "interpreter": {
   "hash": "2e02a164808c41417adc12155d25fe4bbfd713e61a4a1963afc9ad34588db99f"
  },
  "kernelspec": {
   "display_name": "Python 3.7.11 64-bit ('crypto': conda)",
   "language": "python",
   "name": "python3"
  },
  "language_info": {
   "codemirror_mode": {
    "name": "ipython",
    "version": 3
   },
   "file_extension": ".py",
   "mimetype": "text/x-python",
   "name": "python",
   "nbconvert_exporter": "python",
   "pygments_lexer": "ipython3",
   "version": "3.7.12"
  },
  "orig_nbformat": 4
 },
 "nbformat": 4,
 "nbformat_minor": 2
}
