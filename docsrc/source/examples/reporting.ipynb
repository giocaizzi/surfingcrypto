{
 "cells": [
  {
   "cell_type": "markdown",
   "metadata": {},
   "source": [
    "# Reporting: text\n",
    "\n",
    "The `surfingcrypto.reporting.reporting` module contains a set of methods used to extract formatted text out of `surfingcrypto` modules, so to report their status.\n",
    "\n",
    "The formatting is set so to be sent as Telegram messages."
   ]
  },
  {
   "cell_type": "code",
   "execution_count": 1,
   "metadata": {},
   "outputs": [],
   "source": [
    "from surfingcrypto.reporting.reporting import report_percentage_diff,report_stock_gain,report_coinbase_live_value\n",
    "\n",
    "from surfingcrypto.portfolio import Portfolio\n",
    "from surfingcrypto.ts import TS\n",
    "from surfingcrypto import Config\n",
    "\n",
    "coins={\n",
    "    \"BTC\":\"\",\n",
    "    \"ETH\":\"\",\n",
    "    \"MATIC\":\"\",\n",
    "    \"ADA\":\"\",\n",
    "    \"SOL\":\"\"\n",
    "}\n",
    "c = Config(coins,\"/Users/giorgiocaizzi/Documents/GitHub/surfingcrypto/config\")\n"
   ]
  },
  {
   "cell_type": "markdown",
   "metadata": {},
   "source": [
    "## TS : Price percentage difference"
   ]
  },
  {
   "cell_type": "code",
   "execution_count": 2,
   "metadata": {},
   "outputs": [
    {
     "name": "stdout",
     "output_type": "stream",
     "text": [
      "**BTC**\n",
      "- 1d: -1.50 %\n",
      "- 3d: -9.95 %\n",
      "- 7d: -5.91 %\n",
      "- 14d: -8.06 %\n",
      "- 60d: -5.32 %\n",
      "\n"
     ]
    }
   ],
   "source": [
    "ts=TS(coin=\"BTC\",configuration=c)\n",
    "print(report_percentage_diff(ts.df,ts.coin))"
   ]
  },
  {
   "cell_type": "markdown",
   "metadata": {},
   "source": [
    "## Portfolio: live value"
   ]
  },
  {
   "cell_type": "code",
   "execution_count": 3,
   "metadata": {},
   "outputs": [
    {
     "name": "stdout",
     "output_type": "stream",
     "text": [
      "### PORTFOLIO \n",
      "MyCoinbase( isHistoric:True, N_accounts:32)\n",
      "Warning! There are 14 transactionsthat were EXCLUDED in std_df.\n",
      "Warning! Errors while handling transactions:\n",
      "TransactionsHistory(Transactions:211 - Processed:211, Unhandled:0 - Errors:9)\n"
     ]
    }
   ],
   "source": [
    "p = Portfolio(\"coinbase\", configuration=c)\n"
   ]
  },
  {
   "cell_type": "code",
   "execution_count": 4,
   "metadata": {},
   "outputs": [
    {
     "name": "stdout",
     "output_type": "stream",
     "text": [
      "USDC : EUR 894.59\n",
      "---\n",
      "Portfolio: EUR 894.59\n"
     ]
    }
   ],
   "source": [
    "print(report_coinbase_live_value(p))"
   ]
  },
  {
   "cell_type": "markdown",
   "metadata": {},
   "source": [
    "## Portfolio : Stock gain/loss"
   ]
  },
  {
   "cell_type": "code",
   "execution_count": 5,
   "metadata": {},
   "outputs": [],
   "source": [
    "p.start_tracker(\n",
    "    stocks_start=\"1-1-2021\", benchmark=\"ETH\",\n",
    ")"
   ]
  },
  {
   "cell_type": "code",
   "execution_count": 6,
   "metadata": {},
   "outputs": [
    {
     "name": "stdout",
     "output_type": "stream",
     "text": [
      "USDC : 0.00\n",
      "MATIC : nan\n",
      "SOL : nan\n",
      "ETH : nan\n",
      "\n"
     ]
    }
   ],
   "source": [
    "print(report_stock_gain(p.tracker.daily_snaphost(\"last\")))"
   ]
  }
 ],
 "metadata": {
  "interpreter": {
   "hash": "2d92824427b41c6028804632d5278b37df1fc0de77b5e6f8aeb0bbbd2f432773"
  },
  "kernelspec": {
   "display_name": "Python 3.7.12 ('cryptoenv')",
   "language": "python",
   "name": "python3"
  },
  "language_info": {
   "codemirror_mode": {
    "name": "ipython",
    "version": 3
   },
   "file_extension": ".py",
   "mimetype": "text/x-python",
   "name": "python",
   "nbconvert_exporter": "python",
   "pygments_lexer": "ipython3",
   "version": "3.7.12"
  },
  "orig_nbformat": 4
 },
 "nbformat": 4,
 "nbformat_minor": 2
}
